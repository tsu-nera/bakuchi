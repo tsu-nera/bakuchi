{
 "cells": [
  {
   "cell_type": "markdown",
   "metadata": {},
   "source": [
    "# Profit分析"
   ]
  },
  {
   "cell_type": "markdown",
   "metadata": {},
   "source": [
    "## 目的\n",
    "\n",
    "予測での利益と実際の利益の差分をみてみる。"
   ]
  },
  {
   "cell_type": "code",
   "execution_count": 1,
   "metadata": {},
   "outputs": [],
   "source": [
    "import datetime\n",
    "import pandas as pd"
   ]
  },
  {
   "cell_type": "code",
   "execution_count": 2,
   "metadata": {},
   "outputs": [
    {
     "name": "stdout",
     "output_type": "stream",
     "text": [
      "/home/tsu-nera/repo/bakuchi\n"
     ]
    }
   ],
   "source": [
    "import sys\n",
    "sys.path.append('../../')\n",
    "%cd '../../'"
   ]
  },
  {
   "cell_type": "code",
   "execution_count": 3,
   "metadata": {},
   "outputs": [],
   "source": [
    "timestamp = \"2003200210\""
   ]
  },
  {
   "cell_type": "code",
   "execution_count": 4,
   "metadata": {},
   "outputs": [],
   "source": [
    "def read_trades(timestamp, exchange_id):\n",
    "    file_path = \"reports/{}/trades/{}.csv\".format(timestamp, exchange_id)\n",
    "    return pd.read_csv(file_path, index_col=\"id\", parse_dates=[\"datetime\"])"
   ]
  },
  {
   "cell_type": "code",
   "execution_count": 5,
   "metadata": {},
   "outputs": [],
   "source": [
    "cc_trades = read_trades(timestamp, \"coincheck\")\n",
    "lq_trades = read_trades(timestamp, \"liquid\")"
   ]
  },
  {
   "cell_type": "code",
   "execution_count": 6,
   "metadata": {},
   "outputs": [
    {
     "data": {
      "text/plain": [
       "(311, 311)"
      ]
     },
     "execution_count": 6,
     "metadata": {},
     "output_type": "execute_result"
    }
   ],
   "source": [
    "len(cc_trades), len(lq_trades)"
   ]
  },
  {
   "cell_type": "code",
   "execution_count": 7,
   "metadata": {},
   "outputs": [],
   "source": [
    "def read_ticks(timestamp, exchange_id):\n",
    "    file_path = \"reports/{}/exchanges/{}.csv\".format(timestamp, exchange_id)\n",
    "    df = pd.read_csv(file_path, index_col=\"timestamp\", parse_dates=[\"timestamp\"])\n",
    "    df[\"request_tick\"] = df[\"tick_timestamp\"]\n",
    "    df[\"response_tick\"] = df.index\n",
    "    df = df.drop([\"tick_timestamp\"], axis=1)\n",
    "    return df"
   ]
  },
  {
   "cell_type": "code",
   "execution_count": 8,
   "metadata": {},
   "outputs": [],
   "source": [
    "cc_ticks = read_ticks(timestamp, \"coincheck\")\n",
    "lq_ticks = read_ticks(timestamp, \"liquid\")"
   ]
  },
  {
   "cell_type": "code",
   "execution_count": 9,
   "metadata": {},
   "outputs": [
    {
     "data": {
      "text/html": [
       "<div>\n",
       "<style scoped>\n",
       "    .dataframe tbody tr th:only-of-type {\n",
       "        vertical-align: middle;\n",
       "    }\n",
       "\n",
       "    .dataframe tbody tr th {\n",
       "        vertical-align: top;\n",
       "    }\n",
       "\n",
       "    .dataframe thead th {\n",
       "        text-align: right;\n",
       "    }\n",
       "</style>\n",
       "<table border=\"1\" class=\"dataframe\">\n",
       "  <thead>\n",
       "    <tr style=\"text-align: right;\">\n",
       "      <th></th>\n",
       "      <th>bid</th>\n",
       "      <th>ask</th>\n",
       "      <th>request_tick</th>\n",
       "      <th>response_tick</th>\n",
       "    </tr>\n",
       "    <tr>\n",
       "      <th>timestamp</th>\n",
       "      <th></th>\n",
       "      <th></th>\n",
       "      <th></th>\n",
       "      <th></th>\n",
       "    </tr>\n",
       "  </thead>\n",
       "  <tbody>\n",
       "    <tr>\n",
       "      <th>2020-03-20 02:10:49</th>\n",
       "      <td>688935.0</td>\n",
       "      <td>689702.0</td>\n",
       "      <td>2020-03-20 02:10:49</td>\n",
       "      <td>2020-03-20 02:10:49</td>\n",
       "    </tr>\n",
       "    <tr>\n",
       "      <th>2020-03-20 02:10:51</th>\n",
       "      <td>689474.0</td>\n",
       "      <td>689761.0</td>\n",
       "      <td>2020-03-20 02:10:51</td>\n",
       "      <td>2020-03-20 02:10:51</td>\n",
       "    </tr>\n",
       "    <tr>\n",
       "      <th>2020-03-20 02:10:52</th>\n",
       "      <td>689474.0</td>\n",
       "      <td>689761.0</td>\n",
       "      <td>2020-03-20 02:10:52</td>\n",
       "      <td>2020-03-20 02:10:52</td>\n",
       "    </tr>\n",
       "    <tr>\n",
       "      <th>2020-03-20 02:10:53</th>\n",
       "      <td>689474.0</td>\n",
       "      <td>689761.0</td>\n",
       "      <td>2020-03-20 02:10:53</td>\n",
       "      <td>2020-03-20 02:10:53</td>\n",
       "    </tr>\n",
       "    <tr>\n",
       "      <th>2020-03-20 02:10:54</th>\n",
       "      <td>689474.0</td>\n",
       "      <td>689761.0</td>\n",
       "      <td>2020-03-20 02:10:54</td>\n",
       "      <td>2020-03-20 02:10:54</td>\n",
       "    </tr>\n",
       "  </tbody>\n",
       "</table>\n",
       "</div>"
      ],
      "text/plain": [
       "                          bid       ask         request_tick  \\\n",
       "timestamp                                                      \n",
       "2020-03-20 02:10:49  688935.0  689702.0  2020-03-20 02:10:49   \n",
       "2020-03-20 02:10:51  689474.0  689761.0  2020-03-20 02:10:51   \n",
       "2020-03-20 02:10:52  689474.0  689761.0  2020-03-20 02:10:52   \n",
       "2020-03-20 02:10:53  689474.0  689761.0  2020-03-20 02:10:53   \n",
       "2020-03-20 02:10:54  689474.0  689761.0  2020-03-20 02:10:54   \n",
       "\n",
       "                          response_tick  \n",
       "timestamp                                \n",
       "2020-03-20 02:10:49 2020-03-20 02:10:49  \n",
       "2020-03-20 02:10:51 2020-03-20 02:10:51  \n",
       "2020-03-20 02:10:52 2020-03-20 02:10:52  \n",
       "2020-03-20 02:10:53 2020-03-20 02:10:53  \n",
       "2020-03-20 02:10:54 2020-03-20 02:10:54  "
      ]
     },
     "execution_count": 9,
     "metadata": {},
     "output_type": "execute_result"
    }
   ],
   "source": [
    "cc_ticks.head(5)"
   ]
  },
  {
   "cell_type": "code",
   "execution_count": 32,
   "metadata": {},
   "outputs": [],
   "source": [
    "trades = []\n",
    "amount = 0.0065\n",
    "\n",
    "for row in cc_trades.iterrows():\n",
    "    cc_item = row[1]\n",
    "    cc_side = cc_item[\"side\"]\n",
    "    cc_timestamp = cc_item[\"datetime\"]\n",
    "    # cc_amount = cc_item[\"amount\"]\n",
    "    cc_actual_price = cc_item[\"price\"]\n",
    "    cc_actual_rate = cc_item[\"rate\"]\n",
    "        \n",
    "    try:\n",
    "        cc_tick = cc_ticks.loc[cc_timestamp]\n",
    "    except Exception:\n",
    "        timestamp = cc_timestamp + datetime.timedelta(seconds=1)\n",
    "        cc_tick = cc_ticks.loc[timestamp]\n",
    "        \n",
    "    if cc_side == \"sell\":\n",
    "        cc_tick_rate = cc_tick.bid\n",
    "    else:\n",
    "        cc_tick_rate = cc_tick.ask\n",
    "        \n",
    "    cc_expected_price = cc_tick_rate * amount\n",
    "    \n",
    "    if cc_side == \"buy\":\n",
    "        cc_expected_price = cc_expected_price * -1\n",
    "        cc_actual_price = cc_actual_price * -1\n",
    "    \n",
    "    trade = {\n",
    "        \"timestamp\": cc_timestamp, \n",
    "        \"cc_side\": cc_side,\n",
    "        \"cc_expected_rate\": cc_tick_rate,\n",
    "        \"cc_actual_rate\": cc_actual_rate,\n",
    "        \"cc_expected_price\": cc_expected_price,\n",
    "        \"cc_actual_price\": cc_actual_price\n",
    "    }\n",
    "    \n",
    "    trades.append(trade)"
   ]
  },
  {
   "cell_type": "code",
   "execution_count": 33,
   "metadata": {},
   "outputs": [],
   "source": [
    "profit_df = pd.DataFrame(trades)\n",
    "profit_df = profit_df.set_index(\"timestamp\")"
   ]
  },
  {
   "cell_type": "code",
   "execution_count": 34,
   "metadata": {},
   "outputs": [
    {
     "data": {
      "text/html": [
       "<div>\n",
       "<style scoped>\n",
       "    .dataframe tbody tr th:only-of-type {\n",
       "        vertical-align: middle;\n",
       "    }\n",
       "\n",
       "    .dataframe tbody tr th {\n",
       "        vertical-align: top;\n",
       "    }\n",
       "\n",
       "    .dataframe thead th {\n",
       "        text-align: right;\n",
       "    }\n",
       "</style>\n",
       "<table border=\"1\" class=\"dataframe\">\n",
       "  <thead>\n",
       "    <tr style=\"text-align: right;\">\n",
       "      <th></th>\n",
       "      <th>cc_side</th>\n",
       "      <th>cc_expected_rate</th>\n",
       "      <th>cc_actual_rate</th>\n",
       "      <th>cc_expected_price</th>\n",
       "      <th>cc_actual_price</th>\n",
       "    </tr>\n",
       "    <tr>\n",
       "      <th>timestamp</th>\n",
       "      <th></th>\n",
       "      <th></th>\n",
       "      <th></th>\n",
       "      <th></th>\n",
       "      <th></th>\n",
       "    </tr>\n",
       "  </thead>\n",
       "  <tbody>\n",
       "    <tr>\n",
       "      <th>2020-03-20 02:10:49</th>\n",
       "      <td>sell</td>\n",
       "      <td>688935.0</td>\n",
       "      <td>689117.0</td>\n",
       "      <td>4478.0775</td>\n",
       "      <td>4479.261</td>\n",
       "    </tr>\n",
       "    <tr>\n",
       "      <th>2020-03-20 02:30:22</th>\n",
       "      <td>buy</td>\n",
       "      <td>693729.0</td>\n",
       "      <td>695549.0</td>\n",
       "      <td>-4509.2385</td>\n",
       "      <td>-4508.994</td>\n",
       "    </tr>\n",
       "    <tr>\n",
       "      <th>2020-03-20 02:30:31</th>\n",
       "      <td>sell</td>\n",
       "      <td>694135.0</td>\n",
       "      <td>693823.5</td>\n",
       "      <td>4511.8775</td>\n",
       "      <td>4510.108</td>\n",
       "    </tr>\n",
       "    <tr>\n",
       "      <th>2020-03-20 02:32:43</th>\n",
       "      <td>buy</td>\n",
       "      <td>694528.0</td>\n",
       "      <td>695804.0</td>\n",
       "      <td>-4514.4320</td>\n",
       "      <td>-4513.997</td>\n",
       "    </tr>\n",
       "    <tr>\n",
       "      <th>2020-03-20 02:32:48</th>\n",
       "      <td>sell</td>\n",
       "      <td>695118.0</td>\n",
       "      <td>695438.0</td>\n",
       "      <td>4518.2670</td>\n",
       "      <td>4520.347</td>\n",
       "    </tr>\n",
       "    <tr>\n",
       "      <th>...</th>\n",
       "      <td>...</td>\n",
       "      <td>...</td>\n",
       "      <td>...</td>\n",
       "      <td>...</td>\n",
       "      <td>...</td>\n",
       "    </tr>\n",
       "    <tr>\n",
       "      <th>2020-03-20 23:41:46</th>\n",
       "      <td>sell</td>\n",
       "      <td>736319.0</td>\n",
       "      <td>736085.0</td>\n",
       "      <td>4786.0735</td>\n",
       "      <td>4784.552</td>\n",
       "    </tr>\n",
       "    <tr>\n",
       "      <th>2020-03-20 23:45:05</th>\n",
       "      <td>buy</td>\n",
       "      <td>736408.0</td>\n",
       "      <td>736408.0</td>\n",
       "      <td>-4786.6520</td>\n",
       "      <td>-4776.998</td>\n",
       "    </tr>\n",
       "    <tr>\n",
       "      <th>2020-03-20 23:45:49</th>\n",
       "      <td>sell</td>\n",
       "      <td>737891.0</td>\n",
       "      <td>737696.0</td>\n",
       "      <td>4796.2915</td>\n",
       "      <td>4794.396</td>\n",
       "    </tr>\n",
       "    <tr>\n",
       "      <th>2020-03-20 23:53:56</th>\n",
       "      <td>buy</td>\n",
       "      <td>742472.0</td>\n",
       "      <td>744504.0</td>\n",
       "      <td>-4826.0680</td>\n",
       "      <td>-4825.994</td>\n",
       "    </tr>\n",
       "    <tr>\n",
       "      <th>2020-03-20 23:54:04</th>\n",
       "      <td>sell</td>\n",
       "      <td>743900.0</td>\n",
       "      <td>743189.0</td>\n",
       "      <td>4835.3500</td>\n",
       "      <td>4830.729</td>\n",
       "    </tr>\n",
       "  </tbody>\n",
       "</table>\n",
       "<p>311 rows × 5 columns</p>\n",
       "</div>"
      ],
      "text/plain": [
       "                    cc_side  cc_expected_rate  cc_actual_rate  \\\n",
       "timestamp                                                       \n",
       "2020-03-20 02:10:49    sell          688935.0        689117.0   \n",
       "2020-03-20 02:30:22     buy          693729.0        695549.0   \n",
       "2020-03-20 02:30:31    sell          694135.0        693823.5   \n",
       "2020-03-20 02:32:43     buy          694528.0        695804.0   \n",
       "2020-03-20 02:32:48    sell          695118.0        695438.0   \n",
       "...                     ...               ...             ...   \n",
       "2020-03-20 23:41:46    sell          736319.0        736085.0   \n",
       "2020-03-20 23:45:05     buy          736408.0        736408.0   \n",
       "2020-03-20 23:45:49    sell          737891.0        737696.0   \n",
       "2020-03-20 23:53:56     buy          742472.0        744504.0   \n",
       "2020-03-20 23:54:04    sell          743900.0        743189.0   \n",
       "\n",
       "                     cc_expected_price  cc_actual_price  \n",
       "timestamp                                                \n",
       "2020-03-20 02:10:49          4478.0775         4479.261  \n",
       "2020-03-20 02:30:22         -4509.2385        -4508.994  \n",
       "2020-03-20 02:30:31          4511.8775         4510.108  \n",
       "2020-03-20 02:32:43         -4514.4320        -4513.997  \n",
       "2020-03-20 02:32:48          4518.2670         4520.347  \n",
       "...                                ...              ...  \n",
       "2020-03-20 23:41:46          4786.0735         4784.552  \n",
       "2020-03-20 23:45:05         -4786.6520        -4776.998  \n",
       "2020-03-20 23:45:49          4796.2915         4794.396  \n",
       "2020-03-20 23:53:56         -4826.0680        -4825.994  \n",
       "2020-03-20 23:54:04          4835.3500         4830.729  \n",
       "\n",
       "[311 rows x 5 columns]"
      ]
     },
     "execution_count": 34,
     "metadata": {},
     "output_type": "execute_result"
    }
   ],
   "source": [
    "profit_df"
   ]
  },
  {
   "cell_type": "code",
   "execution_count": null,
   "metadata": {},
   "outputs": [],
   "source": []
  }
 ],
 "metadata": {
  "kernelspec": {
   "display_name": "Environment (conda_bakuchi)",
   "language": "python",
   "name": "conda_bakuchi"
  },
  "language_info": {
   "codemirror_mode": {
    "name": "ipython",
    "version": 3
   },
   "file_extension": ".py",
   "mimetype": "text/x-python",
   "name": "python",
   "nbconvert_exporter": "python",
   "pygments_lexer": "ipython3",
   "version": "3.7.6"
  }
 },
 "nbformat": 4,
 "nbformat_minor": 4
}
