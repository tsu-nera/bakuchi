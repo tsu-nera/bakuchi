{
 "cells": [
  {
   "cell_type": "markdown",
   "metadata": {},
   "source": [
    "# Profit分析"
   ]
  },
  {
   "cell_type": "markdown",
   "metadata": {},
   "source": [
    "## 目的\n",
    "\n",
    "予測での利益と実際の利益の差分をみてみる。"
   ]
  },
  {
   "cell_type": "code",
   "execution_count": null,
   "metadata": {},
   "outputs": [],
   "source": [
    "import os\n",
    "import datetime\n",
    "import numpy as np\n",
    "import pandas as pd"
   ]
  },
  {
   "cell_type": "code",
   "execution_count": null,
   "metadata": {},
   "outputs": [],
   "source": [
    "current_dir = %pwd\n",
    "timestamp = os.path.basename(current_dir)"
   ]
  },
  {
   "cell_type": "code",
   "execution_count": null,
   "metadata": {},
   "outputs": [],
   "source": [
    "import sys\n",
    "sys.path.append('../../')\n",
    "%cd '../../'"
   ]
  },
  {
   "cell_type": "code",
   "execution_count": null,
   "metadata": {},
   "outputs": [],
   "source": [
    "from src.utils.trade_analysis import TradeAnalysis\n",
    "\n",
    "%reload_ext autoreload\n",
    "%autoreload 2"
   ]
  },
  {
   "cell_type": "code",
   "execution_count": null,
   "metadata": {},
   "outputs": [],
   "source": [
    "ta = TradeAnalysis(timestamp)"
   ]
  },
  {
   "cell_type": "code",
   "execution_count": null,
   "metadata": {},
   "outputs": [],
   "source": [
    "ex1_trades = ta.get_coincheck_trades_df()\n",
    "ex2_trades = ta.get_liquid_trades_df()"
   ]
  },
  {
   "cell_type": "code",
   "execution_count": null,
   "metadata": {},
   "outputs": [],
   "source": [
    "len(ex1_trades), len(ex2_trades)"
   ]
  },
  {
   "cell_type": "code",
   "execution_count": null,
   "metadata": {},
   "outputs": [],
   "source": [
    "ex1_ticks = ta.get_coincheck_ticks_df()\n",
    "ex2_ticks = ta.get_liquid_ticks_df()"
   ]
  },
  {
   "cell_type": "code",
   "execution_count": null,
   "metadata": {},
   "outputs": [],
   "source": [
    "ex1_ticks.head(5)"
   ]
  },
  {
   "cell_type": "code",
   "execution_count": null,
   "metadata": {},
   "outputs": [],
   "source": [
    "trades = []\n",
    "\n",
    "for ex1_row, ex2_row in zip(ex1_trades.iterrows(), ex2_trades.iterrows()):\n",
    "    ex1_item = ex1_row[1]\n",
    "    ex2_item = ex2_row[1]\n",
    "    \n",
    "    ex1_side = ex1_item[\"side\"]\n",
    "    ex1_timestamp = ex1_item[\"datetime\"]\n",
    "    ex1_amount = ex1_item[\"amount\"]\n",
    "    ex1_actual_price = ex1_item[\"price\"]\n",
    "    ex1_actual_rate = ex1_item[\"rate\"]\n",
    "\n",
    "    ex2_side = ex2_item[\"side\"]\n",
    "    ex2_timestamp = ex2_item[\"datetime\"]\n",
    "    ex2_amount = ex2_item[\"amount\"]\n",
    "    ex2_actual_price = ex2_item[\"price\"]\n",
    "    ex2_actual_rate = ex2_item[\"rate\"]\n",
    "    \n",
    "    try:\n",
    "        ex1_tick = ex1_ticks.loc[ex1_timestamp]\n",
    "    except Exception:\n",
    "        timestamp = ex1_timestamp + datetime.timedelta(seconds=1)\n",
    "        try:\n",
    "            ex1_tick = ex1_ticks.loc[timestamp]\n",
    "        except Exception:\n",
    "            timestamp2 = timestamp + datetime.timedelta(seconds=1)\n",
    "            ex1_tick = ex1_ticks.loc[timestamp2]\n",
    "\n",
    "    try:\n",
    "        ex2_tick = ex2_ticks.loc[ex2_timestamp]\n",
    "    except Exception:\n",
    "        timestamp = ex2_timestamp + datetime.timedelta(seconds=1)\n",
    "        try:\n",
    "            ex2_tick = ex2_ticks.loc[timestamp]\n",
    "        except Exception:\n",
    "            timestamp2 = timestamp + datetime.timedelta(seconds=1)\n",
    "            ex2_tick = ex2_ticks.loc[timestamp2]\n",
    "\n",
    "    if ex1_side == \"sell\":\n",
    "        ex1_tick_rate = ex1_tick.bid\n",
    "    else:\n",
    "        ex1_tick_rate = ex1_tick.ask\n",
    "    if ex2_side == \"sell\":\n",
    "        ex2_tick_rate = ex2_tick.bid\n",
    "    else:\n",
    "        ex2_tick_rate = ex2_tick.ask\n",
    "        \n",
    "    ex1_expected_price = ex1_tick_rate * ex1_amount\n",
    "    ex2_expected_price = ex2_tick_rate * ex2_amount\n",
    "\n",
    "    \n",
    "    if ex1_side == \"buy\":\n",
    "        ex1_expected_price = ex1_expected_price * -1\n",
    "        ex1_actual_price = ex1_actual_price * -1\n",
    "    if ex2_side == \"buy\":\n",
    "        ex2_expected_price = ex2_expected_price * -1\n",
    "        ex2_actual_price = ex2_actual_price * -1\n",
    "        \n",
    "    expected_profit = sum([ex1_expected_price, ex2_expected_price])\n",
    "    actual_profit = sum([ex1_actual_price, ex2_actual_price])\n",
    "\n",
    "    trade = {\n",
    "        \"timestamp\": ex1_timestamp, \n",
    "        \"ex1_side\": ex1_side,\n",
    "        \"ex1_expected_rate\": ex1_tick_rate,\n",
    "        \"ex1_actual_rate\": ex1_actual_rate,\n",
    "        \"ex1_expected_price\": ex1_expected_price,\n",
    "        \"ex1_actual_price\": ex1_actual_price,\n",
    "        \"ex2_side\": ex2_side,\n",
    "        \"ex2_expected_rate\": ex2_tick_rate,\n",
    "        \"ex2_actual_rate\": ex2_actual_rate,\n",
    "        \"ex2_expected_price\": ex2_expected_price,\n",
    "        \"ex2_actual_price\": ex2_actual_price,\n",
    "        \"expected_profit\": expected_profit,\n",
    "        \"actual_profit\": actual_profit\n",
    "    }\n",
    "    \n",
    "    trades.append(trade)"
   ]
  },
  {
   "cell_type": "code",
   "execution_count": null,
   "metadata": {},
   "outputs": [],
   "source": [
    "trade_df = pd.DataFrame(trades)\n",
    "trade_df = trade_df.set_index(\"timestamp\")"
   ]
  },
  {
   "cell_type": "code",
   "execution_count": null,
   "metadata": {},
   "outputs": [],
   "source": [
    "profit_df = trade_df[[\"expected_profit\", \"actual_profit\"]]"
   ]
  },
  {
   "cell_type": "code",
   "execution_count": null,
   "metadata": {},
   "outputs": [],
   "source": [
    "int(sum(profit_df[\"expected_profit\"])), int(sum(profit_df[\"actual_profit\"]))"
   ]
  },
  {
   "cell_type": "code",
   "execution_count": null,
   "metadata": {
    "scrolled": true
   },
   "outputs": [],
   "source": [
    "pd.set_option('display.max_rows', None)\n",
    "profit_df"
   ]
  },
  {
   "cell_type": "markdown",
   "metadata": {},
   "source": [
    "## coincheck buyにおける売却コインの差分分析"
   ]
  },
  {
   "cell_type": "code",
   "execution_count": null,
   "metadata": {},
   "outputs": [],
   "source": [
    "ex1_buy_trades = ex1_trades[ex1_trades[\"side\"] == \"buy\"]"
   ]
  },
  {
   "cell_type": "code",
   "execution_count": null,
   "metadata": {},
   "outputs": [],
   "source": [
    "ex1_buy_amount = ex1_buy_trades[\"amount\"]\n",
    "min(ex1_buy_amount), max(ex1_buy_amount), np.mean(ex1_buy_amount)"
   ]
  },
  {
   "cell_type": "code",
   "execution_count": null,
   "metadata": {},
   "outputs": [],
   "source": [
    "from decimal import Decimal\n",
    "num = 0.006 - np.mean(ex1_buy_amount)\n",
    "\"{0:.10f}\".format(Decimal(num))"
   ]
  },
  {
   "cell_type": "markdown",
   "metadata": {},
   "source": [
    "この価格差によって生じた資金移動は"
   ]
  },
  {
   "cell_type": "code",
   "execution_count": null,
   "metadata": {},
   "outputs": [],
   "source": [
    "num * len(ex1_buy_trades) * np.mean(ex1_ticks[\"ask\"])"
   ]
  },
  {
   "cell_type": "markdown",
   "metadata": {},
   "source": [
    "## rateの誤差比較"
   ]
  },
  {
   "cell_type": "code",
   "execution_count": null,
   "metadata": {},
   "outputs": [],
   "source": [
    "ex1_rate_df = trade_df[[\"ex1_side\", \"ex1_expected_rate\", \"ex1_actual_rate\"]].copy()\n",
    "ex1_rate_df[\"ex1_rate_diff\"] = ex1_rate_df[\"ex1_expected_rate\"] - ex1_rate_df[\"ex1_actual_rate\"]"
   ]
  },
  {
   "cell_type": "code",
   "execution_count": null,
   "metadata": {},
   "outputs": [],
   "source": [
    "ex1_rate_df"
   ]
  },
  {
   "cell_type": "code",
   "execution_count": null,
   "metadata": {},
   "outputs": [],
   "source": [
    "ex1_diff = ex1_rate_df[\"ex1_rate_diff\"]\n",
    "max(ex1_diff), min(ex1_diff), np.mean(abs(ex1_diff)), np.std(ex1_diff)"
   ]
  },
  {
   "cell_type": "code",
   "execution_count": null,
   "metadata": {},
   "outputs": [],
   "source": [
    "ex2_rate_df = trade_df[[\"ex2_side\", \"ex2_expected_rate\", \"ex2_actual_rate\"]].copy()\n",
    "ex2_rate_df[\"ex2_rate_diff\"] = ex2_rate_df[\"ex2_expected_rate\"] - ex2_rate_df[\"ex2_actual_rate\"]"
   ]
  },
  {
   "cell_type": "code",
   "execution_count": null,
   "metadata": {},
   "outputs": [],
   "source": [
    "ex2_diff = ex2_rate_df[\"ex2_rate_diff\"]\n",
    "max(ex2_diff), min(ex2_diff), np.mean(abs(ex2_diff)), np.std(ex2_diff)"
   ]
  },
  {
   "cell_type": "code",
   "execution_count": null,
   "metadata": {},
   "outputs": [],
   "source": []
  }
 ],
 "metadata": {
  "kernelspec": {
   "display_name": "Environment (conda_bakuchi)",
   "language": "python",
   "name": "conda_bakuchi"
  },
  "language_info": {
   "codemirror_mode": {
    "name": "ipython",
    "version": 3
   },
   "file_extension": ".py",
   "mimetype": "text/x-python",
   "name": "python",
   "nbconvert_exporter": "python",
   "pygments_lexer": "ipython3",
   "version": "3.7.6"
  }
 },
 "nbformat": 4,
 "nbformat_minor": 4
}
