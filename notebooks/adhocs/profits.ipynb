{
 "cells": [
  {
   "cell_type": "markdown",
   "metadata": {},
   "source": [
    "# Profit分析"
   ]
  },
  {
   "cell_type": "markdown",
   "metadata": {},
   "source": [
    "## 目的\n",
    "\n",
    "予測での利益と実際の利益の差分をみてみる。"
   ]
  },
  {
   "cell_type": "code",
   "execution_count": null,
   "metadata": {},
   "outputs": [],
   "source": [
    "import os\n",
    "import datetime\n",
    "import numpy as np\n",
    "import pandas as pd"
   ]
  },
  {
   "cell_type": "code",
   "execution_count": null,
   "metadata": {},
   "outputs": [],
   "source": [
    "current_dir = %pwd\n",
    "timestamp = os.path.basename(current_dir)"
   ]
  },
  {
   "cell_type": "code",
   "execution_count": null,
   "metadata": {},
   "outputs": [],
   "source": [
    "import sys\n",
    "sys.path.append('../../')\n",
    "%cd '../../'"
   ]
  },
  {
   "cell_type": "code",
   "execution_count": null,
   "metadata": {},
   "outputs": [],
   "source": [
    "from src.utils.trade_analysis import TradeAnalysis\n",
    "\n",
    "%reload_ext autoreload\n",
    "%autoreload 2"
   ]
  },
  {
   "cell_type": "code",
   "execution_count": null,
   "metadata": {},
   "outputs": [],
   "source": [
    "ta = TradeAnalysis(timestamp)"
   ]
  },
  {
   "cell_type": "code",
   "execution_count": null,
   "metadata": {},
   "outputs": [],
   "source": [
    "cc_trades = ta.get_coincheck_trades_df()\n",
    "lq_trades = ta.get_liquid_trades_df()"
   ]
  },
  {
   "cell_type": "code",
   "execution_count": null,
   "metadata": {},
   "outputs": [],
   "source": [
    "len(cc_trades), len(lq_trades)"
   ]
  },
  {
   "cell_type": "code",
   "execution_count": null,
   "metadata": {},
   "outputs": [],
   "source": [
    "cc_ticks = ta.get_coincheck_ticks_df()\n",
    "lq_ticks = ta.get_liquid_ticks_df()"
   ]
  },
  {
   "cell_type": "code",
   "execution_count": null,
   "metadata": {},
   "outputs": [],
   "source": [
    "cc_ticks.head(5)"
   ]
  },
  {
   "cell_type": "code",
   "execution_count": null,
   "metadata": {},
   "outputs": [],
   "source": [
    "trades = []\n",
    "\n",
    "for cc_row, lq_row in zip(cc_trades.iterrows(), lq_trades.iterrows()):\n",
    "    cc_item = cc_row[1]\n",
    "    lq_item = lq_row[1]\n",
    "    \n",
    "    cc_side = cc_item[\"side\"]\n",
    "    cc_timestamp = cc_item[\"datetime\"]\n",
    "    cc_amount = cc_item[\"amount\"]\n",
    "    cc_actual_price = cc_item[\"price\"]\n",
    "    cc_actual_rate = cc_item[\"rate\"]\n",
    "\n",
    "    lq_side = lq_item[\"side\"]\n",
    "    lq_timestamp = lq_item[\"datetime\"]\n",
    "    lq_amount = lq_item[\"amount\"]\n",
    "    lq_actual_price = lq_item[\"price\"]\n",
    "    lq_actual_rate = lq_item[\"rate\"]\n",
    "    \n",
    "    try:\n",
    "        cc_tick = cc_ticks.loc[cc_timestamp]\n",
    "    except Exception:\n",
    "        timestamp = cc_timestamp + datetime.timedelta(seconds=1)\n",
    "        try:\n",
    "            cc_tick = cc_ticks.loc[timestamp]\n",
    "        except Exception:\n",
    "            timestamp2 = timestamp + datetime.timedelta(seconds=1)\n",
    "            cc_tick = cc_ticks.loc[timestamp2]\n",
    "\n",
    "    try:\n",
    "        lq_tick = lq_ticks.loc[lq_timestamp]\n",
    "    except Exception:\n",
    "        timestamp = lq_timestamp + datetime.timedelta(seconds=1)\n",
    "        try:\n",
    "            lq_tick = lq_ticks.loc[timestamp]\n",
    "        except Exception:\n",
    "            timestamp2 = timestamp + datetime.timedelta(seconds=1)\n",
    "            lq_tick = lq_ticks.loc[timestamp2]\n",
    "\n",
    "    if cc_side == \"sell\":\n",
    "        cc_tick_rate = cc_tick.bid\n",
    "    else:\n",
    "        cc_tick_rate = cc_tick.ask\n",
    "    if lq_side == \"sell\":\n",
    "        lq_tick_rate = lq_tick.bid\n",
    "    else:\n",
    "        lq_tick_rate = lq_tick.ask\n",
    "        \n",
    "    cc_expected_price = cc_tick_rate * cc_amount\n",
    "    lq_expected_price = lq_tick_rate * lq_amount\n",
    "\n",
    "    \n",
    "    if cc_side == \"buy\":\n",
    "        cc_expected_price = cc_expected_price * -1\n",
    "        cc_actual_price = cc_actual_price * -1\n",
    "    if lq_side == \"buy\":\n",
    "        lq_expected_price = lq_expected_price * -1\n",
    "        lq_actual_price = lq_actual_price * -1\n",
    "        \n",
    "    expected_profit = sum([cc_expected_price, lq_expected_price])\n",
    "    actual_profit = sum([cc_actual_price, lq_actual_price])\n",
    "\n",
    "    trade = {\n",
    "        \"timestamp\": cc_timestamp, \n",
    "        \"cc_side\": cc_side,\n",
    "        \"cc_expected_rate\": cc_tick_rate,\n",
    "        \"cc_actual_rate\": cc_actual_rate,\n",
    "        \"cc_expected_price\": cc_expected_price,\n",
    "        \"cc_actual_price\": cc_actual_price,\n",
    "        \"lq_side\": lq_side,\n",
    "        \"lq_expected_rate\": lq_tick_rate,\n",
    "        \"lq_actual_rate\": lq_actual_rate,\n",
    "        \"lq_expected_price\": lq_expected_price,\n",
    "        \"lq_actual_price\": lq_actual_price,\n",
    "        \"expected_profit\": expected_profit,\n",
    "        \"actual_profit\": actual_profit\n",
    "    }\n",
    "    \n",
    "    trades.append(trade)"
   ]
  },
  {
   "cell_type": "code",
   "execution_count": null,
   "metadata": {},
   "outputs": [],
   "source": [
    "trade_df = pd.DataFrame(trades)\n",
    "trade_df = trade_df.set_index(\"timestamp\")"
   ]
  },
  {
   "cell_type": "code",
   "execution_count": null,
   "metadata": {},
   "outputs": [],
   "source": [
    "profit_df = trade_df[[\"expected_profit\", \"actual_profit\"]]"
   ]
  },
  {
   "cell_type": "code",
   "execution_count": null,
   "metadata": {},
   "outputs": [],
   "source": [
    "int(sum(profit_df[\"expected_profit\"])), int(sum(profit_df[\"actual_profit\"]))"
   ]
  },
  {
   "cell_type": "code",
   "execution_count": null,
   "metadata": {
    "scrolled": true
   },
   "outputs": [],
   "source": [
    "pd.set_option('display.max_rows', None)\n",
    "profit_df"
   ]
  },
  {
   "cell_type": "markdown",
   "metadata": {},
   "source": [
    "## coincheck buyにおける売却コインの差分分析"
   ]
  },
  {
   "cell_type": "code",
   "execution_count": null,
   "metadata": {},
   "outputs": [],
   "source": [
    "cc_buy_trades = cc_trades[cc_trades[\"side\"] == \"buy\"]"
   ]
  },
  {
   "cell_type": "code",
   "execution_count": null,
   "metadata": {},
   "outputs": [],
   "source": [
    "cc_buy_amount = cc_buy_trades[\"amount\"]\n",
    "min(cc_buy_amount), max(cc_buy_amount), np.mean(cc_buy_amount)"
   ]
  },
  {
   "cell_type": "code",
   "execution_count": null,
   "metadata": {},
   "outputs": [],
   "source": [
    "from decimal import Decimal\n",
    "num = 0.006 - np.mean(cc_buy_amount)\n",
    "\"{0:.10f}\".format(Decimal(num))"
   ]
  },
  {
   "cell_type": "markdown",
   "metadata": {},
   "source": [
    "この価格差によって生じた資金移動は"
   ]
  },
  {
   "cell_type": "code",
   "execution_count": null,
   "metadata": {},
   "outputs": [],
   "source": [
    "num * len(cc_buy_trades) * np.mean(cc_ticks[\"ask\"])"
   ]
  },
  {
   "cell_type": "markdown",
   "metadata": {},
   "source": [
    "## rateの誤差比較"
   ]
  },
  {
   "cell_type": "code",
   "execution_count": null,
   "metadata": {},
   "outputs": [],
   "source": [
    "cc_rate_df = trade_df[[\"cc_side\", \"cc_expected_rate\", \"cc_actual_rate\"]].copy()\n",
    "cc_rate_df[\"cc_rate_diff\"] = cc_rate_df[\"cc_expected_rate\"] - cc_rate_df[\"cc_actual_rate\"]"
   ]
  },
  {
   "cell_type": "code",
   "execution_count": null,
   "metadata": {},
   "outputs": [],
   "source": [
    "cc_rate_df"
   ]
  },
  {
   "cell_type": "code",
   "execution_count": null,
   "metadata": {},
   "outputs": [],
   "source": [
    "cc_diff = cc_rate_df[\"cc_rate_diff\"]\n",
    "max(cc_diff), min(cc_diff), np.mean(abs(cc_diff)), np.std(cc_diff)"
   ]
  },
  {
   "cell_type": "code",
   "execution_count": null,
   "metadata": {},
   "outputs": [],
   "source": [
    "lq_rate_df = trade_df[[\"lq_side\", \"lq_expected_rate\", \"lq_actual_rate\"]].copy()\n",
    "lq_rate_df[\"lq_rate_diff\"] = lq_rate_df[\"lq_expected_rate\"] - lq_rate_df[\"lq_actual_rate\"]"
   ]
  },
  {
   "cell_type": "code",
   "execution_count": null,
   "metadata": {},
   "outputs": [],
   "source": [
    "lq_diff = lq_rate_df[\"lq_rate_diff\"]\n",
    "max(lq_diff), min(lq_diff), np.mean(abs(lq_diff)), np.std(lq_diff)"
   ]
  },
  {
   "cell_type": "code",
   "execution_count": null,
   "metadata": {},
   "outputs": [],
   "source": []
  }
 ],
 "metadata": {
  "kernelspec": {
   "display_name": "Environment (conda_bakuchi)",
   "language": "python",
   "name": "conda_bakuchi"
  },
  "language_info": {
   "codemirror_mode": {
    "name": "ipython",
    "version": 3
   },
   "file_extension": ".py",
   "mimetype": "text/x-python",
   "name": "python",
   "nbconvert_exporter": "python",
   "pygments_lexer": "ipython3",
   "version": "3.7.6"
  }
 },
 "nbformat": 4,
 "nbformat_minor": 4
}
