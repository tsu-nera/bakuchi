{
 "cells": [
  {
   "cell_type": "markdown",
   "metadata": {},
   "source": [
    "# 資産レポート"
   ]
  },
  {
   "cell_type": "code",
   "execution_count": 1,
   "metadata": {},
   "outputs": [
    {
     "name": "stdout",
     "output_type": "stream",
     "text": [
      "/home/tsu-nera/repo/bakuchi\n"
     ]
    }
   ],
   "source": [
    "import sys\n",
    "sys.path.append('../')\n",
    "%cd '..'"
   ]
  },
  {
   "cell_type": "code",
   "execution_count": 2,
   "metadata": {},
   "outputs": [],
   "source": [
    "import src.utils.asset as tool\n",
    "\n",
    "%reload_ext autoreload\n",
    "%autoreload 2"
   ]
  },
  {
   "cell_type": "code",
   "execution_count": 3,
   "metadata": {},
   "outputs": [],
   "source": [
    "import pandas as pd\n",
    "\n",
    "import matplotlib.pyplot as plt\n",
    "import seaborn as sns\n",
    "sns.set_style('darkgrid')\n",
    "\n",
    "import japanize_matplotlib"
   ]
  },
  {
   "cell_type": "code",
   "execution_count": 4,
   "metadata": {},
   "outputs": [],
   "source": [
    "%matplotlib inline\n",
    "plt.rcParams['figure.figsize'] = (12, 4)"
   ]
  },
  {
   "cell_type": "code",
   "execution_count": 5,
   "metadata": {},
   "outputs": [],
   "source": [
    "bt_df = tool.read_asset(\"bitbank\")\n",
    "ex2_df = tool.read_asset(\"liquid\")\n",
    "total_df = tool.read_asset_total()"
   ]
  },
  {
   "cell_type": "code",
   "execution_count": 6,
   "metadata": {},
   "outputs": [
    {
     "data": {
      "text/plain": [
       "(125, 125, 126)"
      ]
     },
     "execution_count": 6,
     "metadata": {},
     "output_type": "execute_result"
    }
   ],
   "source": [
    "len(bt_df), len(ex2_df), len(total_df)"
   ]
  },
  {
   "cell_type": "code",
   "execution_count": 7,
   "metadata": {},
   "outputs": [],
   "source": [
    "# ex1_df.head(3)"
   ]
  },
  {
   "cell_type": "code",
   "execution_count": 8,
   "metadata": {},
   "outputs": [],
   "source": [
    "total_df[\"datetime\"] = total_df.index\n",
    "total_df[\"year\"] = total_df.index.year\n",
    "total_df[\"date\"] = total_df.index.strftime('%Y-%m-%d')\n",
    "total_df[\"year_and_month\"] = total_df.index.strftime('%Y-%m')\n",
    "total_df[\"year_and_wom\"] = total_df.index.strftime('%Y-W%W')"
   ]
  },
  {
   "cell_type": "markdown",
   "metadata": {},
   "source": [
    "## 日次レポート"
   ]
  },
  {
   "cell_type": "code",
   "execution_count": 9,
   "metadata": {},
   "outputs": [
    {
     "data": {
      "text/html": [
       "<div>\n",
       "<style scoped>\n",
       "    .dataframe tbody tr th:only-of-type {\n",
       "        vertical-align: middle;\n",
       "    }\n",
       "\n",
       "    .dataframe tbody tr th {\n",
       "        vertical-align: top;\n",
       "    }\n",
       "\n",
       "    .dataframe thead th {\n",
       "        text-align: right;\n",
       "    }\n",
       "</style>\n",
       "<table border=\"1\" class=\"dataframe\">\n",
       "  <thead>\n",
       "    <tr style=\"text-align: right;\">\n",
       "      <th></th>\n",
       "      <th>jpy</th>\n",
       "      <th>btc</th>\n",
       "      <th>btc_as_jpy</th>\n",
       "      <th>total_jpy</th>\n",
       "    </tr>\n",
       "    <tr>\n",
       "      <th>timestamp</th>\n",
       "      <th></th>\n",
       "      <th></th>\n",
       "      <th></th>\n",
       "      <th></th>\n",
       "    </tr>\n",
       "  </thead>\n",
       "  <tbody>\n",
       "    <tr>\n",
       "      <th>2021-03-30 22:00:06</th>\n",
       "      <td>14804</td>\n",
       "      <td>0.0024</td>\n",
       "      <td>15643</td>\n",
       "      <td>30447</td>\n",
       "    </tr>\n",
       "    <tr>\n",
       "      <th>2021-03-30 23:00:03</th>\n",
       "      <td>14804</td>\n",
       "      <td>0.0024</td>\n",
       "      <td>15584</td>\n",
       "      <td>30388</td>\n",
       "    </tr>\n",
       "    <tr>\n",
       "      <th>2021-03-31 00:00:04</th>\n",
       "      <td>14804</td>\n",
       "      <td>0.0024</td>\n",
       "      <td>15557</td>\n",
       "      <td>30361</td>\n",
       "    </tr>\n",
       "    <tr>\n",
       "      <th>2021-03-31 01:00:03</th>\n",
       "      <td>14804</td>\n",
       "      <td>0.0024</td>\n",
       "      <td>15446</td>\n",
       "      <td>30250</td>\n",
       "    </tr>\n",
       "    <tr>\n",
       "      <th>2021-03-31 02:00:03</th>\n",
       "      <td>14804</td>\n",
       "      <td>0.0024</td>\n",
       "      <td>15521</td>\n",
       "      <td>30325</td>\n",
       "    </tr>\n",
       "    <tr>\n",
       "      <th>2021-03-31 03:00:03</th>\n",
       "      <td>14804</td>\n",
       "      <td>0.0024</td>\n",
       "      <td>15529</td>\n",
       "      <td>30333</td>\n",
       "    </tr>\n",
       "    <tr>\n",
       "      <th>2021-03-31 04:00:03</th>\n",
       "      <td>14804</td>\n",
       "      <td>0.0024</td>\n",
       "      <td>15559</td>\n",
       "      <td>30363</td>\n",
       "    </tr>\n",
       "    <tr>\n",
       "      <th>2021-03-31 05:00:03</th>\n",
       "      <td>14804</td>\n",
       "      <td>0.0024</td>\n",
       "      <td>15614</td>\n",
       "      <td>30418</td>\n",
       "    </tr>\n",
       "    <tr>\n",
       "      <th>2021-03-31 06:00:03</th>\n",
       "      <td>14804</td>\n",
       "      <td>0.0024</td>\n",
       "      <td>15514</td>\n",
       "      <td>30318</td>\n",
       "    </tr>\n",
       "    <tr>\n",
       "      <th>2021-03-31 07:00:03</th>\n",
       "      <td>14804</td>\n",
       "      <td>0.0024</td>\n",
       "      <td>15543</td>\n",
       "      <td>30347</td>\n",
       "    </tr>\n",
       "    <tr>\n",
       "      <th>2021-03-31 08:00:03</th>\n",
       "      <td>14804</td>\n",
       "      <td>0.0024</td>\n",
       "      <td>15549</td>\n",
       "      <td>30353</td>\n",
       "    </tr>\n",
       "    <tr>\n",
       "      <th>2021-03-31 09:00:03</th>\n",
       "      <td>14804</td>\n",
       "      <td>0.0024</td>\n",
       "      <td>15537</td>\n",
       "      <td>30341</td>\n",
       "    </tr>\n",
       "  </tbody>\n",
       "</table>\n",
       "</div>"
      ],
      "text/plain": [
       "                       jpy     btc  btc_as_jpy  total_jpy\n",
       "timestamp                                                \n",
       "2021-03-30 22:00:06  14804  0.0024       15643      30447\n",
       "2021-03-30 23:00:03  14804  0.0024       15584      30388\n",
       "2021-03-31 00:00:04  14804  0.0024       15557      30361\n",
       "2021-03-31 01:00:03  14804  0.0024       15446      30250\n",
       "2021-03-31 02:00:03  14804  0.0024       15521      30325\n",
       "2021-03-31 03:00:03  14804  0.0024       15529      30333\n",
       "2021-03-31 04:00:03  14804  0.0024       15559      30363\n",
       "2021-03-31 05:00:03  14804  0.0024       15614      30418\n",
       "2021-03-31 06:00:03  14804  0.0024       15514      30318\n",
       "2021-03-31 07:00:03  14804  0.0024       15543      30347\n",
       "2021-03-31 08:00:03  14804  0.0024       15549      30353\n",
       "2021-03-31 09:00:03  14804  0.0024       15537      30341"
      ]
     },
     "execution_count": 9,
     "metadata": {},
     "output_type": "execute_result"
    }
   ],
   "source": [
    "df_day = total_df.tail(24)\n",
    "df_day.drop([\"datetime\", \"date\", \"year_and_month\", \"year_and_wom\", \"year\"], axis=1).tail(12)"
   ]
  },
  {
   "cell_type": "code",
   "execution_count": 10,
   "metadata": {},
   "outputs": [
    {
     "data": {
      "text/plain": [
       "<AxesSubplot:xlabel='datetime', ylabel='total_jpy'>"
      ]
     },
     "execution_count": 10,
     "metadata": {},
     "output_type": "execute_result"
    },
    {
     "data": {
      "image/png": "[encoded data removed]",
      "text/plain": [
       "<Figure size 864x288 with 1 Axes>"
      ]
     },
     "metadata": {
      "needs_background": "light"
     },
     "output_type": "display_data"
    }
   ],
   "source": [
    "sns.lineplot(data=df_day, x='datetime', y=\"total_jpy\")"
   ]
  },
  {
   "cell_type": "code",
   "execution_count": 11,
   "metadata": {
    "scrolled": true
   },
   "outputs": [
    {
     "data": {
      "text/plain": [
       "<AxesSubplot:xlabel='datetime', ylabel='total_jpy'>"
      ]
     },
     "execution_count": 11,
     "metadata": {},
     "output_type": "execute_result"
    },
    {
     "data": {
      "image/png": "[encoded data removed]",
      "text/plain": [
       "<Figure size 864x288 with 1 Axes>"
      ]
     },
     "metadata": {
      "needs_background": "light"
     },
     "output_type": "display_data"
    }
   ],
   "source": [
    "df_recent = total_df.tail(24*10)\n",
    "sns.lineplot(data=df_recent, x='datetime', y=\"total_jpy\")"
   ]
  },
  {
   "cell_type": "code",
   "execution_count": 12,
   "metadata": {},
   "outputs": [],
   "source": [
    "groupby = df_recent.groupby(\"date\")\n",
    "df_days = pd.DataFrame()\n",
    "df_days[\"total_jpy\"] = round(groupby[\"total_jpy\"].mean(), 3)"
   ]
  },
  {
   "cell_type": "code",
   "execution_count": 13,
   "metadata": {},
   "outputs": [
    {
     "data": {
      "text/html": [
       "<div>\n",
       "<style scoped>\n",
       "    .dataframe tbody tr th:only-of-type {\n",
       "        vertical-align: middle;\n",
       "    }\n",
       "\n",
       "    .dataframe tbody tr th {\n",
       "        vertical-align: top;\n",
       "    }\n",
       "\n",
       "    .dataframe thead th {\n",
       "        text-align: right;\n",
       "    }\n",
       "</style>\n",
       "<table border=\"1\" class=\"dataframe\">\n",
       "  <thead>\n",
       "    <tr style=\"text-align: right;\">\n",
       "      <th></th>\n",
       "      <th>total_jpy</th>\n",
       "    </tr>\n",
       "    <tr>\n",
       "      <th>date</th>\n",
       "      <th></th>\n",
       "    </tr>\n",
       "  </thead>\n",
       "  <tbody>\n",
       "    <tr>\n",
       "      <th>2021-03-25</th>\n",
       "      <td>28448.600</td>\n",
       "    </tr>\n",
       "    <tr>\n",
       "      <th>2021-03-26</th>\n",
       "      <td>28515.458</td>\n",
       "    </tr>\n",
       "    <tr>\n",
       "      <th>2021-03-27</th>\n",
       "      <td>29137.125</td>\n",
       "    </tr>\n",
       "    <tr>\n",
       "      <th>2021-03-28</th>\n",
       "      <td>29499.458</td>\n",
       "    </tr>\n",
       "    <tr>\n",
       "      <th>2021-03-29</th>\n",
       "      <td>29544.000</td>\n",
       "    </tr>\n",
       "    <tr>\n",
       "      <th>2021-03-30</th>\n",
       "      <td>30025.067</td>\n",
       "    </tr>\n",
       "    <tr>\n",
       "      <th>2021-03-31</th>\n",
       "      <td>30340.900</td>\n",
       "    </tr>\n",
       "  </tbody>\n",
       "</table>\n",
       "</div>"
      ],
      "text/plain": [
       "            total_jpy\n",
       "date                 \n",
       "2021-03-25  28448.600\n",
       "2021-03-26  28515.458\n",
       "2021-03-27  29137.125\n",
       "2021-03-28  29499.458\n",
       "2021-03-29  29544.000\n",
       "2021-03-30  30025.067\n",
       "2021-03-31  30340.900"
      ]
     },
     "execution_count": 13,
     "metadata": {},
     "output_type": "execute_result"
    }
   ],
   "source": [
    "df_days.tail(10)"
   ]
  },
  {
   "cell_type": "code",
   "execution_count": 14,
   "metadata": {},
   "outputs": [
    {
     "data": {
      "text/plain": [
       "<AxesSubplot:xlabel='date', ylabel='total_jpy'>"
      ]
     },
     "execution_count": 14,
     "metadata": {},
     "output_type": "execute_result"
    },
    {
     "data": {
      "image/png": "[encoded data removed]",
      "text/plain": [
       "<Figure size 864x288 with 1 Axes>"
      ]
     },
     "metadata": {
      "needs_background": "light"
     },
     "output_type": "display_data"
    }
   ],
   "source": [
    "df_days[\"date\"] = df_days.index\n",
    "sns.lineplot(data=df_days, x='date', y='total_jpy')"
   ]
  },
  {
   "cell_type": "markdown",
   "metadata": {},
   "source": [
    "## 週次レポート"
   ]
  },
  {
   "cell_type": "code",
   "execution_count": 15,
   "metadata": {},
   "outputs": [],
   "source": [
    "groupby = total_df.groupby('year_and_wom')\n",
    "df_by_week = pd.DataFrame()\n",
    "df_by_week[\"total_jpy\"] = round(groupby[\"total_jpy\"].mean(), 3)"
   ]
  },
  {
   "cell_type": "code",
   "execution_count": 16,
   "metadata": {},
   "outputs": [
    {
     "data": {
      "text/html": [
       "<div>\n",
       "<style scoped>\n",
       "    .dataframe tbody tr th:only-of-type {\n",
       "        vertical-align: middle;\n",
       "    }\n",
       "\n",
       "    .dataframe tbody tr th {\n",
       "        vertical-align: top;\n",
       "    }\n",
       "\n",
       "    .dataframe thead th {\n",
       "        text-align: right;\n",
       "    }\n",
       "</style>\n",
       "<table border=\"1\" class=\"dataframe\">\n",
       "  <thead>\n",
       "    <tr style=\"text-align: right;\">\n",
       "      <th></th>\n",
       "      <th>total_jpy</th>\n",
       "    </tr>\n",
       "    <tr>\n",
       "      <th>year_and_wom</th>\n",
       "      <th></th>\n",
       "    </tr>\n",
       "  </thead>\n",
       "  <tbody>\n",
       "    <tr>\n",
       "      <th>2021-W12</th>\n",
       "      <td>29011.584</td>\n",
       "    </tr>\n",
       "    <tr>\n",
       "      <th>2021-W13</th>\n",
       "      <td>29853.898</td>\n",
       "    </tr>\n",
       "  </tbody>\n",
       "</table>\n",
       "</div>"
      ],
      "text/plain": [
       "              total_jpy\n",
       "year_and_wom           \n",
       "2021-W12      29011.584\n",
       "2021-W13      29853.898"
      ]
     },
     "execution_count": 16,
     "metadata": {},
     "output_type": "execute_result"
    }
   ],
   "source": [
    "df_by_week"
   ]
  },
  {
   "cell_type": "code",
   "execution_count": 17,
   "metadata": {},
   "outputs": [
    {
     "data": {
      "text/plain": [
       "<AxesSubplot:xlabel='year_and_wom', ylabel='total_jpy'>"
      ]
     },
     "execution_count": 17,
     "metadata": {},
     "output_type": "execute_result"
    },
    {
     "data": {
      "image/png": "[encoded data removed]",
      "text/plain": [
       "<Figure size 864x288 with 1 Axes>"
      ]
     },
     "metadata": {
      "needs_background": "light"
     },
     "output_type": "display_data"
    }
   ],
   "source": [
    "df_by_week[\"year_and_wom\"] = df_by_week.index\n",
    "sns.lineplot(data=df_by_week, x='year_and_wom', y='total_jpy')"
   ]
  },
  {
   "cell_type": "markdown",
   "metadata": {},
   "source": [
    "## 月次レポート"
   ]
  },
  {
   "cell_type": "code",
   "execution_count": 18,
   "metadata": {},
   "outputs": [],
   "source": [
    "groupby = total_df.groupby('year_and_month')\n",
    "df_by_month = pd.DataFrame()\n",
    "df_by_month[\"total_jpy\"] = round(groupby[\"total_jpy\"].mean(), 3)"
   ]
  },
  {
   "cell_type": "code",
   "execution_count": 19,
   "metadata": {},
   "outputs": [
    {
     "data": {
      "text/html": [
       "<div>\n",
       "<style scoped>\n",
       "    .dataframe tbody tr th:only-of-type {\n",
       "        vertical-align: middle;\n",
       "    }\n",
       "\n",
       "    .dataframe tbody tr th {\n",
       "        vertical-align: top;\n",
       "    }\n",
       "\n",
       "    .dataframe thead th {\n",
       "        text-align: right;\n",
       "    }\n",
       "</style>\n",
       "<table border=\"1\" class=\"dataframe\">\n",
       "  <thead>\n",
       "    <tr style=\"text-align: right;\">\n",
       "      <th></th>\n",
       "      <th>total_jpy</th>\n",
       "    </tr>\n",
       "    <tr>\n",
       "      <th>year_and_month</th>\n",
       "      <th></th>\n",
       "    </tr>\n",
       "  </thead>\n",
       "  <tbody>\n",
       "    <tr>\n",
       "      <th>2021-03</th>\n",
       "      <td>29339.151</td>\n",
       "    </tr>\n",
       "  </tbody>\n",
       "</table>\n",
       "</div>"
      ],
      "text/plain": [
       "                total_jpy\n",
       "year_and_month           \n",
       "2021-03         29339.151"
      ]
     },
     "execution_count": 19,
     "metadata": {},
     "output_type": "execute_result"
    }
   ],
   "source": [
    "df_by_month"
   ]
  },
  {
   "cell_type": "code",
   "execution_count": 20,
   "metadata": {},
   "outputs": [
    {
     "data": {
      "text/plain": [
       "<AxesSubplot:xlabel='year_and_month', ylabel='total_jpy'>"
      ]
     },
     "execution_count": 20,
     "metadata": {},
     "output_type": "execute_result"
    },
    {
     "data": {
      "image/png": "[encoded data removed]",
      "text/plain": [
       "<Figure size 864x288 with 1 Axes>"
      ]
     },
     "metadata": {
      "needs_background": "light"
     },
     "output_type": "display_data"
    }
   ],
   "source": [
    "df_by_month[\"year_and_month\"] = df_by_month.index\n",
    "sns.lineplot(data=df_by_month, x='year_and_month', y='total_jpy')"
   ]
  },
  {
   "cell_type": "code",
   "execution_count": null,
   "metadata": {},
   "outputs": [],
   "source": []
  },
  {
   "cell_type": "code",
   "execution_count": null,
   "metadata": {},
   "outputs": [],
   "source": []
  },
  {
   "cell_type": "code",
   "execution_count": null,
   "metadata": {},
   "outputs": [],
   "source": []
  }
 ],
 "metadata": {
  "kernelspec": {
   "display_name": "Python 3",
   "language": "python",
   "name": "python3"
  },
  "language_info": {
   "codemirror_mode": {
    "name": "ipython",
    "version": 3
   },
   "file_extension": ".py",
   "mimetype": "text/x-python",
   "name": "python",
   "nbconvert_exporter": "python",
   "pygments_lexer": "ipython3",
   "version": "3.7.10"
  }
 },
 "nbformat": 4,
 "nbformat_minor": 4
}
