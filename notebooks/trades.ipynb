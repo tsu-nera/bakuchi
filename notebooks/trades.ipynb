{
 "cells": [
  {
   "cell_type": "markdown",
   "metadata": {},
   "source": [
    "# トレード分析"
   ]
  },
  {
   "cell_type": "code",
   "execution_count": 1,
   "metadata": {},
   "outputs": [
    {
     "name": "stdout",
     "output_type": "stream",
     "text": [
      "/home/tsu-nera/repo/bakuchi\n"
     ]
    }
   ],
   "source": [
    "import sys\n",
    "sys.path.append('../')\n",
    "%cd '..'"
   ]
  },
  {
   "cell_type": "code",
   "execution_count": 2,
   "metadata": {},
   "outputs": [],
   "source": [
    "import src.utils.trades_report as report\n",
    "\n",
    "%reload_ext autoreload\n",
    "%autoreload 2"
   ]
  },
  {
   "cell_type": "code",
   "execution_count": 3,
   "metadata": {},
   "outputs": [],
   "source": [
    "results = report.read_results()"
   ]
  },
  {
   "cell_type": "code",
   "execution_count": 4,
   "metadata": {},
   "outputs": [
    {
     "data": {
      "text/html": [
       "<div>\n",
       "<style scoped>\n",
       "    .dataframe tbody tr th:only-of-type {\n",
       "        vertical-align: middle;\n",
       "    }\n",
       "\n",
       "    .dataframe tbody tr th {\n",
       "        vertical-align: top;\n",
       "    }\n",
       "\n",
       "    .dataframe thead th {\n",
       "        text-align: right;\n",
       "    }\n",
       "</style>\n",
       "<table border=\"1\" class=\"dataframe\">\n",
       "  <thead>\n",
       "    <tr style=\"text-align: right;\">\n",
       "      <th></th>\n",
       "      <th>record_count</th>\n",
       "      <th>trade_count</th>\n",
       "      <th>end_timestamp</th>\n",
       "      <th>duration</th>\n",
       "      <th>trade_amount</th>\n",
       "      <th>open_threshold</th>\n",
       "      <th>profit_margin_diff</th>\n",
       "      <th>start_price_jpy</th>\n",
       "      <th>end_price_jpy</th>\n",
       "      <th>profit_jpy</th>\n",
       "      <th>start_price_btc</th>\n",
       "      <th>end_price_btc</th>\n",
       "      <th>profit_btc</th>\n",
       "      <th>total_start_price_jpy</th>\n",
       "      <th>total_end_price_jpy</th>\n",
       "      <th>total_profit_jpy</th>\n",
       "    </tr>\n",
       "    <tr>\n",
       "      <th>start_timestamp</th>\n",
       "      <th></th>\n",
       "      <th></th>\n",
       "      <th></th>\n",
       "      <th></th>\n",
       "      <th></th>\n",
       "      <th></th>\n",
       "      <th></th>\n",
       "      <th></th>\n",
       "      <th></th>\n",
       "      <th></th>\n",
       "      <th></th>\n",
       "      <th></th>\n",
       "      <th></th>\n",
       "      <th></th>\n",
       "      <th></th>\n",
       "      <th></th>\n",
       "    </tr>\n",
       "  </thead>\n",
       "  <tbody>\n",
       "    <tr>\n",
       "      <th>2020-03-18 03:19:25</th>\n",
       "      <td>19095</td>\n",
       "      <td>164</td>\n",
       "      <td>2020-03-18 09:03:36</td>\n",
       "      <td>20651</td>\n",
       "      <td>0.0090</td>\n",
       "      <td>2000</td>\n",
       "      <td>800</td>\n",
       "      <td>11406</td>\n",
       "      <td>11587</td>\n",
       "      <td>181</td>\n",
       "      <td>0.021948</td>\n",
       "      <td>0.021038</td>\n",
       "      <td>-0.00091</td>\n",
       "      <td>24212.47</td>\n",
       "      <td>23796.377</td>\n",
       "      <td>-416.093</td>\n",
       "    </tr>\n",
       "    <tr>\n",
       "      <th>2020-03-20 02:10:49</th>\n",
       "      <td>72520</td>\n",
       "      <td>311</td>\n",
       "      <td>2020-03-20 23:54:04</td>\n",
       "      <td>78195</td>\n",
       "      <td>0.0065</td>\n",
       "      <td>2000</td>\n",
       "      <td>1000</td>\n",
       "      <td>11002</td>\n",
       "      <td>6094</td>\n",
       "      <td>-4908</td>\n",
       "      <td>0.022000</td>\n",
       "      <td>0.028000</td>\n",
       "      <td>0.00600</td>\n",
       "      <td>26144.00</td>\n",
       "      <td>26559.000</td>\n",
       "      <td>415.000</td>\n",
       "    </tr>\n",
       "  </tbody>\n",
       "</table>\n",
       "</div>"
      ],
      "text/plain": [
       "                     record_count  trade_count        end_timestamp  duration  \\\n",
       "start_timestamp                                                                 \n",
       "2020-03-18 03:19:25         19095          164  2020-03-18 09:03:36     20651   \n",
       "2020-03-20 02:10:49         72520          311  2020-03-20 23:54:04     78195   \n",
       "\n",
       "                     trade_amount  open_threshold  profit_margin_diff  \\\n",
       "start_timestamp                                                         \n",
       "2020-03-18 03:19:25        0.0090            2000                 800   \n",
       "2020-03-20 02:10:49        0.0065            2000                1000   \n",
       "\n",
       "                     start_price_jpy  end_price_jpy  profit_jpy  \\\n",
       "start_timestamp                                                   \n",
       "2020-03-18 03:19:25            11406          11587         181   \n",
       "2020-03-20 02:10:49            11002           6094       -4908   \n",
       "\n",
       "                     start_price_btc  end_price_btc  profit_btc  \\\n",
       "start_timestamp                                                   \n",
       "2020-03-18 03:19:25         0.021948       0.021038    -0.00091   \n",
       "2020-03-20 02:10:49         0.022000       0.028000     0.00600   \n",
       "\n",
       "                     total_start_price_jpy  total_end_price_jpy  \\\n",
       "start_timestamp                                                   \n",
       "2020-03-18 03:19:25               24212.47            23796.377   \n",
       "2020-03-20 02:10:49               26144.00            26559.000   \n",
       "\n",
       "                     total_profit_jpy  \n",
       "start_timestamp                        \n",
       "2020-03-18 03:19:25          -416.093  \n",
       "2020-03-20 02:10:49           415.000  "
      ]
     },
     "execution_count": 4,
     "metadata": {},
     "output_type": "execute_result"
    }
   ],
   "source": [
    "results"
   ]
  },
  {
   "cell_type": "code",
   "execution_count": null,
   "metadata": {},
   "outputs": [],
   "source": []
  }
 ],
 "metadata": {
  "kernelspec": {
   "display_name": "Environment (conda_bakuchi)",
   "language": "python",
   "name": "conda_bakuchi"
  },
  "language_info": {
   "codemirror_mode": {
    "name": "ipython",
    "version": 3
   },
   "file_extension": ".py",
   "mimetype": "text/x-python",
   "name": "python",
   "nbconvert_exporter": "python",
   "pygments_lexer": "ipython3",
   "version": "3.7.6"
  }
 },
 "nbformat": 4,
 "nbformat_minor": 4
}
