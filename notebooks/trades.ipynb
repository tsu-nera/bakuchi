{
 "cells": [
  {
   "cell_type": "markdown",
   "metadata": {},
   "source": [
    "# トレード集計"
   ]
  },
  {
   "cell_type": "code",
   "execution_count": 1,
   "metadata": {},
   "outputs": [
    {
     "name": "stdout",
     "output_type": "stream",
     "text": [
      "/home/ubuntu/repo/bakuchi\n"
     ]
    }
   ],
   "source": [
    "import sys\n",
    "sys.path.append('../')\n",
    "%cd '..'"
   ]
  },
  {
   "cell_type": "code",
   "execution_count": 2,
   "metadata": {},
   "outputs": [],
   "source": [
    "import src.utils.trades_report as report\n",
    "\n",
    "%reload_ext autoreload\n",
    "%autoreload 2"
   ]
  },
  {
   "cell_type": "code",
   "execution_count": 3,
   "metadata": {},
   "outputs": [],
   "source": [
    "import pandas as pd\n",
    "\n",
    "import matplotlib.pyplot as plt\n",
    "import seaborn as sns\n",
    "sns.set_style('darkgrid')\n",
    "\n",
    "import japanize_matplotlib\n",
    "\n",
    "%matplotlib inline\n",
    "plt.rcParams['figure.figsize'] = (12, 4)"
   ]
  },
  {
   "cell_type": "code",
   "execution_count": 4,
   "metadata": {},
   "outputs": [],
   "source": [
    "results = report.read_results()"
   ]
  },
  {
   "cell_type": "code",
   "execution_count": 5,
   "metadata": {},
   "outputs": [],
   "source": [
    "# results"
   ]
  },
  {
   "cell_type": "code",
   "execution_count": 6,
   "metadata": {},
   "outputs": [],
   "source": [
    "trades = pd.DataFrame()"
   ]
  },
  {
   "cell_type": "code",
   "execution_count": 7,
   "metadata": {},
   "outputs": [],
   "source": [
    "trades[\"Bot利益\"] = results[\"bot_profit_jpy\"]\n",
    "trades[\"市場利益\"] = results[\"market_profit_jpy\"]\n",
    "trades[\"取引利益\"] = results[\"trade_profit_jpy\"]\n",
    "trades.index.name = \"トレード日時\""
   ]
  },
  {
   "cell_type": "code",
   "execution_count": 8,
   "metadata": {},
   "outputs": [
    {
     "data": {
      "text/html": [
       "<div>\n",
       "<style scoped>\n",
       "    .dataframe tbody tr th:only-of-type {\n",
       "        vertical-align: middle;\n",
       "    }\n",
       "\n",
       "    .dataframe tbody tr th {\n",
       "        vertical-align: top;\n",
       "    }\n",
       "\n",
       "    .dataframe thead th {\n",
       "        text-align: right;\n",
       "    }\n",
       "</style>\n",
       "<table border=\"1\" class=\"dataframe\">\n",
       "  <thead>\n",
       "    <tr style=\"text-align: right;\">\n",
       "      <th></th>\n",
       "      <th>Bot利益</th>\n",
       "      <th>市場利益</th>\n",
       "      <th>取引利益</th>\n",
       "    </tr>\n",
       "    <tr>\n",
       "      <th>トレード日時</th>\n",
       "      <th></th>\n",
       "      <th></th>\n",
       "      <th></th>\n",
       "    </tr>\n",
       "  </thead>\n",
       "  <tbody>\n",
       "    <tr>\n",
       "      <th>2020-04-21 09:39:06</th>\n",
       "      <td>-208.0</td>\n",
       "      <td>-171.914</td>\n",
       "      <td>-36.086</td>\n",
       "    </tr>\n",
       "    <tr>\n",
       "      <th>2020-05-04 18:41:28</th>\n",
       "      <td>101.0</td>\n",
       "      <td>99.692</td>\n",
       "      <td>1.308</td>\n",
       "    </tr>\n",
       "    <tr>\n",
       "      <th>2020-05-05 08:30:58</th>\n",
       "      <td>208.0</td>\n",
       "      <td>210.397</td>\n",
       "      <td>-2.397</td>\n",
       "    </tr>\n",
       "    <tr>\n",
       "      <th>2020-05-07 00:16:20</th>\n",
       "      <td>33.0</td>\n",
       "      <td>47.404</td>\n",
       "      <td>-14.404</td>\n",
       "    </tr>\n",
       "    <tr>\n",
       "      <th>2020-05-07 07:08:24</th>\n",
       "      <td>81.0</td>\n",
       "      <td>98.786</td>\n",
       "      <td>-17.786</td>\n",
       "    </tr>\n",
       "    <tr>\n",
       "      <th>2021-03-31 19:48:12</th>\n",
       "      <td>10.0</td>\n",
       "      <td>13.255</td>\n",
       "      <td>-3.255</td>\n",
       "    </tr>\n",
       "    <tr>\n",
       "      <th>2021-04-03 09:23:35</th>\n",
       "      <td>-1018.0</td>\n",
       "      <td>-390.296</td>\n",
       "      <td>-627.704</td>\n",
       "    </tr>\n",
       "    <tr>\n",
       "      <th>2021-04-13 16:50:24</th>\n",
       "      <td>278.0</td>\n",
       "      <td>465.619</td>\n",
       "      <td>-187.619</td>\n",
       "    </tr>\n",
       "    <tr>\n",
       "      <th>2021-04-13 17:43:32</th>\n",
       "      <td>-597.0</td>\n",
       "      <td>-3.320</td>\n",
       "      <td>-593.680</td>\n",
       "    </tr>\n",
       "    <tr>\n",
       "      <th>2021-04-15 16:22:45</th>\n",
       "      <td>-65.0</td>\n",
       "      <td>-28.976</td>\n",
       "      <td>-36.024</td>\n",
       "    </tr>\n",
       "  </tbody>\n",
       "</table>\n",
       "</div>"
      ],
      "text/plain": [
       "                      Bot利益     市場利益     取引利益\n",
       "トレード日時                                       \n",
       "2020-04-21 09:39:06  -208.0 -171.914  -36.086\n",
       "2020-05-04 18:41:28   101.0   99.692    1.308\n",
       "2020-05-05 08:30:58   208.0  210.397   -2.397\n",
       "2020-05-07 00:16:20    33.0   47.404  -14.404\n",
       "2020-05-07 07:08:24    81.0   98.786  -17.786\n",
       "2021-03-31 19:48:12    10.0   13.255   -3.255\n",
       "2021-04-03 09:23:35 -1018.0 -390.296 -627.704\n",
       "2021-04-13 16:50:24   278.0  465.619 -187.619\n",
       "2021-04-13 17:43:32  -597.0   -3.320 -593.680\n",
       "2021-04-15 16:22:45   -65.0  -28.976  -36.024"
      ]
     },
     "execution_count": 8,
     "metadata": {},
     "output_type": "execute_result"
    }
   ],
   "source": [
    "trades.tail(10)"
   ]
  },
  {
   "cell_type": "markdown",
   "metadata": {},
   "source": [
    "## 累計利益"
   ]
  },
  {
   "cell_type": "code",
   "execution_count": 9,
   "metadata": {},
   "outputs": [],
   "source": [
    "trades[\"date\"] = pd.to_datetime(trades.index).date"
   ]
  },
  {
   "cell_type": "code",
   "execution_count": 10,
   "metadata": {},
   "outputs": [],
   "source": [
    "trades_days = trades.groupby(\"date\").sum()\n",
    "trades_days_comsum = trades_days.cumsum()"
   ]
  },
  {
   "cell_type": "code",
   "execution_count": 11,
   "metadata": {},
   "outputs": [],
   "source": [
    "trades_days[\"Bot利益[累計]\"] = trades_days_comsum[\"Bot利益\"]\n",
    "trades_days[\"市場利益[累計]\"] = trades_days_comsum[\"市場利益\"]\n",
    "trades_days[\"取引利益[累計]\"] = trades_days_comsum[\"取引利益\"]\n",
    "trades_days.index.name = \"日付\""
   ]
  },
  {
   "cell_type": "code",
   "execution_count": 12,
   "metadata": {},
   "outputs": [
    {
     "data": {
      "text/html": [
       "<div>\n",
       "<style scoped>\n",
       "    .dataframe tbody tr th:only-of-type {\n",
       "        vertical-align: middle;\n",
       "    }\n",
       "\n",
       "    .dataframe tbody tr th {\n",
       "        vertical-align: top;\n",
       "    }\n",
       "\n",
       "    .dataframe thead th {\n",
       "        text-align: right;\n",
       "    }\n",
       "</style>\n",
       "<table border=\"1\" class=\"dataframe\">\n",
       "  <thead>\n",
       "    <tr style=\"text-align: right;\">\n",
       "      <th></th>\n",
       "      <th>Bot利益</th>\n",
       "      <th>市場利益</th>\n",
       "      <th>取引利益</th>\n",
       "      <th>Bot利益[累計]</th>\n",
       "      <th>市場利益[累計]</th>\n",
       "      <th>取引利益[累計]</th>\n",
       "    </tr>\n",
       "    <tr>\n",
       "      <th>日付</th>\n",
       "      <th></th>\n",
       "      <th></th>\n",
       "      <th></th>\n",
       "      <th></th>\n",
       "      <th></th>\n",
       "      <th></th>\n",
       "    </tr>\n",
       "  </thead>\n",
       "  <tbody>\n",
       "    <tr>\n",
       "      <th>2020-03-30</th>\n",
       "      <td>241.0</td>\n",
       "      <td>459.642</td>\n",
       "      <td>-218.642</td>\n",
       "      <td>-146.093</td>\n",
       "      <td>1598.226</td>\n",
       "      <td>-1744.319</td>\n",
       "    </tr>\n",
       "    <tr>\n",
       "      <th>2020-04-03</th>\n",
       "      <td>-199.0</td>\n",
       "      <td>25.263</td>\n",
       "      <td>-224.263</td>\n",
       "      <td>-345.093</td>\n",
       "      <td>1623.489</td>\n",
       "      <td>-1968.582</td>\n",
       "    </tr>\n",
       "    <tr>\n",
       "      <th>2020-04-21</th>\n",
       "      <td>-806.0</td>\n",
       "      <td>-687.058</td>\n",
       "      <td>-118.942</td>\n",
       "      <td>-1151.093</td>\n",
       "      <td>936.431</td>\n",
       "      <td>-2087.524</td>\n",
       "    </tr>\n",
       "    <tr>\n",
       "      <th>2020-05-04</th>\n",
       "      <td>101.0</td>\n",
       "      <td>99.692</td>\n",
       "      <td>1.308</td>\n",
       "      <td>-1050.093</td>\n",
       "      <td>1036.123</td>\n",
       "      <td>-2086.216</td>\n",
       "    </tr>\n",
       "    <tr>\n",
       "      <th>2020-05-05</th>\n",
       "      <td>208.0</td>\n",
       "      <td>210.397</td>\n",
       "      <td>-2.397</td>\n",
       "      <td>-842.093</td>\n",
       "      <td>1246.520</td>\n",
       "      <td>-2088.613</td>\n",
       "    </tr>\n",
       "    <tr>\n",
       "      <th>2020-05-07</th>\n",
       "      <td>114.0</td>\n",
       "      <td>146.190</td>\n",
       "      <td>-32.190</td>\n",
       "      <td>-728.093</td>\n",
       "      <td>1392.710</td>\n",
       "      <td>-2120.803</td>\n",
       "    </tr>\n",
       "    <tr>\n",
       "      <th>2021-03-31</th>\n",
       "      <td>10.0</td>\n",
       "      <td>13.255</td>\n",
       "      <td>-3.255</td>\n",
       "      <td>-718.093</td>\n",
       "      <td>1405.965</td>\n",
       "      <td>-2124.058</td>\n",
       "    </tr>\n",
       "    <tr>\n",
       "      <th>2021-04-03</th>\n",
       "      <td>-1018.0</td>\n",
       "      <td>-390.296</td>\n",
       "      <td>-627.704</td>\n",
       "      <td>-1736.093</td>\n",
       "      <td>1015.669</td>\n",
       "      <td>-2751.762</td>\n",
       "    </tr>\n",
       "    <tr>\n",
       "      <th>2021-04-13</th>\n",
       "      <td>-319.0</td>\n",
       "      <td>462.299</td>\n",
       "      <td>-781.299</td>\n",
       "      <td>-2055.093</td>\n",
       "      <td>1477.968</td>\n",
       "      <td>-3533.061</td>\n",
       "    </tr>\n",
       "    <tr>\n",
       "      <th>2021-04-15</th>\n",
       "      <td>-65.0</td>\n",
       "      <td>-28.976</td>\n",
       "      <td>-36.024</td>\n",
       "      <td>-2120.093</td>\n",
       "      <td>1448.992</td>\n",
       "      <td>-3569.085</td>\n",
       "    </tr>\n",
       "  </tbody>\n",
       "</table>\n",
       "</div>"
      ],
      "text/plain": [
       "             Bot利益     市場利益     取引利益  Bot利益[累計]  市場利益[累計]  取引利益[累計]\n",
       "日付                                                                 \n",
       "2020-03-30   241.0  459.642 -218.642   -146.093  1598.226 -1744.319\n",
       "2020-04-03  -199.0   25.263 -224.263   -345.093  1623.489 -1968.582\n",
       "2020-04-21  -806.0 -687.058 -118.942  -1151.093   936.431 -2087.524\n",
       "2020-05-04   101.0   99.692    1.308  -1050.093  1036.123 -2086.216\n",
       "2020-05-05   208.0  210.397   -2.397   -842.093  1246.520 -2088.613\n",
       "2020-05-07   114.0  146.190  -32.190   -728.093  1392.710 -2120.803\n",
       "2021-03-31    10.0   13.255   -3.255   -718.093  1405.965 -2124.058\n",
       "2021-04-03 -1018.0 -390.296 -627.704  -1736.093  1015.669 -2751.762\n",
       "2021-04-13  -319.0  462.299 -781.299  -2055.093  1477.968 -3533.061\n",
       "2021-04-15   -65.0  -28.976  -36.024  -2120.093  1448.992 -3569.085"
      ]
     },
     "execution_count": 12,
     "metadata": {},
     "output_type": "execute_result"
    }
   ],
   "source": [
    "trades_days.tail(10)"
   ]
  },
  {
   "cell_type": "code",
   "execution_count": 13,
   "metadata": {},
   "outputs": [],
   "source": [
    "trades_days = trades_days.reset_index()\n",
    "trades_days[\"id\"] = trades_days.index"
   ]
  },
  {
   "cell_type": "markdown",
   "metadata": {},
   "source": [
    "## 取引利益"
   ]
  },
  {
   "cell_type": "code",
   "execution_count": 14,
   "metadata": {},
   "outputs": [
    {
     "data": {
      "text/plain": [
       "<AxesSubplot:xlabel='id', ylabel='取引利益'>"
      ]
     },
     "execution_count": 14,
     "metadata": {},
     "output_type": "execute_result"
    },
    {
     "data": {
      "image/png": "[encoded data removed]",
      "text/plain": [
       "<Figure size 864x288 with 1 Axes>"
      ]
     },
     "metadata": {
      "needs_background": "light"
     },
     "output_type": "display_data"
    }
   ],
   "source": [
    "sns.lineplot(data=trades_days, x='id', y=\"取引利益\")"
   ]
  },
  {
   "cell_type": "markdown",
   "metadata": {},
   "source": [
    "## 取引利益(累計)"
   ]
  },
  {
   "cell_type": "code",
   "execution_count": 15,
   "metadata": {},
   "outputs": [
    {
     "data": {
      "text/plain": [
       "<AxesSubplot:xlabel='id', ylabel='取引利益[累計]'>"
      ]
     },
     "execution_count": 15,
     "metadata": {},
     "output_type": "execute_result"
    },
    {
     "data": {
      "image/png": "[encoded data removed]",
      "text/plain": [
       "<Figure size 864x288 with 1 Axes>"
      ]
     },
     "metadata": {
      "needs_background": "light"
     },
     "output_type": "display_data"
    }
   ],
   "source": [
    "sns.lineplot(data=trades_days, x='id', y=\"取引利益[累計]\")"
   ]
  },
  {
   "cell_type": "code",
   "execution_count": null,
   "metadata": {},
   "outputs": [],
   "source": []
  }
 ],
 "metadata": {
  "kernelspec": {
   "display_name": "Python 3",
   "language": "python",
   "name": "python3"
  },
  "language_info": {
   "codemirror_mode": {
    "name": "ipython",
    "version": 3
   },
   "file_extension": ".py",
   "mimetype": "text/x-python",
   "name": "python",
   "nbconvert_exporter": "python",
   "pygments_lexer": "ipython3",
   "version": "3.7.10"
  }
 },
 "nbformat": 4,
 "nbformat_minor": 4
}
