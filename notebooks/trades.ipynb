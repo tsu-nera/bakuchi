{
 "cells": [
  {
   "cell_type": "markdown",
   "metadata": {},
   "source": [
    "# トレード分析"
   ]
  },
  {
   "cell_type": "code",
   "execution_count": 1,
   "metadata": {},
   "outputs": [
    {
     "name": "stdout",
     "output_type": "stream",
     "text": [
      "/home/tsu-nera/repo/bakuchi\n"
     ]
    }
   ],
   "source": [
    "import sys\n",
    "sys.path.append('../')\n",
    "%cd '..'"
   ]
  },
  {
   "cell_type": "code",
   "execution_count": 2,
   "metadata": {},
   "outputs": [],
   "source": [
    "import src.utils.trades_report as report\n",
    "\n",
    "%reload_ext autoreload\n",
    "%autoreload 2"
   ]
  },
  {
   "cell_type": "code",
   "execution_count": 3,
   "metadata": {},
   "outputs": [],
   "source": [
    "import pandas as pd"
   ]
  },
  {
   "cell_type": "code",
   "execution_count": 4,
   "metadata": {},
   "outputs": [],
   "source": [
    "results = report.read_results()"
   ]
  },
  {
   "cell_type": "code",
   "execution_count": 5,
   "metadata": {},
   "outputs": [],
   "source": [
    "# results"
   ]
  },
  {
   "cell_type": "code",
   "execution_count": 6,
   "metadata": {},
   "outputs": [],
   "source": [
    "trades = pd.DataFrame()"
   ]
  },
  {
   "cell_type": "code",
   "execution_count": 7,
   "metadata": {},
   "outputs": [],
   "source": [
    "trades[\"Bot利益\"] = results[\"bot_profit_jpy\"]\n",
    "trades[\"市場利益\"] = results[\"market_profit_jpy\"]\n",
    "trades[\"取引履歴\"] = results[\"trade_profit_jpy\"]\n",
    "trades.index.name = \"トレード日時\""
   ]
  },
  {
   "cell_type": "code",
   "execution_count": 8,
   "metadata": {},
   "outputs": [
    {
     "data": {
      "text/html": [
       "<div>\n",
       "<style scoped>\n",
       "    .dataframe tbody tr th:only-of-type {\n",
       "        vertical-align: middle;\n",
       "    }\n",
       "\n",
       "    .dataframe tbody tr th {\n",
       "        vertical-align: top;\n",
       "    }\n",
       "\n",
       "    .dataframe thead th {\n",
       "        text-align: right;\n",
       "    }\n",
       "</style>\n",
       "<table border=\"1\" class=\"dataframe\">\n",
       "  <thead>\n",
       "    <tr style=\"text-align: right;\">\n",
       "      <th></th>\n",
       "      <th>Bot利益</th>\n",
       "      <th>市場利益</th>\n",
       "      <th>取引履歴</th>\n",
       "    </tr>\n",
       "    <tr>\n",
       "      <th>トレード日時</th>\n",
       "      <th></th>\n",
       "      <th></th>\n",
       "      <th></th>\n",
       "    </tr>\n",
       "  </thead>\n",
       "  <tbody>\n",
       "    <tr>\n",
       "      <th>2020-03-18 03:19:25</th>\n",
       "      <td>-416.093</td>\n",
       "      <td>-68.742</td>\n",
       "      <td>-347.351</td>\n",
       "    </tr>\n",
       "    <tr>\n",
       "      <th>2020-03-20 02:10:49</th>\n",
       "      <td>415.000</td>\n",
       "      <td>1145.073</td>\n",
       "      <td>-730.073</td>\n",
       "    </tr>\n",
       "    <tr>\n",
       "      <th>2020-03-24 17:47:37</th>\n",
       "      <td>76.000</td>\n",
       "      <td>-129.619</td>\n",
       "      <td>205.619</td>\n",
       "    </tr>\n",
       "  </tbody>\n",
       "</table>\n",
       "</div>"
      ],
      "text/plain": [
       "                       Bot利益      市場利益     取引履歴\n",
       "トレード日時                                         \n",
       "2020-03-18 03:19:25 -416.093   -68.742 -347.351\n",
       "2020-03-20 02:10:49  415.000  1145.073 -730.073\n",
       "2020-03-24 17:47:37   76.000  -129.619  205.619"
      ]
     },
     "execution_count": 8,
     "metadata": {},
     "output_type": "execute_result"
    }
   ],
   "source": [
    "trades"
   ]
  },
  {
   "cell_type": "code",
   "execution_count": null,
   "metadata": {},
   "outputs": [],
   "source": []
  }
 ],
 "metadata": {
  "kernelspec": {
   "display_name": "Environment (conda_bakuchi)",
   "language": "python",
   "name": "conda_bakuchi"
  },
  "language_info": {
   "codemirror_mode": {
    "name": "ipython",
    "version": 3
   },
   "file_extension": ".py",
   "mimetype": "text/x-python",
   "name": "python",
   "nbconvert_exporter": "python",
   "pygments_lexer": "ipython3",
   "version": "3.7.6"
  }
 },
 "nbformat": 4,
 "nbformat_minor": 4
}
