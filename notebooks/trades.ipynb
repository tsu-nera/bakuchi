{
 "cells": [
  {
   "cell_type": "markdown",
   "metadata": {},
   "source": [
    "# 取引履歴"
   ]
  },
  {
   "cell_type": "code",
   "execution_count": 1,
   "metadata": {},
   "outputs": [],
   "source": [
    "import pandas as pd"
   ]
  },
  {
   "cell_type": "code",
   "execution_count": 2,
   "metadata": {},
   "outputs": [],
   "source": [
    "COINCHECK_PATH=\"../rawdata/trades/latest_trades_coincheck.csv\"\n",
    "LIQUID_PATH=\"../rawdata/trades/latest_trades_liquid.csv\""
   ]
  },
  {
   "cell_type": "code",
   "execution_count": 3,
   "metadata": {},
   "outputs": [],
   "source": [
    "def read_trades(path):\n",
    "    return pd.read_csv(path, index_col=\"id\", parse_dates=[\"datetime\"]).sort_values('datetime', ascending=False)\n",
    "\n",
    "cc_trades = read_trades(COINCHECK_PATH)\n",
    "lq_trades = read_trades(LIQUID_PATH)"
   ]
  },
  {
   "cell_type": "code",
   "execution_count": 4,
   "metadata": {},
   "outputs": [
    {
     "data": {
      "text/plain": [
       "(20, 20)"
      ]
     },
     "execution_count": 4,
     "metadata": {},
     "output_type": "execute_result"
    }
   ],
   "source": [
    "len(cc_trades), len(lq_trades)"
   ]
  },
  {
   "cell_type": "code",
   "execution_count": 5,
   "metadata": {},
   "outputs": [],
   "source": [
    "length = min(len(cc_trades), len(lq_trades))"
   ]
  },
  {
   "cell_type": "code",
   "execution_count": 6,
   "metadata": {},
   "outputs": [],
   "source": [
    "cc_trades = cc_trades.head(length)\n",
    "lq_trades = lq_trades.head(length)"
   ]
  },
  {
   "cell_type": "code",
   "execution_count": 7,
   "metadata": {
    "scrolled": true
   },
   "outputs": [
    {
     "data": {
      "text/html": [
       "<div>\n",
       "<style scoped>\n",
       "    .dataframe tbody tr th:only-of-type {\n",
       "        vertical-align: middle;\n",
       "    }\n",
       "\n",
       "    .dataframe tbody tr th {\n",
       "        vertical-align: top;\n",
       "    }\n",
       "\n",
       "    .dataframe thead th {\n",
       "        text-align: right;\n",
       "    }\n",
       "</style>\n",
       "<table border=\"1\" class=\"dataframe\">\n",
       "  <thead>\n",
       "    <tr style=\"text-align: right;\">\n",
       "      <th></th>\n",
       "      <th>order_id</th>\n",
       "      <th>datetime</th>\n",
       "      <th>pair</th>\n",
       "      <th>side</th>\n",
       "      <th>fee</th>\n",
       "      <th>amount</th>\n",
       "      <th>price</th>\n",
       "      <th>rate</th>\n",
       "    </tr>\n",
       "    <tr>\n",
       "      <th>id</th>\n",
       "      <th></th>\n",
       "      <th></th>\n",
       "      <th></th>\n",
       "      <th></th>\n",
       "      <th></th>\n",
       "      <th></th>\n",
       "      <th></th>\n",
       "      <th></th>\n",
       "    </tr>\n",
       "  </thead>\n",
       "  <tbody>\n",
       "    <tr>\n",
       "      <th>275779627</th>\n",
       "      <td>2278649704</td>\n",
       "      <td>2020-03-17 15:02:39</td>\n",
       "      <td>BTC/JPY</td>\n",
       "      <td>sell</td>\n",
       "      <td>0.0</td>\n",
       "      <td>-0.009</td>\n",
       "      <td>5150.331</td>\n",
       "      <td>572259.0</td>\n",
       "    </tr>\n",
       "    <tr>\n",
       "      <th>275779518</th>\n",
       "      <td>2278649510</td>\n",
       "      <td>2020-03-17 15:02:34</td>\n",
       "      <td>BTC/JPY</td>\n",
       "      <td>buy</td>\n",
       "      <td>0.0</td>\n",
       "      <td>0.009</td>\n",
       "      <td>5148.995</td>\n",
       "      <td>573000.0</td>\n",
       "    </tr>\n",
       "    <tr>\n",
       "      <th>275776673</th>\n",
       "      <td>2278627284</td>\n",
       "      <td>2020-03-17 14:48:57</td>\n",
       "      <td>BTC/JPY</td>\n",
       "      <td>buy</td>\n",
       "      <td>0.0</td>\n",
       "      <td>0.009</td>\n",
       "      <td>5123.995</td>\n",
       "      <td>569935.0</td>\n",
       "    </tr>\n",
       "    <tr>\n",
       "      <th>275776611</th>\n",
       "      <td>2278626991</td>\n",
       "      <td>2020-03-17 14:48:48</td>\n",
       "      <td>BTC/JPY</td>\n",
       "      <td>sell</td>\n",
       "      <td>0.0</td>\n",
       "      <td>-0.009</td>\n",
       "      <td>5121.045</td>\n",
       "      <td>569005.0</td>\n",
       "    </tr>\n",
       "    <tr>\n",
       "      <th>275769855</th>\n",
       "      <td>2278556901</td>\n",
       "      <td>2020-03-17 14:06:29</td>\n",
       "      <td>BTC/JPY</td>\n",
       "      <td>buy</td>\n",
       "      <td>0.0</td>\n",
       "      <td>0.009</td>\n",
       "      <td>5123.998</td>\n",
       "      <td>570585.0</td>\n",
       "    </tr>\n",
       "  </tbody>\n",
       "</table>\n",
       "</div>"
      ],
      "text/plain": [
       "             order_id            datetime     pair  side  fee  amount  \\\n",
       "id                                                                      \n",
       "275779627  2278649704 2020-03-17 15:02:39  BTC/JPY  sell  0.0  -0.009   \n",
       "275779518  2278649510 2020-03-17 15:02:34  BTC/JPY   buy  0.0   0.009   \n",
       "275776673  2278627284 2020-03-17 14:48:57  BTC/JPY   buy  0.0   0.009   \n",
       "275776611  2278626991 2020-03-17 14:48:48  BTC/JPY  sell  0.0  -0.009   \n",
       "275769855  2278556901 2020-03-17 14:06:29  BTC/JPY   buy  0.0   0.009   \n",
       "\n",
       "              price      rate  \n",
       "id                             \n",
       "275779627  5150.331  572259.0  \n",
       "275779518  5148.995  573000.0  \n",
       "275776673  5123.995  569935.0  \n",
       "275776611  5121.045  569005.0  \n",
       "275769855  5123.998  570585.0  "
      ]
     },
     "execution_count": 7,
     "metadata": {},
     "output_type": "execute_result"
    }
   ],
   "source": [
    "cc_trades.head(5)"
   ]
  },
  {
   "cell_type": "code",
   "execution_count": 8,
   "metadata": {},
   "outputs": [
    {
     "data": {
      "text/html": [
       "<div>\n",
       "<style scoped>\n",
       "    .dataframe tbody tr th:only-of-type {\n",
       "        vertical-align: middle;\n",
       "    }\n",
       "\n",
       "    .dataframe tbody tr th {\n",
       "        vertical-align: top;\n",
       "    }\n",
       "\n",
       "    .dataframe thead th {\n",
       "        text-align: right;\n",
       "    }\n",
       "</style>\n",
       "<table border=\"1\" class=\"dataframe\">\n",
       "  <thead>\n",
       "    <tr style=\"text-align: right;\">\n",
       "      <th></th>\n",
       "      <th>order_id</th>\n",
       "      <th>datetime</th>\n",
       "      <th>pair</th>\n",
       "      <th>side</th>\n",
       "      <th>fee</th>\n",
       "      <th>amount</th>\n",
       "      <th>price</th>\n",
       "      <th>rate</th>\n",
       "    </tr>\n",
       "    <tr>\n",
       "      <th>id</th>\n",
       "      <th></th>\n",
       "      <th></th>\n",
       "      <th></th>\n",
       "      <th></th>\n",
       "      <th></th>\n",
       "      <th></th>\n",
       "      <th></th>\n",
       "      <th></th>\n",
       "    </tr>\n",
       "  </thead>\n",
       "  <tbody>\n",
       "    <tr>\n",
       "      <th>280054210</th>\n",
       "      <td>2261743839</td>\n",
       "      <td>2020-03-17 15:02:39</td>\n",
       "      <td>BTC/JPY</td>\n",
       "      <td>buy</td>\n",
       "      <td>0</td>\n",
       "      <td>0.009</td>\n",
       "      <td>5158.287</td>\n",
       "      <td>573143.0</td>\n",
       "    </tr>\n",
       "    <tr>\n",
       "      <th>280054052</th>\n",
       "      <td>2261743229</td>\n",
       "      <td>2020-03-17 15:02:34</td>\n",
       "      <td>BTC/JPY</td>\n",
       "      <td>sell</td>\n",
       "      <td>0</td>\n",
       "      <td>0.009</td>\n",
       "      <td>5168.142</td>\n",
       "      <td>574238.0</td>\n",
       "    </tr>\n",
       "    <tr>\n",
       "      <th>280048731</th>\n",
       "      <td>2261695958</td>\n",
       "      <td>2020-03-17 14:48:58</td>\n",
       "      <td>BTC/JPY</td>\n",
       "      <td>sell</td>\n",
       "      <td>0</td>\n",
       "      <td>0.009</td>\n",
       "      <td>5124.618</td>\n",
       "      <td>569402.0</td>\n",
       "    </tr>\n",
       "    <tr>\n",
       "      <th>280048545</th>\n",
       "      <td>2261695147</td>\n",
       "      <td>2020-03-17 14:48:48</td>\n",
       "      <td>BTC/JPY</td>\n",
       "      <td>buy</td>\n",
       "      <td>0</td>\n",
       "      <td>0.009</td>\n",
       "      <td>5122.701</td>\n",
       "      <td>569189.0</td>\n",
       "    </tr>\n",
       "    <tr>\n",
       "      <th>280033022</th>\n",
       "      <td>2261554282</td>\n",
       "      <td>2020-03-17 14:06:29</td>\n",
       "      <td>BTC/JPY</td>\n",
       "      <td>sell</td>\n",
       "      <td>0</td>\n",
       "      <td>0.009</td>\n",
       "      <td>5128.875</td>\n",
       "      <td>569875.0</td>\n",
       "    </tr>\n",
       "  </tbody>\n",
       "</table>\n",
       "</div>"
      ],
      "text/plain": [
       "             order_id            datetime     pair  side  fee  amount  \\\n",
       "id                                                                      \n",
       "280054210  2261743839 2020-03-17 15:02:39  BTC/JPY   buy    0   0.009   \n",
       "280054052  2261743229 2020-03-17 15:02:34  BTC/JPY  sell    0   0.009   \n",
       "280048731  2261695958 2020-03-17 14:48:58  BTC/JPY  sell    0   0.009   \n",
       "280048545  2261695147 2020-03-17 14:48:48  BTC/JPY   buy    0   0.009   \n",
       "280033022  2261554282 2020-03-17 14:06:29  BTC/JPY  sell    0   0.009   \n",
       "\n",
       "              price      rate  \n",
       "id                             \n",
       "280054210  5158.287  573143.0  \n",
       "280054052  5168.142  574238.0  \n",
       "280048731  5124.618  569402.0  \n",
       "280048545  5122.701  569189.0  \n",
       "280033022  5128.875  569875.0  "
      ]
     },
     "execution_count": 8,
     "metadata": {},
     "output_type": "execute_result"
    }
   ],
   "source": [
    "lq_trades.head(5)"
   ]
  },
  {
   "cell_type": "code",
   "execution_count": 9,
   "metadata": {},
   "outputs": [],
   "source": [
    "def calc_profit(trades):\n",
    "    total_profit = 0\n",
    "    \n",
    "    buy = 0\n",
    "    sell = 0\n",
    "    for i, row in enumerate(trades.iterrows()):\n",
    "        data = row[1]\n",
    "        side = data.side\n",
    "        price = int(data.price)\n",
    "        \n",
    "        if side == \"buy\":\n",
    "            buy = price\n",
    "        else:\n",
    "            sell = price\n",
    "        \n",
    "        if i % 2 == 1:\n",
    "            profit = sell - buy\n",
    "            total_profit += profit\n",
    "            print(data.datetime, buy, sell, profit, total_profit)\n",
    "    return total_profit"
   ]
  },
  {
   "cell_type": "code",
   "execution_count": 10,
   "metadata": {
    "scrolled": false
   },
   "outputs": [
    {
     "name": "stdout",
     "output_type": "stream",
     "text": [
      "2020-03-17 15:02:34 5148 5150 2 2\n",
      "2020-03-17 14:48:48 5123 5121 -2 0\n",
      "2020-03-17 14:06:19 5123 5123 0 0\n",
      "2020-03-17 13:43:00 5094 5100 6 6\n",
      "2020-03-17 13:42:54 5087 5100 13 19\n",
      "2020-03-17 13:30:58 5087 5117 30 49\n",
      "2020-03-17 13:17:54 5098 5144 46 95\n",
      "2020-03-17 13:14:19 5153 5184 31 126\n",
      "2020-03-17 13:09:27 5177 5181 4 130\n",
      "2020-03-17 13:07:29 5167 5179 12 142\n",
      "\n",
      "\n",
      "2020-03-17 15:02:34 5158 5168 10 10\n",
      "2020-03-17 14:48:48 5122 5124 2 12\n",
      "2020-03-17 14:06:19 5124 5128 4 16\n",
      "2020-03-17 13:43:00 5095 5095 0 16\n",
      "2020-03-17 13:42:54 5096 5100 4 20\n",
      "2020-03-17 13:30:57 5111 5091 -20 0\n",
      "2020-03-17 13:17:54 5128 5089 -39 -39\n",
      "2020-03-17 13:14:18 5160 5136 -24 -63\n",
      "2020-03-17 13:09:27 5158 5164 6 -57\n",
      "2020-03-17 13:07:29 5158 5154 -4 -61\n"
     ]
    }
   ],
   "source": [
    "cc_profit = calc_profit(cc_trades)\n",
    "print()\n",
    "print()\n",
    "lq_profit = calc_profit(lq_trades)\n",
    "total_profit = cc_profit + lq_profit"
   ]
  },
  {
   "cell_type": "code",
   "execution_count": 11,
   "metadata": {},
   "outputs": [
    {
     "data": {
      "text/plain": [
       "(142, -61, 81)"
      ]
     },
     "execution_count": 11,
     "metadata": {},
     "output_type": "execute_result"
    }
   ],
   "source": [
    "cc_profit, lq_profit, total_profit"
   ]
  }
 ],
 "metadata": {
  "kernelspec": {
   "display_name": "Environment (conda_bakuchi)",
   "language": "python",
   "name": "conda_bakuchi"
  },
  "language_info": {
   "codemirror_mode": {
    "name": "ipython",
    "version": 3
   },
   "file_extension": ".py",
   "mimetype": "text/x-python",
   "name": "python",
   "nbconvert_exporter": "python",
   "pygments_lexer": "ipython3",
   "version": "3.7.6"
  }
 },
 "nbformat": 4,
 "nbformat_minor": 4
}
