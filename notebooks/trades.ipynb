{
 "cells": [
  {
   "cell_type": "markdown",
   "metadata": {},
   "source": [
    "# トレード集計"
   ]
  },
  {
   "cell_type": "code",
   "execution_count": 1,
   "metadata": {},
   "outputs": [
    {
     "name": "stdout",
     "output_type": "stream",
     "text": [
      "/home/tsu-nera/repo/bakuchi\n"
     ]
    }
   ],
   "source": [
    "import sys\n",
    "sys.path.append('../')\n",
    "%cd '..'"
   ]
  },
  {
   "cell_type": "code",
   "execution_count": 2,
   "metadata": {},
   "outputs": [],
   "source": [
    "import src.utils.trades_report as report\n",
    "\n",
    "%reload_ext autoreload\n",
    "%autoreload 2"
   ]
  },
  {
   "cell_type": "code",
   "execution_count": 3,
   "metadata": {},
   "outputs": [],
   "source": [
    "import pandas as pd\n",
    "\n",
    "import matplotlib.pyplot as plt\n",
    "import seaborn as sns\n",
    "sns.set_style('darkgrid')\n",
    "\n",
    "import japanize_matplotlib\n",
    "\n",
    "%matplotlib inline\n",
    "plt.rcParams['figure.figsize'] = (12, 4)"
   ]
  },
  {
   "cell_type": "code",
   "execution_count": 4,
   "metadata": {},
   "outputs": [],
   "source": [
    "results = report.read_results()"
   ]
  },
  {
   "cell_type": "code",
   "execution_count": 5,
   "metadata": {},
   "outputs": [],
   "source": [
    "# results"
   ]
  },
  {
   "cell_type": "code",
   "execution_count": 6,
   "metadata": {},
   "outputs": [],
   "source": [
    "trades = pd.DataFrame()"
   ]
  },
  {
   "cell_type": "code",
   "execution_count": 7,
   "metadata": {},
   "outputs": [],
   "source": [
    "trades[\"Bot利益\"] = results[\"bot_profit_jpy\"]\n",
    "trades[\"市場利益\"] = results[\"market_profit_jpy\"]\n",
    "trades[\"取引利益\"] = results[\"trade_profit_jpy\"]\n",
    "trades.index.name = \"トレード日時\""
   ]
  },
  {
   "cell_type": "code",
   "execution_count": 8,
   "metadata": {},
   "outputs": [
    {
     "data": {
      "text/html": [
       "<div>\n",
       "<style scoped>\n",
       "    .dataframe tbody tr th:only-of-type {\n",
       "        vertical-align: middle;\n",
       "    }\n",
       "\n",
       "    .dataframe tbody tr th {\n",
       "        vertical-align: top;\n",
       "    }\n",
       "\n",
       "    .dataframe thead th {\n",
       "        text-align: right;\n",
       "    }\n",
       "</style>\n",
       "<table border=\"1\" class=\"dataframe\">\n",
       "  <thead>\n",
       "    <tr style=\"text-align: right;\">\n",
       "      <th></th>\n",
       "      <th>Bot利益</th>\n",
       "      <th>市場利益</th>\n",
       "      <th>取引利益</th>\n",
       "    </tr>\n",
       "    <tr>\n",
       "      <th>トレード日時</th>\n",
       "      <th></th>\n",
       "      <th></th>\n",
       "      <th></th>\n",
       "    </tr>\n",
       "  </thead>\n",
       "  <tbody>\n",
       "    <tr>\n",
       "      <th>2020-03-18 03:19:25</th>\n",
       "      <td>-416.093</td>\n",
       "      <td>-68.742</td>\n",
       "      <td>-347.351</td>\n",
       "    </tr>\n",
       "    <tr>\n",
       "      <th>2020-03-20 02:10:49</th>\n",
       "      <td>415.000</td>\n",
       "      <td>1145.073</td>\n",
       "      <td>-730.073</td>\n",
       "    </tr>\n",
       "    <tr>\n",
       "      <th>2020-03-24 17:47:37</th>\n",
       "      <td>76.000</td>\n",
       "      <td>-129.619</td>\n",
       "      <td>205.619</td>\n",
       "    </tr>\n",
       "    <tr>\n",
       "      <th>2020-03-25 00:58:33</th>\n",
       "      <td>176.000</td>\n",
       "      <td>181.890</td>\n",
       "      <td>-5.890</td>\n",
       "    </tr>\n",
       "    <tr>\n",
       "      <th>2020-03-25 03:54:00</th>\n",
       "      <td>-154.000</td>\n",
       "      <td>-5.199</td>\n",
       "      <td>-148.801</td>\n",
       "    </tr>\n",
       "    <tr>\n",
       "      <th>2020-03-25 10:52:19</th>\n",
       "      <td>21.000</td>\n",
       "      <td>48.848</td>\n",
       "      <td>-27.848</td>\n",
       "    </tr>\n",
       "  </tbody>\n",
       "</table>\n",
       "</div>"
      ],
      "text/plain": [
       "                       Bot利益      市場利益     取引利益\n",
       "トレード日時                                         \n",
       "2020-03-18 03:19:25 -416.093   -68.742 -347.351\n",
       "2020-03-20 02:10:49  415.000  1145.073 -730.073\n",
       "2020-03-24 17:47:37   76.000  -129.619  205.619\n",
       "2020-03-25 00:58:33  176.000   181.890   -5.890\n",
       "2020-03-25 03:54:00 -154.000    -5.199 -148.801\n",
       "2020-03-25 10:52:19   21.000    48.848  -27.848"
      ]
     },
     "execution_count": 8,
     "metadata": {},
     "output_type": "execute_result"
    }
   ],
   "source": [
    "trades"
   ]
  },
  {
   "cell_type": "markdown",
   "metadata": {},
   "source": [
    "## 累計利益"
   ]
  },
  {
   "cell_type": "code",
   "execution_count": 9,
   "metadata": {},
   "outputs": [],
   "source": [
    "trades[\"date\"] = pd.to_datetime(trades.index).date"
   ]
  },
  {
   "cell_type": "code",
   "execution_count": 10,
   "metadata": {},
   "outputs": [],
   "source": [
    "trades_days = trades.groupby(\"date\").sum()\n",
    "trades_days_comsum = trades_days.cumsum()"
   ]
  },
  {
   "cell_type": "code",
   "execution_count": 11,
   "metadata": {},
   "outputs": [],
   "source": [
    "trades_days[\"Bot利益[累計]\"] = trades_days_comsum[\"Bot利益\"]\n",
    "trades_days[\"市場利益[累計]\"] = trades_days_comsum[\"市場利益\"]\n",
    "trades_days[\"取引利益[累計]\"] = trades_days_comsum[\"取引利益\"]\n",
    "trades_days.index.name = \"日付\""
   ]
  },
  {
   "cell_type": "code",
   "execution_count": 12,
   "metadata": {},
   "outputs": [
    {
     "data": {
      "text/html": [
       "<div>\n",
       "<style scoped>\n",
       "    .dataframe tbody tr th:only-of-type {\n",
       "        vertical-align: middle;\n",
       "    }\n",
       "\n",
       "    .dataframe tbody tr th {\n",
       "        vertical-align: top;\n",
       "    }\n",
       "\n",
       "    .dataframe thead th {\n",
       "        text-align: right;\n",
       "    }\n",
       "</style>\n",
       "<table border=\"1\" class=\"dataframe\">\n",
       "  <thead>\n",
       "    <tr style=\"text-align: right;\">\n",
       "      <th></th>\n",
       "      <th>Bot利益</th>\n",
       "      <th>市場利益</th>\n",
       "      <th>取引利益</th>\n",
       "      <th>Bot利益[累計]</th>\n",
       "      <th>市場利益[累計]</th>\n",
       "      <th>取引利益[累計]</th>\n",
       "    </tr>\n",
       "    <tr>\n",
       "      <th>日付</th>\n",
       "      <th></th>\n",
       "      <th></th>\n",
       "      <th></th>\n",
       "      <th></th>\n",
       "      <th></th>\n",
       "      <th></th>\n",
       "    </tr>\n",
       "  </thead>\n",
       "  <tbody>\n",
       "    <tr>\n",
       "      <th>2020-03-18</th>\n",
       "      <td>-416.093</td>\n",
       "      <td>-68.742</td>\n",
       "      <td>-347.351</td>\n",
       "      <td>-416.093</td>\n",
       "      <td>-68.742</td>\n",
       "      <td>-347.351</td>\n",
       "    </tr>\n",
       "    <tr>\n",
       "      <th>2020-03-20</th>\n",
       "      <td>415.000</td>\n",
       "      <td>1145.073</td>\n",
       "      <td>-730.073</td>\n",
       "      <td>-1.093</td>\n",
       "      <td>1076.331</td>\n",
       "      <td>-1077.424</td>\n",
       "    </tr>\n",
       "    <tr>\n",
       "      <th>2020-03-24</th>\n",
       "      <td>76.000</td>\n",
       "      <td>-129.619</td>\n",
       "      <td>205.619</td>\n",
       "      <td>74.907</td>\n",
       "      <td>946.712</td>\n",
       "      <td>-871.805</td>\n",
       "    </tr>\n",
       "    <tr>\n",
       "      <th>2020-03-25</th>\n",
       "      <td>43.000</td>\n",
       "      <td>225.539</td>\n",
       "      <td>-182.539</td>\n",
       "      <td>117.907</td>\n",
       "      <td>1172.251</td>\n",
       "      <td>-1054.344</td>\n",
       "    </tr>\n",
       "  </tbody>\n",
       "</table>\n",
       "</div>"
      ],
      "text/plain": [
       "              Bot利益      市場利益     取引利益  Bot利益[累計]  市場利益[累計]  取引利益[累計]\n",
       "日付                                                                   \n",
       "2020-03-18 -416.093   -68.742 -347.351   -416.093   -68.742  -347.351\n",
       "2020-03-20  415.000  1145.073 -730.073     -1.093  1076.331 -1077.424\n",
       "2020-03-24   76.000  -129.619  205.619     74.907   946.712  -871.805\n",
       "2020-03-25   43.000   225.539 -182.539    117.907  1172.251 -1054.344"
      ]
     },
     "execution_count": 12,
     "metadata": {},
     "output_type": "execute_result"
    }
   ],
   "source": [
    "trades_days"
   ]
  },
  {
   "cell_type": "code",
   "execution_count": 13,
   "metadata": {},
   "outputs": [],
   "source": [
    "trades_days[\"date\"] = trades_days.index"
   ]
  },
  {
   "cell_type": "code",
   "execution_count": 14,
   "metadata": {},
   "outputs": [
    {
     "data": {
      "text/plain": [
       "<matplotlib.axes._subplots.AxesSubplot at 0x7f8e2cdbbcd0>"
      ]
     },
     "execution_count": 14,
     "metadata": {},
     "output_type": "execute_result"
    },
    {
     "data": {
      "image/png": "[encoded data removed]",
      "text/plain": [
       "<Figure size 864x288 with 1 Axes>"
      ]
     },
     "metadata": {
      "needs_background": "light"
     },
     "output_type": "display_data"
    }
   ],
   "source": [
    "sns.lineplot(data=trades_days, x='date', y=\"取引利益\")"
   ]
  },
  {
   "cell_type": "code",
   "execution_count": 15,
   "metadata": {},
   "outputs": [
    {
     "data": {
      "text/plain": [
       "<matplotlib.axes._subplots.AxesSubplot at 0x7f8e2c52e950>"
      ]
     },
     "execution_count": 15,
     "metadata": {},
     "output_type": "execute_result"
    },
    {
     "data": {
      "image/png": "[encoded data removed]",
      "text/plain": [
       "<Figure size 864x288 with 1 Axes>"
      ]
     },
     "metadata": {
      "needs_background": "light"
     },
     "output_type": "display_data"
    }
   ],
   "source": [
    "sns.lineplot(data=trades_days, x='date', y=\"取引利益[累計]\")"
   ]
  },
  {
   "cell_type": "code",
   "execution_count": null,
   "metadata": {},
   "outputs": [],
   "source": []
  }
 ],
 "metadata": {
  "kernelspec": {
   "display_name": "Environment (conda_bakuchi)",
   "language": "python",
   "name": "conda_bakuchi"
  },
  "language_info": {
   "codemirror_mode": {
    "name": "ipython",
    "version": 3
   },
   "file_extension": ".py",
   "mimetype": "text/x-python",
   "name": "python",
   "nbconvert_exporter": "python",
   "pygments_lexer": "ipython3",
   "version": "3.7.6"
  }
 },
 "nbformat": 4,
 "nbformat_minor": 4
}
