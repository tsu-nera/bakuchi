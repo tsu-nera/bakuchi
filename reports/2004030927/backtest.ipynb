{
 "cells": [
  {
   "cell_type": "markdown",
   "metadata": {},
   "source": [
    "# バックテスト検証ノート"
   ]
  },
  {
   "cell_type": "code",
   "execution_count": 1,
   "metadata": {},
   "outputs": [],
   "source": [
    "import os\n",
    "import numpy as np\n",
    "import pandas as pd\n",
    "import datetime\n",
    "import matplotlib.pyplot as plt"
   ]
  },
  {
   "cell_type": "code",
   "execution_count": 2,
   "metadata": {},
   "outputs": [],
   "source": [
    "current_dir = %pwd\n",
    "timestamp = os.path.basename(current_dir)"
   ]
  },
  {
   "cell_type": "code",
   "execution_count": 3,
   "metadata": {},
   "outputs": [
    {
     "name": "stdout",
     "output_type": "stream",
     "text": [
      "/home/tsu-nera/repo/bakuchi\n"
     ]
    }
   ],
   "source": [
    "import sys\n",
    "sys.path.append('/home/tsu-nera/repo/bakuchi/')\n",
    "%cd '../../'"
   ]
  },
  {
   "cell_type": "code",
   "execution_count": 4,
   "metadata": {},
   "outputs": [
    {
     "name": "stderr",
     "output_type": "stream",
     "text": [
      "File doesn't exist \n"
     ]
    }
   ],
   "source": [
    "from src.utils.backtesting import Backtesting, run_backtesting\n",
    "\n",
    "%reload_ext autoreload\n",
    "%autoreload 2"
   ]
  },
  {
   "cell_type": "code",
   "execution_count": 5,
   "metadata": {},
   "outputs": [],
   "source": [
    "bt = Backtesting(timestamp)"
   ]
  },
  {
   "cell_type": "code",
   "execution_count": 6,
   "metadata": {},
   "outputs": [],
   "source": [
    "df_ex1 = bt.get_coincheck_df()\n",
    "df_ex2 = bt.get_liquid_df()"
   ]
  },
  {
   "cell_type": "code",
   "execution_count": 7,
   "metadata": {},
   "outputs": [
    {
     "data": {
      "text/plain": [
       "(72664, 72664)"
      ]
     },
     "execution_count": 7,
     "metadata": {},
     "output_type": "execute_result"
    }
   ],
   "source": [
    "len(df_ex1), len(df_ex2)"
   ]
  },
  {
   "cell_type": "markdown",
   "metadata": {},
   "source": [
    "## テスト実行"
   ]
  },
  {
   "cell_type": "code",
   "execution_count": 8,
   "metadata": {},
   "outputs": [],
   "source": [
    "bt.run(amount=0.009, profit_margin_threshold=2000, profit_margin_diff=800)"
   ]
  },
  {
   "cell_type": "markdown",
   "metadata": {},
   "source": [
    "##  取引履歴"
   ]
  },
  {
   "cell_type": "code",
   "execution_count": 9,
   "metadata": {},
   "outputs": [
    {
     "data": {
      "text/html": [
       "<div>\n",
       "<style scoped>\n",
       "    .dataframe tbody tr th:only-of-type {\n",
       "        vertical-align: middle;\n",
       "    }\n",
       "\n",
       "    .dataframe tbody tr th {\n",
       "        vertical-align: top;\n",
       "    }\n",
       "\n",
       "    .dataframe thead th {\n",
       "        text-align: right;\n",
       "    }\n",
       "</style>\n",
       "<table border=\"1\" class=\"dataframe\">\n",
       "  <thead>\n",
       "    <tr style=\"text-align: right;\">\n",
       "      <th></th>\n",
       "      <th>取引日時</th>\n",
       "      <th>購入取引所</th>\n",
       "      <th>売却取引所</th>\n",
       "      <th>通貨ペア</th>\n",
       "      <th>取引量</th>\n",
       "      <th>期待利益</th>\n",
       "    </tr>\n",
       "  </thead>\n",
       "  <tbody>\n",
       "    <tr>\n",
       "      <th>0</th>\n",
       "      <td>2020-04-03 09:45:17</td>\n",
       "      <td>liquid</td>\n",
       "      <td>coincheck</td>\n",
       "      <td>BTC/JPY</td>\n",
       "      <td>0.009</td>\n",
       "      <td>9</td>\n",
       "    </tr>\n",
       "    <tr>\n",
       "      <th>1</th>\n",
       "      <td>2020-04-03 09:46:05</td>\n",
       "      <td>coincheck</td>\n",
       "      <td>liquid</td>\n",
       "      <td>BTC/JPY</td>\n",
       "      <td>0.009</td>\n",
       "      <td>-1</td>\n",
       "    </tr>\n",
       "    <tr>\n",
       "      <th>2</th>\n",
       "      <td>2020-04-03 09:46:52</td>\n",
       "      <td>liquid</td>\n",
       "      <td>coincheck</td>\n",
       "      <td>BTC/JPY</td>\n",
       "      <td>0.009</td>\n",
       "      <td>13</td>\n",
       "    </tr>\n",
       "    <tr>\n",
       "      <th>3</th>\n",
       "      <td>2020-04-03 09:47:05</td>\n",
       "      <td>coincheck</td>\n",
       "      <td>liquid</td>\n",
       "      <td>BTC/JPY</td>\n",
       "      <td>0.009</td>\n",
       "      <td>-5</td>\n",
       "    </tr>\n",
       "    <tr>\n",
       "      <th>4</th>\n",
       "      <td>2020-04-03 09:47:15</td>\n",
       "      <td>liquid</td>\n",
       "      <td>coincheck</td>\n",
       "      <td>BTC/JPY</td>\n",
       "      <td>0.009</td>\n",
       "      <td>13</td>\n",
       "    </tr>\n",
       "    <tr>\n",
       "      <th>...</th>\n",
       "      <td>...</td>\n",
       "      <td>...</td>\n",
       "      <td>...</td>\n",
       "      <td>...</td>\n",
       "      <td>...</td>\n",
       "      <td>...</td>\n",
       "    </tr>\n",
       "    <tr>\n",
       "      <th>225</th>\n",
       "      <td>2020-04-04 06:02:27</td>\n",
       "      <td>liquid</td>\n",
       "      <td>coincheck</td>\n",
       "      <td>BTC/JPY</td>\n",
       "      <td>0.009</td>\n",
       "      <td>-2</td>\n",
       "    </tr>\n",
       "    <tr>\n",
       "      <th>226</th>\n",
       "      <td>2020-04-04 06:03:19</td>\n",
       "      <td>coincheck</td>\n",
       "      <td>liquid</td>\n",
       "      <td>BTC/JPY</td>\n",
       "      <td>0.009</td>\n",
       "      <td>12</td>\n",
       "    </tr>\n",
       "    <tr>\n",
       "      <th>227</th>\n",
       "      <td>2020-04-04 06:03:27</td>\n",
       "      <td>liquid</td>\n",
       "      <td>coincheck</td>\n",
       "      <td>BTC/JPY</td>\n",
       "      <td>0.009</td>\n",
       "      <td>-1</td>\n",
       "    </tr>\n",
       "    <tr>\n",
       "      <th>228</th>\n",
       "      <td>2020-04-04 06:36:15</td>\n",
       "      <td>coincheck</td>\n",
       "      <td>liquid</td>\n",
       "      <td>BTC/JPY</td>\n",
       "      <td>0.009</td>\n",
       "      <td>10</td>\n",
       "    </tr>\n",
       "    <tr>\n",
       "      <th>229</th>\n",
       "      <td>2020-04-04 06:36:17</td>\n",
       "      <td>liquid</td>\n",
       "      <td>coincheck</td>\n",
       "      <td>BTC/JPY</td>\n",
       "      <td>0.009</td>\n",
       "      <td>-2</td>\n",
       "    </tr>\n",
       "  </tbody>\n",
       "</table>\n",
       "<p>230 rows × 6 columns</p>\n",
       "</div>"
      ],
      "text/plain": [
       "                    取引日時      購入取引所      売却取引所     通貨ペア    取引量  期待利益\n",
       "0    2020-04-03 09:45:17     liquid  coincheck  BTC/JPY  0.009     9\n",
       "1    2020-04-03 09:46:05  coincheck     liquid  BTC/JPY  0.009    -1\n",
       "2    2020-04-03 09:46:52     liquid  coincheck  BTC/JPY  0.009    13\n",
       "3    2020-04-03 09:47:05  coincheck     liquid  BTC/JPY  0.009    -5\n",
       "4    2020-04-03 09:47:15     liquid  coincheck  BTC/JPY  0.009    13\n",
       "..                   ...        ...        ...      ...    ...   ...\n",
       "225  2020-04-04 06:02:27     liquid  coincheck  BTC/JPY  0.009    -2\n",
       "226  2020-04-04 06:03:19  coincheck     liquid  BTC/JPY  0.009    12\n",
       "227  2020-04-04 06:03:27     liquid  coincheck  BTC/JPY  0.009    -1\n",
       "228  2020-04-04 06:36:15  coincheck     liquid  BTC/JPY  0.009    10\n",
       "229  2020-04-04 06:36:17     liquid  coincheck  BTC/JPY  0.009    -2\n",
       "\n",
       "[230 rows x 6 columns]"
      ]
     },
     "execution_count": 9,
     "metadata": {},
     "output_type": "execute_result"
    }
   ],
   "source": [
    "arbitrage_histories = bt.get_arbitrage_histories()\n",
    "\n",
    "headers = [\"取引日時\", \"購入取引所\", \"売却取引所\", \"通貨ペア\", \"取引量\", \"期待利益\"]\n",
    "arbitrage_histories_df = pd.DataFrame(arbitrage_histories, columns=headers)\n",
    "arbitrage_histories_df"
   ]
  },
  {
   "cell_type": "code",
   "execution_count": 10,
   "metadata": {},
   "outputs": [
    {
     "data": {
      "text/html": [
       "<div>\n",
       "<style scoped>\n",
       "    .dataframe tbody tr th:only-of-type {\n",
       "        vertical-align: middle;\n",
       "    }\n",
       "\n",
       "    .dataframe tbody tr th {\n",
       "        vertical-align: top;\n",
       "    }\n",
       "\n",
       "    .dataframe thead th {\n",
       "        text-align: right;\n",
       "    }\n",
       "</style>\n",
       "<table border=\"1\" class=\"dataframe\">\n",
       "  <thead>\n",
       "    <tr style=\"text-align: right;\">\n",
       "      <th></th>\n",
       "      <th>取引日時</th>\n",
       "      <th>売買</th>\n",
       "      <th>取引所</th>\n",
       "      <th>レート</th>\n",
       "    </tr>\n",
       "  </thead>\n",
       "  <tbody>\n",
       "    <tr>\n",
       "      <th>0</th>\n",
       "      <td>2020-04-03 09:45:17</td>\n",
       "      <td>買い</td>\n",
       "      <td>liquid</td>\n",
       "      <td>731920.0</td>\n",
       "    </tr>\n",
       "    <tr>\n",
       "      <th>1</th>\n",
       "      <td>2020-04-03 09:45:17</td>\n",
       "      <td>売り</td>\n",
       "      <td>coincheck</td>\n",
       "      <td>732960.0</td>\n",
       "    </tr>\n",
       "    <tr>\n",
       "      <th>2</th>\n",
       "      <td>2020-04-03 09:46:05</td>\n",
       "      <td>買い</td>\n",
       "      <td>coincheck</td>\n",
       "      <td>732167.0</td>\n",
       "    </tr>\n",
       "    <tr>\n",
       "      <th>3</th>\n",
       "      <td>2020-04-03 09:46:05</td>\n",
       "      <td>売り</td>\n",
       "      <td>liquid</td>\n",
       "      <td>732049.0</td>\n",
       "    </tr>\n",
       "    <tr>\n",
       "      <th>4</th>\n",
       "      <td>2020-04-03 09:46:52</td>\n",
       "      <td>買い</td>\n",
       "      <td>liquid</td>\n",
       "      <td>730556.0</td>\n",
       "    </tr>\n",
       "    <tr>\n",
       "      <th>...</th>\n",
       "      <td>...</td>\n",
       "      <td>...</td>\n",
       "      <td>...</td>\n",
       "      <td>...</td>\n",
       "    </tr>\n",
       "    <tr>\n",
       "      <th>455</th>\n",
       "      <td>2020-04-04 06:03:27</td>\n",
       "      <td>売り</td>\n",
       "      <td>coincheck</td>\n",
       "      <td>730016.0</td>\n",
       "    </tr>\n",
       "    <tr>\n",
       "      <th>456</th>\n",
       "      <td>2020-04-04 06:36:15</td>\n",
       "      <td>買い</td>\n",
       "      <td>coincheck</td>\n",
       "      <td>731969.0</td>\n",
       "    </tr>\n",
       "    <tr>\n",
       "      <th>457</th>\n",
       "      <td>2020-04-04 06:36:15</td>\n",
       "      <td>売り</td>\n",
       "      <td>liquid</td>\n",
       "      <td>733096.0</td>\n",
       "    </tr>\n",
       "    <tr>\n",
       "      <th>458</th>\n",
       "      <td>2020-04-04 06:36:17</td>\n",
       "      <td>買い</td>\n",
       "      <td>liquid</td>\n",
       "      <td>733261.0</td>\n",
       "    </tr>\n",
       "    <tr>\n",
       "      <th>459</th>\n",
       "      <td>2020-04-04 06:36:17</td>\n",
       "      <td>売り</td>\n",
       "      <td>coincheck</td>\n",
       "      <td>733016.0</td>\n",
       "    </tr>\n",
       "  </tbody>\n",
       "</table>\n",
       "<p>460 rows × 4 columns</p>\n",
       "</div>"
      ],
      "text/plain": [
       "                    取引日時  売買        取引所       レート\n",
       "0    2020-04-03 09:45:17  買い     liquid  731920.0\n",
       "1    2020-04-03 09:45:17  売り  coincheck  732960.0\n",
       "2    2020-04-03 09:46:05  買い  coincheck  732167.0\n",
       "3    2020-04-03 09:46:05  売り     liquid  732049.0\n",
       "4    2020-04-03 09:46:52  買い     liquid  730556.0\n",
       "..                   ...  ..        ...       ...\n",
       "455  2020-04-04 06:03:27  売り  coincheck  730016.0\n",
       "456  2020-04-04 06:36:15  買い  coincheck  731969.0\n",
       "457  2020-04-04 06:36:15  売り     liquid  733096.0\n",
       "458  2020-04-04 06:36:17  買い     liquid  733261.0\n",
       "459  2020-04-04 06:36:17  売り  coincheck  733016.0\n",
       "\n",
       "[460 rows x 4 columns]"
      ]
     },
     "execution_count": 10,
     "metadata": {},
     "output_type": "execute_result"
    }
   ],
   "source": [
    "histories = bt.get_trade_histories()\n",
    "headers = [\"取引日時\",  \"売買\",  \"取引所\", \"レート\"]\n",
    "histories_df = pd.DataFrame(histories, columns=headers)\n",
    "histories_df"
   ]
  },
  {
   "cell_type": "markdown",
   "metadata": {},
   "source": [
    "## 結果まとめ"
   ]
  },
  {
   "cell_type": "code",
   "execution_count": 11,
   "metadata": {},
   "outputs": [
    {
     "name": "stdout",
     "output_type": "stream",
     "text": [
      "バックテスト情報\n",
      "+---------------------+---------------------+\n",
      "|          レコード数 |               72664 |\n",
      "+---------------------+---------------------+\n",
      "|            取引回数 |                 230 |\n",
      "+---------------------+---------------------+\n",
      "|            開始日時 | 2020-04-03 09:27:18 |\n",
      "+---------------------+---------------------+\n",
      "|            終了日時 | 2020-04-04 07:12:34 |\n",
      "+---------------------+---------------------+\n",
      "|         取引時間[H] |     0 days 21:45:16 |\n",
      "+---------------------+---------------------+\n",
      "|       取引単位[BTC] |               0.009 |\n",
      "+---------------------+---------------------+\n",
      "|   利確しきい値[JPY] |                1000 |\n",
      "+---------------------+---------------------+\n",
      "| 損切りマージン[JPY] |                 800 |\n",
      "+---------------------+---------------------+\n",
      "\n",
      "バックテスト結果\n",
      "+-------------+---------+\n",
      "| 開始[JPY]   |   10000 |\n",
      "+-------------+---------+\n",
      "| 終了[JPY]   |   11154 |\n",
      "+-------------+---------+\n",
      "| 利益[JPY]   |    1154 |\n",
      "+-------------+---------+\n",
      "| 開始[BTC]   |   0.022 |\n",
      "+-------------+---------+\n",
      "| 終了[BTC]   |   0.022 |\n",
      "+-------------+---------+\n",
      "| 利益[BTC]   |       0 |\n",
      "+-------------+---------+\n",
      "| 開始[TOTAL] |   26108 |\n",
      "+-------------+---------+\n",
      "| 終了[TOTAL] | 27262.1 |\n",
      "+-------------+---------+\n",
      "| 利益[TOTAL] | 1154.05 |\n",
      "+-------------+---------+\n"
     ]
    }
   ],
   "source": [
    "bt.display()"
   ]
  },
  {
   "cell_type": "markdown",
   "metadata": {},
   "source": [
    "## グラフ出力"
   ]
  },
  {
   "cell_type": "code",
   "execution_count": 12,
   "metadata": {
    "scrolled": true
   },
   "outputs": [
    {
     "data": {
      "text/plain": [
       "[<matplotlib.lines.Line2D at 0x7f08bdfa7890>]"
      ]
     },
     "execution_count": 12,
     "metadata": {},
     "output_type": "execute_result"
    },
    {
     "data": {
      "image/png": "[encoded data removed]",
      "text/plain": [
       "<Figure size 864x288 with 1 Axes>"
      ]
     },
     "metadata": {
      "needs_background": "light"
     },
     "output_type": "display_data"
    }
   ],
   "source": [
    "plt.figure(figsize=(12,4))\n",
    "plt.plot(df_ex1.index, df_ex1['bid'])"
   ]
  },
  {
   "cell_type": "code",
   "execution_count": 13,
   "metadata": {},
   "outputs": [
    {
     "data": {
      "text/plain": [
       "[<matplotlib.lines.Line2D at 0x7f08bcea9890>]"
      ]
     },
     "execution_count": 13,
     "metadata": {},
     "output_type": "execute_result"
    },
    {
     "data": {
      "image/png": "[encoded data removed]",
      "text/plain": [
       "<Figure size 864x288 with 1 Axes>"
      ]
     },
     "metadata": {
      "needs_background": "light"
     },
     "output_type": "display_data"
    }
   ],
   "source": [
    "plt.figure(figsize=(12,4))\n",
    "plt.plot(df_ex2.index, df_ex2['bid'])"
   ]
  },
  {
   "cell_type": "markdown",
   "metadata": {},
   "source": [
    "## 分析"
   ]
  },
  {
   "cell_type": "markdown",
   "metadata": {},
   "source": [
    "### 時間別の取引回数と利益"
   ]
  },
  {
   "cell_type": "code",
   "execution_count": null,
   "metadata": {},
   "outputs": [],
   "source": []
  },
  {
   "cell_type": "markdown",
   "metadata": {},
   "source": [
    "### 時間別の価格差の推移"
   ]
  },
  {
   "cell_type": "code",
   "execution_count": 14,
   "metadata": {},
   "outputs": [],
   "source": [
    "profit_margin_df = pd.DataFrame({\n",
    "    \"timestamp\": pd.to_datetime(df_ex1.index),\n",
    "    \"buy_coincheck_sell_liquid\": df_ex2.reset_index().bid - df_ex1.reset_index().ask,\n",
    "    \"buy_liquid_sell_coincheck\": df_ex1.reset_index().bid - df_ex2.reset_index().ask,\n",
    "    'coincheck_bid': df_ex1.reset_index().bid,\n",
    "     'liquid_ask': df_ex2.reset_index().ask,\n",
    "    'liquid_bid': df_ex2.reset_index().bid,\n",
    "    'coincheck_ask': df_ex1.reset_index().ask,\n",
    "})\n",
    "\n",
    "profit_margin_df = profit_margin_df.set_index(\"timestamp\")"
   ]
  },
  {
   "cell_type": "code",
   "execution_count": 15,
   "metadata": {},
   "outputs": [
    {
     "data": {
      "text/html": [
       "<div>\n",
       "<style scoped>\n",
       "    .dataframe tbody tr th:only-of-type {\n",
       "        vertical-align: middle;\n",
       "    }\n",
       "\n",
       "    .dataframe tbody tr th {\n",
       "        vertical-align: top;\n",
       "    }\n",
       "\n",
       "    .dataframe thead th {\n",
       "        text-align: right;\n",
       "    }\n",
       "</style>\n",
       "<table border=\"1\" class=\"dataframe\">\n",
       "  <thead>\n",
       "    <tr style=\"text-align: right;\">\n",
       "      <th></th>\n",
       "      <th>buy_coincheck_sell_liquid</th>\n",
       "      <th>buy_liquid_sell_coincheck</th>\n",
       "      <th>coincheck_bid</th>\n",
       "      <th>liquid_ask</th>\n",
       "      <th>liquid_bid</th>\n",
       "      <th>coincheck_ask</th>\n",
       "    </tr>\n",
       "    <tr>\n",
       "      <th>timestamp</th>\n",
       "      <th></th>\n",
       "      <th></th>\n",
       "      <th></th>\n",
       "      <th></th>\n",
       "      <th></th>\n",
       "      <th></th>\n",
       "    </tr>\n",
       "  </thead>\n",
       "  <tbody>\n",
       "    <tr>\n",
       "      <th>2020-04-03 09:20:00</th>\n",
       "      <td>-430</td>\n",
       "      <td>-132</td>\n",
       "      <td>732124</td>\n",
       "      <td>732255</td>\n",
       "      <td>732143</td>\n",
       "      <td>732573</td>\n",
       "    </tr>\n",
       "    <tr>\n",
       "      <th>2020-04-03 09:30:00</th>\n",
       "      <td>-698</td>\n",
       "      <td>157</td>\n",
       "      <td>732181</td>\n",
       "      <td>732024</td>\n",
       "      <td>731864</td>\n",
       "      <td>732562</td>\n",
       "    </tr>\n",
       "    <tr>\n",
       "      <th>2020-04-03 09:40:00</th>\n",
       "      <td>-740</td>\n",
       "      <td>277</td>\n",
       "      <td>731970</td>\n",
       "      <td>731693</td>\n",
       "      <td>731525</td>\n",
       "      <td>732265</td>\n",
       "    </tr>\n",
       "    <tr>\n",
       "      <th>2020-04-03 09:50:00</th>\n",
       "      <td>-626</td>\n",
       "      <td>137</td>\n",
       "      <td>730764</td>\n",
       "      <td>730627</td>\n",
       "      <td>730475</td>\n",
       "      <td>731101</td>\n",
       "    </tr>\n",
       "    <tr>\n",
       "      <th>2020-04-03 10:00:00</th>\n",
       "      <td>-394</td>\n",
       "      <td>-121</td>\n",
       "      <td>729781</td>\n",
       "      <td>729902</td>\n",
       "      <td>729758</td>\n",
       "      <td>730152</td>\n",
       "    </tr>\n",
       "    <tr>\n",
       "      <th>...</th>\n",
       "      <td>...</td>\n",
       "      <td>...</td>\n",
       "      <td>...</td>\n",
       "      <td>...</td>\n",
       "      <td>...</td>\n",
       "      <td>...</td>\n",
       "    </tr>\n",
       "    <tr>\n",
       "      <th>2020-04-04 06:30:00</th>\n",
       "      <td>-134</td>\n",
       "      <td>-352</td>\n",
       "      <td>731569</td>\n",
       "      <td>731922</td>\n",
       "      <td>731753</td>\n",
       "      <td>731887</td>\n",
       "    </tr>\n",
       "    <tr>\n",
       "      <th>2020-04-04 06:40:00</th>\n",
       "      <td>-104</td>\n",
       "      <td>-371</td>\n",
       "      <td>732575</td>\n",
       "      <td>732945</td>\n",
       "      <td>732777</td>\n",
       "      <td>732881</td>\n",
       "    </tr>\n",
       "    <tr>\n",
       "      <th>2020-04-04 06:50:00</th>\n",
       "      <td>-96</td>\n",
       "      <td>-562</td>\n",
       "      <td>730738</td>\n",
       "      <td>731301</td>\n",
       "      <td>731135</td>\n",
       "      <td>731231</td>\n",
       "    </tr>\n",
       "    <tr>\n",
       "      <th>2020-04-04 07:00:00</th>\n",
       "      <td>-247</td>\n",
       "      <td>-347</td>\n",
       "      <td>732490</td>\n",
       "      <td>732837</td>\n",
       "      <td>732693</td>\n",
       "      <td>732940</td>\n",
       "    </tr>\n",
       "    <tr>\n",
       "      <th>2020-04-04 07:10:00</th>\n",
       "      <td>-184</td>\n",
       "      <td>-333</td>\n",
       "      <td>732716</td>\n",
       "      <td>733049</td>\n",
       "      <td>732866</td>\n",
       "      <td>733050</td>\n",
       "    </tr>\n",
       "  </tbody>\n",
       "</table>\n",
       "<p>132 rows × 6 columns</p>\n",
       "</div>"
      ],
      "text/plain": [
       "                     buy_coincheck_sell_liquid  buy_liquid_sell_coincheck  \\\n",
       "timestamp                                                                   \n",
       "2020-04-03 09:20:00                       -430                       -132   \n",
       "2020-04-03 09:30:00                       -698                        157   \n",
       "2020-04-03 09:40:00                       -740                        277   \n",
       "2020-04-03 09:50:00                       -626                        137   \n",
       "2020-04-03 10:00:00                       -394                       -121   \n",
       "...                                        ...                        ...   \n",
       "2020-04-04 06:30:00                       -134                       -352   \n",
       "2020-04-04 06:40:00                       -104                       -371   \n",
       "2020-04-04 06:50:00                        -96                       -562   \n",
       "2020-04-04 07:00:00                       -247                       -347   \n",
       "2020-04-04 07:10:00                       -184                       -333   \n",
       "\n",
       "                     coincheck_bid  liquid_ask  liquid_bid  coincheck_ask  \n",
       "timestamp                                                                  \n",
       "2020-04-03 09:20:00         732124      732255      732143         732573  \n",
       "2020-04-03 09:30:00         732181      732024      731864         732562  \n",
       "2020-04-03 09:40:00         731970      731693      731525         732265  \n",
       "2020-04-03 09:50:00         730764      730627      730475         731101  \n",
       "2020-04-03 10:00:00         729781      729902      729758         730152  \n",
       "...                            ...         ...         ...            ...  \n",
       "2020-04-04 06:30:00         731569      731922      731753         731887  \n",
       "2020-04-04 06:40:00         732575      732945      732777         732881  \n",
       "2020-04-04 06:50:00         730738      731301      731135         731231  \n",
       "2020-04-04 07:00:00         732490      732837      732693         732940  \n",
       "2020-04-04 07:10:00         732716      733049      732866         733050  \n",
       "\n",
       "[132 rows x 6 columns]"
      ]
     },
     "execution_count": 15,
     "metadata": {},
     "output_type": "execute_result"
    }
   ],
   "source": [
    "pd.options.display.float_format = '{:.0f}'.format\n",
    "profit_margin_df.resample(rule='10Min').mean()"
   ]
  },
  {
   "cell_type": "code",
   "execution_count": null,
   "metadata": {},
   "outputs": [],
   "source": []
  }
 ],
 "metadata": {
  "kernelspec": {
   "display_name": "Environment (conda_bakuchi)",
   "language": "python",
   "name": "conda_bakuchi"
  },
  "language_info": {
   "codemirror_mode": {
    "name": "ipython",
    "version": 3
   },
   "file_extension": ".py",
   "mimetype": "text/x-python",
   "name": "python",
   "nbconvert_exporter": "python",
   "pygments_lexer": "ipython3",
   "version": "3.7.6"
  }
 },
 "nbformat": 4,
 "nbformat_minor": 4
}
