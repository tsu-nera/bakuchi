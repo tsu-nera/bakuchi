{
 "cells": [
  {
   "cell_type": "markdown",
   "metadata": {},
   "source": [
    "# 取引履歴のデータ分析"
   ]
  },
  {
   "cell_type": "code",
   "execution_count": 1,
   "metadata": {
    "execution": {
     "iopub.execute_input": "2021-04-13T08:39:49.493688Z",
     "iopub.status.busy": "2021-04-13T08:39:49.492833Z",
     "iopub.status.idle": "2021-04-13T08:39:50.128362Z",
     "shell.execute_reply": "2021-04-13T08:39:50.129030Z"
    }
   },
   "outputs": [],
   "source": [
    "import os\n",
    "import pandas as pd\n",
    "import matplotlib\n",
    "import matplotlib.pyplot as plt\n",
    "import matplotlib.dates as mdates"
   ]
  },
  {
   "cell_type": "code",
   "execution_count": 2,
   "metadata": {
    "execution": {
     "iopub.execute_input": "2021-04-13T08:39:50.132650Z",
     "iopub.status.busy": "2021-04-13T08:39:50.132022Z",
     "iopub.status.idle": "2021-04-13T08:39:50.135769Z",
     "shell.execute_reply": "2021-04-13T08:39:50.136377Z"
    }
   },
   "outputs": [],
   "source": [
    "matplotlib.use(\"Agg\")"
   ]
  },
  {
   "cell_type": "code",
   "execution_count": 3,
   "metadata": {
    "execution": {
     "iopub.execute_input": "2021-04-13T08:39:50.142182Z",
     "iopub.status.busy": "2021-04-13T08:39:50.138495Z",
     "iopub.status.idle": "2021-04-13T08:39:50.145452Z",
     "shell.execute_reply": "2021-04-13T08:39:50.146040Z"
    }
   },
   "outputs": [],
   "source": [
    "current_dir = %pwd\n",
    "timestamp = os.path.basename(current_dir)"
   ]
  },
  {
   "cell_type": "code",
   "execution_count": 4,
   "metadata": {
    "execution": {
     "iopub.execute_input": "2021-04-13T08:39:50.148778Z",
     "iopub.status.busy": "2021-04-13T08:39:50.148163Z",
     "iopub.status.idle": "2021-04-13T08:39:50.158311Z",
     "shell.execute_reply": "2021-04-13T08:39:50.157479Z"
    }
   },
   "outputs": [
    {
     "name": "stdout",
     "output_type": "stream",
     "text": [
      "/home/ubuntu/repo/bakuchi\n"
     ]
    }
   ],
   "source": [
    "import sys\n",
    "sys.path.append('/home/tsu-nera/repo/bakuchi/')\n",
    "%cd '../../'"
   ]
  },
  {
   "cell_type": "code",
   "execution_count": 5,
   "metadata": {
    "execution": {
     "iopub.execute_input": "2021-04-13T08:39:50.163882Z",
     "iopub.status.busy": "2021-04-13T08:39:50.162954Z",
     "iopub.status.idle": "2021-04-13T08:39:50.192624Z",
     "shell.execute_reply": "2021-04-13T08:39:50.191797Z"
    }
   },
   "outputs": [],
   "source": [
    "from src.utils.trade_analysis import TradeAnalysis\n",
    "\n",
    "%reload_ext autoreload\n",
    "%autoreload 2"
   ]
  },
  {
   "cell_type": "code",
   "execution_count": 6,
   "metadata": {
    "execution": {
     "iopub.execute_input": "2021-04-13T08:39:50.197215Z",
     "iopub.status.busy": "2021-04-13T08:39:50.196161Z",
     "iopub.status.idle": "2021-04-13T08:39:50.238670Z",
     "shell.execute_reply": "2021-04-13T08:39:50.237825Z"
    }
   },
   "outputs": [],
   "source": [
    "ta = TradeAnalysis(timestamp)"
   ]
  },
  {
   "cell_type": "code",
   "execution_count": 7,
   "metadata": {
    "execution": {
     "iopub.execute_input": "2021-04-13T08:39:50.243600Z",
     "iopub.status.busy": "2021-04-13T08:39:50.242430Z",
     "iopub.status.idle": "2021-04-13T08:39:50.254914Z",
     "shell.execute_reply": "2021-04-13T08:39:50.254122Z"
    }
   },
   "outputs": [],
   "source": [
    "ex1_trades = ta.get_ex1_trades_df()\n",
    "ex2_trades = ta.get_ex2_trades_df()"
   ]
  },
  {
   "cell_type": "code",
   "execution_count": 8,
   "metadata": {
    "execution": {
     "iopub.execute_input": "2021-04-13T08:39:50.259529Z",
     "iopub.status.busy": "2021-04-13T08:39:50.258829Z",
     "iopub.status.idle": "2021-04-13T08:39:50.275427Z",
     "shell.execute_reply": "2021-04-13T08:39:50.275925Z"
    }
   },
   "outputs": [
    {
     "data": {
      "text/plain": [
       "(55, 55)"
      ]
     },
     "execution_count": 1,
     "metadata": {},
     "output_type": "execute_result"
    }
   ],
   "source": [
    "len(ex1_trades), len(ex2_trades)"
   ]
  },
  {
   "cell_type": "markdown",
   "metadata": {},
   "source": [
    "## トレード結果"
   ]
  },
  {
   "cell_type": "code",
   "execution_count": 9,
   "metadata": {
    "execution": {
     "iopub.execute_input": "2021-04-13T08:39:50.280413Z",
     "iopub.status.busy": "2021-04-13T08:39:50.279235Z",
     "iopub.status.idle": "2021-04-13T08:39:50.294222Z",
     "shell.execute_reply": "2021-04-13T08:39:50.293363Z"
    }
   },
   "outputs": [
    {
     "name": "stdout",
     "output_type": "stream",
     "text": [
      "トレード情報\n",
      "-------------------  -------------------\n",
      "         レコード数                  933\n",
      "           取引回数                   55\n",
      "           開始日時  2021-04-13 16:50:24\n",
      "           終了日時  2021-04-13 17:38:31\n",
      "        取引時間[H]              0:48:07\n",
      "      取引単位[BTC]               0.0005\n",
      "  利確しきい値[JPY]                 3000\n",
      "損切りマージン[JPY]                 3000\n",
      "-------------------  -------------------\n",
      "\n",
      "\n",
      "トレード結果\n",
      "-----------  ------\n",
      "開始[JPY]     13821\n",
      "終了[JPY]     13637\n",
      "利益[JPY]      -184\n",
      "開始[BTC]    0.0024\n",
      "終了[BTC]    0.0024\n",
      "利益[BTC]         0\n",
      "開始[TOTAL]   29827\n",
      "終了[TOTAL]   30105\n",
      "利益[TOTAL]     278\n",
      "-----------  ------\n",
      "\n",
      "\n",
      "トレード利益\n",
      "  Bot利益    トレード利益    市場利益\n",
      "---------  --------------  ----------\n",
      "      278        -187.619     465.619\n"
     ]
    }
   ],
   "source": [
    "ta.display()"
   ]
  },
  {
   "cell_type": "markdown",
   "metadata": {},
   "source": [
    "## 取引履歴"
   ]
  },
  {
   "cell_type": "code",
   "execution_count": 10,
   "metadata": {
    "execution": {
     "iopub.execute_input": "2021-04-13T08:39:50.298804Z",
     "iopub.status.busy": "2021-04-13T08:39:50.297772Z",
     "iopub.status.idle": "2021-04-13T08:39:50.318118Z",
     "shell.execute_reply": "2021-04-13T08:39:50.317208Z"
    },
    "scrolled": false
   },
   "outputs": [],
   "source": [
    "profit_df = ta.create_profit_df()"
   ]
  },
  {
   "cell_type": "code",
   "execution_count": 11,
   "metadata": {
    "execution": {
     "iopub.execute_input": "2021-04-13T08:39:50.322684Z",
     "iopub.status.busy": "2021-04-13T08:39:50.321633Z",
     "iopub.status.idle": "2021-04-13T08:39:50.353001Z",
     "shell.execute_reply": "2021-04-13T08:39:50.352060Z"
    }
   },
   "outputs": [
    {
     "data": {
      "text/html": [
       "<div>\n",
       "<style scoped>\n",
       "    .dataframe tbody tr th:only-of-type {\n",
       "        vertical-align: middle;\n",
       "    }\n",
       "\n",
       "    .dataframe tbody tr th {\n",
       "        vertical-align: top;\n",
       "    }\n",
       "\n",
       "    .dataframe thead th {\n",
       "        text-align: right;\n",
       "    }\n",
       "</style>\n",
       "<table border=\"1\" class=\"dataframe\">\n",
       "  <thead>\n",
       "    <tr style=\"text-align: right;\">\n",
       "      <th></th>\n",
       "      <th>ex1_side</th>\n",
       "      <th>ex1_price</th>\n",
       "      <th>ex2_side</th>\n",
       "      <th>ex2_price</th>\n",
       "      <th>profit</th>\n",
       "    </tr>\n",
       "    <tr>\n",
       "      <th>timestamp</th>\n",
       "      <th></th>\n",
       "      <th></th>\n",
       "      <th></th>\n",
       "      <th></th>\n",
       "      <th></th>\n",
       "    </tr>\n",
       "  </thead>\n",
       "  <tbody>\n",
       "    <tr>\n",
       "      <th>2021-04-13 17:22:00</th>\n",
       "      <td>sell</td>\n",
       "      <td>3424.000</td>\n",
       "      <td>buy</td>\n",
       "      <td>3421.858</td>\n",
       "      <td>2.142</td>\n",
       "    </tr>\n",
       "    <tr>\n",
       "      <th>2021-04-13 17:22:04</th>\n",
       "      <td>sell</td>\n",
       "      <td>3424.001</td>\n",
       "      <td>buy</td>\n",
       "      <td>3423.951</td>\n",
       "      <td>0.050</td>\n",
       "    </tr>\n",
       "    <tr>\n",
       "      <th>2021-04-13 17:22:50</th>\n",
       "      <td>buy</td>\n",
       "      <td>3417.235</td>\n",
       "      <td>sell</td>\n",
       "      <td>3419.235</td>\n",
       "      <td>2.000</td>\n",
       "    </tr>\n",
       "    <tr>\n",
       "      <th>2021-04-13 17:23:09</th>\n",
       "      <td>sell</td>\n",
       "      <td>3422.340</td>\n",
       "      <td>buy</td>\n",
       "      <td>3421.607</td>\n",
       "      <td>0.733</td>\n",
       "    </tr>\n",
       "    <tr>\n",
       "      <th>2021-04-13 17:30:14</th>\n",
       "      <td>buy</td>\n",
       "      <td>3422.500</td>\n",
       "      <td>sell</td>\n",
       "      <td>3423.597</td>\n",
       "      <td>1.097</td>\n",
       "    </tr>\n",
       "    <tr>\n",
       "      <th>2021-04-13 17:30:18</th>\n",
       "      <td>buy</td>\n",
       "      <td>3422.500</td>\n",
       "      <td>sell</td>\n",
       "      <td>3423.879</td>\n",
       "      <td>1.379</td>\n",
       "    </tr>\n",
       "    <tr>\n",
       "      <th>2021-04-13 17:30:30</th>\n",
       "      <td>sell</td>\n",
       "      <td>3425.999</td>\n",
       "      <td>buy</td>\n",
       "      <td>3423.905</td>\n",
       "      <td>2.094</td>\n",
       "    </tr>\n",
       "    <tr>\n",
       "      <th>2021-04-13 17:30:34</th>\n",
       "      <td>sell</td>\n",
       "      <td>3425.999</td>\n",
       "      <td>buy</td>\n",
       "      <td>3424.950</td>\n",
       "      <td>1.049</td>\n",
       "    </tr>\n",
       "    <tr>\n",
       "      <th>2021-04-13 17:30:50</th>\n",
       "      <td>buy</td>\n",
       "      <td>3425.999</td>\n",
       "      <td>sell</td>\n",
       "      <td>3426.908</td>\n",
       "      <td>0.909</td>\n",
       "    </tr>\n",
       "    <tr>\n",
       "      <th>2021-04-13 17:30:56</th>\n",
       "      <td>buy</td>\n",
       "      <td>3426.310</td>\n",
       "      <td>sell</td>\n",
       "      <td>3428.889</td>\n",
       "      <td>2.579</td>\n",
       "    </tr>\n",
       "    <tr>\n",
       "      <th>2021-04-13 17:31:15</th>\n",
       "      <td>sell</td>\n",
       "      <td>3438.001</td>\n",
       "      <td>buy</td>\n",
       "      <td>3438.872</td>\n",
       "      <td>-0.871</td>\n",
       "    </tr>\n",
       "    <tr>\n",
       "      <th>2021-04-13 17:31:25</th>\n",
       "      <td>sell</td>\n",
       "      <td>3436.000</td>\n",
       "      <td>buy</td>\n",
       "      <td>3435.347</td>\n",
       "      <td>0.653</td>\n",
       "    </tr>\n",
       "    <tr>\n",
       "      <th>2021-04-13 17:31:38</th>\n",
       "      <td>buy</td>\n",
       "      <td>3434.909</td>\n",
       "      <td>sell</td>\n",
       "      <td>3436.206</td>\n",
       "      <td>1.297</td>\n",
       "    </tr>\n",
       "    <tr>\n",
       "      <th>2021-04-13 17:31:41</th>\n",
       "      <td>buy</td>\n",
       "      <td>3434.909</td>\n",
       "      <td>sell</td>\n",
       "      <td>3435.312</td>\n",
       "      <td>0.403</td>\n",
       "    </tr>\n",
       "    <tr>\n",
       "      <th>2021-04-13 17:32:25</th>\n",
       "      <td>sell</td>\n",
       "      <td>3435.000</td>\n",
       "      <td>buy</td>\n",
       "      <td>3431.983</td>\n",
       "      <td>3.017</td>\n",
       "    </tr>\n",
       "    <tr>\n",
       "      <th>2021-04-13 17:32:28</th>\n",
       "      <td>sell</td>\n",
       "      <td>3434.001</td>\n",
       "      <td>buy</td>\n",
       "      <td>3430.930</td>\n",
       "      <td>3.071</td>\n",
       "    </tr>\n",
       "    <tr>\n",
       "      <th>2021-04-13 17:32:59</th>\n",
       "      <td>buy</td>\n",
       "      <td>3429.819</td>\n",
       "      <td>sell</td>\n",
       "      <td>3427.481</td>\n",
       "      <td>-2.338</td>\n",
       "    </tr>\n",
       "    <tr>\n",
       "      <th>2021-04-13 17:33:03</th>\n",
       "      <td>sell</td>\n",
       "      <td>3428.505</td>\n",
       "      <td>buy</td>\n",
       "      <td>3428.539</td>\n",
       "      <td>-0.034</td>\n",
       "    </tr>\n",
       "    <tr>\n",
       "      <th>2021-04-13 17:35:02</th>\n",
       "      <td>buy</td>\n",
       "      <td>3427.502</td>\n",
       "      <td>sell</td>\n",
       "      <td>3426.990</td>\n",
       "      <td>-0.512</td>\n",
       "    </tr>\n",
       "    <tr>\n",
       "      <th>2021-04-13 17:35:09</th>\n",
       "      <td>buy</td>\n",
       "      <td>3427.787</td>\n",
       "      <td>sell</td>\n",
       "      <td>3428.048</td>\n",
       "      <td>0.261</td>\n",
       "    </tr>\n",
       "    <tr>\n",
       "      <th>2021-04-13 17:35:34</th>\n",
       "      <td>sell</td>\n",
       "      <td>3422.580</td>\n",
       "      <td>buy</td>\n",
       "      <td>3422.829</td>\n",
       "      <td>-0.249</td>\n",
       "    </tr>\n",
       "    <tr>\n",
       "      <th>2021-04-13 17:35:41</th>\n",
       "      <td>sell</td>\n",
       "      <td>3421.285</td>\n",
       "      <td>buy</td>\n",
       "      <td>3421.048</td>\n",
       "      <td>0.237</td>\n",
       "    </tr>\n",
       "    <tr>\n",
       "      <th>2021-04-13 17:36:09</th>\n",
       "      <td>buy</td>\n",
       "      <td>3422.800</td>\n",
       "      <td>sell</td>\n",
       "      <td>3425.339</td>\n",
       "      <td>2.539</td>\n",
       "    </tr>\n",
       "    <tr>\n",
       "      <th>2021-04-13 17:36:12</th>\n",
       "      <td>buy</td>\n",
       "      <td>3424.213</td>\n",
       "      <td>sell</td>\n",
       "      <td>3424.606</td>\n",
       "      <td>0.393</td>\n",
       "    </tr>\n",
       "    <tr>\n",
       "      <th>2021-04-13 17:36:25</th>\n",
       "      <td>sell</td>\n",
       "      <td>3425.592</td>\n",
       "      <td>buy</td>\n",
       "      <td>3426.362</td>\n",
       "      <td>-0.770</td>\n",
       "    </tr>\n",
       "    <tr>\n",
       "      <th>2021-04-13 17:36:35</th>\n",
       "      <td>buy</td>\n",
       "      <td>3427.785</td>\n",
       "      <td>sell</td>\n",
       "      <td>3427.924</td>\n",
       "      <td>0.139</td>\n",
       "    </tr>\n",
       "    <tr>\n",
       "      <th>2021-04-13 17:37:09</th>\n",
       "      <td>sell</td>\n",
       "      <td>3425.000</td>\n",
       "      <td>buy</td>\n",
       "      <td>3422.981</td>\n",
       "      <td>2.019</td>\n",
       "    </tr>\n",
       "    <tr>\n",
       "      <th>2021-04-13 17:37:12</th>\n",
       "      <td>sell</td>\n",
       "      <td>3425.000</td>\n",
       "      <td>buy</td>\n",
       "      <td>3423.124</td>\n",
       "      <td>1.876</td>\n",
       "    </tr>\n",
       "    <tr>\n",
       "      <th>2021-04-13 17:37:22</th>\n",
       "      <td>buy</td>\n",
       "      <td>3425.001</td>\n",
       "      <td>sell</td>\n",
       "      <td>3424.614</td>\n",
       "      <td>-0.387</td>\n",
       "    </tr>\n",
       "    <tr>\n",
       "      <th>2021-04-13 17:37:41</th>\n",
       "      <td>buy</td>\n",
       "      <td>3425.001</td>\n",
       "      <td>sell</td>\n",
       "      <td>3426.750</td>\n",
       "      <td>1.749</td>\n",
       "    </tr>\n",
       "  </tbody>\n",
       "</table>\n",
       "</div>"
      ],
      "text/plain": [
       "                    ex1_side  ex1_price ex2_side  ex2_price  profit\n",
       "timestamp                                                          \n",
       "2021-04-13 17:22:00     sell   3424.000      buy   3421.858   2.142\n",
       "2021-04-13 17:22:04     sell   3424.001      buy   3423.951   0.050\n",
       "2021-04-13 17:22:50      buy   3417.235     sell   3419.235   2.000\n",
       "2021-04-13 17:23:09     sell   3422.340      buy   3421.607   0.733\n",
       "2021-04-13 17:30:14      buy   3422.500     sell   3423.597   1.097\n",
       "2021-04-13 17:30:18      buy   3422.500     sell   3423.879   1.379\n",
       "2021-04-13 17:30:30     sell   3425.999      buy   3423.905   2.094\n",
       "2021-04-13 17:30:34     sell   3425.999      buy   3424.950   1.049\n",
       "2021-04-13 17:30:50      buy   3425.999     sell   3426.908   0.909\n",
       "2021-04-13 17:30:56      buy   3426.310     sell   3428.889   2.579\n",
       "2021-04-13 17:31:15     sell   3438.001      buy   3438.872  -0.871\n",
       "2021-04-13 17:31:25     sell   3436.000      buy   3435.347   0.653\n",
       "2021-04-13 17:31:38      buy   3434.909     sell   3436.206   1.297\n",
       "2021-04-13 17:31:41      buy   3434.909     sell   3435.312   0.403\n",
       "2021-04-13 17:32:25     sell   3435.000      buy   3431.983   3.017\n",
       "2021-04-13 17:32:28     sell   3434.001      buy   3430.930   3.071\n",
       "2021-04-13 17:32:59      buy   3429.819     sell   3427.481  -2.338\n",
       "2021-04-13 17:33:03     sell   3428.505      buy   3428.539  -0.034\n",
       "2021-04-13 17:35:02      buy   3427.502     sell   3426.990  -0.512\n",
       "2021-04-13 17:35:09      buy   3427.787     sell   3428.048   0.261\n",
       "2021-04-13 17:35:34     sell   3422.580      buy   3422.829  -0.249\n",
       "2021-04-13 17:35:41     sell   3421.285      buy   3421.048   0.237\n",
       "2021-04-13 17:36:09      buy   3422.800     sell   3425.339   2.539\n",
       "2021-04-13 17:36:12      buy   3424.213     sell   3424.606   0.393\n",
       "2021-04-13 17:36:25     sell   3425.592      buy   3426.362  -0.770\n",
       "2021-04-13 17:36:35      buy   3427.785     sell   3427.924   0.139\n",
       "2021-04-13 17:37:09     sell   3425.000      buy   3422.981   2.019\n",
       "2021-04-13 17:37:12     sell   3425.000      buy   3423.124   1.876\n",
       "2021-04-13 17:37:22      buy   3425.001     sell   3424.614  -0.387\n",
       "2021-04-13 17:37:41      buy   3425.001     sell   3426.750   1.749"
      ]
     },
     "execution_count": 1,
     "metadata": {},
     "output_type": "execute_result"
    }
   ],
   "source": [
    "profit_df.tail(30)"
   ]
  },
  {
   "cell_type": "code",
   "execution_count": 12,
   "metadata": {
    "execution": {
     "iopub.execute_input": "2021-04-13T08:39:50.357378Z",
     "iopub.status.busy": "2021-04-13T08:39:50.356439Z",
     "iopub.status.idle": "2021-04-13T08:39:50.371340Z",
     "shell.execute_reply": "2021-04-13T08:39:50.370253Z"
    }
   },
   "outputs": [
    {
     "data": {
      "text/plain": [
       "40.144"
      ]
     },
     "execution_count": 1,
     "metadata": {},
     "output_type": "execute_result"
    }
   ],
   "source": [
    "round(sum(profit_df.profit), 3)"
   ]
  },
  {
   "cell_type": "markdown",
   "metadata": {},
   "source": [
    "## トレードグラフ"
   ]
  },
  {
   "cell_type": "code",
   "execution_count": 13,
   "metadata": {
    "execution": {
     "iopub.execute_input": "2021-04-13T08:39:50.377150Z",
     "iopub.status.busy": "2021-04-13T08:39:50.375060Z",
     "iopub.status.idle": "2021-04-13T08:39:50.387560Z",
     "shell.execute_reply": "2021-04-13T08:39:50.387059Z"
    }
   },
   "outputs": [],
   "source": [
    "ex1_ticks = ta.get_ex1_ticks_df()\n",
    "ex2_ticks = ta.get_ex2_ticks_df()"
   ]
  },
  {
   "cell_type": "code",
   "execution_count": 14,
   "metadata": {
    "execution": {
     "iopub.execute_input": "2021-04-13T08:39:50.391781Z",
     "iopub.status.busy": "2021-04-13T08:39:50.390677Z",
     "iopub.status.idle": "2021-04-13T08:39:50.403859Z",
     "shell.execute_reply": "2021-04-13T08:39:50.404333Z"
    }
   },
   "outputs": [
    {
     "data": {
      "text/plain": [
       "(933, 933)"
      ]
     },
     "execution_count": 1,
     "metadata": {},
     "output_type": "execute_result"
    }
   ],
   "source": [
    "len(ex1_ticks), len(ex2_ticks)"
   ]
  },
  {
   "cell_type": "code",
   "execution_count": 15,
   "metadata": {
    "execution": {
     "iopub.execute_input": "2021-04-13T08:39:50.409695Z",
     "iopub.status.busy": "2021-04-13T08:39:50.408522Z",
     "iopub.status.idle": "2021-04-13T08:39:50.740775Z",
     "shell.execute_reply": "2021-04-13T08:39:50.741518Z"
    }
   },
   "outputs": [
    {
     "data": {
      "text/plain": [
       "Text(0.5, 1.0, 'exchange2 bid/exchange1 ask')"
      ]
     },
     "execution_count": 1,
     "metadata": {},
     "output_type": "execute_result"
    }
   ],
   "source": [
    "ex1_bids = ex1_ticks['bid']\n",
    "ex1_asks = ex1_ticks['ask']\n",
    "ex2_bids = ex2_ticks['bid']\n",
    "ex2_asks = ex2_ticks['ask']\n",
    "\n",
    "fig1, ax1 = ta.get_fig(ex1_bids, ex2_asks)\n",
    "fig2, ax2 = ta.get_fig(ex2_bids, ex1_asks)\n",
    "\n",
    "ax1.set_title('exchange1 bid/exchange2 ask')\n",
    "ax2.set_title('exchange2 bid/exchange1 ask')"
   ]
  },
  {
   "cell_type": "code",
   "execution_count": 16,
   "metadata": {
    "execution": {
     "iopub.execute_input": "2021-04-13T08:39:50.746933Z",
     "iopub.status.busy": "2021-04-13T08:39:50.746192Z",
     "iopub.status.idle": "2021-04-13T08:39:50.973379Z",
     "shell.execute_reply": "2021-04-13T08:39:50.972686Z"
    }
   },
   "outputs": [
    {
     "data": {
      "image/png": "[encoded data removed]",
      "text/plain": [
       "<Figure size 864x360 with 1 Axes>"
      ]
     },
     "execution_count": 1,
     "metadata": {},
     "output_type": "execute_result"
    }
   ],
   "source": [
    "fig1"
   ]
  },
  {
   "cell_type": "code",
   "execution_count": 17,
   "metadata": {
    "execution": {
     "iopub.execute_input": "2021-04-13T08:39:50.978636Z",
     "iopub.status.busy": "2021-04-13T08:39:50.977468Z",
     "iopub.status.idle": "2021-04-13T08:39:51.193317Z",
     "shell.execute_reply": "2021-04-13T08:39:51.192388Z"
    }
   },
   "outputs": [
    {
     "data": {
      "image/png": "[encoded data removed]",
      "text/plain": [
       "<Figure size 864x360 with 1 Axes>"
      ]
     },
     "execution_count": 1,
     "metadata": {},
     "output_type": "execute_result"
    }
   ],
   "source": [
    "fig2"
   ]
  },
  {
   "cell_type": "code",
   "execution_count": null,
   "metadata": {},
   "outputs": [],
   "source": []
  }
 ],
 "metadata": {
  "kernelspec": {
   "display_name": "Python 3",
   "language": "python",
   "name": "python3"
  },
  "language_info": {
   "codemirror_mode": {
    "name": "ipython",
    "version": 3
   },
   "file_extension": ".py",
   "mimetype": "text/x-python",
   "name": "python",
   "nbconvert_exporter": "python",
   "pygments_lexer": "ipython3",
   "version": "3.7.10"
  }
 },
 "nbformat": 4,
 "nbformat_minor": 4
}
