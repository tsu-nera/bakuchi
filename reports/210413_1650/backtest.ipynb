{
 "cells": [
  {
   "cell_type": "markdown",
   "metadata": {},
   "source": [
    "# バックテスト検証ノート"
   ]
  },
  {
   "cell_type": "code",
   "execution_count": 1,
   "metadata": {
    "execution": {
     "iopub.execute_input": "2021-04-13T08:39:43.269112Z",
     "iopub.status.busy": "2021-04-13T08:39:43.267912Z",
     "iopub.status.idle": "2021-04-13T08:39:43.994900Z",
     "shell.execute_reply": "2021-04-13T08:39:43.995935Z"
    }
   },
   "outputs": [],
   "source": [
    "import os\n",
    "import numpy as np\n",
    "import pandas as pd\n",
    "import datetime\n",
    "import matplotlib.pyplot as plt"
   ]
  },
  {
   "cell_type": "code",
   "execution_count": 2,
   "metadata": {
    "execution": {
     "iopub.execute_input": "2021-04-13T08:39:44.002341Z",
     "iopub.status.busy": "2021-04-13T08:39:44.001704Z",
     "iopub.status.idle": "2021-04-13T08:39:44.004055Z",
     "shell.execute_reply": "2021-04-13T08:39:44.004512Z"
    }
   },
   "outputs": [],
   "source": [
    "current_dir = %pwd\n",
    "timestamp = os.path.basename(current_dir)"
   ]
  },
  {
   "cell_type": "code",
   "execution_count": 3,
   "metadata": {
    "execution": {
     "iopub.execute_input": "2021-04-13T08:39:44.010377Z",
     "iopub.status.busy": "2021-04-13T08:39:44.009714Z",
     "iopub.status.idle": "2021-04-13T08:39:44.015679Z",
     "shell.execute_reply": "2021-04-13T08:39:44.015059Z"
    }
   },
   "outputs": [
    {
     "name": "stdout",
     "output_type": "stream",
     "text": [
      "/home/ubuntu/repo/bakuchi\n"
     ]
    }
   ],
   "source": [
    "import sys\n",
    "sys.path.append('/home/tsu-nera/repo/bakuchi/')\n",
    "%cd '../../'"
   ]
  },
  {
   "cell_type": "code",
   "execution_count": 4,
   "metadata": {
    "execution": {
     "iopub.execute_input": "2021-04-13T08:39:44.021373Z",
     "iopub.status.busy": "2021-04-13T08:39:44.020695Z",
     "iopub.status.idle": "2021-04-13T08:39:44.064680Z",
     "shell.execute_reply": "2021-04-13T08:39:44.064097Z"
    }
   },
   "outputs": [],
   "source": [
    "from src.utils.backtesting import Backtesting, run_backtesting\n",
    "\n",
    "%reload_ext autoreload\n",
    "%autoreload 2"
   ]
  },
  {
   "cell_type": "code",
   "execution_count": 5,
   "metadata": {
    "execution": {
     "iopub.execute_input": "2021-04-13T08:39:44.069561Z",
     "iopub.status.busy": "2021-04-13T08:39:44.068803Z",
     "iopub.status.idle": "2021-04-13T08:39:44.095338Z",
     "shell.execute_reply": "2021-04-13T08:39:44.095820Z"
    }
   },
   "outputs": [],
   "source": [
    "bt = Backtesting(timestamp)"
   ]
  },
  {
   "cell_type": "code",
   "execution_count": 6,
   "metadata": {
    "execution": {
     "iopub.execute_input": "2021-04-13T08:39:44.100160Z",
     "iopub.status.busy": "2021-04-13T08:39:44.099533Z",
     "iopub.status.idle": "2021-04-13T08:39:44.113061Z",
     "shell.execute_reply": "2021-04-13T08:39:44.112466Z"
    }
   },
   "outputs": [],
   "source": [
    "df_ex1 = bt.get_coincheck_df()\n",
    "df_ex2 = bt.get_liquid_df()"
   ]
  },
  {
   "cell_type": "code",
   "execution_count": 7,
   "metadata": {
    "execution": {
     "iopub.execute_input": "2021-04-13T08:39:44.117589Z",
     "iopub.status.busy": "2021-04-13T08:39:44.116957Z",
     "iopub.status.idle": "2021-04-13T08:39:44.132834Z",
     "shell.execute_reply": "2021-04-13T08:39:44.133335Z"
    }
   },
   "outputs": [
    {
     "data": {
      "text/plain": [
       "(933, 933)"
      ]
     },
     "execution_count": 1,
     "metadata": {},
     "output_type": "execute_result"
    }
   ],
   "source": [
    "len(df_ex1), len(df_ex2)"
   ]
  },
  {
   "cell_type": "markdown",
   "metadata": {},
   "source": [
    "## テスト実行"
   ]
  },
  {
   "cell_type": "code",
   "execution_count": 8,
   "metadata": {
    "execution": {
     "iopub.execute_input": "2021-04-13T08:39:44.137372Z",
     "iopub.status.busy": "2021-04-13T08:39:44.136676Z",
     "iopub.status.idle": "2021-04-13T08:39:44.182345Z",
     "shell.execute_reply": "2021-04-13T08:39:44.182866Z"
    }
   },
   "outputs": [],
   "source": [
    "bt.run()"
   ]
  },
  {
   "cell_type": "markdown",
   "metadata": {},
   "source": [
    "##  取引履歴"
   ]
  },
  {
   "cell_type": "code",
   "execution_count": 9,
   "metadata": {
    "execution": {
     "iopub.execute_input": "2021-04-13T08:39:44.188075Z",
     "iopub.status.busy": "2021-04-13T08:39:44.187224Z",
     "iopub.status.idle": "2021-04-13T08:39:44.221232Z",
     "shell.execute_reply": "2021-04-13T08:39:44.220306Z"
    }
   },
   "outputs": [
    {
     "data": {
      "text/html": [
       "<div>\n",
       "<style scoped>\n",
       "    .dataframe tbody tr th:only-of-type {\n",
       "        vertical-align: middle;\n",
       "    }\n",
       "\n",
       "    .dataframe tbody tr th {\n",
       "        vertical-align: top;\n",
       "    }\n",
       "\n",
       "    .dataframe thead th {\n",
       "        text-align: right;\n",
       "    }\n",
       "</style>\n",
       "<table border=\"1\" class=\"dataframe\">\n",
       "  <thead>\n",
       "    <tr style=\"text-align: right;\">\n",
       "      <th></th>\n",
       "      <th>取引日時</th>\n",
       "      <th>購入取引所</th>\n",
       "      <th>売却取引所</th>\n",
       "      <th>通貨ペア</th>\n",
       "      <th>取引量</th>\n",
       "      <th>期待利益</th>\n",
       "    </tr>\n",
       "  </thead>\n",
       "  <tbody>\n",
       "    <tr>\n",
       "      <th>0</th>\n",
       "      <td>2021-04-13 16:50:27</td>\n",
       "      <td>bitbank</td>\n",
       "      <td>liquid</td>\n",
       "      <td>BTC/JPY</td>\n",
       "      <td>0.006</td>\n",
       "      <td>23</td>\n",
       "    </tr>\n",
       "    <tr>\n",
       "      <th>1</th>\n",
       "      <td>2021-04-13 16:54:20</td>\n",
       "      <td>liquid</td>\n",
       "      <td>bitbank</td>\n",
       "      <td>BTC/JPY</td>\n",
       "      <td>0.006</td>\n",
       "      <td>-16</td>\n",
       "    </tr>\n",
       "    <tr>\n",
       "      <th>2</th>\n",
       "      <td>2021-04-13 16:54:23</td>\n",
       "      <td>bitbank</td>\n",
       "      <td>liquid</td>\n",
       "      <td>BTC/JPY</td>\n",
       "      <td>0.006</td>\n",
       "      <td>13</td>\n",
       "    </tr>\n",
       "    <tr>\n",
       "      <th>3</th>\n",
       "      <td>2021-04-13 16:56:35</td>\n",
       "      <td>liquid</td>\n",
       "      <td>bitbank</td>\n",
       "      <td>BTC/JPY</td>\n",
       "      <td>0.006</td>\n",
       "      <td>-15</td>\n",
       "    </tr>\n",
       "    <tr>\n",
       "      <th>4</th>\n",
       "      <td>2021-04-13 16:57:58</td>\n",
       "      <td>bitbank</td>\n",
       "      <td>liquid</td>\n",
       "      <td>BTC/JPY</td>\n",
       "      <td>0.006</td>\n",
       "      <td>28</td>\n",
       "    </tr>\n",
       "    <tr>\n",
       "      <th>...</th>\n",
       "      <td>...</td>\n",
       "      <td>...</td>\n",
       "      <td>...</td>\n",
       "      <td>...</td>\n",
       "      <td>...</td>\n",
       "      <td>...</td>\n",
       "    </tr>\n",
       "    <tr>\n",
       "      <th>112</th>\n",
       "      <td>2021-04-13 17:36:38</td>\n",
       "      <td>liquid</td>\n",
       "      <td>bitbank</td>\n",
       "      <td>BTC/JPY</td>\n",
       "      <td>0.006</td>\n",
       "      <td>8</td>\n",
       "    </tr>\n",
       "    <tr>\n",
       "      <th>113</th>\n",
       "      <td>2021-04-13 17:36:53</td>\n",
       "      <td>bitbank</td>\n",
       "      <td>liquid</td>\n",
       "      <td>BTC/JPY</td>\n",
       "      <td>0.006</td>\n",
       "      <td>0</td>\n",
       "    </tr>\n",
       "    <tr>\n",
       "      <th>114</th>\n",
       "      <td>2021-04-13 17:37:06</td>\n",
       "      <td>liquid</td>\n",
       "      <td>bitbank</td>\n",
       "      <td>BTC/JPY</td>\n",
       "      <td>0.006</td>\n",
       "      <td>14</td>\n",
       "    </tr>\n",
       "    <tr>\n",
       "      <th>115</th>\n",
       "      <td>2021-04-13 17:37:22</td>\n",
       "      <td>bitbank</td>\n",
       "      <td>liquid</td>\n",
       "      <td>BTC/JPY</td>\n",
       "      <td>0.006</td>\n",
       "      <td>9</td>\n",
       "    </tr>\n",
       "    <tr>\n",
       "      <th>116</th>\n",
       "      <td>2021-04-13 17:37:41</td>\n",
       "      <td>bitbank</td>\n",
       "      <td>liquid</td>\n",
       "      <td>BTC/JPY</td>\n",
       "      <td>0.006</td>\n",
       "      <td>14</td>\n",
       "    </tr>\n",
       "  </tbody>\n",
       "</table>\n",
       "<p>117 rows × 6 columns</p>\n",
       "</div>"
      ],
      "text/plain": [
       "                    取引日時    購入取引所    売却取引所     通貨ペア    取引量  期待利益\n",
       "0    2021-04-13 16:50:27  bitbank   liquid  BTC/JPY  0.006    23\n",
       "1    2021-04-13 16:54:20   liquid  bitbank  BTC/JPY  0.006   -16\n",
       "2    2021-04-13 16:54:23  bitbank   liquid  BTC/JPY  0.006    13\n",
       "3    2021-04-13 16:56:35   liquid  bitbank  BTC/JPY  0.006   -15\n",
       "4    2021-04-13 16:57:58  bitbank   liquid  BTC/JPY  0.006    28\n",
       "..                   ...      ...      ...      ...    ...   ...\n",
       "112  2021-04-13 17:36:38   liquid  bitbank  BTC/JPY  0.006     8\n",
       "113  2021-04-13 17:36:53  bitbank   liquid  BTC/JPY  0.006     0\n",
       "114  2021-04-13 17:37:06   liquid  bitbank  BTC/JPY  0.006    14\n",
       "115  2021-04-13 17:37:22  bitbank   liquid  BTC/JPY  0.006     9\n",
       "116  2021-04-13 17:37:41  bitbank   liquid  BTC/JPY  0.006    14\n",
       "\n",
       "[117 rows x 6 columns]"
      ]
     },
     "execution_count": 1,
     "metadata": {},
     "output_type": "execute_result"
    }
   ],
   "source": [
    "arbitrage_histories = bt.get_arbitrage_histories()\n",
    "\n",
    "headers = [\"取引日時\", \"購入取引所\", \"売却取引所\", \"通貨ペア\", \"取引量\", \"期待利益\"]\n",
    "arbitrage_histories_df = pd.DataFrame(arbitrage_histories, columns=headers)\n",
    "arbitrage_histories_df"
   ]
  },
  {
   "cell_type": "code",
   "execution_count": 10,
   "metadata": {
    "execution": {
     "iopub.execute_input": "2021-04-13T08:39:44.226037Z",
     "iopub.status.busy": "2021-04-13T08:39:44.225360Z",
     "iopub.status.idle": "2021-04-13T08:39:44.251190Z",
     "shell.execute_reply": "2021-04-13T08:39:44.251723Z"
    }
   },
   "outputs": [
    {
     "data": {
      "text/html": [
       "<div>\n",
       "<style scoped>\n",
       "    .dataframe tbody tr th:only-of-type {\n",
       "        vertical-align: middle;\n",
       "    }\n",
       "\n",
       "    .dataframe tbody tr th {\n",
       "        vertical-align: top;\n",
       "    }\n",
       "\n",
       "    .dataframe thead th {\n",
       "        text-align: right;\n",
       "    }\n",
       "</style>\n",
       "<table border=\"1\" class=\"dataframe\">\n",
       "  <thead>\n",
       "    <tr style=\"text-align: right;\">\n",
       "      <th></th>\n",
       "      <th>取引日時</th>\n",
       "      <th>売買</th>\n",
       "      <th>取引所</th>\n",
       "      <th>レート</th>\n",
       "    </tr>\n",
       "  </thead>\n",
       "  <tbody>\n",
       "    <tr>\n",
       "      <th>0</th>\n",
       "      <td>2021-04-13 16:50:27</td>\n",
       "      <td>bitbank</td>\n",
       "      <td>買い</td>\n",
       "      <td>6667599.0</td>\n",
       "    </tr>\n",
       "    <tr>\n",
       "      <th>1</th>\n",
       "      <td>2021-04-13 16:50:27</td>\n",
       "      <td>liquid</td>\n",
       "      <td>売り</td>\n",
       "      <td>6671576.0</td>\n",
       "    </tr>\n",
       "    <tr>\n",
       "      <th>2</th>\n",
       "      <td>2021-04-13 16:54:20</td>\n",
       "      <td>liquid</td>\n",
       "      <td>買い</td>\n",
       "      <td>6682750.0</td>\n",
       "    </tr>\n",
       "    <tr>\n",
       "      <th>3</th>\n",
       "      <td>2021-04-13 16:54:20</td>\n",
       "      <td>bitbank</td>\n",
       "      <td>売り</td>\n",
       "      <td>6679999.0</td>\n",
       "    </tr>\n",
       "    <tr>\n",
       "      <th>4</th>\n",
       "      <td>2021-04-13 16:54:23</td>\n",
       "      <td>bitbank</td>\n",
       "      <td>買い</td>\n",
       "      <td>6679001.0</td>\n",
       "    </tr>\n",
       "    <tr>\n",
       "      <th>...</th>\n",
       "      <td>...</td>\n",
       "      <td>...</td>\n",
       "      <td>...</td>\n",
       "      <td>...</td>\n",
       "    </tr>\n",
       "    <tr>\n",
       "      <th>229</th>\n",
       "      <td>2021-04-13 17:37:06</td>\n",
       "      <td>bitbank</td>\n",
       "      <td>売り</td>\n",
       "      <td>6851250.0</td>\n",
       "    </tr>\n",
       "    <tr>\n",
       "      <th>230</th>\n",
       "      <td>2021-04-13 17:37:22</td>\n",
       "      <td>bitbank</td>\n",
       "      <td>買い</td>\n",
       "      <td>6850001.0</td>\n",
       "    </tr>\n",
       "    <tr>\n",
       "      <th>231</th>\n",
       "      <td>2021-04-13 17:37:22</td>\n",
       "      <td>liquid</td>\n",
       "      <td>売り</td>\n",
       "      <td>6851662.0</td>\n",
       "    </tr>\n",
       "    <tr>\n",
       "      <th>232</th>\n",
       "      <td>2021-04-13 17:37:41</td>\n",
       "      <td>bitbank</td>\n",
       "      <td>買い</td>\n",
       "      <td>6850001.0</td>\n",
       "    </tr>\n",
       "    <tr>\n",
       "      <th>233</th>\n",
       "      <td>2021-04-13 17:37:41</td>\n",
       "      <td>liquid</td>\n",
       "      <td>売り</td>\n",
       "      <td>6852455.0</td>\n",
       "    </tr>\n",
       "  </tbody>\n",
       "</table>\n",
       "<p>234 rows × 4 columns</p>\n",
       "</div>"
      ],
      "text/plain": [
       "                    取引日時       売買 取引所        レート\n",
       "0    2021-04-13 16:50:27  bitbank  買い  6667599.0\n",
       "1    2021-04-13 16:50:27   liquid  売り  6671576.0\n",
       "2    2021-04-13 16:54:20   liquid  買い  6682750.0\n",
       "3    2021-04-13 16:54:20  bitbank  売り  6679999.0\n",
       "4    2021-04-13 16:54:23  bitbank  買い  6679001.0\n",
       "..                   ...      ...  ..        ...\n",
       "229  2021-04-13 17:37:06  bitbank  売り  6851250.0\n",
       "230  2021-04-13 17:37:22  bitbank  買い  6850001.0\n",
       "231  2021-04-13 17:37:22   liquid  売り  6851662.0\n",
       "232  2021-04-13 17:37:41  bitbank  買い  6850001.0\n",
       "233  2021-04-13 17:37:41   liquid  売り  6852455.0\n",
       "\n",
       "[234 rows x 4 columns]"
      ]
     },
     "execution_count": 1,
     "metadata": {},
     "output_type": "execute_result"
    }
   ],
   "source": [
    "histories = bt.get_trade_histories()\n",
    "headers = [\"取引日時\",  \"売買\",  \"取引所\", \"レート\"]\n",
    "histories_df = pd.DataFrame(histories, columns=headers)\n",
    "histories_df"
   ]
  },
  {
   "cell_type": "markdown",
   "metadata": {},
   "source": [
    "## 結果まとめ"
   ]
  },
  {
   "cell_type": "code",
   "execution_count": 11,
   "metadata": {
    "execution": {
     "iopub.execute_input": "2021-04-13T08:39:44.256330Z",
     "iopub.status.busy": "2021-04-13T08:39:44.255724Z",
     "iopub.status.idle": "2021-04-13T08:39:44.272633Z",
     "shell.execute_reply": "2021-04-13T08:39:44.272018Z"
    }
   },
   "outputs": [
    {
     "name": "stdout",
     "output_type": "stream",
     "text": [
      "バックテスト情報\n",
      "-------------------  -------------------\n",
      "         レコード数                  933\n",
      "           取引回数                  117\n",
      "           開始日時  2021-04-13 16:50:27\n",
      "           終了日時  2021-04-13 17:38:27\n",
      "        取引時間[H]      0 days 00:48:00\n",
      "      取引単位[BTC]                0.006\n",
      "  利確しきい値[JPY]                 1000\n",
      "損切りマージン[JPY]                 1000\n",
      "-------------------  -------------------\n",
      "\n",
      "バックテスト結果\n",
      "-----------  --------\n",
      "開始[JPY]       10000\n",
      "終了[JPY]       10984\n",
      "利益[JPY]         984\n",
      "開始[BTC]       0.022\n",
      "終了[BTC]       0.022\n",
      "利益[BTC]           0\n",
      "開始[TOTAL]    158842\n",
      "終了[TOTAL]    158650\n",
      "利益[TOTAL]  -191.112\n",
      "-----------  --------\n"
     ]
    }
   ],
   "source": [
    "bt.display()"
   ]
  },
  {
   "cell_type": "markdown",
   "metadata": {},
   "source": [
    "## グラフ出力"
   ]
  },
  {
   "cell_type": "code",
   "execution_count": 12,
   "metadata": {
    "execution": {
     "iopub.execute_input": "2021-04-13T08:39:44.277584Z",
     "iopub.status.busy": "2021-04-13T08:39:44.276846Z",
     "iopub.status.idle": "2021-04-13T08:39:44.484322Z",
     "shell.execute_reply": "2021-04-13T08:39:44.484837Z"
    },
    "scrolled": true
   },
   "outputs": [
    {
     "data": {
      "text/plain": [
       "[<matplotlib.lines.Line2D at 0x7fd14e95b850>]"
      ]
     },
     "execution_count": 1,
     "metadata": {},
     "output_type": "execute_result"
    },
    {
     "data": {
      "image/png": "[encoded data removed]",
      "text/plain": [
       "<Figure size 864x288 with 1 Axes>"
      ]
     },
     "metadata": {
      "needs_background": "light"
     },
     "output_type": "display_data"
    }
   ],
   "source": [
    "plt.figure(figsize=(12,4))\n",
    "plt.plot(df_ex1.index, df_ex1['bid'])"
   ]
  },
  {
   "cell_type": "code",
   "execution_count": 13,
   "metadata": {
    "execution": {
     "iopub.execute_input": "2021-04-13T08:39:44.489560Z",
     "iopub.status.busy": "2021-04-13T08:39:44.488548Z",
     "iopub.status.idle": "2021-04-13T08:39:44.735048Z",
     "shell.execute_reply": "2021-04-13T08:39:44.735693Z"
    }
   },
   "outputs": [
    {
     "data": {
      "text/plain": [
       "[<matplotlib.lines.Line2D at 0x7fd14e0d9050>]"
      ]
     },
     "execution_count": 1,
     "metadata": {},
     "output_type": "execute_result"
    },
    {
     "data": {
      "image/png": "[encoded data removed]",
      "text/plain": [
       "<Figure size 864x288 with 1 Axes>"
      ]
     },
     "metadata": {
      "needs_background": "light"
     },
     "output_type": "display_data"
    }
   ],
   "source": [
    "plt.figure(figsize=(12,4))\n",
    "plt.plot(df_ex2.index, df_ex2['bid'])"
   ]
  },
  {
   "cell_type": "markdown",
   "metadata": {},
   "source": [
    "## 分析"
   ]
  },
  {
   "cell_type": "markdown",
   "metadata": {},
   "source": [
    "### 時間別の取引回数と利益"
   ]
  },
  {
   "cell_type": "code",
   "execution_count": null,
   "metadata": {},
   "outputs": [],
   "source": []
  },
  {
   "cell_type": "markdown",
   "metadata": {},
   "source": [
    "### 時間別の価格差の推移"
   ]
  },
  {
   "cell_type": "code",
   "execution_count": 14,
   "metadata": {
    "execution": {
     "iopub.execute_input": "2021-04-13T08:39:44.742428Z",
     "iopub.status.busy": "2021-04-13T08:39:44.741396Z",
     "iopub.status.idle": "2021-04-13T08:39:44.769586Z",
     "shell.execute_reply": "2021-04-13T08:39:44.768777Z"
    }
   },
   "outputs": [],
   "source": [
    "profit_margin_df = pd.DataFrame({\n",
    "    \"timestamp\": pd.to_datetime(df_ex1.index),\n",
    "    \"buy_ex1_sell_ex2\": df_ex2.reset_index().bid - df_ex1.reset_index().ask,\n",
    "    \"buy_ex2_sell_ex1\": df_ex1.reset_index().bid - df_ex2.reset_index().ask,\n",
    "    'ex1_bid': df_ex1.reset_index().bid,\n",
    "     'ex2_ask': df_ex2.reset_index().ask,\n",
    "    'ex2_bid': df_ex2.reset_index().bid,\n",
    "    'ex1_ask': df_ex1.reset_index().ask,\n",
    "})\n",
    "\n",
    "profit_margin_df = profit_margin_df.set_index(\"timestamp\")"
   ]
  },
  {
   "cell_type": "code",
   "execution_count": 15,
   "metadata": {
    "execution": {
     "iopub.execute_input": "2021-04-13T08:39:44.774410Z",
     "iopub.status.busy": "2021-04-13T08:39:44.773254Z",
     "iopub.status.idle": "2021-04-13T08:39:44.803813Z",
     "shell.execute_reply": "2021-04-13T08:39:44.804366Z"
    }
   },
   "outputs": [
    {
     "data": {
      "text/html": [
       "<div>\n",
       "<style scoped>\n",
       "    .dataframe tbody tr th:only-of-type {\n",
       "        vertical-align: middle;\n",
       "    }\n",
       "\n",
       "    .dataframe tbody tr th {\n",
       "        vertical-align: top;\n",
       "    }\n",
       "\n",
       "    .dataframe thead th {\n",
       "        text-align: right;\n",
       "    }\n",
       "</style>\n",
       "<table border=\"1\" class=\"dataframe\">\n",
       "  <thead>\n",
       "    <tr style=\"text-align: right;\">\n",
       "      <th></th>\n",
       "      <th>buy_ex1_sell_ex2</th>\n",
       "      <th>buy_ex2_sell_ex1</th>\n",
       "      <th>ex1_bid</th>\n",
       "      <th>ex2_ask</th>\n",
       "      <th>ex2_bid</th>\n",
       "      <th>ex1_ask</th>\n",
       "    </tr>\n",
       "    <tr>\n",
       "      <th>timestamp</th>\n",
       "      <th></th>\n",
       "      <th></th>\n",
       "      <th></th>\n",
       "      <th></th>\n",
       "      <th></th>\n",
       "      <th></th>\n",
       "    </tr>\n",
       "  </thead>\n",
       "  <tbody>\n",
       "    <tr>\n",
       "      <th>2021-04-13 16:50:00</th>\n",
       "      <td>3814</td>\n",
       "      <td>-5766</td>\n",
       "      <td>6677899</td>\n",
       "      <td>6683665</td>\n",
       "      <td>6682135</td>\n",
       "      <td>6678321</td>\n",
       "    </tr>\n",
       "    <tr>\n",
       "      <th>2021-04-13 17:00:00</th>\n",
       "      <td>5168</td>\n",
       "      <td>-6907</td>\n",
       "      <td>6689179</td>\n",
       "      <td>6696086</td>\n",
       "      <td>6694755</td>\n",
       "      <td>6689587</td>\n",
       "    </tr>\n",
       "    <tr>\n",
       "      <th>2021-04-13 17:10:00</th>\n",
       "      <td>4828</td>\n",
       "      <td>-7209</td>\n",
       "      <td>6748549</td>\n",
       "      <td>6755757</td>\n",
       "      <td>6753741</td>\n",
       "      <td>6748913</td>\n",
       "    </tr>\n",
       "    <tr>\n",
       "      <th>2021-04-13 17:20:00</th>\n",
       "      <td>-4664</td>\n",
       "      <td>1280</td>\n",
       "      <td>6834957</td>\n",
       "      <td>6833677</td>\n",
       "      <td>6831500</td>\n",
       "      <td>6836164</td>\n",
       "    </tr>\n",
       "    <tr>\n",
       "      <th>2021-04-13 17:30:00</th>\n",
       "      <td>-1929</td>\n",
       "      <td>-1200</td>\n",
       "      <td>6856894</td>\n",
       "      <td>6858094</td>\n",
       "      <td>6856025</td>\n",
       "      <td>6857955</td>\n",
       "    </tr>\n",
       "  </tbody>\n",
       "</table>\n",
       "</div>"
      ],
      "text/plain": [
       "                     buy_ex1_sell_ex2  buy_ex2_sell_ex1  ex1_bid  ex2_ask  \\\n",
       "timestamp                                                                   \n",
       "2021-04-13 16:50:00              3814             -5766  6677899  6683665   \n",
       "2021-04-13 17:00:00              5168             -6907  6689179  6696086   \n",
       "2021-04-13 17:10:00              4828             -7209  6748549  6755757   \n",
       "2021-04-13 17:20:00             -4664              1280  6834957  6833677   \n",
       "2021-04-13 17:30:00             -1929             -1200  6856894  6858094   \n",
       "\n",
       "                     ex2_bid  ex1_ask  \n",
       "timestamp                              \n",
       "2021-04-13 16:50:00  6682135  6678321  \n",
       "2021-04-13 17:00:00  6694755  6689587  \n",
       "2021-04-13 17:10:00  6753741  6748913  \n",
       "2021-04-13 17:20:00  6831500  6836164  \n",
       "2021-04-13 17:30:00  6856025  6857955  "
      ]
     },
     "execution_count": 1,
     "metadata": {},
     "output_type": "execute_result"
    }
   ],
   "source": [
    "pd.options.display.float_format = '{:.0f}'.format\n",
    "profit_margin_df.resample(rule='10Min').mean()"
   ]
  },
  {
   "cell_type": "code",
   "execution_count": null,
   "metadata": {},
   "outputs": [],
   "source": []
  }
 ],
 "metadata": {
  "kernelspec": {
   "display_name": "Environment (conda_bakuchi)",
   "language": "python",
   "name": "conda_bakuchi"
  },
  "language_info": {
   "codemirror_mode": {
    "name": "ipython",
    "version": 3
   },
   "file_extension": ".py",
   "mimetype": "text/x-python",
   "name": "python",
   "nbconvert_exporter": "python",
   "pygments_lexer": "ipython3",
   "version": "3.7.10"
  }
 },
 "nbformat": 4,
 "nbformat_minor": 4
}
