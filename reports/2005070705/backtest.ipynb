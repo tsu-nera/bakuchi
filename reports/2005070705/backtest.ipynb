{
 "cells": [
  {
   "cell_type": "markdown",
   "metadata": {},
   "source": [
    "# バックテスト検証ノート"
   ]
  },
  {
   "cell_type": "code",
   "execution_count": 1,
   "metadata": {},
   "outputs": [],
   "source": [
    "import os\n",
    "import numpy as np\n",
    "import pandas as pd\n",
    "import datetime\n",
    "import matplotlib.pyplot as plt"
   ]
  },
  {
   "cell_type": "code",
   "execution_count": 2,
   "metadata": {},
   "outputs": [],
   "source": [
    "current_dir = %pwd\n",
    "timestamp = os.path.basename(current_dir)"
   ]
  },
  {
   "cell_type": "code",
   "execution_count": 3,
   "metadata": {},
   "outputs": [
    {
     "name": "stdout",
     "output_type": "stream",
     "text": [
      "/home/tsu-nera/repo/bakuchi\n"
     ]
    }
   ],
   "source": [
    "import sys\n",
    "sys.path.append('/home/tsu-nera/repo/bakuchi/')\n",
    "%cd '../../'"
   ]
  },
  {
   "cell_type": "code",
   "execution_count": 4,
   "metadata": {},
   "outputs": [
    {
     "name": "stderr",
     "output_type": "stream",
     "text": [
      "File doesn't exist \n"
     ]
    }
   ],
   "source": [
    "from src.utils.backtesting import Backtesting, run_backtesting\n",
    "\n",
    "%reload_ext autoreload\n",
    "%autoreload 2"
   ]
  },
  {
   "cell_type": "code",
   "execution_count": 5,
   "metadata": {},
   "outputs": [],
   "source": [
    "bt = Backtesting(timestamp)"
   ]
  },
  {
   "cell_type": "code",
   "execution_count": 6,
   "metadata": {},
   "outputs": [],
   "source": [
    "df_cc = bt.get_coincheck_df()\n",
    "df_lq = bt.get_liquid_df()"
   ]
  },
  {
   "cell_type": "code",
   "execution_count": 7,
   "metadata": {},
   "outputs": [
    {
     "data": {
      "text/plain": [
       "(10660, 10660)"
      ]
     },
     "execution_count": 7,
     "metadata": {},
     "output_type": "execute_result"
    }
   ],
   "source": [
    "len(df_cc), len(df_lq)"
   ]
  },
  {
   "cell_type": "markdown",
   "metadata": {},
   "source": [
    "## テスト実行"
   ]
  },
  {
   "cell_type": "code",
   "execution_count": 8,
   "metadata": {},
   "outputs": [],
   "source": [
    "bt.run()"
   ]
  },
  {
   "cell_type": "markdown",
   "metadata": {},
   "source": [
    "##  取引履歴"
   ]
  },
  {
   "cell_type": "code",
   "execution_count": 9,
   "metadata": {},
   "outputs": [
    {
     "data": {
      "text/html": [
       "<div>\n",
       "<style scoped>\n",
       "    .dataframe tbody tr th:only-of-type {\n",
       "        vertical-align: middle;\n",
       "    }\n",
       "\n",
       "    .dataframe tbody tr th {\n",
       "        vertical-align: top;\n",
       "    }\n",
       "\n",
       "    .dataframe thead th {\n",
       "        text-align: right;\n",
       "    }\n",
       "</style>\n",
       "<table border=\"1\" class=\"dataframe\">\n",
       "  <thead>\n",
       "    <tr style=\"text-align: right;\">\n",
       "      <th></th>\n",
       "      <th>取引日時</th>\n",
       "      <th>購入取引所</th>\n",
       "      <th>売却取引所</th>\n",
       "      <th>通貨ペア</th>\n",
       "      <th>取引量</th>\n",
       "      <th>期待利益</th>\n",
       "    </tr>\n",
       "  </thead>\n",
       "  <tbody>\n",
       "    <tr>\n",
       "      <th>0</th>\n",
       "      <td>2020-05-07 07:14:27</td>\n",
       "      <td>coincheck</td>\n",
       "      <td>liquid</td>\n",
       "      <td>BTC/JPY</td>\n",
       "      <td>0.006</td>\n",
       "      <td>6</td>\n",
       "    </tr>\n",
       "    <tr>\n",
       "      <th>1</th>\n",
       "      <td>2020-05-07 07:49:47</td>\n",
       "      <td>liquid</td>\n",
       "      <td>coincheck</td>\n",
       "      <td>BTC/JPY</td>\n",
       "      <td>0.006</td>\n",
       "      <td>1</td>\n",
       "    </tr>\n",
       "    <tr>\n",
       "      <th>2</th>\n",
       "      <td>2020-05-07 07:52:00</td>\n",
       "      <td>coincheck</td>\n",
       "      <td>liquid</td>\n",
       "      <td>BTC/JPY</td>\n",
       "      <td>0.006</td>\n",
       "      <td>9</td>\n",
       "    </tr>\n",
       "    <tr>\n",
       "      <th>3</th>\n",
       "      <td>2020-05-07 07:52:12</td>\n",
       "      <td>liquid</td>\n",
       "      <td>coincheck</td>\n",
       "      <td>BTC/JPY</td>\n",
       "      <td>0.006</td>\n",
       "      <td>-1</td>\n",
       "    </tr>\n",
       "    <tr>\n",
       "      <th>4</th>\n",
       "      <td>2020-05-07 07:52:27</td>\n",
       "      <td>coincheck</td>\n",
       "      <td>liquid</td>\n",
       "      <td>BTC/JPY</td>\n",
       "      <td>0.006</td>\n",
       "      <td>7</td>\n",
       "    </tr>\n",
       "    <tr>\n",
       "      <th>5</th>\n",
       "      <td>2020-05-07 07:52:50</td>\n",
       "      <td>liquid</td>\n",
       "      <td>coincheck</td>\n",
       "      <td>BTC/JPY</td>\n",
       "      <td>0.006</td>\n",
       "      <td>0</td>\n",
       "    </tr>\n",
       "    <tr>\n",
       "      <th>6</th>\n",
       "      <td>2020-05-07 07:53:29</td>\n",
       "      <td>coincheck</td>\n",
       "      <td>liquid</td>\n",
       "      <td>BTC/JPY</td>\n",
       "      <td>0.006</td>\n",
       "      <td>6</td>\n",
       "    </tr>\n",
       "    <tr>\n",
       "      <th>7</th>\n",
       "      <td>2020-05-07 07:53:55</td>\n",
       "      <td>liquid</td>\n",
       "      <td>coincheck</td>\n",
       "      <td>BTC/JPY</td>\n",
       "      <td>0.006</td>\n",
       "      <td>0</td>\n",
       "    </tr>\n",
       "    <tr>\n",
       "      <th>8</th>\n",
       "      <td>2020-05-07 07:54:23</td>\n",
       "      <td>coincheck</td>\n",
       "      <td>liquid</td>\n",
       "      <td>BTC/JPY</td>\n",
       "      <td>0.006</td>\n",
       "      <td>6</td>\n",
       "    </tr>\n",
       "    <tr>\n",
       "      <th>9</th>\n",
       "      <td>2020-05-07 08:05:15</td>\n",
       "      <td>liquid</td>\n",
       "      <td>coincheck</td>\n",
       "      <td>BTC/JPY</td>\n",
       "      <td>0.006</td>\n",
       "      <td>0</td>\n",
       "    </tr>\n",
       "  </tbody>\n",
       "</table>\n",
       "</div>"
      ],
      "text/plain": [
       "                  取引日時      購入取引所      売却取引所     通貨ペア    取引量  期待利益\n",
       "0  2020-05-07 07:14:27  coincheck     liquid  BTC/JPY  0.006     6\n",
       "1  2020-05-07 07:49:47     liquid  coincheck  BTC/JPY  0.006     1\n",
       "2  2020-05-07 07:52:00  coincheck     liquid  BTC/JPY  0.006     9\n",
       "3  2020-05-07 07:52:12     liquid  coincheck  BTC/JPY  0.006    -1\n",
       "4  2020-05-07 07:52:27  coincheck     liquid  BTC/JPY  0.006     7\n",
       "5  2020-05-07 07:52:50     liquid  coincheck  BTC/JPY  0.006     0\n",
       "6  2020-05-07 07:53:29  coincheck     liquid  BTC/JPY  0.006     6\n",
       "7  2020-05-07 07:53:55     liquid  coincheck  BTC/JPY  0.006     0\n",
       "8  2020-05-07 07:54:23  coincheck     liquid  BTC/JPY  0.006     6\n",
       "9  2020-05-07 08:05:15     liquid  coincheck  BTC/JPY  0.006     0"
      ]
     },
     "execution_count": 9,
     "metadata": {},
     "output_type": "execute_result"
    }
   ],
   "source": [
    "arbitrage_histories = bt.get_arbitrage_histories()\n",
    "\n",
    "headers = [\"取引日時\", \"購入取引所\", \"売却取引所\", \"通貨ペア\", \"取引量\", \"期待利益\"]\n",
    "arbitrage_histories_df = pd.DataFrame(arbitrage_histories, columns=headers)\n",
    "arbitrage_histories_df"
   ]
  },
  {
   "cell_type": "code",
   "execution_count": 10,
   "metadata": {},
   "outputs": [
    {
     "data": {
      "text/html": [
       "<div>\n",
       "<style scoped>\n",
       "    .dataframe tbody tr th:only-of-type {\n",
       "        vertical-align: middle;\n",
       "    }\n",
       "\n",
       "    .dataframe tbody tr th {\n",
       "        vertical-align: top;\n",
       "    }\n",
       "\n",
       "    .dataframe thead th {\n",
       "        text-align: right;\n",
       "    }\n",
       "</style>\n",
       "<table border=\"1\" class=\"dataframe\">\n",
       "  <thead>\n",
       "    <tr style=\"text-align: right;\">\n",
       "      <th></th>\n",
       "      <th>取引日時</th>\n",
       "      <th>売買</th>\n",
       "      <th>取引所</th>\n",
       "      <th>レート</th>\n",
       "    </tr>\n",
       "  </thead>\n",
       "  <tbody>\n",
       "    <tr>\n",
       "      <th>0</th>\n",
       "      <td>2020-05-07 07:14:27</td>\n",
       "      <td>coincheck</td>\n",
       "      <td>買い</td>\n",
       "      <td>989724</td>\n",
       "    </tr>\n",
       "    <tr>\n",
       "      <th>1</th>\n",
       "      <td>2020-05-07 07:14:27</td>\n",
       "      <td>liquid</td>\n",
       "      <td>売り</td>\n",
       "      <td>990737</td>\n",
       "    </tr>\n",
       "    <tr>\n",
       "      <th>2</th>\n",
       "      <td>2020-05-07 07:49:47</td>\n",
       "      <td>liquid</td>\n",
       "      <td>買い</td>\n",
       "      <td>992074</td>\n",
       "    </tr>\n",
       "    <tr>\n",
       "      <th>3</th>\n",
       "      <td>2020-05-07 07:49:47</td>\n",
       "      <td>coincheck</td>\n",
       "      <td>売り</td>\n",
       "      <td>992246</td>\n",
       "    </tr>\n",
       "    <tr>\n",
       "      <th>4</th>\n",
       "      <td>2020-05-07 07:52:00</td>\n",
       "      <td>coincheck</td>\n",
       "      <td>買い</td>\n",
       "      <td>994889</td>\n",
       "    </tr>\n",
       "    <tr>\n",
       "      <th>5</th>\n",
       "      <td>2020-05-07 07:52:00</td>\n",
       "      <td>liquid</td>\n",
       "      <td>売り</td>\n",
       "      <td>996537</td>\n",
       "    </tr>\n",
       "    <tr>\n",
       "      <th>6</th>\n",
       "      <td>2020-05-07 07:52:12</td>\n",
       "      <td>liquid</td>\n",
       "      <td>買い</td>\n",
       "      <td>995466</td>\n",
       "    </tr>\n",
       "    <tr>\n",
       "      <th>7</th>\n",
       "      <td>2020-05-07 07:52:12</td>\n",
       "      <td>coincheck</td>\n",
       "      <td>売り</td>\n",
       "      <td>995259</td>\n",
       "    </tr>\n",
       "    <tr>\n",
       "      <th>8</th>\n",
       "      <td>2020-05-07 07:52:27</td>\n",
       "      <td>coincheck</td>\n",
       "      <td>買い</td>\n",
       "      <td>994308</td>\n",
       "    </tr>\n",
       "    <tr>\n",
       "      <th>9</th>\n",
       "      <td>2020-05-07 07:52:27</td>\n",
       "      <td>liquid</td>\n",
       "      <td>売り</td>\n",
       "      <td>995477</td>\n",
       "    </tr>\n",
       "    <tr>\n",
       "      <th>10</th>\n",
       "      <td>2020-05-07 07:52:50</td>\n",
       "      <td>liquid</td>\n",
       "      <td>買い</td>\n",
       "      <td>991918</td>\n",
       "    </tr>\n",
       "    <tr>\n",
       "      <th>11</th>\n",
       "      <td>2020-05-07 07:52:50</td>\n",
       "      <td>coincheck</td>\n",
       "      <td>売り</td>\n",
       "      <td>992015</td>\n",
       "    </tr>\n",
       "    <tr>\n",
       "      <th>12</th>\n",
       "      <td>2020-05-07 07:53:29</td>\n",
       "      <td>coincheck</td>\n",
       "      <td>買い</td>\n",
       "      <td>992529</td>\n",
       "    </tr>\n",
       "    <tr>\n",
       "      <th>13</th>\n",
       "      <td>2020-05-07 07:53:29</td>\n",
       "      <td>liquid</td>\n",
       "      <td>売り</td>\n",
       "      <td>993640</td>\n",
       "    </tr>\n",
       "    <tr>\n",
       "      <th>14</th>\n",
       "      <td>2020-05-07 07:53:55</td>\n",
       "      <td>liquid</td>\n",
       "      <td>買い</td>\n",
       "      <td>992726</td>\n",
       "    </tr>\n",
       "    <tr>\n",
       "      <th>15</th>\n",
       "      <td>2020-05-07 07:53:55</td>\n",
       "      <td>coincheck</td>\n",
       "      <td>売り</td>\n",
       "      <td>992670</td>\n",
       "    </tr>\n",
       "    <tr>\n",
       "      <th>16</th>\n",
       "      <td>2020-05-07 07:54:23</td>\n",
       "      <td>coincheck</td>\n",
       "      <td>買い</td>\n",
       "      <td>993058</td>\n",
       "    </tr>\n",
       "    <tr>\n",
       "      <th>17</th>\n",
       "      <td>2020-05-07 07:54:23</td>\n",
       "      <td>liquid</td>\n",
       "      <td>売り</td>\n",
       "      <td>994136</td>\n",
       "    </tr>\n",
       "    <tr>\n",
       "      <th>18</th>\n",
       "      <td>2020-05-07 08:05:15</td>\n",
       "      <td>liquid</td>\n",
       "      <td>買い</td>\n",
       "      <td>993756</td>\n",
       "    </tr>\n",
       "    <tr>\n",
       "      <th>19</th>\n",
       "      <td>2020-05-07 08:05:15</td>\n",
       "      <td>coincheck</td>\n",
       "      <td>売り</td>\n",
       "      <td>993708</td>\n",
       "    </tr>\n",
       "  </tbody>\n",
       "</table>\n",
       "</div>"
      ],
      "text/plain": [
       "                   取引日時         売買 取引所     レート\n",
       "0   2020-05-07 07:14:27  coincheck  買い  989724\n",
       "1   2020-05-07 07:14:27     liquid  売り  990737\n",
       "2   2020-05-07 07:49:47     liquid  買い  992074\n",
       "3   2020-05-07 07:49:47  coincheck  売り  992246\n",
       "4   2020-05-07 07:52:00  coincheck  買い  994889\n",
       "5   2020-05-07 07:52:00     liquid  売り  996537\n",
       "6   2020-05-07 07:52:12     liquid  買い  995466\n",
       "7   2020-05-07 07:52:12  coincheck  売り  995259\n",
       "8   2020-05-07 07:52:27  coincheck  買い  994308\n",
       "9   2020-05-07 07:52:27     liquid  売り  995477\n",
       "10  2020-05-07 07:52:50     liquid  買い  991918\n",
       "11  2020-05-07 07:52:50  coincheck  売り  992015\n",
       "12  2020-05-07 07:53:29  coincheck  買い  992529\n",
       "13  2020-05-07 07:53:29     liquid  売り  993640\n",
       "14  2020-05-07 07:53:55     liquid  買い  992726\n",
       "15  2020-05-07 07:53:55  coincheck  売り  992670\n",
       "16  2020-05-07 07:54:23  coincheck  買い  993058\n",
       "17  2020-05-07 07:54:23     liquid  売り  994136\n",
       "18  2020-05-07 08:05:15     liquid  買い  993756\n",
       "19  2020-05-07 08:05:15  coincheck  売り  993708"
      ]
     },
     "execution_count": 10,
     "metadata": {},
     "output_type": "execute_result"
    }
   ],
   "source": [
    "histories = bt.get_trade_histories()\n",
    "headers = [\"取引日時\",  \"売買\",  \"取引所\", \"レート\"]\n",
    "histories_df = pd.DataFrame(histories, columns=headers)\n",
    "histories_df"
   ]
  },
  {
   "cell_type": "markdown",
   "metadata": {},
   "source": [
    "## 結果まとめ"
   ]
  },
  {
   "cell_type": "code",
   "execution_count": 11,
   "metadata": {},
   "outputs": [
    {
     "name": "stdout",
     "output_type": "stream",
     "text": [
      "バックテスト情報\n",
      "-------------------  -------------------\n",
      "         レコード数                10660\n",
      "           取引回数                   10\n",
      "           開始日時  2020-05-07 07:05:55\n",
      "           終了日時  2020-05-07 08:08:24\n",
      "        取引時間[H]      0 days 01:02:29\n",
      "      取引単位[BTC]                0.006\n",
      "  利確しきい値[JPY]                 1000\n",
      "損切りマージン[JPY]                 1000\n",
      "-------------------  -------------------\n",
      "\n",
      "バックテスト結果\n",
      "-----------  -------\n",
      "開始[JPY]      10000\n",
      "終了[JPY]      10035\n",
      "利益[JPY]         35\n",
      "開始[BTC]      0.022\n",
      "終了[BTC]      0.022\n",
      "利益[BTC]          0\n",
      "開始[TOTAL]  31784.8\n",
      "終了[TOTAL]  31820.7\n",
      "利益[TOTAL]   35.862\n",
      "-----------  -------\n"
     ]
    }
   ],
   "source": [
    "bt.display()"
   ]
  },
  {
   "cell_type": "markdown",
   "metadata": {},
   "source": [
    "## グラフ出力"
   ]
  },
  {
   "cell_type": "code",
   "execution_count": 12,
   "metadata": {
    "scrolled": true
   },
   "outputs": [
    {
     "data": {
      "text/plain": [
       "[<matplotlib.lines.Line2D at 0x7fb31d77cdd0>]"
      ]
     },
     "execution_count": 12,
     "metadata": {},
     "output_type": "execute_result"
    },
    {
     "data": {
      "image/png": "[encoded data removed]",
      "text/plain": [
       "<Figure size 864x288 with 1 Axes>"
      ]
     },
     "metadata": {
      "needs_background": "light"
     },
     "output_type": "display_data"
    }
   ],
   "source": [
    "plt.figure(figsize=(12,4))\n",
    "plt.plot(df_cc.index, df_cc['bid'])"
   ]
  },
  {
   "cell_type": "code",
   "execution_count": 13,
   "metadata": {},
   "outputs": [
    {
     "data": {
      "text/plain": [
       "[<matplotlib.lines.Line2D at 0x7fb31d74d9d0>]"
      ]
     },
     "execution_count": 13,
     "metadata": {},
     "output_type": "execute_result"
    },
    {
     "data": {
      "image/png": "[encoded data removed]",
      "text/plain": [
       "<Figure size 864x288 with 1 Axes>"
      ]
     },
     "metadata": {
      "needs_background": "light"
     },
     "output_type": "display_data"
    }
   ],
   "source": [
    "plt.figure(figsize=(12,4))\n",
    "plt.plot(df_lq.index, df_lq['bid'])"
   ]
  },
  {
   "cell_type": "markdown",
   "metadata": {},
   "source": [
    "## 分析"
   ]
  },
  {
   "cell_type": "markdown",
   "metadata": {},
   "source": [
    "### 時間別の取引回数と利益"
   ]
  },
  {
   "cell_type": "code",
   "execution_count": null,
   "metadata": {},
   "outputs": [],
   "source": []
  },
  {
   "cell_type": "markdown",
   "metadata": {},
   "source": [
    "### 時間別の価格差の推移"
   ]
  },
  {
   "cell_type": "code",
   "execution_count": 14,
   "metadata": {},
   "outputs": [],
   "source": [
    "profit_margin_df = pd.DataFrame({\n",
    "    \"timestamp\": pd.to_datetime(df_cc.index),\n",
    "    \"buy_coincheck_sell_liquid\": df_lq.reset_index().bid - df_cc.reset_index().ask,\n",
    "    \"buy_liquid_sell_coincheck\": df_cc.reset_index().bid - df_lq.reset_index().ask,\n",
    "    'coincheck_bid': df_cc.reset_index().bid,\n",
    "     'liquid_ask': df_lq.reset_index().ask,\n",
    "    'liquid_bid': df_lq.reset_index().bid,\n",
    "    'coincheck_ask': df_cc.reset_index().ask,\n",
    "})\n",
    "\n",
    "profit_margin_df = profit_margin_df.set_index(\"timestamp\")"
   ]
  },
  {
   "cell_type": "code",
   "execution_count": 15,
   "metadata": {},
   "outputs": [
    {
     "data": {
      "text/html": [
       "<div>\n",
       "<style scoped>\n",
       "    .dataframe tbody tr th:only-of-type {\n",
       "        vertical-align: middle;\n",
       "    }\n",
       "\n",
       "    .dataframe tbody tr th {\n",
       "        vertical-align: top;\n",
       "    }\n",
       "\n",
       "    .dataframe thead th {\n",
       "        text-align: right;\n",
       "    }\n",
       "</style>\n",
       "<table border=\"1\" class=\"dataframe\">\n",
       "  <thead>\n",
       "    <tr style=\"text-align: right;\">\n",
       "      <th></th>\n",
       "      <th>buy_coincheck_sell_liquid</th>\n",
       "      <th>buy_liquid_sell_coincheck</th>\n",
       "      <th>coincheck_bid</th>\n",
       "      <th>liquid_ask</th>\n",
       "      <th>liquid_bid</th>\n",
       "      <th>coincheck_ask</th>\n",
       "    </tr>\n",
       "    <tr>\n",
       "      <th>timestamp</th>\n",
       "      <th></th>\n",
       "      <th></th>\n",
       "      <th></th>\n",
       "      <th></th>\n",
       "      <th></th>\n",
       "      <th></th>\n",
       "    </tr>\n",
       "  </thead>\n",
       "  <tbody>\n",
       "    <tr>\n",
       "      <th>2020-05-07 07:00:00</th>\n",
       "      <td>229</td>\n",
       "      <td>-794</td>\n",
       "      <td>989427</td>\n",
       "      <td>990220</td>\n",
       "      <td>990021</td>\n",
       "      <td>989791</td>\n",
       "    </tr>\n",
       "    <tr>\n",
       "      <th>2020-05-07 07:10:00</th>\n",
       "      <td>268</td>\n",
       "      <td>-812</td>\n",
       "      <td>989862</td>\n",
       "      <td>990674</td>\n",
       "      <td>990499</td>\n",
       "      <td>990231</td>\n",
       "    </tr>\n",
       "    <tr>\n",
       "      <th>2020-05-07 07:20:00</th>\n",
       "      <td>286</td>\n",
       "      <td>-807</td>\n",
       "      <td>988908</td>\n",
       "      <td>989715</td>\n",
       "      <td>989580</td>\n",
       "      <td>989294</td>\n",
       "    </tr>\n",
       "    <tr>\n",
       "      <th>2020-05-07 07:30:00</th>\n",
       "      <td>327</td>\n",
       "      <td>-826</td>\n",
       "      <td>986791</td>\n",
       "      <td>987616</td>\n",
       "      <td>987490</td>\n",
       "      <td>987163</td>\n",
       "    </tr>\n",
       "    <tr>\n",
       "      <th>2020-05-07 07:40:00</th>\n",
       "      <td>107</td>\n",
       "      <td>-563</td>\n",
       "      <td>989270</td>\n",
       "      <td>989834</td>\n",
       "      <td>989727</td>\n",
       "      <td>989621</td>\n",
       "    </tr>\n",
       "    <tr>\n",
       "      <th>2020-05-07 07:50:00</th>\n",
       "      <td>356</td>\n",
       "      <td>-897</td>\n",
       "      <td>992588</td>\n",
       "      <td>993485</td>\n",
       "      <td>993330</td>\n",
       "      <td>992975</td>\n",
       "    </tr>\n",
       "    <tr>\n",
       "      <th>2020-05-07 08:00:00</th>\n",
       "      <td>319</td>\n",
       "      <td>-943</td>\n",
       "      <td>994176</td>\n",
       "      <td>995119</td>\n",
       "      <td>994928</td>\n",
       "      <td>994608</td>\n",
       "    </tr>\n",
       "  </tbody>\n",
       "</table>\n",
       "</div>"
      ],
      "text/plain": [
       "                     buy_coincheck_sell_liquid  buy_liquid_sell_coincheck  \\\n",
       "timestamp                                                                   \n",
       "2020-05-07 07:00:00                        229                       -794   \n",
       "2020-05-07 07:10:00                        268                       -812   \n",
       "2020-05-07 07:20:00                        286                       -807   \n",
       "2020-05-07 07:30:00                        327                       -826   \n",
       "2020-05-07 07:40:00                        107                       -563   \n",
       "2020-05-07 07:50:00                        356                       -897   \n",
       "2020-05-07 08:00:00                        319                       -943   \n",
       "\n",
       "                     coincheck_bid  liquid_ask  liquid_bid  coincheck_ask  \n",
       "timestamp                                                                  \n",
       "2020-05-07 07:00:00         989427      990220      990021         989791  \n",
       "2020-05-07 07:10:00         989862      990674      990499         990231  \n",
       "2020-05-07 07:20:00         988908      989715      989580         989294  \n",
       "2020-05-07 07:30:00         986791      987616      987490         987163  \n",
       "2020-05-07 07:40:00         989270      989834      989727         989621  \n",
       "2020-05-07 07:50:00         992588      993485      993330         992975  \n",
       "2020-05-07 08:00:00         994176      995119      994928         994608  "
      ]
     },
     "execution_count": 15,
     "metadata": {},
     "output_type": "execute_result"
    }
   ],
   "source": [
    "pd.options.display.float_format = '{:.0f}'.format\n",
    "profit_margin_df.resample(rule='10Min').mean()"
   ]
  },
  {
   "cell_type": "code",
   "execution_count": null,
   "metadata": {},
   "outputs": [],
   "source": []
  }
 ],
 "metadata": {
  "kernelspec": {
   "display_name": "Environment (conda_bakuchi)",
   "language": "python",
   "name": "conda_bakuchi"
  },
  "language_info": {
   "codemirror_mode": {
    "name": "ipython",
    "version": 3
   },
   "file_extension": ".py",
   "mimetype": "text/x-python",
   "name": "python",
   "nbconvert_exporter": "python",
   "pygments_lexer": "ipython3",
   "version": "3.7.6"
  }
 },
 "nbformat": 4,
 "nbformat_minor": 4
}
