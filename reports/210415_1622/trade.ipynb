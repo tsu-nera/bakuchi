{
 "cells": [
  {
   "cell_type": "markdown",
   "metadata": {},
   "source": [
    "# 取引履歴のデータ分析"
   ]
  },
  {
   "cell_type": "code",
   "execution_count": 1,
   "metadata": {
    "execution": {
     "iopub.execute_input": "2021-04-15T07:38:59.417012Z",
     "iopub.status.busy": "2021-04-15T07:38:59.416318Z",
     "iopub.status.idle": "2021-04-15T07:39:00.081670Z",
     "shell.execute_reply": "2021-04-15T07:39:00.080316Z"
    }
   },
   "outputs": [],
   "source": [
    "import os\n",
    "import pandas as pd\n",
    "import matplotlib\n",
    "import matplotlib.pyplot as plt\n",
    "import matplotlib.dates as mdates"
   ]
  },
  {
   "cell_type": "code",
   "execution_count": 2,
   "metadata": {
    "execution": {
     "iopub.execute_input": "2021-04-15T07:39:00.085373Z",
     "iopub.status.busy": "2021-04-15T07:39:00.084737Z",
     "iopub.status.idle": "2021-04-15T07:39:00.088851Z",
     "shell.execute_reply": "2021-04-15T07:39:00.089351Z"
    }
   },
   "outputs": [],
   "source": [
    "matplotlib.use(\"Agg\")"
   ]
  },
  {
   "cell_type": "code",
   "execution_count": 3,
   "metadata": {
    "execution": {
     "iopub.execute_input": "2021-04-15T07:39:00.092345Z",
     "iopub.status.busy": "2021-04-15T07:39:00.091642Z",
     "iopub.status.idle": "2021-04-15T07:39:00.096226Z",
     "shell.execute_reply": "2021-04-15T07:39:00.096807Z"
    }
   },
   "outputs": [],
   "source": [
    "current_dir = %pwd\n",
    "timestamp = os.path.basename(current_dir)"
   ]
  },
  {
   "cell_type": "code",
   "execution_count": 4,
   "metadata": {
    "execution": {
     "iopub.execute_input": "2021-04-15T07:39:00.100058Z",
     "iopub.status.busy": "2021-04-15T07:39:00.099391Z",
     "iopub.status.idle": "2021-04-15T07:39:00.105827Z",
     "shell.execute_reply": "2021-04-15T07:39:00.106336Z"
    }
   },
   "outputs": [
    {
     "name": "stdout",
     "output_type": "stream",
     "text": [
      "/home/ubuntu/repo/bakuchi\n"
     ]
    }
   ],
   "source": [
    "import sys\n",
    "sys.path.append('/home/tsu-nera/repo/bakuchi/')\n",
    "%cd '../../'"
   ]
  },
  {
   "cell_type": "code",
   "execution_count": 5,
   "metadata": {
    "execution": {
     "iopub.execute_input": "2021-04-15T07:39:00.109058Z",
     "iopub.status.busy": "2021-04-15T07:39:00.108460Z",
     "iopub.status.idle": "2021-04-15T07:39:00.141536Z",
     "shell.execute_reply": "2021-04-15T07:39:00.142074Z"
    }
   },
   "outputs": [],
   "source": [
    "from src.utils.trade_analysis import TradeAnalysis\n",
    "\n",
    "%reload_ext autoreload\n",
    "%autoreload 2"
   ]
  },
  {
   "cell_type": "code",
   "execution_count": 6,
   "metadata": {
    "execution": {
     "iopub.execute_input": "2021-04-15T07:39:00.145191Z",
     "iopub.status.busy": "2021-04-15T07:39:00.144507Z",
     "iopub.status.idle": "2021-04-15T07:39:00.188083Z",
     "shell.execute_reply": "2021-04-15T07:39:00.188639Z"
    }
   },
   "outputs": [],
   "source": [
    "ta = TradeAnalysis(timestamp)"
   ]
  },
  {
   "cell_type": "code",
   "execution_count": 7,
   "metadata": {
    "execution": {
     "iopub.execute_input": "2021-04-15T07:39:00.191730Z",
     "iopub.status.busy": "2021-04-15T07:39:00.191101Z",
     "iopub.status.idle": "2021-04-15T07:39:00.204310Z",
     "shell.execute_reply": "2021-04-15T07:39:00.204884Z"
    }
   },
   "outputs": [],
   "source": [
    "ex1_trades = ta.get_ex1_trades_df()\n",
    "ex2_trades = ta.get_ex2_trades_df()"
   ]
  },
  {
   "cell_type": "code",
   "execution_count": 8,
   "metadata": {
    "execution": {
     "iopub.execute_input": "2021-04-15T07:39:00.207870Z",
     "iopub.status.busy": "2021-04-15T07:39:00.207281Z",
     "iopub.status.idle": "2021-04-15T07:39:00.223716Z",
     "shell.execute_reply": "2021-04-15T07:39:00.224281Z"
    }
   },
   "outputs": [
    {
     "data": {
      "text/plain": [
       "(8, 8)"
      ]
     },
     "execution_count": 1,
     "metadata": {},
     "output_type": "execute_result"
    }
   ],
   "source": [
    "len(ex1_trades), len(ex2_trades)"
   ]
  },
  {
   "cell_type": "markdown",
   "metadata": {},
   "source": [
    "## トレード結果"
   ]
  },
  {
   "cell_type": "code",
   "execution_count": 9,
   "metadata": {
    "execution": {
     "iopub.execute_input": "2021-04-15T07:39:00.227384Z",
     "iopub.status.busy": "2021-04-15T07:39:00.226740Z",
     "iopub.status.idle": "2021-04-15T07:39:00.242390Z",
     "shell.execute_reply": "2021-04-15T07:39:00.242971Z"
    }
   },
   "outputs": [
    {
     "name": "stdout",
     "output_type": "stream",
     "text": [
      "トレード情報\n",
      "-------------------  -------------------\n",
      "         レコード数                  912\n",
      "           取引回数                    8\n",
      "           開始日時  2021-04-15 16:22:45\n",
      "           終了日時  2021-04-15 16:38:37\n",
      "        取引時間[H]              0:15:52\n",
      "      取引単位[BTC]               0.0007\n",
      "  利確しきい値[JPY]                 5000\n",
      "損切りマージン[JPY]                 5000\n",
      "-------------------  -------------------\n",
      "\n",
      "\n",
      "トレード結果\n",
      "-----------  ------\n",
      "開始[JPY]     12880\n",
      "終了[JPY]     12845\n",
      "利益[JPY]       -35\n",
      "開始[BTC]    0.0024\n",
      "終了[BTC]    0.0024\n",
      "利益[BTC]         0\n",
      "開始[TOTAL]   29388\n",
      "終了[TOTAL]   29323\n",
      "利益[TOTAL]     -65\n",
      "-----------  ------\n",
      "\n",
      "\n",
      "トレード利益\n",
      "  Bot利益    トレード利益    市場利益\n",
      "---------  --------------  ----------\n",
      "      -65         -36.024     -28.976\n"
     ]
    }
   ],
   "source": [
    "ta.display()"
   ]
  },
  {
   "cell_type": "markdown",
   "metadata": {},
   "source": [
    "## 取引履歴"
   ]
  },
  {
   "cell_type": "code",
   "execution_count": 10,
   "metadata": {
    "execution": {
     "iopub.execute_input": "2021-04-15T07:39:00.245917Z",
     "iopub.status.busy": "2021-04-15T07:39:00.245318Z",
     "iopub.status.idle": "2021-04-15T07:39:00.265290Z",
     "shell.execute_reply": "2021-04-15T07:39:00.265821Z"
    },
    "scrolled": false
   },
   "outputs": [],
   "source": [
    "profit_df = ta.create_profit_df()"
   ]
  },
  {
   "cell_type": "code",
   "execution_count": 11,
   "metadata": {
    "execution": {
     "iopub.execute_input": "2021-04-15T07:39:00.268662Z",
     "iopub.status.busy": "2021-04-15T07:39:00.268034Z",
     "iopub.status.idle": "2021-04-15T07:39:00.292899Z",
     "shell.execute_reply": "2021-04-15T07:39:00.293500Z"
    }
   },
   "outputs": [
    {
     "data": {
      "text/html": [
       "<div>\n",
       "<style scoped>\n",
       "    .dataframe tbody tr th:only-of-type {\n",
       "        vertical-align: middle;\n",
       "    }\n",
       "\n",
       "    .dataframe tbody tr th {\n",
       "        vertical-align: top;\n",
       "    }\n",
       "\n",
       "    .dataframe thead th {\n",
       "        text-align: right;\n",
       "    }\n",
       "</style>\n",
       "<table border=\"1\" class=\"dataframe\">\n",
       "  <thead>\n",
       "    <tr style=\"text-align: right;\">\n",
       "      <th></th>\n",
       "      <th>ex1_side</th>\n",
       "      <th>ex1_price</th>\n",
       "      <th>ex2_side</th>\n",
       "      <th>ex2_price</th>\n",
       "      <th>profit</th>\n",
       "    </tr>\n",
       "    <tr>\n",
       "      <th>timestamp</th>\n",
       "      <th></th>\n",
       "      <th></th>\n",
       "      <th></th>\n",
       "      <th></th>\n",
       "      <th></th>\n",
       "    </tr>\n",
       "  </thead>\n",
       "  <tbody>\n",
       "    <tr>\n",
       "      <th>2021-04-15 16:23:53</th>\n",
       "      <td>sell</td>\n",
       "      <td>4805.500</td>\n",
       "      <td>buy</td>\n",
       "      <td>4804.349</td>\n",
       "      <td>1.151</td>\n",
       "    </tr>\n",
       "    <tr>\n",
       "      <th>2021-04-15 16:24:09</th>\n",
       "      <td>buy</td>\n",
       "      <td>4802.143</td>\n",
       "      <td>sell</td>\n",
       "      <td>4803.344</td>\n",
       "      <td>1.201</td>\n",
       "    </tr>\n",
       "    <tr>\n",
       "      <th>2021-04-15 16:24:12</th>\n",
       "      <td>buy</td>\n",
       "      <td>4802.143</td>\n",
       "      <td>sell</td>\n",
       "      <td>4804.532</td>\n",
       "      <td>2.389</td>\n",
       "    </tr>\n",
       "    <tr>\n",
       "      <th>2021-04-15 16:24:28</th>\n",
       "      <td>sell</td>\n",
       "      <td>4802.151</td>\n",
       "      <td>buy</td>\n",
       "      <td>4801.931</td>\n",
       "      <td>0.220</td>\n",
       "    </tr>\n",
       "    <tr>\n",
       "      <th>2021-04-15 16:25:52</th>\n",
       "      <td>buy</td>\n",
       "      <td>4800.390</td>\n",
       "      <td>sell</td>\n",
       "      <td>4805.113</td>\n",
       "      <td>4.723</td>\n",
       "    </tr>\n",
       "    <tr>\n",
       "      <th>2021-04-15 16:29:27</th>\n",
       "      <td>sell</td>\n",
       "      <td>4814.253</td>\n",
       "      <td>buy</td>\n",
       "      <td>4816.044</td>\n",
       "      <td>-1.791</td>\n",
       "    </tr>\n",
       "    <tr>\n",
       "      <th>2021-04-15 16:36:54</th>\n",
       "      <td>buy</td>\n",
       "      <td>4802.001</td>\n",
       "      <td>sell</td>\n",
       "      <td>4806.386</td>\n",
       "      <td>4.385</td>\n",
       "    </tr>\n",
       "    <tr>\n",
       "      <th>2021-04-15 16:38:28</th>\n",
       "      <td>sell</td>\n",
       "      <td>4806.060</td>\n",
       "      <td>buy</td>\n",
       "      <td>4806.857</td>\n",
       "      <td>-0.797</td>\n",
       "    </tr>\n",
       "  </tbody>\n",
       "</table>\n",
       "</div>"
      ],
      "text/plain": [
       "                    ex1_side  ex1_price ex2_side  ex2_price  profit\n",
       "timestamp                                                          \n",
       "2021-04-15 16:23:53     sell   4805.500      buy   4804.349   1.151\n",
       "2021-04-15 16:24:09      buy   4802.143     sell   4803.344   1.201\n",
       "2021-04-15 16:24:12      buy   4802.143     sell   4804.532   2.389\n",
       "2021-04-15 16:24:28     sell   4802.151      buy   4801.931   0.220\n",
       "2021-04-15 16:25:52      buy   4800.390     sell   4805.113   4.723\n",
       "2021-04-15 16:29:27     sell   4814.253      buy   4816.044  -1.791\n",
       "2021-04-15 16:36:54      buy   4802.001     sell   4806.386   4.385\n",
       "2021-04-15 16:38:28     sell   4806.060      buy   4806.857  -0.797"
      ]
     },
     "execution_count": 1,
     "metadata": {},
     "output_type": "execute_result"
    }
   ],
   "source": [
    "profit_df.tail(30)"
   ]
  },
  {
   "cell_type": "code",
   "execution_count": 12,
   "metadata": {
    "execution": {
     "iopub.execute_input": "2021-04-15T07:39:00.296618Z",
     "iopub.status.busy": "2021-04-15T07:39:00.295969Z",
     "iopub.status.idle": "2021-04-15T07:39:00.310854Z",
     "shell.execute_reply": "2021-04-15T07:39:00.311424Z"
    }
   },
   "outputs": [
    {
     "data": {
      "text/plain": [
       "11.481"
      ]
     },
     "execution_count": 1,
     "metadata": {},
     "output_type": "execute_result"
    }
   ],
   "source": [
    "round(sum(profit_df.profit), 3)"
   ]
  },
  {
   "cell_type": "markdown",
   "metadata": {},
   "source": [
    "## トレードグラフ"
   ]
  },
  {
   "cell_type": "code",
   "execution_count": 13,
   "metadata": {
    "execution": {
     "iopub.execute_input": "2021-04-15T07:39:00.314528Z",
     "iopub.status.busy": "2021-04-15T07:39:00.313870Z",
     "iopub.status.idle": "2021-04-15T07:39:00.326005Z",
     "shell.execute_reply": "2021-04-15T07:39:00.326601Z"
    }
   },
   "outputs": [],
   "source": [
    "ex1_ticks = ta.get_ex1_ticks_df()\n",
    "ex2_ticks = ta.get_ex2_ticks_df()"
   ]
  },
  {
   "cell_type": "code",
   "execution_count": 14,
   "metadata": {
    "execution": {
     "iopub.execute_input": "2021-04-15T07:39:00.329616Z",
     "iopub.status.busy": "2021-04-15T07:39:00.328938Z",
     "iopub.status.idle": "2021-04-15T07:39:00.341874Z",
     "shell.execute_reply": "2021-04-15T07:39:00.342379Z"
    }
   },
   "outputs": [
    {
     "data": {
      "text/plain": [
       "(912, 912)"
      ]
     },
     "execution_count": 1,
     "metadata": {},
     "output_type": "execute_result"
    }
   ],
   "source": [
    "len(ex1_ticks), len(ex2_ticks)"
   ]
  },
  {
   "cell_type": "code",
   "execution_count": 15,
   "metadata": {
    "execution": {
     "iopub.execute_input": "2021-04-15T07:39:00.345231Z",
     "iopub.status.busy": "2021-04-15T07:39:00.344622Z",
     "iopub.status.idle": "2021-04-15T07:39:00.666271Z",
     "shell.execute_reply": "2021-04-15T07:39:00.665550Z"
    }
   },
   "outputs": [
    {
     "data": {
      "text/plain": [
       "Text(0.5, 1.0, 'exchange2 bid/exchange1 ask')"
      ]
     },
     "execution_count": 1,
     "metadata": {},
     "output_type": "execute_result"
    }
   ],
   "source": [
    "ex1_bids = ex1_ticks['bid']\n",
    "ex1_asks = ex1_ticks['ask']\n",
    "ex2_bids = ex2_ticks['bid']\n",
    "ex2_asks = ex2_ticks['ask']\n",
    "\n",
    "fig1, ax1 = ta.get_fig(ex1_bids, ex2_asks)\n",
    "fig2, ax2 = ta.get_fig(ex2_bids, ex1_asks)\n",
    "\n",
    "ax1.set_title('exchange1 bid/exchange2 ask')\n",
    "ax2.set_title('exchange2 bid/exchange1 ask')"
   ]
  },
  {
   "cell_type": "code",
   "execution_count": 16,
   "metadata": {
    "execution": {
     "iopub.execute_input": "2021-04-15T07:39:00.669427Z",
     "iopub.status.busy": "2021-04-15T07:39:00.668780Z",
     "iopub.status.idle": "2021-04-15T07:39:00.884930Z",
     "shell.execute_reply": "2021-04-15T07:39:00.885522Z"
    }
   },
   "outputs": [
    {
     "data": {
      "image/png": "[encoded data removed]",
      "text/plain": [
       "<Figure size 864x360 with 1 Axes>"
      ]
     },
     "execution_count": 1,
     "metadata": {},
     "output_type": "execute_result"
    }
   ],
   "source": [
    "fig1"
   ]
  },
  {
   "cell_type": "code",
   "execution_count": 17,
   "metadata": {
    "execution": {
     "iopub.execute_input": "2021-04-15T07:39:00.888620Z",
     "iopub.status.busy": "2021-04-15T07:39:00.888016Z",
     "iopub.status.idle": "2021-04-15T07:39:01.104815Z",
     "shell.execute_reply": "2021-04-15T07:39:01.104150Z"
    }
   },
   "outputs": [
    {
     "data": {
      "image/png": "[encoded data removed]",
      "text/plain": [
       "<Figure size 864x360 with 1 Axes>"
      ]
     },
     "execution_count": 1,
     "metadata": {},
     "output_type": "execute_result"
    }
   ],
   "source": [
    "fig2"
   ]
  },
  {
   "cell_type": "code",
   "execution_count": null,
   "metadata": {},
   "outputs": [],
   "source": []
  }
 ],
 "metadata": {
  "kernelspec": {
   "display_name": "Python 3",
   "language": "python",
   "name": "python3"
  },
  "language_info": {
   "codemirror_mode": {
    "name": "ipython",
    "version": 3
   },
   "file_extension": ".py",
   "mimetype": "text/x-python",
   "name": "python",
   "nbconvert_exporter": "python",
   "pygments_lexer": "ipython3",
   "version": "3.7.10"
  }
 },
 "nbformat": 4,
 "nbformat_minor": 4
}
