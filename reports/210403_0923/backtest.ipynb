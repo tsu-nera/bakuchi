{
 "cells": [
  {
   "cell_type": "markdown",
   "metadata": {},
   "source": [
    "# バックテスト検証ノート"
   ]
  },
  {
   "cell_type": "code",
   "execution_count": 1,
   "metadata": {
    "execution": {
     "iopub.execute_input": "2021-04-07T08:20:53.930204Z",
     "iopub.status.busy": "2021-04-07T08:20:53.928910Z",
     "iopub.status.idle": "2021-04-07T08:20:54.394080Z",
     "shell.execute_reply": "2021-04-07T08:20:54.394673Z"
    }
   },
   "outputs": [],
   "source": [
    "import os\n",
    "import numpy as np\n",
    "import pandas as pd\n",
    "import datetime\n",
    "import matplotlib.pyplot as plt"
   ]
  },
  {
   "cell_type": "code",
   "execution_count": 2,
   "metadata": {
    "execution": {
     "iopub.execute_input": "2021-04-07T08:20:54.398556Z",
     "iopub.status.busy": "2021-04-07T08:20:54.398035Z",
     "iopub.status.idle": "2021-04-07T08:20:54.400581Z",
     "shell.execute_reply": "2021-04-07T08:20:54.400104Z"
    }
   },
   "outputs": [],
   "source": [
    "current_dir = %pwd\n",
    "timestamp = os.path.basename(current_dir)"
   ]
  },
  {
   "cell_type": "code",
   "execution_count": 3,
   "metadata": {
    "execution": {
     "iopub.execute_input": "2021-04-07T08:20:54.404804Z",
     "iopub.status.busy": "2021-04-07T08:20:54.404011Z",
     "iopub.status.idle": "2021-04-07T08:20:54.407833Z",
     "shell.execute_reply": "2021-04-07T08:20:54.408568Z"
    }
   },
   "outputs": [
    {
     "name": "stdout",
     "output_type": "stream",
     "text": [
      "/home/tsu-nera/repo/bakuchi\n"
     ]
    }
   ],
   "source": [
    "import sys\n",
    "sys.path.append('/home/tsu-nera/repo/bakuchi/')\n",
    "%cd '../../'"
   ]
  },
  {
   "cell_type": "code",
   "execution_count": 4,
   "metadata": {
    "execution": {
     "iopub.execute_input": "2021-04-07T08:20:54.413105Z",
     "iopub.status.busy": "2021-04-07T08:20:54.412532Z",
     "iopub.status.idle": "2021-04-07T08:20:54.439487Z",
     "shell.execute_reply": "2021-04-07T08:20:54.439929Z"
    }
   },
   "outputs": [],
   "source": [
    "from src.utils.backtesting import Backtesting, run_backtesting\n",
    "\n",
    "%reload_ext autoreload\n",
    "%autoreload 2"
   ]
  },
  {
   "cell_type": "code",
   "execution_count": 5,
   "metadata": {
    "execution": {
     "iopub.execute_input": "2021-04-07T08:20:54.443742Z",
     "iopub.status.busy": "2021-04-07T08:20:54.442870Z",
     "iopub.status.idle": "2021-04-07T08:20:54.554692Z",
     "shell.execute_reply": "2021-04-07T08:20:54.555281Z"
    }
   },
   "outputs": [],
   "source": [
    "bt = Backtesting(timestamp)"
   ]
  },
  {
   "cell_type": "code",
   "execution_count": 6,
   "metadata": {
    "execution": {
     "iopub.execute_input": "2021-04-07T08:20:54.558514Z",
     "iopub.status.busy": "2021-04-07T08:20:54.557979Z",
     "iopub.status.idle": "2021-04-07T08:20:54.568943Z",
     "shell.execute_reply": "2021-04-07T08:20:54.569480Z"
    }
   },
   "outputs": [],
   "source": [
    "df_ex1 = bt.get_coincheck_df()\n",
    "df_ex2 = bt.get_liquid_df()"
   ]
  },
  {
   "cell_type": "code",
   "execution_count": 7,
   "metadata": {
    "execution": {
     "iopub.execute_input": "2021-04-07T08:20:54.572731Z",
     "iopub.status.busy": "2021-04-07T08:20:54.572222Z",
     "iopub.status.idle": "2021-04-07T08:20:54.585913Z",
     "shell.execute_reply": "2021-04-07T08:20:54.585404Z"
    }
   },
   "outputs": [
    {
     "data": {
      "text/plain": [
       "(25496, 25496)"
      ]
     },
     "execution_count": 1,
     "metadata": {},
     "output_type": "execute_result"
    }
   ],
   "source": [
    "len(df_ex1), len(df_ex2)"
   ]
  },
  {
   "cell_type": "markdown",
   "metadata": {},
   "source": [
    "## テスト実行"
   ]
  },
  {
   "cell_type": "code",
   "execution_count": 8,
   "metadata": {
    "execution": {
     "iopub.execute_input": "2021-04-07T08:20:54.589793Z",
     "iopub.status.busy": "2021-04-07T08:20:54.588950Z",
     "iopub.status.idle": "2021-04-07T08:20:55.349616Z",
     "shell.execute_reply": "2021-04-07T08:20:55.348987Z"
    }
   },
   "outputs": [],
   "source": [
    "bt.run()"
   ]
  },
  {
   "cell_type": "markdown",
   "metadata": {},
   "source": [
    "##  取引履歴"
   ]
  },
  {
   "cell_type": "code",
   "execution_count": 9,
   "metadata": {
    "execution": {
     "iopub.execute_input": "2021-04-07T08:20:55.353796Z",
     "iopub.status.busy": "2021-04-07T08:20:55.352902Z",
     "iopub.status.idle": "2021-04-07T08:20:55.378469Z",
     "shell.execute_reply": "2021-04-07T08:20:55.379001Z"
    }
   },
   "outputs": [
    {
     "data": {
      "text/html": [
       "<div>\n",
       "<style scoped>\n",
       "    .dataframe tbody tr th:only-of-type {\n",
       "        vertical-align: middle;\n",
       "    }\n",
       "\n",
       "    .dataframe tbody tr th {\n",
       "        vertical-align: top;\n",
       "    }\n",
       "\n",
       "    .dataframe thead th {\n",
       "        text-align: right;\n",
       "    }\n",
       "</style>\n",
       "<table border=\"1\" class=\"dataframe\">\n",
       "  <thead>\n",
       "    <tr style=\"text-align: right;\">\n",
       "      <th></th>\n",
       "      <th>取引日時</th>\n",
       "      <th>購入取引所</th>\n",
       "      <th>売却取引所</th>\n",
       "      <th>通貨ペア</th>\n",
       "      <th>取引量</th>\n",
       "      <th>期待利益</th>\n",
       "    </tr>\n",
       "  </thead>\n",
       "  <tbody>\n",
       "    <tr>\n",
       "      <th>0</th>\n",
       "      <td>2021-04-03 09:23:38</td>\n",
       "      <td>liquid</td>\n",
       "      <td>bitbank</td>\n",
       "      <td>BTC/JPY</td>\n",
       "      <td>0.006</td>\n",
       "      <td>20</td>\n",
       "    </tr>\n",
       "    <tr>\n",
       "      <th>1</th>\n",
       "      <td>2021-04-03 09:26:36</td>\n",
       "      <td>bitbank</td>\n",
       "      <td>liquid</td>\n",
       "      <td>BTC/JPY</td>\n",
       "      <td>0.006</td>\n",
       "      <td>-5</td>\n",
       "    </tr>\n",
       "    <tr>\n",
       "      <th>2</th>\n",
       "      <td>2021-04-03 09:28:12</td>\n",
       "      <td>liquid</td>\n",
       "      <td>bitbank</td>\n",
       "      <td>BTC/JPY</td>\n",
       "      <td>0.006</td>\n",
       "      <td>41</td>\n",
       "    </tr>\n",
       "    <tr>\n",
       "      <th>3</th>\n",
       "      <td>2021-04-03 09:29:04</td>\n",
       "      <td>bitbank</td>\n",
       "      <td>liquid</td>\n",
       "      <td>BTC/JPY</td>\n",
       "      <td>0.006</td>\n",
       "      <td>-32</td>\n",
       "    </tr>\n",
       "    <tr>\n",
       "      <th>4</th>\n",
       "      <td>2021-04-03 09:29:07</td>\n",
       "      <td>liquid</td>\n",
       "      <td>bitbank</td>\n",
       "      <td>BTC/JPY</td>\n",
       "      <td>0.006</td>\n",
       "      <td>19</td>\n",
       "    </tr>\n",
       "    <tr>\n",
       "      <th>...</th>\n",
       "      <td>...</td>\n",
       "      <td>...</td>\n",
       "      <td>...</td>\n",
       "      <td>...</td>\n",
       "      <td>...</td>\n",
       "      <td>...</td>\n",
       "    </tr>\n",
       "    <tr>\n",
       "      <th>847</th>\n",
       "      <td>2021-04-04 07:14:59</td>\n",
       "      <td>bitbank</td>\n",
       "      <td>liquid</td>\n",
       "      <td>BTC/JPY</td>\n",
       "      <td>0.006</td>\n",
       "      <td>-41</td>\n",
       "    </tr>\n",
       "    <tr>\n",
       "      <th>848</th>\n",
       "      <td>2021-04-04 07:15:03</td>\n",
       "      <td>liquid</td>\n",
       "      <td>bitbank</td>\n",
       "      <td>BTC/JPY</td>\n",
       "      <td>0.006</td>\n",
       "      <td>45</td>\n",
       "    </tr>\n",
       "    <tr>\n",
       "      <th>849</th>\n",
       "      <td>2021-04-04 07:17:33</td>\n",
       "      <td>bitbank</td>\n",
       "      <td>liquid</td>\n",
       "      <td>BTC/JPY</td>\n",
       "      <td>0.006</td>\n",
       "      <td>-37</td>\n",
       "    </tr>\n",
       "    <tr>\n",
       "      <th>850</th>\n",
       "      <td>2021-04-04 07:19:23</td>\n",
       "      <td>liquid</td>\n",
       "      <td>bitbank</td>\n",
       "      <td>BTC/JPY</td>\n",
       "      <td>0.006</td>\n",
       "      <td>47</td>\n",
       "    </tr>\n",
       "    <tr>\n",
       "      <th>851</th>\n",
       "      <td>2021-04-04 07:19:36</td>\n",
       "      <td>bitbank</td>\n",
       "      <td>liquid</td>\n",
       "      <td>BTC/JPY</td>\n",
       "      <td>0.006</td>\n",
       "      <td>-30</td>\n",
       "    </tr>\n",
       "  </tbody>\n",
       "</table>\n",
       "<p>852 rows × 6 columns</p>\n",
       "</div>"
      ],
      "text/plain": [
       "                    取引日時    購入取引所    売却取引所     通貨ペア    取引量  期待利益\n",
       "0    2021-04-03 09:23:38   liquid  bitbank  BTC/JPY  0.006    20\n",
       "1    2021-04-03 09:26:36  bitbank   liquid  BTC/JPY  0.006    -5\n",
       "2    2021-04-03 09:28:12   liquid  bitbank  BTC/JPY  0.006    41\n",
       "3    2021-04-03 09:29:04  bitbank   liquid  BTC/JPY  0.006   -32\n",
       "4    2021-04-03 09:29:07   liquid  bitbank  BTC/JPY  0.006    19\n",
       "..                   ...      ...      ...      ...    ...   ...\n",
       "847  2021-04-04 07:14:59  bitbank   liquid  BTC/JPY  0.006   -41\n",
       "848  2021-04-04 07:15:03   liquid  bitbank  BTC/JPY  0.006    45\n",
       "849  2021-04-04 07:17:33  bitbank   liquid  BTC/JPY  0.006   -37\n",
       "850  2021-04-04 07:19:23   liquid  bitbank  BTC/JPY  0.006    47\n",
       "851  2021-04-04 07:19:36  bitbank   liquid  BTC/JPY  0.006   -30\n",
       "\n",
       "[852 rows x 6 columns]"
      ]
     },
     "execution_count": 1,
     "metadata": {},
     "output_type": "execute_result"
    }
   ],
   "source": [
    "arbitrage_histories = bt.get_arbitrage_histories()\n",
    "\n",
    "headers = [\"取引日時\", \"購入取引所\", \"売却取引所\", \"通貨ペア\", \"取引量\", \"期待利益\"]\n",
    "arbitrage_histories_df = pd.DataFrame(arbitrage_histories, columns=headers)\n",
    "arbitrage_histories_df"
   ]
  },
  {
   "cell_type": "code",
   "execution_count": 10,
   "metadata": {
    "execution": {
     "iopub.execute_input": "2021-04-07T08:20:55.383368Z",
     "iopub.status.busy": "2021-04-07T08:20:55.382350Z",
     "iopub.status.idle": "2021-04-07T08:20:55.404498Z",
     "shell.execute_reply": "2021-04-07T08:20:55.404928Z"
    }
   },
   "outputs": [
    {
     "data": {
      "text/html": [
       "<div>\n",
       "<style scoped>\n",
       "    .dataframe tbody tr th:only-of-type {\n",
       "        vertical-align: middle;\n",
       "    }\n",
       "\n",
       "    .dataframe tbody tr th {\n",
       "        vertical-align: top;\n",
       "    }\n",
       "\n",
       "    .dataframe thead th {\n",
       "        text-align: right;\n",
       "    }\n",
       "</style>\n",
       "<table border=\"1\" class=\"dataframe\">\n",
       "  <thead>\n",
       "    <tr style=\"text-align: right;\">\n",
       "      <th></th>\n",
       "      <th>取引日時</th>\n",
       "      <th>売買</th>\n",
       "      <th>取引所</th>\n",
       "      <th>レート</th>\n",
       "    </tr>\n",
       "  </thead>\n",
       "  <tbody>\n",
       "    <tr>\n",
       "      <th>0</th>\n",
       "      <td>2021-04-03 09:23:38</td>\n",
       "      <td>liquid</td>\n",
       "      <td>買い</td>\n",
       "      <td>6566619.0</td>\n",
       "    </tr>\n",
       "    <tr>\n",
       "      <th>1</th>\n",
       "      <td>2021-04-03 09:23:38</td>\n",
       "      <td>bitbank</td>\n",
       "      <td>売り</td>\n",
       "      <td>6569994.0</td>\n",
       "    </tr>\n",
       "    <tr>\n",
       "      <th>2</th>\n",
       "      <td>2021-04-03 09:26:36</td>\n",
       "      <td>bitbank</td>\n",
       "      <td>買い</td>\n",
       "      <td>6564577.0</td>\n",
       "    </tr>\n",
       "    <tr>\n",
       "      <th>3</th>\n",
       "      <td>2021-04-03 09:26:36</td>\n",
       "      <td>liquid</td>\n",
       "      <td>売り</td>\n",
       "      <td>6563709.0</td>\n",
       "    </tr>\n",
       "    <tr>\n",
       "      <th>4</th>\n",
       "      <td>2021-04-03 09:28:12</td>\n",
       "      <td>liquid</td>\n",
       "      <td>買い</td>\n",
       "      <td>6556086.0</td>\n",
       "    </tr>\n",
       "    <tr>\n",
       "      <th>...</th>\n",
       "      <td>...</td>\n",
       "      <td>...</td>\n",
       "      <td>...</td>\n",
       "      <td>...</td>\n",
       "    </tr>\n",
       "    <tr>\n",
       "      <th>1699</th>\n",
       "      <td>2021-04-04 07:17:33</td>\n",
       "      <td>liquid</td>\n",
       "      <td>売り</td>\n",
       "      <td>6381768.0</td>\n",
       "    </tr>\n",
       "    <tr>\n",
       "      <th>1700</th>\n",
       "      <td>2021-04-04 07:19:23</td>\n",
       "      <td>liquid</td>\n",
       "      <td>買い</td>\n",
       "      <td>6395300.0</td>\n",
       "    </tr>\n",
       "    <tr>\n",
       "      <th>1701</th>\n",
       "      <td>2021-04-04 07:19:23</td>\n",
       "      <td>bitbank</td>\n",
       "      <td>売り</td>\n",
       "      <td>6403186.0</td>\n",
       "    </tr>\n",
       "    <tr>\n",
       "      <th>1702</th>\n",
       "      <td>2021-04-04 07:19:36</td>\n",
       "      <td>bitbank</td>\n",
       "      <td>買い</td>\n",
       "      <td>6403599.0</td>\n",
       "    </tr>\n",
       "    <tr>\n",
       "      <th>1703</th>\n",
       "      <td>2021-04-04 07:19:36</td>\n",
       "      <td>liquid</td>\n",
       "      <td>売り</td>\n",
       "      <td>6398482.0</td>\n",
       "    </tr>\n",
       "  </tbody>\n",
       "</table>\n",
       "<p>1704 rows × 4 columns</p>\n",
       "</div>"
      ],
      "text/plain": [
       "                     取引日時       売買 取引所        レート\n",
       "0     2021-04-03 09:23:38   liquid  買い  6566619.0\n",
       "1     2021-04-03 09:23:38  bitbank  売り  6569994.0\n",
       "2     2021-04-03 09:26:36  bitbank  買い  6564577.0\n",
       "3     2021-04-03 09:26:36   liquid  売り  6563709.0\n",
       "4     2021-04-03 09:28:12   liquid  買い  6556086.0\n",
       "...                   ...      ...  ..        ...\n",
       "1699  2021-04-04 07:17:33   liquid  売り  6381768.0\n",
       "1700  2021-04-04 07:19:23   liquid  買い  6395300.0\n",
       "1701  2021-04-04 07:19:23  bitbank  売り  6403186.0\n",
       "1702  2021-04-04 07:19:36  bitbank  買い  6403599.0\n",
       "1703  2021-04-04 07:19:36   liquid  売り  6398482.0\n",
       "\n",
       "[1704 rows x 4 columns]"
      ]
     },
     "execution_count": 1,
     "metadata": {},
     "output_type": "execute_result"
    }
   ],
   "source": [
    "histories = bt.get_trade_histories()\n",
    "headers = [\"取引日時\",  \"売買\",  \"取引所\", \"レート\"]\n",
    "histories_df = pd.DataFrame(histories, columns=headers)\n",
    "histories_df"
   ]
  },
  {
   "cell_type": "markdown",
   "metadata": {},
   "source": [
    "## 結果まとめ"
   ]
  },
  {
   "cell_type": "code",
   "execution_count": 11,
   "metadata": {
    "execution": {
     "iopub.execute_input": "2021-04-07T08:20:55.408223Z",
     "iopub.status.busy": "2021-04-07T08:20:55.407672Z",
     "iopub.status.idle": "2021-04-07T08:20:55.420468Z",
     "shell.execute_reply": "2021-04-07T08:20:55.420973Z"
    }
   },
   "outputs": [
    {
     "name": "stdout",
     "output_type": "stream",
     "text": [
      "バックテスト情報\n",
      "-------------------  -------------------\n",
      "         レコード数                25496\n",
      "           取引回数                  852\n",
      "           開始日時  2021-04-03 09:23:38\n",
      "           終了日時  2021-04-04 07:20:10\n",
      "        取引時間[H]      0 days 21:56:32\n",
      "      取引単位[BTC]                0.006\n",
      "  利確しきい値[JPY]                 6747\n",
      "損切りマージン[JPY]                 1000\n",
      "-------------------  -------------------\n",
      "\n",
      "バックテスト結果\n",
      "-----------  -------\n",
      "開始[JPY]      10000\n",
      "終了[JPY]      13846\n",
      "利益[JPY]       3846\n",
      "開始[BTC]      0.022\n",
      "終了[BTC]      0.022\n",
      "利益[BTC]          0\n",
      "開始[TOTAL]   152703\n",
      "終了[TOTAL]   156550\n",
      "利益[TOTAL]  3846.62\n",
      "-----------  -------\n"
     ]
    }
   ],
   "source": [
    "bt.display()"
   ]
  },
  {
   "cell_type": "markdown",
   "metadata": {},
   "source": [
    "## グラフ出力"
   ]
  },
  {
   "cell_type": "code",
   "execution_count": 12,
   "metadata": {
    "execution": {
     "iopub.execute_input": "2021-04-07T08:20:55.425257Z",
     "iopub.status.busy": "2021-04-07T08:20:55.424278Z",
     "iopub.status.idle": "2021-04-07T08:20:55.630582Z",
     "shell.execute_reply": "2021-04-07T08:20:55.630117Z"
    },
    "scrolled": true
   },
   "outputs": [
    {
     "data": {
      "text/plain": [
       "[<matplotlib.lines.Line2D at 0x7f11828a9940>]"
      ]
     },
     "execution_count": 1,
     "metadata": {},
     "output_type": "execute_result"
    },
    {
     "data": {
      "image/png": "[encoded data removed]",
      "text/plain": [
       "<Figure size 864x288 with 1 Axes>"
      ]
     },
     "metadata": {
      "needs_background": "light"
     },
     "output_type": "display_data"
    }
   ],
   "source": [
    "plt.figure(figsize=(12,4))\n",
    "plt.plot(df_ex1.index, df_ex1['bid'])"
   ]
  },
  {
   "cell_type": "code",
   "execution_count": 13,
   "metadata": {
    "execution": {
     "iopub.execute_input": "2021-04-07T08:20:55.634192Z",
     "iopub.status.busy": "2021-04-07T08:20:55.633570Z",
     "iopub.status.idle": "2021-04-07T08:20:55.842309Z",
     "shell.execute_reply": "2021-04-07T08:20:55.842817Z"
    }
   },
   "outputs": [
    {
     "data": {
      "text/plain": [
       "[<matplotlib.lines.Line2D at 0x7f118205a8d0>]"
      ]
     },
     "execution_count": 1,
     "metadata": {},
     "output_type": "execute_result"
    },
    {
     "data": {
      "image/png": "[encoded data removed]",
      "text/plain": [
       "<Figure size 864x288 with 1 Axes>"
      ]
     },
     "metadata": {
      "needs_background": "light"
     },
     "output_type": "display_data"
    }
   ],
   "source": [
    "plt.figure(figsize=(12,4))\n",
    "plt.plot(df_ex2.index, df_ex2['bid'])"
   ]
  },
  {
   "cell_type": "markdown",
   "metadata": {},
   "source": [
    "## 分析"
   ]
  },
  {
   "cell_type": "markdown",
   "metadata": {},
   "source": [
    "### 時間別の取引回数と利益"
   ]
  },
  {
   "cell_type": "code",
   "execution_count": null,
   "metadata": {},
   "outputs": [],
   "source": []
  },
  {
   "cell_type": "markdown",
   "metadata": {},
   "source": [
    "### 時間別の価格差の推移"
   ]
  },
  {
   "cell_type": "code",
   "execution_count": 14,
   "metadata": {
    "execution": {
     "iopub.execute_input": "2021-04-07T08:20:55.847571Z",
     "iopub.status.busy": "2021-04-07T08:20:55.846982Z",
     "iopub.status.idle": "2021-04-07T08:20:55.881049Z",
     "shell.execute_reply": "2021-04-07T08:20:55.881635Z"
    }
   },
   "outputs": [],
   "source": [
    "profit_margin_df = pd.DataFrame({\n",
    "    \"timestamp\": pd.to_datetime(df_ex1.index),\n",
    "    \"buy_ex1_sell_ex2\": df_ex2.reset_index().bid - df_ex1.reset_index().ask,\n",
    "    \"buy_ex2_sell_ex1\": df_ex1.reset_index().bid - df_ex2.reset_index().ask,\n",
    "    'ex1_bid': df_ex1.reset_index().bid,\n",
    "     'ex2_ask': df_ex2.reset_index().ask,\n",
    "    'ex2_bid': df_ex2.reset_index().bid,\n",
    "    'ex1_ask': df_ex1.reset_index().ask,\n",
    "})\n",
    "\n",
    "profit_margin_df = profit_margin_df.set_index(\"timestamp\")"
   ]
  },
  {
   "cell_type": "code",
   "execution_count": 15,
   "metadata": {
    "execution": {
     "iopub.execute_input": "2021-04-07T08:20:55.885297Z",
     "iopub.status.busy": "2021-04-07T08:20:55.884769Z",
     "iopub.status.idle": "2021-04-07T08:20:55.908819Z",
     "shell.execute_reply": "2021-04-07T08:20:55.909333Z"
    }
   },
   "outputs": [
    {
     "data": {
      "text/html": [
       "<div>\n",
       "<style scoped>\n",
       "    .dataframe tbody tr th:only-of-type {\n",
       "        vertical-align: middle;\n",
       "    }\n",
       "\n",
       "    .dataframe tbody tr th {\n",
       "        vertical-align: top;\n",
       "    }\n",
       "\n",
       "    .dataframe thead th {\n",
       "        text-align: right;\n",
       "    }\n",
       "</style>\n",
       "<table border=\"1\" class=\"dataframe\">\n",
       "  <thead>\n",
       "    <tr style=\"text-align: right;\">\n",
       "      <th></th>\n",
       "      <th>buy_ex1_sell_ex2</th>\n",
       "      <th>buy_ex2_sell_ex1</th>\n",
       "      <th>ex1_bid</th>\n",
       "      <th>ex2_ask</th>\n",
       "      <th>ex2_bid</th>\n",
       "      <th>ex1_ask</th>\n",
       "    </tr>\n",
       "    <tr>\n",
       "      <th>timestamp</th>\n",
       "      <th></th>\n",
       "      <th></th>\n",
       "      <th></th>\n",
       "      <th></th>\n",
       "      <th></th>\n",
       "      <th></th>\n",
       "    </tr>\n",
       "  </thead>\n",
       "  <tbody>\n",
       "    <tr>\n",
       "      <th>2021-04-03 09:20:00</th>\n",
       "      <td>-4775</td>\n",
       "      <td>2120</td>\n",
       "      <td>6564808</td>\n",
       "      <td>6562688</td>\n",
       "      <td>6561231</td>\n",
       "      <td>6566007</td>\n",
       "    </tr>\n",
       "    <tr>\n",
       "      <th>2021-04-03 09:30:00</th>\n",
       "      <td>-3788</td>\n",
       "      <td>1852</td>\n",
       "      <td>6563880</td>\n",
       "      <td>6562028</td>\n",
       "      <td>6560909</td>\n",
       "      <td>6564697</td>\n",
       "    </tr>\n",
       "    <tr>\n",
       "      <th>2021-04-03 09:40:00</th>\n",
       "      <td>-1352</td>\n",
       "      <td>-55</td>\n",
       "      <td>6560833</td>\n",
       "      <td>6560888</td>\n",
       "      <td>6559694</td>\n",
       "      <td>6561046</td>\n",
       "    </tr>\n",
       "    <tr>\n",
       "      <th>2021-04-03 09:50:00</th>\n",
       "      <td>-341</td>\n",
       "      <td>-1618</td>\n",
       "      <td>6569007</td>\n",
       "      <td>6570625</td>\n",
       "      <td>6569401</td>\n",
       "      <td>6569742</td>\n",
       "    </tr>\n",
       "    <tr>\n",
       "      <th>2021-04-03 10:00:00</th>\n",
       "      <td>-3345</td>\n",
       "      <td>1957</td>\n",
       "      <td>6575281</td>\n",
       "      <td>6573323</td>\n",
       "      <td>6572068</td>\n",
       "      <td>6575413</td>\n",
       "    </tr>\n",
       "    <tr>\n",
       "      <th>...</th>\n",
       "      <td>...</td>\n",
       "      <td>...</td>\n",
       "      <td>...</td>\n",
       "      <td>...</td>\n",
       "      <td>...</td>\n",
       "      <td>...</td>\n",
       "    </tr>\n",
       "    <tr>\n",
       "      <th>2021-04-04 06:40:00</th>\n",
       "      <td>-6143</td>\n",
       "      <td>4495</td>\n",
       "      <td>6442517</td>\n",
       "      <td>6438022</td>\n",
       "      <td>6436917</td>\n",
       "      <td>6443060</td>\n",
       "    </tr>\n",
       "    <tr>\n",
       "      <th>2021-04-04 06:50:00</th>\n",
       "      <td>-6088</td>\n",
       "      <td>4069</td>\n",
       "      <td>6414645</td>\n",
       "      <td>6410576</td>\n",
       "      <td>6409045</td>\n",
       "      <td>6415133</td>\n",
       "    </tr>\n",
       "    <tr>\n",
       "      <th>2021-04-04 07:00:00</th>\n",
       "      <td>-7479</td>\n",
       "      <td>4984</td>\n",
       "      <td>6373989</td>\n",
       "      <td>6369005</td>\n",
       "      <td>6367199</td>\n",
       "      <td>6374678</td>\n",
       "    </tr>\n",
       "    <tr>\n",
       "      <th>2021-04-04 07:10:00</th>\n",
       "      <td>-8389</td>\n",
       "      <td>5937</td>\n",
       "      <td>6388955</td>\n",
       "      <td>6383018</td>\n",
       "      <td>6380999</td>\n",
       "      <td>6389388</td>\n",
       "    </tr>\n",
       "    <tr>\n",
       "      <th>2021-04-04 07:20:00</th>\n",
       "      <td>-4290</td>\n",
       "      <td>3506</td>\n",
       "      <td>6406887</td>\n",
       "      <td>6403381</td>\n",
       "      <td>6402598</td>\n",
       "      <td>6406888</td>\n",
       "    </tr>\n",
       "  </tbody>\n",
       "</table>\n",
       "<p>133 rows × 6 columns</p>\n",
       "</div>"
      ],
      "text/plain": [
       "                     buy_ex1_sell_ex2  buy_ex2_sell_ex1  ex1_bid  ex2_ask  \\\n",
       "timestamp                                                                   \n",
       "2021-04-03 09:20:00             -4775              2120  6564808  6562688   \n",
       "2021-04-03 09:30:00             -3788              1852  6563880  6562028   \n",
       "2021-04-03 09:40:00             -1352               -55  6560833  6560888   \n",
       "2021-04-03 09:50:00              -341             -1618  6569007  6570625   \n",
       "2021-04-03 10:00:00             -3345              1957  6575281  6573323   \n",
       "...                               ...               ...      ...      ...   \n",
       "2021-04-04 06:40:00             -6143              4495  6442517  6438022   \n",
       "2021-04-04 06:50:00             -6088              4069  6414645  6410576   \n",
       "2021-04-04 07:00:00             -7479              4984  6373989  6369005   \n",
       "2021-04-04 07:10:00             -8389              5937  6388955  6383018   \n",
       "2021-04-04 07:20:00             -4290              3506  6406887  6403381   \n",
       "\n",
       "                     ex2_bid  ex1_ask  \n",
       "timestamp                              \n",
       "2021-04-03 09:20:00  6561231  6566007  \n",
       "2021-04-03 09:30:00  6560909  6564697  \n",
       "2021-04-03 09:40:00  6559694  6561046  \n",
       "2021-04-03 09:50:00  6569401  6569742  \n",
       "2021-04-03 10:00:00  6572068  6575413  \n",
       "...                      ...      ...  \n",
       "2021-04-04 06:40:00  6436917  6443060  \n",
       "2021-04-04 06:50:00  6409045  6415133  \n",
       "2021-04-04 07:00:00  6367199  6374678  \n",
       "2021-04-04 07:10:00  6380999  6389388  \n",
       "2021-04-04 07:20:00  6402598  6406888  \n",
       "\n",
       "[133 rows x 6 columns]"
      ]
     },
     "execution_count": 1,
     "metadata": {},
     "output_type": "execute_result"
    }
   ],
   "source": [
    "pd.options.display.float_format = '{:.0f}'.format\n",
    "profit_margin_df.resample(rule='10Min').mean()"
   ]
  },
  {
   "cell_type": "code",
   "execution_count": null,
   "metadata": {},
   "outputs": [],
   "source": []
  }
 ],
 "metadata": {
  "kernelspec": {
   "display_name": "Environment (conda_bakuchi)",
   "language": "python",
   "name": "conda_bakuchi"
  },
  "language_info": {
   "codemirror_mode": {
    "name": "ipython",
    "version": 3
   },
   "file_extension": ".py",
   "mimetype": "text/x-python",
   "name": "python",
   "nbconvert_exporter": "python",
   "pygments_lexer": "ipython3",
   "version": "3.7.0"
  }
 },
 "nbformat": 4,
 "nbformat_minor": 4
}
