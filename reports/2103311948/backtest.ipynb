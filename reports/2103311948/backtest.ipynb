{
 "cells": [
  {
   "cell_type": "markdown",
   "metadata": {},
   "source": [
    "# バックテスト検証ノート"
   ]
  },
  {
   "cell_type": "code",
   "execution_count": 1,
   "metadata": {
    "execution": {
     "iopub.execute_input": "2021-04-01T06:53:37.792008Z",
     "iopub.status.busy": "2021-04-01T06:53:37.790293Z",
     "iopub.status.idle": "2021-04-01T06:53:38.236799Z",
     "shell.execute_reply": "2021-04-01T06:53:38.236184Z"
    }
   },
   "outputs": [],
   "source": [
    "import os\n",
    "import numpy as np\n",
    "import pandas as pd\n",
    "import datetime\n",
    "import matplotlib.pyplot as plt"
   ]
  },
  {
   "cell_type": "code",
   "execution_count": 2,
   "metadata": {
    "execution": {
     "iopub.execute_input": "2021-04-01T06:53:38.240946Z",
     "iopub.status.busy": "2021-04-01T06:53:38.240235Z",
     "iopub.status.idle": "2021-04-01T06:53:38.242724Z",
     "shell.execute_reply": "2021-04-01T06:53:38.242181Z"
    }
   },
   "outputs": [],
   "source": [
    "current_dir = %pwd\n",
    "timestamp = os.path.basename(current_dir)"
   ]
  },
  {
   "cell_type": "code",
   "execution_count": 3,
   "metadata": {
    "execution": {
     "iopub.execute_input": "2021-04-01T06:53:38.246928Z",
     "iopub.status.busy": "2021-04-01T06:53:38.246273Z",
     "iopub.status.idle": "2021-04-01T06:53:38.249915Z",
     "shell.execute_reply": "2021-04-01T06:53:38.250372Z"
    }
   },
   "outputs": [
    {
     "name": "stdout",
     "output_type": "stream",
     "text": [
      "/home/tsu-nera/repo/bakuchi\n"
     ]
    }
   ],
   "source": [
    "import sys\n",
    "sys.path.append('/home/tsu-nera/repo/bakuchi/')\n",
    "%cd '../../'"
   ]
  },
  {
   "cell_type": "code",
   "execution_count": 4,
   "metadata": {
    "execution": {
     "iopub.execute_input": "2021-04-01T06:53:38.255356Z",
     "iopub.status.busy": "2021-04-01T06:53:38.254442Z",
     "iopub.status.idle": "2021-04-01T06:53:38.281769Z",
     "shell.execute_reply": "2021-04-01T06:53:38.282195Z"
    }
   },
   "outputs": [],
   "source": [
    "from src.utils.backtesting import Backtesting, run_backtesting\n",
    "\n",
    "%reload_ext autoreload\n",
    "%autoreload 2"
   ]
  },
  {
   "cell_type": "code",
   "execution_count": 5,
   "metadata": {
    "execution": {
     "iopub.execute_input": "2021-04-01T06:53:38.285458Z",
     "iopub.status.busy": "2021-04-01T06:53:38.284940Z",
     "iopub.status.idle": "2021-04-01T06:53:38.303885Z",
     "shell.execute_reply": "2021-04-01T06:53:38.303415Z"
    }
   },
   "outputs": [],
   "source": [
    "bt = Backtesting(timestamp)"
   ]
  },
  {
   "cell_type": "code",
   "execution_count": 6,
   "metadata": {
    "execution": {
     "iopub.execute_input": "2021-04-01T06:53:38.306958Z",
     "iopub.status.busy": "2021-04-01T06:53:38.306430Z",
     "iopub.status.idle": "2021-04-01T06:53:38.318201Z",
     "shell.execute_reply": "2021-04-01T06:53:38.317562Z"
    }
   },
   "outputs": [],
   "source": [
    "df_ex1 = bt.get_coincheck_df()\n",
    "df_ex2 = bt.get_liquid_df()"
   ]
  },
  {
   "cell_type": "code",
   "execution_count": 7,
   "metadata": {
    "execution": {
     "iopub.execute_input": "2021-04-01T06:53:38.321822Z",
     "iopub.status.busy": "2021-04-01T06:53:38.321308Z",
     "iopub.status.idle": "2021-04-01T06:53:38.334317Z",
     "shell.execute_reply": "2021-04-01T06:53:38.334780Z"
    }
   },
   "outputs": [
    {
     "data": {
      "text/plain": [
       "(315, 315)"
      ]
     },
     "execution_count": 1,
     "metadata": {},
     "output_type": "execute_result"
    }
   ],
   "source": [
    "len(df_ex1), len(df_ex2)"
   ]
  },
  {
   "cell_type": "markdown",
   "metadata": {},
   "source": [
    "## テスト実行"
   ]
  },
  {
   "cell_type": "code",
   "execution_count": 8,
   "metadata": {
    "execution": {
     "iopub.execute_input": "2021-04-01T06:53:38.338049Z",
     "iopub.status.busy": "2021-04-01T06:53:38.337528Z",
     "iopub.status.idle": "2021-04-01T06:53:38.357152Z",
     "shell.execute_reply": "2021-04-01T06:53:38.357578Z"
    }
   },
   "outputs": [],
   "source": [
    "bt.run()"
   ]
  },
  {
   "cell_type": "markdown",
   "metadata": {},
   "source": [
    "##  取引履歴"
   ]
  },
  {
   "cell_type": "code",
   "execution_count": 9,
   "metadata": {
    "execution": {
     "iopub.execute_input": "2021-04-01T06:53:38.361007Z",
     "iopub.status.busy": "2021-04-01T06:53:38.360443Z",
     "iopub.status.idle": "2021-04-01T06:53:38.383619Z",
     "shell.execute_reply": "2021-04-01T06:53:38.384072Z"
    }
   },
   "outputs": [
    {
     "data": {
      "text/html": [
       "<div>\n",
       "<style scoped>\n",
       "    .dataframe tbody tr th:only-of-type {\n",
       "        vertical-align: middle;\n",
       "    }\n",
       "\n",
       "    .dataframe tbody tr th {\n",
       "        vertical-align: top;\n",
       "    }\n",
       "\n",
       "    .dataframe thead th {\n",
       "        text-align: right;\n",
       "    }\n",
       "</style>\n",
       "<table border=\"1\" class=\"dataframe\">\n",
       "  <thead>\n",
       "    <tr style=\"text-align: right;\">\n",
       "      <th></th>\n",
       "      <th>取引日時</th>\n",
       "      <th>購入取引所</th>\n",
       "      <th>売却取引所</th>\n",
       "      <th>通貨ペア</th>\n",
       "      <th>取引量</th>\n",
       "      <th>期待利益</th>\n",
       "    </tr>\n",
       "  </thead>\n",
       "  <tbody>\n",
       "    <tr>\n",
       "      <th>0</th>\n",
       "      <td>2021-03-31 19:48:11</td>\n",
       "      <td>liquid</td>\n",
       "      <td>bitbank</td>\n",
       "      <td>BTC/JPY</td>\n",
       "      <td>0.006</td>\n",
       "      <td>26</td>\n",
       "    </tr>\n",
       "    <tr>\n",
       "      <th>1</th>\n",
       "      <td>2021-03-31 19:49:06</td>\n",
       "      <td>bitbank</td>\n",
       "      <td>liquid</td>\n",
       "      <td>BTC/JPY</td>\n",
       "      <td>0.006</td>\n",
       "      <td>-15</td>\n",
       "    </tr>\n",
       "    <tr>\n",
       "      <th>2</th>\n",
       "      <td>2021-03-31 19:49:10</td>\n",
       "      <td>liquid</td>\n",
       "      <td>bitbank</td>\n",
       "      <td>BTC/JPY</td>\n",
       "      <td>0.006</td>\n",
       "      <td>15</td>\n",
       "    </tr>\n",
       "    <tr>\n",
       "      <th>3</th>\n",
       "      <td>2021-03-31 19:51:35</td>\n",
       "      <td>bitbank</td>\n",
       "      <td>liquid</td>\n",
       "      <td>BTC/JPY</td>\n",
       "      <td>0.006</td>\n",
       "      <td>-7</td>\n",
       "    </tr>\n",
       "    <tr>\n",
       "      <th>4</th>\n",
       "      <td>2021-03-31 19:51:57</td>\n",
       "      <td>liquid</td>\n",
       "      <td>bitbank</td>\n",
       "      <td>BTC/JPY</td>\n",
       "      <td>0.006</td>\n",
       "      <td>12</td>\n",
       "    </tr>\n",
       "    <tr>\n",
       "      <th>5</th>\n",
       "      <td>2021-03-31 19:52:13</td>\n",
       "      <td>bitbank</td>\n",
       "      <td>liquid</td>\n",
       "      <td>BTC/JPY</td>\n",
       "      <td>0.006</td>\n",
       "      <td>-6</td>\n",
       "    </tr>\n",
       "    <tr>\n",
       "      <th>6</th>\n",
       "      <td>2021-03-31 19:52:22</td>\n",
       "      <td>bitbank</td>\n",
       "      <td>liquid</td>\n",
       "      <td>BTC/JPY</td>\n",
       "      <td>0.006</td>\n",
       "      <td>13</td>\n",
       "    </tr>\n",
       "    <tr>\n",
       "      <th>7</th>\n",
       "      <td>2021-03-31 19:52:32</td>\n",
       "      <td>liquid</td>\n",
       "      <td>bitbank</td>\n",
       "      <td>BTC/JPY</td>\n",
       "      <td>0.006</td>\n",
       "      <td>-6</td>\n",
       "    </tr>\n",
       "    <tr>\n",
       "      <th>8</th>\n",
       "      <td>2021-03-31 19:53:15</td>\n",
       "      <td>liquid</td>\n",
       "      <td>bitbank</td>\n",
       "      <td>BTC/JPY</td>\n",
       "      <td>0.006</td>\n",
       "      <td>12</td>\n",
       "    </tr>\n",
       "    <tr>\n",
       "      <th>9</th>\n",
       "      <td>2021-03-31 19:53:25</td>\n",
       "      <td>bitbank</td>\n",
       "      <td>liquid</td>\n",
       "      <td>BTC/JPY</td>\n",
       "      <td>0.006</td>\n",
       "      <td>-4</td>\n",
       "    </tr>\n",
       "    <tr>\n",
       "      <th>10</th>\n",
       "      <td>2021-03-31 19:53:44</td>\n",
       "      <td>liquid</td>\n",
       "      <td>bitbank</td>\n",
       "      <td>BTC/JPY</td>\n",
       "      <td>0.006</td>\n",
       "      <td>9</td>\n",
       "    </tr>\n",
       "    <tr>\n",
       "      <th>11</th>\n",
       "      <td>2021-03-31 19:58:05</td>\n",
       "      <td>bitbank</td>\n",
       "      <td>liquid</td>\n",
       "      <td>BTC/JPY</td>\n",
       "      <td>0.006</td>\n",
       "      <td>1</td>\n",
       "    </tr>\n",
       "    <tr>\n",
       "      <th>12</th>\n",
       "      <td>2021-03-31 19:58:24</td>\n",
       "      <td>liquid</td>\n",
       "      <td>bitbank</td>\n",
       "      <td>BTC/JPY</td>\n",
       "      <td>0.006</td>\n",
       "      <td>8</td>\n",
       "    </tr>\n",
       "    <tr>\n",
       "      <th>13</th>\n",
       "      <td>2021-03-31 19:59:33</td>\n",
       "      <td>bitbank</td>\n",
       "      <td>liquid</td>\n",
       "      <td>BTC/JPY</td>\n",
       "      <td>0.006</td>\n",
       "      <td>-9</td>\n",
       "    </tr>\n",
       "    <tr>\n",
       "      <th>14</th>\n",
       "      <td>2021-03-31 19:59:36</td>\n",
       "      <td>liquid</td>\n",
       "      <td>bitbank</td>\n",
       "      <td>BTC/JPY</td>\n",
       "      <td>0.006</td>\n",
       "      <td>26</td>\n",
       "    </tr>\n",
       "    <tr>\n",
       "      <th>15</th>\n",
       "      <td>2021-03-31 20:00:28</td>\n",
       "      <td>bitbank</td>\n",
       "      <td>liquid</td>\n",
       "      <td>BTC/JPY</td>\n",
       "      <td>0.006</td>\n",
       "      <td>-20</td>\n",
       "    </tr>\n",
       "    <tr>\n",
       "      <th>16</th>\n",
       "      <td>2021-03-31 20:01:27</td>\n",
       "      <td>liquid</td>\n",
       "      <td>bitbank</td>\n",
       "      <td>BTC/JPY</td>\n",
       "      <td>0.006</td>\n",
       "      <td>23</td>\n",
       "    </tr>\n",
       "    <tr>\n",
       "      <th>17</th>\n",
       "      <td>2021-03-31 20:03:36</td>\n",
       "      <td>bitbank</td>\n",
       "      <td>liquid</td>\n",
       "      <td>BTC/JPY</td>\n",
       "      <td>0.006</td>\n",
       "      <td>-10</td>\n",
       "    </tr>\n",
       "    <tr>\n",
       "      <th>18</th>\n",
       "      <td>2021-03-31 20:04:14</td>\n",
       "      <td>liquid</td>\n",
       "      <td>bitbank</td>\n",
       "      <td>BTC/JPY</td>\n",
       "      <td>0.006</td>\n",
       "      <td>18</td>\n",
       "    </tr>\n",
       "  </tbody>\n",
       "</table>\n",
       "</div>"
      ],
      "text/plain": [
       "                   取引日時    購入取引所    売却取引所     通貨ペア    取引量  期待利益\n",
       "0   2021-03-31 19:48:11   liquid  bitbank  BTC/JPY  0.006    26\n",
       "1   2021-03-31 19:49:06  bitbank   liquid  BTC/JPY  0.006   -15\n",
       "2   2021-03-31 19:49:10   liquid  bitbank  BTC/JPY  0.006    15\n",
       "3   2021-03-31 19:51:35  bitbank   liquid  BTC/JPY  0.006    -7\n",
       "4   2021-03-31 19:51:57   liquid  bitbank  BTC/JPY  0.006    12\n",
       "5   2021-03-31 19:52:13  bitbank   liquid  BTC/JPY  0.006    -6\n",
       "6   2021-03-31 19:52:22  bitbank   liquid  BTC/JPY  0.006    13\n",
       "7   2021-03-31 19:52:32   liquid  bitbank  BTC/JPY  0.006    -6\n",
       "8   2021-03-31 19:53:15   liquid  bitbank  BTC/JPY  0.006    12\n",
       "9   2021-03-31 19:53:25  bitbank   liquid  BTC/JPY  0.006    -4\n",
       "10  2021-03-31 19:53:44   liquid  bitbank  BTC/JPY  0.006     9\n",
       "11  2021-03-31 19:58:05  bitbank   liquid  BTC/JPY  0.006     1\n",
       "12  2021-03-31 19:58:24   liquid  bitbank  BTC/JPY  0.006     8\n",
       "13  2021-03-31 19:59:33  bitbank   liquid  BTC/JPY  0.006    -9\n",
       "14  2021-03-31 19:59:36   liquid  bitbank  BTC/JPY  0.006    26\n",
       "15  2021-03-31 20:00:28  bitbank   liquid  BTC/JPY  0.006   -20\n",
       "16  2021-03-31 20:01:27   liquid  bitbank  BTC/JPY  0.006    23\n",
       "17  2021-03-31 20:03:36  bitbank   liquid  BTC/JPY  0.006   -10\n",
       "18  2021-03-31 20:04:14   liquid  bitbank  BTC/JPY  0.006    18"
      ]
     },
     "execution_count": 1,
     "metadata": {},
     "output_type": "execute_result"
    }
   ],
   "source": [
    "arbitrage_histories = bt.get_arbitrage_histories()\n",
    "\n",
    "headers = [\"取引日時\", \"購入取引所\", \"売却取引所\", \"通貨ペア\", \"取引量\", \"期待利益\"]\n",
    "arbitrage_histories_df = pd.DataFrame(arbitrage_histories, columns=headers)\n",
    "arbitrage_histories_df"
   ]
  },
  {
   "cell_type": "code",
   "execution_count": 10,
   "metadata": {
    "execution": {
     "iopub.execute_input": "2021-04-01T06:53:38.387860Z",
     "iopub.status.busy": "2021-04-01T06:53:38.387301Z",
     "iopub.status.idle": "2021-04-01T06:53:38.412531Z",
     "shell.execute_reply": "2021-04-01T06:53:38.412928Z"
    }
   },
   "outputs": [
    {
     "data": {
      "text/html": [
       "<div>\n",
       "<style scoped>\n",
       "    .dataframe tbody tr th:only-of-type {\n",
       "        vertical-align: middle;\n",
       "    }\n",
       "\n",
       "    .dataframe tbody tr th {\n",
       "        vertical-align: top;\n",
       "    }\n",
       "\n",
       "    .dataframe thead th {\n",
       "        text-align: right;\n",
       "    }\n",
       "</style>\n",
       "<table border=\"1\" class=\"dataframe\">\n",
       "  <thead>\n",
       "    <tr style=\"text-align: right;\">\n",
       "      <th></th>\n",
       "      <th>取引日時</th>\n",
       "      <th>売買</th>\n",
       "      <th>取引所</th>\n",
       "      <th>レート</th>\n",
       "    </tr>\n",
       "  </thead>\n",
       "  <tbody>\n",
       "    <tr>\n",
       "      <th>0</th>\n",
       "      <td>2021-03-31 19:48:11</td>\n",
       "      <td>liquid</td>\n",
       "      <td>買い</td>\n",
       "      <td>6388749.0</td>\n",
       "    </tr>\n",
       "    <tr>\n",
       "      <th>1</th>\n",
       "      <td>2021-03-31 19:48:11</td>\n",
       "      <td>bitbank</td>\n",
       "      <td>売り</td>\n",
       "      <td>6393103.0</td>\n",
       "    </tr>\n",
       "    <tr>\n",
       "      <th>2</th>\n",
       "      <td>2021-03-31 19:49:06</td>\n",
       "      <td>bitbank</td>\n",
       "      <td>買い</td>\n",
       "      <td>6385030.0</td>\n",
       "    </tr>\n",
       "    <tr>\n",
       "      <th>3</th>\n",
       "      <td>2021-03-31 19:49:06</td>\n",
       "      <td>liquid</td>\n",
       "      <td>売り</td>\n",
       "      <td>6382501.0</td>\n",
       "    </tr>\n",
       "    <tr>\n",
       "      <th>4</th>\n",
       "      <td>2021-03-31 19:49:10</td>\n",
       "      <td>liquid</td>\n",
       "      <td>買い</td>\n",
       "      <td>6382495.0</td>\n",
       "    </tr>\n",
       "    <tr>\n",
       "      <th>5</th>\n",
       "      <td>2021-03-31 19:49:10</td>\n",
       "      <td>bitbank</td>\n",
       "      <td>売り</td>\n",
       "      <td>6385004.0</td>\n",
       "    </tr>\n",
       "    <tr>\n",
       "      <th>6</th>\n",
       "      <td>2021-03-31 19:51:35</td>\n",
       "      <td>bitbank</td>\n",
       "      <td>買い</td>\n",
       "      <td>6380394.0</td>\n",
       "    </tr>\n",
       "    <tr>\n",
       "      <th>7</th>\n",
       "      <td>2021-03-31 19:51:35</td>\n",
       "      <td>liquid</td>\n",
       "      <td>売り</td>\n",
       "      <td>6379202.0</td>\n",
       "    </tr>\n",
       "    <tr>\n",
       "      <th>8</th>\n",
       "      <td>2021-03-31 19:51:57</td>\n",
       "      <td>liquid</td>\n",
       "      <td>買い</td>\n",
       "      <td>6381840.0</td>\n",
       "    </tr>\n",
       "    <tr>\n",
       "      <th>9</th>\n",
       "      <td>2021-03-31 19:51:57</td>\n",
       "      <td>bitbank</td>\n",
       "      <td>売り</td>\n",
       "      <td>6384000.0</td>\n",
       "    </tr>\n",
       "    <tr>\n",
       "      <th>10</th>\n",
       "      <td>2021-03-31 19:52:13</td>\n",
       "      <td>bitbank</td>\n",
       "      <td>買い</td>\n",
       "      <td>6384000.0</td>\n",
       "    </tr>\n",
       "    <tr>\n",
       "      <th>11</th>\n",
       "      <td>2021-03-31 19:52:13</td>\n",
       "      <td>liquid</td>\n",
       "      <td>売り</td>\n",
       "      <td>6382999.0</td>\n",
       "    </tr>\n",
       "    <tr>\n",
       "      <th>12</th>\n",
       "      <td>2021-03-31 19:52:22</td>\n",
       "      <td>bitbank</td>\n",
       "      <td>買い</td>\n",
       "      <td>6384000.0</td>\n",
       "    </tr>\n",
       "    <tr>\n",
       "      <th>13</th>\n",
       "      <td>2021-03-31 19:52:22</td>\n",
       "      <td>liquid</td>\n",
       "      <td>売り</td>\n",
       "      <td>6386176.0</td>\n",
       "    </tr>\n",
       "    <tr>\n",
       "      <th>14</th>\n",
       "      <td>2021-03-31 19:52:32</td>\n",
       "      <td>liquid</td>\n",
       "      <td>買い</td>\n",
       "      <td>6388508.0</td>\n",
       "    </tr>\n",
       "    <tr>\n",
       "      <th>15</th>\n",
       "      <td>2021-03-31 19:52:32</td>\n",
       "      <td>bitbank</td>\n",
       "      <td>売り</td>\n",
       "      <td>6387505.0</td>\n",
       "    </tr>\n",
       "    <tr>\n",
       "      <th>16</th>\n",
       "      <td>2021-03-31 19:53:15</td>\n",
       "      <td>liquid</td>\n",
       "      <td>買い</td>\n",
       "      <td>6387684.0</td>\n",
       "    </tr>\n",
       "    <tr>\n",
       "      <th>17</th>\n",
       "      <td>2021-03-31 19:53:15</td>\n",
       "      <td>bitbank</td>\n",
       "      <td>売り</td>\n",
       "      <td>6389745.0</td>\n",
       "    </tr>\n",
       "    <tr>\n",
       "      <th>18</th>\n",
       "      <td>2021-03-31 19:53:25</td>\n",
       "      <td>bitbank</td>\n",
       "      <td>買い</td>\n",
       "      <td>6390385.0</td>\n",
       "    </tr>\n",
       "    <tr>\n",
       "      <th>19</th>\n",
       "      <td>2021-03-31 19:53:25</td>\n",
       "      <td>liquid</td>\n",
       "      <td>売り</td>\n",
       "      <td>6389579.0</td>\n",
       "    </tr>\n",
       "    <tr>\n",
       "      <th>20</th>\n",
       "      <td>2021-03-31 19:53:44</td>\n",
       "      <td>liquid</td>\n",
       "      <td>買い</td>\n",
       "      <td>6388751.0</td>\n",
       "    </tr>\n",
       "    <tr>\n",
       "      <th>21</th>\n",
       "      <td>2021-03-31 19:53:44</td>\n",
       "      <td>bitbank</td>\n",
       "      <td>売り</td>\n",
       "      <td>6390417.0</td>\n",
       "    </tr>\n",
       "    <tr>\n",
       "      <th>22</th>\n",
       "      <td>2021-03-31 19:58:05</td>\n",
       "      <td>bitbank</td>\n",
       "      <td>買い</td>\n",
       "      <td>6382001.0</td>\n",
       "    </tr>\n",
       "    <tr>\n",
       "      <th>23</th>\n",
       "      <td>2021-03-31 19:58:05</td>\n",
       "      <td>liquid</td>\n",
       "      <td>売り</td>\n",
       "      <td>6382294.0</td>\n",
       "    </tr>\n",
       "    <tr>\n",
       "      <th>24</th>\n",
       "      <td>2021-03-31 19:58:24</td>\n",
       "      <td>liquid</td>\n",
       "      <td>買い</td>\n",
       "      <td>6387499.0</td>\n",
       "    </tr>\n",
       "    <tr>\n",
       "      <th>25</th>\n",
       "      <td>2021-03-31 19:58:24</td>\n",
       "      <td>bitbank</td>\n",
       "      <td>売り</td>\n",
       "      <td>6388887.0</td>\n",
       "    </tr>\n",
       "    <tr>\n",
       "      <th>26</th>\n",
       "      <td>2021-03-31 19:59:33</td>\n",
       "      <td>bitbank</td>\n",
       "      <td>買い</td>\n",
       "      <td>6395117.0</td>\n",
       "    </tr>\n",
       "    <tr>\n",
       "      <th>27</th>\n",
       "      <td>2021-03-31 19:59:33</td>\n",
       "      <td>liquid</td>\n",
       "      <td>売り</td>\n",
       "      <td>6393502.0</td>\n",
       "    </tr>\n",
       "    <tr>\n",
       "      <th>28</th>\n",
       "      <td>2021-03-31 19:59:36</td>\n",
       "      <td>liquid</td>\n",
       "      <td>買い</td>\n",
       "      <td>6390623.0</td>\n",
       "    </tr>\n",
       "    <tr>\n",
       "      <th>29</th>\n",
       "      <td>2021-03-31 19:59:36</td>\n",
       "      <td>bitbank</td>\n",
       "      <td>売り</td>\n",
       "      <td>6395000.0</td>\n",
       "    </tr>\n",
       "    <tr>\n",
       "      <th>30</th>\n",
       "      <td>2021-03-31 20:00:28</td>\n",
       "      <td>bitbank</td>\n",
       "      <td>買い</td>\n",
       "      <td>6397117.0</td>\n",
       "    </tr>\n",
       "    <tr>\n",
       "      <th>31</th>\n",
       "      <td>2021-03-31 20:00:28</td>\n",
       "      <td>liquid</td>\n",
       "      <td>売り</td>\n",
       "      <td>6393761.0</td>\n",
       "    </tr>\n",
       "    <tr>\n",
       "      <th>32</th>\n",
       "      <td>2021-03-31 20:01:27</td>\n",
       "      <td>liquid</td>\n",
       "      <td>買い</td>\n",
       "      <td>6392856.0</td>\n",
       "    </tr>\n",
       "    <tr>\n",
       "      <th>33</th>\n",
       "      <td>2021-03-31 20:01:27</td>\n",
       "      <td>bitbank</td>\n",
       "      <td>売り</td>\n",
       "      <td>6396848.0</td>\n",
       "    </tr>\n",
       "    <tr>\n",
       "      <th>34</th>\n",
       "      <td>2021-03-31 20:03:36</td>\n",
       "      <td>bitbank</td>\n",
       "      <td>買い</td>\n",
       "      <td>6390403.0</td>\n",
       "    </tr>\n",
       "    <tr>\n",
       "      <th>35</th>\n",
       "      <td>2021-03-31 20:03:36</td>\n",
       "      <td>liquid</td>\n",
       "      <td>売り</td>\n",
       "      <td>6388571.0</td>\n",
       "    </tr>\n",
       "    <tr>\n",
       "      <th>36</th>\n",
       "      <td>2021-03-31 20:04:14</td>\n",
       "      <td>liquid</td>\n",
       "      <td>買い</td>\n",
       "      <td>6392498.0</td>\n",
       "    </tr>\n",
       "    <tr>\n",
       "      <th>37</th>\n",
       "      <td>2021-03-31 20:04:14</td>\n",
       "      <td>bitbank</td>\n",
       "      <td>売り</td>\n",
       "      <td>6395499.0</td>\n",
       "    </tr>\n",
       "  </tbody>\n",
       "</table>\n",
       "</div>"
      ],
      "text/plain": [
       "                   取引日時       売買 取引所        レート\n",
       "0   2021-03-31 19:48:11   liquid  買い  6388749.0\n",
       "1   2021-03-31 19:48:11  bitbank  売り  6393103.0\n",
       "2   2021-03-31 19:49:06  bitbank  買い  6385030.0\n",
       "3   2021-03-31 19:49:06   liquid  売り  6382501.0\n",
       "4   2021-03-31 19:49:10   liquid  買い  6382495.0\n",
       "5   2021-03-31 19:49:10  bitbank  売り  6385004.0\n",
       "6   2021-03-31 19:51:35  bitbank  買い  6380394.0\n",
       "7   2021-03-31 19:51:35   liquid  売り  6379202.0\n",
       "8   2021-03-31 19:51:57   liquid  買い  6381840.0\n",
       "9   2021-03-31 19:51:57  bitbank  売り  6384000.0\n",
       "10  2021-03-31 19:52:13  bitbank  買い  6384000.0\n",
       "11  2021-03-31 19:52:13   liquid  売り  6382999.0\n",
       "12  2021-03-31 19:52:22  bitbank  買い  6384000.0\n",
       "13  2021-03-31 19:52:22   liquid  売り  6386176.0\n",
       "14  2021-03-31 19:52:32   liquid  買い  6388508.0\n",
       "15  2021-03-31 19:52:32  bitbank  売り  6387505.0\n",
       "16  2021-03-31 19:53:15   liquid  買い  6387684.0\n",
       "17  2021-03-31 19:53:15  bitbank  売り  6389745.0\n",
       "18  2021-03-31 19:53:25  bitbank  買い  6390385.0\n",
       "19  2021-03-31 19:53:25   liquid  売り  6389579.0\n",
       "20  2021-03-31 19:53:44   liquid  買い  6388751.0\n",
       "21  2021-03-31 19:53:44  bitbank  売り  6390417.0\n",
       "22  2021-03-31 19:58:05  bitbank  買い  6382001.0\n",
       "23  2021-03-31 19:58:05   liquid  売り  6382294.0\n",
       "24  2021-03-31 19:58:24   liquid  買い  6387499.0\n",
       "25  2021-03-31 19:58:24  bitbank  売り  6388887.0\n",
       "26  2021-03-31 19:59:33  bitbank  買い  6395117.0\n",
       "27  2021-03-31 19:59:33   liquid  売り  6393502.0\n",
       "28  2021-03-31 19:59:36   liquid  買い  6390623.0\n",
       "29  2021-03-31 19:59:36  bitbank  売り  6395000.0\n",
       "30  2021-03-31 20:00:28  bitbank  買い  6397117.0\n",
       "31  2021-03-31 20:00:28   liquid  売り  6393761.0\n",
       "32  2021-03-31 20:01:27   liquid  買い  6392856.0\n",
       "33  2021-03-31 20:01:27  bitbank  売り  6396848.0\n",
       "34  2021-03-31 20:03:36  bitbank  買い  6390403.0\n",
       "35  2021-03-31 20:03:36   liquid  売り  6388571.0\n",
       "36  2021-03-31 20:04:14   liquid  買い  6392498.0\n",
       "37  2021-03-31 20:04:14  bitbank  売り  6395499.0"
      ]
     },
     "execution_count": 1,
     "metadata": {},
     "output_type": "execute_result"
    }
   ],
   "source": [
    "histories = bt.get_trade_histories()\n",
    "headers = [\"取引日時\",  \"売買\",  \"取引所\", \"レート\"]\n",
    "histories_df = pd.DataFrame(histories, columns=headers)\n",
    "histories_df"
   ]
  },
  {
   "cell_type": "markdown",
   "metadata": {},
   "source": [
    "## 結果まとめ"
   ]
  },
  {
   "cell_type": "code",
   "execution_count": 11,
   "metadata": {
    "execution": {
     "iopub.execute_input": "2021-04-01T06:53:38.416733Z",
     "iopub.status.busy": "2021-04-01T06:53:38.415878Z",
     "iopub.status.idle": "2021-04-01T06:53:38.430033Z",
     "shell.execute_reply": "2021-04-01T06:53:38.429507Z"
    }
   },
   "outputs": [
    {
     "name": "stdout",
     "output_type": "stream",
     "text": [
      "バックテスト情報\n",
      "-------------------  -------------------\n",
      "         レコード数                  315\n",
      "           取引回数                   19\n",
      "           開始日時  2021-03-31 19:48:11\n",
      "           終了日時  2021-03-31 20:04:27\n",
      "        取引時間[H]      0 days 00:16:16\n",
      "      取引単位[BTC]                0.006\n",
      "  利確しきい値[JPY]                 2602\n",
      "損切りマージン[JPY]                 1000\n",
      "-------------------  -------------------\n",
      "\n",
      "バックテスト結果\n",
      "-----------  ------\n",
      "開始[JPY]     10000\n",
      "終了[JPY]     10087\n",
      "利益[JPY]        87\n",
      "開始[BTC]     0.022\n",
      "終了[BTC]     0.022\n",
      "利益[BTC]         0\n",
      "開始[TOTAL]  150633\n",
      "終了[TOTAL]  150712\n",
      "利益[TOTAL]  79.326\n",
      "-----------  ------\n"
     ]
    }
   ],
   "source": [
    "bt.display()"
   ]
  },
  {
   "cell_type": "markdown",
   "metadata": {},
   "source": [
    "## グラフ出力"
   ]
  },
  {
   "cell_type": "code",
   "execution_count": 12,
   "metadata": {
    "execution": {
     "iopub.execute_input": "2021-04-01T06:53:38.434116Z",
     "iopub.status.busy": "2021-04-01T06:53:38.433202Z",
     "iopub.status.idle": "2021-04-01T06:53:38.603521Z",
     "shell.execute_reply": "2021-04-01T06:53:38.603966Z"
    },
    "scrolled": true
   },
   "outputs": [
    {
     "data": {
      "text/plain": [
       "[<matplotlib.lines.Line2D at 0x7f2bd0346898>]"
      ]
     },
     "execution_count": 1,
     "metadata": {},
     "output_type": "execute_result"
    },
    {
     "data": {
      "image/png": "[encoded data removed]",
      "text/plain": [
       "<Figure size 864x288 with 1 Axes>"
      ]
     },
     "metadata": {
      "needs_background": "light"
     },
     "output_type": "display_data"
    }
   ],
   "source": [
    "plt.figure(figsize=(12,4))\n",
    "plt.plot(df_ex1.index, df_ex1['bid'])"
   ]
  },
  {
   "cell_type": "code",
   "execution_count": 13,
   "metadata": {
    "execution": {
     "iopub.execute_input": "2021-04-01T06:53:38.607998Z",
     "iopub.status.busy": "2021-04-01T06:53:38.607084Z",
     "iopub.status.idle": "2021-04-01T06:53:38.777471Z",
     "shell.execute_reply": "2021-04-01T06:53:38.777936Z"
    }
   },
   "outputs": [
    {
     "data": {
      "text/plain": [
       "[<matplotlib.lines.Line2D at 0x7f2bcfae7278>]"
      ]
     },
     "execution_count": 1,
     "metadata": {},
     "output_type": "execute_result"
    },
    {
     "data": {
      "image/png": "[encoded data removed]",
      "text/plain": [
       "<Figure size 864x288 with 1 Axes>"
      ]
     },
     "metadata": {
      "needs_background": "light"
     },
     "output_type": "display_data"
    }
   ],
   "source": [
    "plt.figure(figsize=(12,4))\n",
    "plt.plot(df_ex2.index, df_ex2['bid'])"
   ]
  },
  {
   "cell_type": "markdown",
   "metadata": {},
   "source": [
    "## 分析"
   ]
  },
  {
   "cell_type": "markdown",
   "metadata": {},
   "source": [
    "### 時間別の取引回数と利益"
   ]
  },
  {
   "cell_type": "code",
   "execution_count": null,
   "metadata": {},
   "outputs": [],
   "source": []
  },
  {
   "cell_type": "markdown",
   "metadata": {},
   "source": [
    "### 時間別の価格差の推移"
   ]
  },
  {
   "cell_type": "code",
   "execution_count": 14,
   "metadata": {
    "execution": {
     "iopub.execute_input": "2021-04-01T06:53:38.783635Z",
     "iopub.status.busy": "2021-04-01T06:53:38.782641Z",
     "iopub.status.idle": "2021-04-01T06:53:38.804917Z",
     "shell.execute_reply": "2021-04-01T06:53:38.805374Z"
    }
   },
   "outputs": [],
   "source": [
    "profit_margin_df = pd.DataFrame({\n",
    "    \"timestamp\": pd.to_datetime(df_ex1.index),\n",
    "    \"buy_ex1_sell_ex2\": df_ex2.reset_index().bid - df_ex1.reset_index().ask,\n",
    "    \"buy_ex2_sell_ex1\": df_ex1.reset_index().bid - df_ex2.reset_index().ask,\n",
    "    'ex1_bid': df_ex1.reset_index().bid,\n",
    "     'ex2_ask': df_ex2.reset_index().ask,\n",
    "    'ex2_bid': df_ex2.reset_index().bid,\n",
    "    'ex1_ask': df_ex1.reset_index().ask,\n",
    "})\n",
    "\n",
    "profit_margin_df = profit_margin_df.set_index(\"timestamp\")"
   ]
  },
  {
   "cell_type": "code",
   "execution_count": 15,
   "metadata": {
    "execution": {
     "iopub.execute_input": "2021-04-01T06:53:38.808934Z",
     "iopub.status.busy": "2021-04-01T06:53:38.808379Z",
     "iopub.status.idle": "2021-04-01T06:53:38.830489Z",
     "shell.execute_reply": "2021-04-01T06:53:38.831028Z"
    }
   },
   "outputs": [
    {
     "data": {
      "text/html": [
       "<div>\n",
       "<style scoped>\n",
       "    .dataframe tbody tr th:only-of-type {\n",
       "        vertical-align: middle;\n",
       "    }\n",
       "\n",
       "    .dataframe tbody tr th {\n",
       "        vertical-align: top;\n",
       "    }\n",
       "\n",
       "    .dataframe thead th {\n",
       "        text-align: right;\n",
       "    }\n",
       "</style>\n",
       "<table border=\"1\" class=\"dataframe\">\n",
       "  <thead>\n",
       "    <tr style=\"text-align: right;\">\n",
       "      <th></th>\n",
       "      <th>buy_ex1_sell_ex2</th>\n",
       "      <th>buy_ex2_sell_ex1</th>\n",
       "      <th>ex1_bid</th>\n",
       "      <th>ex2_ask</th>\n",
       "      <th>ex2_bid</th>\n",
       "      <th>ex1_ask</th>\n",
       "    </tr>\n",
       "    <tr>\n",
       "      <th>timestamp</th>\n",
       "      <th></th>\n",
       "      <th></th>\n",
       "      <th></th>\n",
       "      <th></th>\n",
       "      <th></th>\n",
       "      <th></th>\n",
       "    </tr>\n",
       "  </thead>\n",
       "  <tbody>\n",
       "    <tr>\n",
       "      <th>2021-03-31 19:40:00</th>\n",
       "      <td>-5912</td>\n",
       "      <td>4394</td>\n",
       "      <td>6387862</td>\n",
       "      <td>6383468</td>\n",
       "      <td>6382180</td>\n",
       "      <td>6388091</td>\n",
       "    </tr>\n",
       "    <tr>\n",
       "      <th>2021-03-31 19:50:00</th>\n",
       "      <td>-4376</td>\n",
       "      <td>1844</td>\n",
       "      <td>6385760</td>\n",
       "      <td>6383916</td>\n",
       "      <td>6382397</td>\n",
       "      <td>6386773</td>\n",
       "    </tr>\n",
       "    <tr>\n",
       "      <th>2021-03-31 20:00:00</th>\n",
       "      <td>-4983</td>\n",
       "      <td>2260</td>\n",
       "      <td>6392916</td>\n",
       "      <td>6390655</td>\n",
       "      <td>6389034</td>\n",
       "      <td>6394017</td>\n",
       "    </tr>\n",
       "  </tbody>\n",
       "</table>\n",
       "</div>"
      ],
      "text/plain": [
       "                     buy_ex1_sell_ex2  buy_ex2_sell_ex1  ex1_bid  ex2_ask  \\\n",
       "timestamp                                                                   \n",
       "2021-03-31 19:40:00             -5912              4394  6387862  6383468   \n",
       "2021-03-31 19:50:00             -4376              1844  6385760  6383916   \n",
       "2021-03-31 20:00:00             -4983              2260  6392916  6390655   \n",
       "\n",
       "                     ex2_bid  ex1_ask  \n",
       "timestamp                              \n",
       "2021-03-31 19:40:00  6382180  6388091  \n",
       "2021-03-31 19:50:00  6382397  6386773  \n",
       "2021-03-31 20:00:00  6389034  6394017  "
      ]
     },
     "execution_count": 1,
     "metadata": {},
     "output_type": "execute_result"
    }
   ],
   "source": [
    "pd.options.display.float_format = '{:.0f}'.format\n",
    "profit_margin_df.resample(rule='10Min').mean()"
   ]
  },
  {
   "cell_type": "code",
   "execution_count": null,
   "metadata": {},
   "outputs": [],
   "source": []
  }
 ],
 "metadata": {
  "kernelspec": {
   "display_name": "Environment (conda_bakuchi)",
   "language": "python",
   "name": "conda_bakuchi"
  },
  "language_info": {
   "codemirror_mode": {
    "name": "ipython",
    "version": 3
   },
   "file_extension": ".py",
   "mimetype": "text/x-python",
   "name": "python",
   "nbconvert_exporter": "python",
   "pygments_lexer": "ipython3",
   "version": "3.7.0"
  }
 },
 "nbformat": 4,
 "nbformat_minor": 4
}
