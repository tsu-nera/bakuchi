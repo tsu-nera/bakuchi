{
 "cells": [
  {
   "cell_type": "markdown",
   "metadata": {},
   "source": [
    "# 取引履歴のデータ分析"
   ]
  },
  {
   "cell_type": "code",
   "execution_count": 1,
   "metadata": {
    "execution": {
     "iopub.execute_input": "2021-04-01T06:53:43.542572Z",
     "iopub.status.busy": "2021-04-01T06:53:43.541254Z",
     "iopub.status.idle": "2021-04-01T06:53:43.988888Z",
     "shell.execute_reply": "2021-04-01T06:53:43.988364Z"
    }
   },
   "outputs": [],
   "source": [
    "import os\n",
    "import pandas as pd\n",
    "import matplotlib\n",
    "import matplotlib.pyplot as plt\n",
    "import matplotlib.dates as mdates"
   ]
  },
  {
   "cell_type": "code",
   "execution_count": 2,
   "metadata": {
    "execution": {
     "iopub.execute_input": "2021-04-01T06:53:43.992854Z",
     "iopub.status.busy": "2021-04-01T06:53:43.992322Z",
     "iopub.status.idle": "2021-04-01T06:53:43.994612Z",
     "shell.execute_reply": "2021-04-01T06:53:43.994076Z"
    }
   },
   "outputs": [],
   "source": [
    "matplotlib.use(\"Agg\")"
   ]
  },
  {
   "cell_type": "code",
   "execution_count": 3,
   "metadata": {
    "execution": {
     "iopub.execute_input": "2021-04-01T06:53:43.998706Z",
     "iopub.status.busy": "2021-04-01T06:53:43.998081Z",
     "iopub.status.idle": "2021-04-01T06:53:44.000300Z",
     "shell.execute_reply": "2021-04-01T06:53:43.999731Z"
    }
   },
   "outputs": [],
   "source": [
    "current_dir = %pwd\n",
    "timestamp = os.path.basename(current_dir)"
   ]
  },
  {
   "cell_type": "code",
   "execution_count": 4,
   "metadata": {
    "execution": {
     "iopub.execute_input": "2021-04-01T06:53:44.004466Z",
     "iopub.status.busy": "2021-04-01T06:53:44.003806Z",
     "iopub.status.idle": "2021-04-01T06:53:44.007150Z",
     "shell.execute_reply": "2021-04-01T06:53:44.007646Z"
    }
   },
   "outputs": [
    {
     "name": "stdout",
     "output_type": "stream",
     "text": [
      "/home/tsu-nera/repo/bakuchi\n"
     ]
    }
   ],
   "source": [
    "import sys\n",
    "sys.path.append('/home/tsu-nera/repo/bakuchi/')\n",
    "%cd '../../'"
   ]
  },
  {
   "cell_type": "code",
   "execution_count": 5,
   "metadata": {
    "execution": {
     "iopub.execute_input": "2021-04-01T06:53:44.012019Z",
     "iopub.status.busy": "2021-04-01T06:53:44.011486Z",
     "iopub.status.idle": "2021-04-01T06:53:44.033817Z",
     "shell.execute_reply": "2021-04-01T06:53:44.032788Z"
    }
   },
   "outputs": [],
   "source": [
    "from src.utils.trade_analysis import TradeAnalysis\n",
    "\n",
    "%reload_ext autoreload\n",
    "%autoreload 2"
   ]
  },
  {
   "cell_type": "code",
   "execution_count": 6,
   "metadata": {
    "execution": {
     "iopub.execute_input": "2021-04-01T06:53:44.037153Z",
     "iopub.status.busy": "2021-04-01T06:53:44.036633Z",
     "iopub.status.idle": "2021-04-01T06:53:44.062305Z",
     "shell.execute_reply": "2021-04-01T06:53:44.063062Z"
    }
   },
   "outputs": [],
   "source": [
    "ta = TradeAnalysis(timestamp)"
   ]
  },
  {
   "cell_type": "code",
   "execution_count": 7,
   "metadata": {
    "execution": {
     "iopub.execute_input": "2021-04-01T06:53:44.066715Z",
     "iopub.status.busy": "2021-04-01T06:53:44.066155Z",
     "iopub.status.idle": "2021-04-01T06:53:44.077164Z",
     "shell.execute_reply": "2021-04-01T06:53:44.077702Z"
    }
   },
   "outputs": [],
   "source": [
    "ex1_trades = ta.get_coincheck_trades_df()\n",
    "ex2_trades = ta.get_liquid_trades_df()"
   ]
  },
  {
   "cell_type": "code",
   "execution_count": 8,
   "metadata": {
    "execution": {
     "iopub.execute_input": "2021-04-01T06:53:44.081652Z",
     "iopub.status.busy": "2021-04-01T06:53:44.080775Z",
     "iopub.status.idle": "2021-04-01T06:53:44.094701Z",
     "shell.execute_reply": "2021-04-01T06:53:44.094163Z"
    }
   },
   "outputs": [
    {
     "data": {
      "text/plain": [
       "(15, 15)"
      ]
     },
     "execution_count": 1,
     "metadata": {},
     "output_type": "execute_result"
    }
   ],
   "source": [
    "len(ex1_trades), len(ex2_trades)"
   ]
  },
  {
   "cell_type": "markdown",
   "metadata": {},
   "source": [
    "## トレード結果"
   ]
  },
  {
   "cell_type": "code",
   "execution_count": 9,
   "metadata": {
    "execution": {
     "iopub.execute_input": "2021-04-01T06:53:44.098075Z",
     "iopub.status.busy": "2021-04-01T06:53:44.097540Z",
     "iopub.status.idle": "2021-04-01T06:53:44.111175Z",
     "shell.execute_reply": "2021-04-01T06:53:44.111663Z"
    }
   },
   "outputs": [
    {
     "name": "stdout",
     "output_type": "stream",
     "text": [
      "トレード情報\n",
      "-------------------  -------------------\n",
      "         レコード数                  315\n",
      "           取引回数                   15\n",
      "           開始日時  2021-03-31 19:48:12\n",
      "           終了日時  2021-03-31 20:04:14\n",
      "        取引時間[H]      0 days 00:16:02\n",
      "      取引単位[BTC]               0.0001\n",
      "  利確しきい値[JPY]                 1500\n",
      "損切りマージン[JPY]                 1500\n",
      "-------------------  -------------------\n",
      "\n",
      "\n",
      "トレード結果\n",
      "-----------  ------\n",
      "開始[JPY]     14792\n",
      "終了[JPY]     14790\n",
      "利益[JPY]        -2\n",
      "開始[BTC]    0.0024\n",
      "終了[BTC]    0.0024\n",
      "利益[BTC]         0\n",
      "開始[TOTAL]   30123\n",
      "終了[TOTAL]   30133\n",
      "利益[TOTAL]      10\n",
      "-----------  ------\n",
      "\n",
      "\n",
      "トレード利益\n",
      "  Bot利益    トレード利益    市場利益\n",
      "---------  --------------  ----------\n",
      "       10          -3.255      13.255\n"
     ]
    }
   ],
   "source": [
    "ta.display()"
   ]
  },
  {
   "cell_type": "markdown",
   "metadata": {},
   "source": [
    "## 取引履歴"
   ]
  },
  {
   "cell_type": "code",
   "execution_count": 10,
   "metadata": {
    "execution": {
     "iopub.execute_input": "2021-04-01T06:53:44.115571Z",
     "iopub.status.busy": "2021-04-01T06:53:44.114658Z",
     "iopub.status.idle": "2021-04-01T06:53:44.131454Z",
     "shell.execute_reply": "2021-04-01T06:53:44.132143Z"
    },
    "scrolled": false
   },
   "outputs": [],
   "source": [
    "profit_df = ta.create_profit_df()"
   ]
  },
  {
   "cell_type": "code",
   "execution_count": 11,
   "metadata": {
    "execution": {
     "iopub.execute_input": "2021-04-01T06:53:44.135420Z",
     "iopub.status.busy": "2021-04-01T06:53:44.134798Z",
     "iopub.status.idle": "2021-04-01T06:53:44.157491Z",
     "shell.execute_reply": "2021-04-01T06:53:44.157934Z"
    }
   },
   "outputs": [
    {
     "data": {
      "text/html": [
       "<div>\n",
       "<style scoped>\n",
       "    .dataframe tbody tr th:only-of-type {\n",
       "        vertical-align: middle;\n",
       "    }\n",
       "\n",
       "    .dataframe tbody tr th {\n",
       "        vertical-align: top;\n",
       "    }\n",
       "\n",
       "    .dataframe thead th {\n",
       "        text-align: right;\n",
       "    }\n",
       "</style>\n",
       "<table border=\"1\" class=\"dataframe\">\n",
       "  <thead>\n",
       "    <tr style=\"text-align: right;\">\n",
       "      <th></th>\n",
       "      <th>ex1_side</th>\n",
       "      <th>ex1_price</th>\n",
       "      <th>ex2_side</th>\n",
       "      <th>ex2_price</th>\n",
       "      <th>profit</th>\n",
       "    </tr>\n",
       "    <tr>\n",
       "      <th>timestamp</th>\n",
       "      <th></th>\n",
       "      <th></th>\n",
       "      <th></th>\n",
       "      <th></th>\n",
       "      <th></th>\n",
       "    </tr>\n",
       "  </thead>\n",
       "  <tbody>\n",
       "    <tr>\n",
       "      <th>2021-03-31 19:48:12</th>\n",
       "      <td>sell</td>\n",
       "      <td>6393103.0</td>\n",
       "      <td>buy</td>\n",
       "      <td>6388300.0</td>\n",
       "      <td>4803.0</td>\n",
       "    </tr>\n",
       "    <tr>\n",
       "      <th>2021-03-31 19:49:06</th>\n",
       "      <td>buy</td>\n",
       "      <td>6385030.0</td>\n",
       "      <td>sell</td>\n",
       "      <td>6382135.0</td>\n",
       "      <td>-2895.0</td>\n",
       "    </tr>\n",
       "    <tr>\n",
       "      <th>2021-03-31 19:49:10</th>\n",
       "      <td>sell</td>\n",
       "      <td>6385004.0</td>\n",
       "      <td>buy</td>\n",
       "      <td>6382445.0</td>\n",
       "      <td>2559.0</td>\n",
       "    </tr>\n",
       "    <tr>\n",
       "      <th>2021-03-31 19:51:41</th>\n",
       "      <td>buy</td>\n",
       "      <td>6384001.0</td>\n",
       "      <td>sell</td>\n",
       "      <td>6383615.0</td>\n",
       "      <td>-386.0</td>\n",
       "    </tr>\n",
       "    <tr>\n",
       "      <th>2021-03-31 19:51:57</th>\n",
       "      <td>sell</td>\n",
       "      <td>6384000.0</td>\n",
       "      <td>buy</td>\n",
       "      <td>6380900.0</td>\n",
       "      <td>3100.0</td>\n",
       "    </tr>\n",
       "    <tr>\n",
       "      <th>2021-03-31 19:52:22</th>\n",
       "      <td>buy</td>\n",
       "      <td>6384000.0</td>\n",
       "      <td>sell</td>\n",
       "      <td>6386181.0</td>\n",
       "      <td>2181.0</td>\n",
       "    </tr>\n",
       "    <tr>\n",
       "      <th>2021-03-31 19:53:15</th>\n",
       "      <td>sell</td>\n",
       "      <td>6389746.0</td>\n",
       "      <td>buy</td>\n",
       "      <td>6388209.0</td>\n",
       "      <td>1537.0</td>\n",
       "    </tr>\n",
       "    <tr>\n",
       "      <th>2021-03-31 19:53:34</th>\n",
       "      <td>buy</td>\n",
       "      <td>6390385.0</td>\n",
       "      <td>sell</td>\n",
       "      <td>6391251.0</td>\n",
       "      <td>866.0</td>\n",
       "    </tr>\n",
       "    <tr>\n",
       "      <th>2021-03-31 19:53:44</th>\n",
       "      <td>sell</td>\n",
       "      <td>6390449.0</td>\n",
       "      <td>buy</td>\n",
       "      <td>6390294.0</td>\n",
       "      <td>155.0</td>\n",
       "    </tr>\n",
       "    <tr>\n",
       "      <th>2021-03-31 19:58:05</th>\n",
       "      <td>buy</td>\n",
       "      <td>6382001.0</td>\n",
       "      <td>sell</td>\n",
       "      <td>6382509.0</td>\n",
       "      <td>508.0</td>\n",
       "    </tr>\n",
       "    <tr>\n",
       "      <th>2021-03-31 19:58:59</th>\n",
       "      <td>sell</td>\n",
       "      <td>6390004.0</td>\n",
       "      <td>buy</td>\n",
       "      <td>6386940.0</td>\n",
       "      <td>3064.0</td>\n",
       "    </tr>\n",
       "    <tr>\n",
       "      <th>2021-03-31 20:00:40</th>\n",
       "      <td>buy</td>\n",
       "      <td>6397339.0</td>\n",
       "      <td>sell</td>\n",
       "      <td>6395912.0</td>\n",
       "      <td>-1427.0</td>\n",
       "    </tr>\n",
       "    <tr>\n",
       "      <th>2021-03-31 20:01:27</th>\n",
       "      <td>sell</td>\n",
       "      <td>6396848.0</td>\n",
       "      <td>buy</td>\n",
       "      <td>6392851.0</td>\n",
       "      <td>3997.0</td>\n",
       "    </tr>\n",
       "    <tr>\n",
       "      <th>2021-03-31 20:03:36</th>\n",
       "      <td>buy</td>\n",
       "      <td>6390403.0</td>\n",
       "      <td>sell</td>\n",
       "      <td>6386485.0</td>\n",
       "      <td>-3918.0</td>\n",
       "    </tr>\n",
       "    <tr>\n",
       "      <th>2021-03-31 20:04:14</th>\n",
       "      <td>sell</td>\n",
       "      <td>6395501.0</td>\n",
       "      <td>buy</td>\n",
       "      <td>6393767.0</td>\n",
       "      <td>1734.0</td>\n",
       "    </tr>\n",
       "  </tbody>\n",
       "</table>\n",
       "</div>"
      ],
      "text/plain": [
       "                    ex1_side  ex1_price ex2_side  ex2_price  profit\n",
       "timestamp                                                          \n",
       "2021-03-31 19:48:12     sell  6393103.0      buy  6388300.0  4803.0\n",
       "2021-03-31 19:49:06      buy  6385030.0     sell  6382135.0 -2895.0\n",
       "2021-03-31 19:49:10     sell  6385004.0      buy  6382445.0  2559.0\n",
       "2021-03-31 19:51:41      buy  6384001.0     sell  6383615.0  -386.0\n",
       "2021-03-31 19:51:57     sell  6384000.0      buy  6380900.0  3100.0\n",
       "2021-03-31 19:52:22      buy  6384000.0     sell  6386181.0  2181.0\n",
       "2021-03-31 19:53:15     sell  6389746.0      buy  6388209.0  1537.0\n",
       "2021-03-31 19:53:34      buy  6390385.0     sell  6391251.0   866.0\n",
       "2021-03-31 19:53:44     sell  6390449.0      buy  6390294.0   155.0\n",
       "2021-03-31 19:58:05      buy  6382001.0     sell  6382509.0   508.0\n",
       "2021-03-31 19:58:59     sell  6390004.0      buy  6386940.0  3064.0\n",
       "2021-03-31 20:00:40      buy  6397339.0     sell  6395912.0 -1427.0\n",
       "2021-03-31 20:01:27     sell  6396848.0      buy  6392851.0  3997.0\n",
       "2021-03-31 20:03:36      buy  6390403.0     sell  6386485.0 -3918.0\n",
       "2021-03-31 20:04:14     sell  6395501.0      buy  6393767.0  1734.0"
      ]
     },
     "execution_count": 1,
     "metadata": {},
     "output_type": "execute_result"
    }
   ],
   "source": [
    "profit_df.tail(30)"
   ]
  },
  {
   "cell_type": "code",
   "execution_count": 12,
   "metadata": {
    "execution": {
     "iopub.execute_input": "2021-04-01T06:53:44.161794Z",
     "iopub.status.busy": "2021-04-01T06:53:44.160863Z",
     "iopub.status.idle": "2021-04-01T06:53:44.173223Z",
     "shell.execute_reply": "2021-04-01T06:53:44.173657Z"
    }
   },
   "outputs": [
    {
     "data": {
      "text/plain": [
       "15878.0"
      ]
     },
     "execution_count": 1,
     "metadata": {},
     "output_type": "execute_result"
    }
   ],
   "source": [
    "round(sum(profit_df.profit), 3)"
   ]
  },
  {
   "cell_type": "markdown",
   "metadata": {},
   "source": [
    "## トレードグラフ"
   ]
  },
  {
   "cell_type": "code",
   "execution_count": 13,
   "metadata": {
    "execution": {
     "iopub.execute_input": "2021-04-01T06:53:44.176948Z",
     "iopub.status.busy": "2021-04-01T06:53:44.176415Z",
     "iopub.status.idle": "2021-04-01T06:53:44.187253Z",
     "shell.execute_reply": "2021-04-01T06:53:44.187696Z"
    }
   },
   "outputs": [],
   "source": [
    "ex1_ticks = ta.get_coincheck_ticks_df()\n",
    "ex2_ticks = ta.get_liquid_ticks_df()"
   ]
  },
  {
   "cell_type": "code",
   "execution_count": 14,
   "metadata": {
    "execution": {
     "iopub.execute_input": "2021-04-01T06:53:44.190982Z",
     "iopub.status.busy": "2021-04-01T06:53:44.190168Z",
     "iopub.status.idle": "2021-04-01T06:53:44.201540Z",
     "shell.execute_reply": "2021-04-01T06:53:44.201970Z"
    }
   },
   "outputs": [
    {
     "data": {
      "text/plain": [
       "(315, 315)"
      ]
     },
     "execution_count": 1,
     "metadata": {},
     "output_type": "execute_result"
    }
   ],
   "source": [
    "len(ex1_ticks), len(ex2_ticks)"
   ]
  },
  {
   "cell_type": "code",
   "execution_count": 15,
   "metadata": {
    "execution": {
     "iopub.execute_input": "2021-04-01T06:53:44.205876Z",
     "iopub.status.busy": "2021-04-01T06:53:44.205358Z",
     "iopub.status.idle": "2021-04-01T06:53:44.489426Z",
     "shell.execute_reply": "2021-04-01T06:53:44.488785Z"
    }
   },
   "outputs": [
    {
     "data": {
      "text/plain": [
       "Text(0.5, 1.0, 'exchange2 bid/exchange1 ask')"
      ]
     },
     "execution_count": 1,
     "metadata": {},
     "output_type": "execute_result"
    }
   ],
   "source": [
    "ex1_bids = ex1_ticks['bid']\n",
    "ex1_asks = ex1_ticks['ask']\n",
    "ex2_bids = ex2_ticks['bid']\n",
    "ex2_asks = ex2_ticks['ask']\n",
    "\n",
    "fig1, ax1 = ta.get_fig(ex1_bids, ex2_asks)\n",
    "fig2, ax2 = ta.get_fig(ex2_bids, ex1_asks)\n",
    "\n",
    "ax1.set_title('exchange1 bid/exchange2 ask')\n",
    "ax2.set_title('exchange2 bid/exchange1 ask')"
   ]
  },
  {
   "cell_type": "code",
   "execution_count": 16,
   "metadata": {
    "execution": {
     "iopub.execute_input": "2021-04-01T06:53:44.493374Z",
     "iopub.status.busy": "2021-04-01T06:53:44.492506Z",
     "iopub.status.idle": "2021-04-01T06:53:44.667838Z",
     "shell.execute_reply": "2021-04-01T06:53:44.667217Z"
    }
   },
   "outputs": [
    {
     "data": {
      "image/png": "[encoded data removed]",
      "text/plain": [
       "<Figure size 864x360 with 1 Axes>"
      ]
     },
     "execution_count": 1,
     "metadata": {},
     "output_type": "execute_result"
    }
   ],
   "source": [
    "fig1"
   ]
  },
  {
   "cell_type": "code",
   "execution_count": 17,
   "metadata": {
    "execution": {
     "iopub.execute_input": "2021-04-01T06:53:44.671043Z",
     "iopub.status.busy": "2021-04-01T06:53:44.670499Z",
     "iopub.status.idle": "2021-04-01T06:53:44.840633Z",
     "shell.execute_reply": "2021-04-01T06:53:44.841119Z"
    }
   },
   "outputs": [
    {
     "data": {
      "image/png": "[encoded data removed]",
      "text/plain": [
       "<Figure size 864x360 with 1 Axes>"
      ]
     },
     "execution_count": 1,
     "metadata": {},
     "output_type": "execute_result"
    }
   ],
   "source": [
    "fig2"
   ]
  },
  {
   "cell_type": "code",
   "execution_count": null,
   "metadata": {},
   "outputs": [],
   "source": []
  }
 ],
 "metadata": {
  "kernelspec": {
   "display_name": "Python 3",
   "language": "python",
   "name": "python3"
  },
  "language_info": {
   "codemirror_mode": {
    "name": "ipython",
    "version": 3
   },
   "file_extension": ".py",
   "mimetype": "text/x-python",
   "name": "python",
   "nbconvert_exporter": "python",
   "pygments_lexer": "ipython3",
   "version": "3.7.0"
  }
 },
 "nbformat": 4,
 "nbformat_minor": 4
}
