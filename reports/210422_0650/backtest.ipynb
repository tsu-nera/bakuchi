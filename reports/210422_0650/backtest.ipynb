{
 "cells": [
  {
   "cell_type": "markdown",
   "metadata": {},
   "source": [
    "# バックテスト検証ノート"
   ]
  },
  {
   "cell_type": "code",
   "execution_count": 1,
   "metadata": {
    "execution": {
     "iopub.execute_input": "2021-04-22T00:26:03.795620Z",
     "iopub.status.busy": "2021-04-22T00:26:03.794852Z",
     "iopub.status.idle": "2021-04-22T00:26:04.633595Z",
     "shell.execute_reply": "2021-04-22T00:26:04.634172Z"
    }
   },
   "outputs": [],
   "source": [
    "import os\n",
    "import numpy as np\n",
    "import pandas as pd\n",
    "import datetime\n",
    "import matplotlib.pyplot as plt"
   ]
  },
  {
   "cell_type": "code",
   "execution_count": 2,
   "metadata": {
    "execution": {
     "iopub.execute_input": "2021-04-22T00:26:04.638027Z",
     "iopub.status.busy": "2021-04-22T00:26:04.637320Z",
     "iopub.status.idle": "2021-04-22T00:26:04.641271Z",
     "shell.execute_reply": "2021-04-22T00:26:04.641893Z"
    }
   },
   "outputs": [],
   "source": [
    "current_dir = %pwd\n",
    "timestamp = os.path.basename(current_dir)"
   ]
  },
  {
   "cell_type": "code",
   "execution_count": 3,
   "metadata": {
    "execution": {
     "iopub.execute_input": "2021-04-22T00:26:04.644742Z",
     "iopub.status.busy": "2021-04-22T00:26:04.644106Z",
     "iopub.status.idle": "2021-04-22T00:26:04.652800Z",
     "shell.execute_reply": "2021-04-22T00:26:04.653390Z"
    }
   },
   "outputs": [
    {
     "name": "stdout",
     "output_type": "stream",
     "text": [
      "/home/ubuntu/repo/bakuchi\n"
     ]
    }
   ],
   "source": [
    "import sys\n",
    "sys.path.append('/home/tsu-nera/repo/bakuchi/')\n",
    "%cd '../../'"
   ]
  },
  {
   "cell_type": "code",
   "execution_count": 4,
   "metadata": {
    "execution": {
     "iopub.execute_input": "2021-04-22T00:26:04.656273Z",
     "iopub.status.busy": "2021-04-22T00:26:04.655620Z",
     "iopub.status.idle": "2021-04-22T00:26:04.714632Z",
     "shell.execute_reply": "2021-04-22T00:26:04.714064Z"
    }
   },
   "outputs": [],
   "source": [
    "from src.utils.backtesting import Backtesting, run_backtesting\n",
    "\n",
    "%reload_ext autoreload\n",
    "%autoreload 2"
   ]
  },
  {
   "cell_type": "code",
   "execution_count": 5,
   "metadata": {
    "execution": {
     "iopub.execute_input": "2021-04-22T00:26:04.719340Z",
     "iopub.status.busy": "2021-04-22T00:26:04.718663Z",
     "iopub.status.idle": "2021-04-22T00:26:04.783224Z",
     "shell.execute_reply": "2021-04-22T00:26:04.783766Z"
    }
   },
   "outputs": [],
   "source": [
    "bt = Backtesting(timestamp)"
   ]
  },
  {
   "cell_type": "code",
   "execution_count": 6,
   "metadata": {
    "execution": {
     "iopub.execute_input": "2021-04-22T00:26:04.786988Z",
     "iopub.status.busy": "2021-04-22T00:26:04.786385Z",
     "iopub.status.idle": "2021-04-22T00:26:04.799788Z",
     "shell.execute_reply": "2021-04-22T00:26:04.800307Z"
    }
   },
   "outputs": [],
   "source": [
    "df_ex1 = bt.get_coincheck_df()\n",
    "df_ex2 = bt.get_liquid_df()"
   ]
  },
  {
   "cell_type": "code",
   "execution_count": 7,
   "metadata": {
    "execution": {
     "iopub.execute_input": "2021-04-22T00:26:04.803349Z",
     "iopub.status.busy": "2021-04-22T00:26:04.802709Z",
     "iopub.status.idle": "2021-04-22T00:26:04.818954Z",
     "shell.execute_reply": "2021-04-22T00:26:04.819461Z"
    }
   },
   "outputs": [
    {
     "data": {
      "text/plain": [
       "(7654, 7654)"
      ]
     },
     "execution_count": 1,
     "metadata": {},
     "output_type": "execute_result"
    }
   ],
   "source": [
    "len(df_ex1), len(df_ex2)"
   ]
  },
  {
   "cell_type": "markdown",
   "metadata": {},
   "source": [
    "## テスト実行"
   ]
  },
  {
   "cell_type": "code",
   "execution_count": 8,
   "metadata": {
    "execution": {
     "iopub.execute_input": "2021-04-22T00:26:04.822720Z",
     "iopub.status.busy": "2021-04-22T00:26:04.822107Z",
     "iopub.status.idle": "2021-04-22T00:26:05.113853Z",
     "shell.execute_reply": "2021-04-22T00:26:05.114439Z"
    }
   },
   "outputs": [],
   "source": [
    "bt.run()"
   ]
  },
  {
   "cell_type": "markdown",
   "metadata": {},
   "source": [
    "##  取引履歴"
   ]
  },
  {
   "cell_type": "code",
   "execution_count": 9,
   "metadata": {
    "execution": {
     "iopub.execute_input": "2021-04-22T00:26:05.118659Z",
     "iopub.status.busy": "2021-04-22T00:26:05.117958Z",
     "iopub.status.idle": "2021-04-22T00:26:05.163437Z",
     "shell.execute_reply": "2021-04-22T00:26:05.164025Z"
    }
   },
   "outputs": [
    {
     "data": {
      "text/html": [
       "<div>\n",
       "<style scoped>\n",
       "    .dataframe tbody tr th:only-of-type {\n",
       "        vertical-align: middle;\n",
       "    }\n",
       "\n",
       "    .dataframe tbody tr th {\n",
       "        vertical-align: top;\n",
       "    }\n",
       "\n",
       "    .dataframe thead th {\n",
       "        text-align: right;\n",
       "    }\n",
       "</style>\n",
       "<table border=\"1\" class=\"dataframe\">\n",
       "  <thead>\n",
       "    <tr style=\"text-align: right;\">\n",
       "      <th></th>\n",
       "      <th>取引日時</th>\n",
       "      <th>購入取引所</th>\n",
       "      <th>売却取引所</th>\n",
       "      <th>通貨ペア</th>\n",
       "      <th>取引量</th>\n",
       "      <th>期待利益</th>\n",
       "    </tr>\n",
       "  </thead>\n",
       "  <tbody>\n",
       "    <tr>\n",
       "      <th>0</th>\n",
       "      <td>2021-04-22 06:51:31</td>\n",
       "      <td>liquid</td>\n",
       "      <td>bitbank</td>\n",
       "      <td>BTC/JPY</td>\n",
       "      <td>0.0007</td>\n",
       "      <td>1</td>\n",
       "    </tr>\n",
       "    <tr>\n",
       "      <th>1</th>\n",
       "      <td>2021-04-22 07:05:25</td>\n",
       "      <td>bitbank</td>\n",
       "      <td>liquid</td>\n",
       "      <td>BTC/JPY</td>\n",
       "      <td>0.0007</td>\n",
       "      <td>0</td>\n",
       "    </tr>\n",
       "    <tr>\n",
       "      <th>2</th>\n",
       "      <td>2021-04-22 07:05:26</td>\n",
       "      <td>liquid</td>\n",
       "      <td>bitbank</td>\n",
       "      <td>BTC/JPY</td>\n",
       "      <td>0.0007</td>\n",
       "      <td>1</td>\n",
       "    </tr>\n",
       "    <tr>\n",
       "      <th>3</th>\n",
       "      <td>2021-04-22 07:05:44</td>\n",
       "      <td>bitbank</td>\n",
       "      <td>liquid</td>\n",
       "      <td>BTC/JPY</td>\n",
       "      <td>0.0007</td>\n",
       "      <td>0</td>\n",
       "    </tr>\n",
       "    <tr>\n",
       "      <th>4</th>\n",
       "      <td>2021-04-22 07:07:25</td>\n",
       "      <td>bitbank</td>\n",
       "      <td>liquid</td>\n",
       "      <td>BTC/JPY</td>\n",
       "      <td>0.0007</td>\n",
       "      <td>2</td>\n",
       "    </tr>\n",
       "    <tr>\n",
       "      <th>...</th>\n",
       "      <td>...</td>\n",
       "      <td>...</td>\n",
       "      <td>...</td>\n",
       "      <td>...</td>\n",
       "      <td>...</td>\n",
       "      <td>...</td>\n",
       "    </tr>\n",
       "    <tr>\n",
       "      <th>289</th>\n",
       "      <td>2021-04-22 09:15:01</td>\n",
       "      <td>bitbank</td>\n",
       "      <td>liquid</td>\n",
       "      <td>BTC/JPY</td>\n",
       "      <td>0.0007</td>\n",
       "      <td>-1</td>\n",
       "    </tr>\n",
       "    <tr>\n",
       "      <th>290</th>\n",
       "      <td>2021-04-22 09:15:15</td>\n",
       "      <td>liquid</td>\n",
       "      <td>bitbank</td>\n",
       "      <td>BTC/JPY</td>\n",
       "      <td>0.0007</td>\n",
       "      <td>2</td>\n",
       "    </tr>\n",
       "    <tr>\n",
       "      <th>291</th>\n",
       "      <td>2021-04-22 09:15:37</td>\n",
       "      <td>bitbank</td>\n",
       "      <td>liquid</td>\n",
       "      <td>BTC/JPY</td>\n",
       "      <td>0.0007</td>\n",
       "      <td>-1</td>\n",
       "    </tr>\n",
       "    <tr>\n",
       "      <th>292</th>\n",
       "      <td>2021-04-22 09:15:44</td>\n",
       "      <td>liquid</td>\n",
       "      <td>bitbank</td>\n",
       "      <td>BTC/JPY</td>\n",
       "      <td>0.0007</td>\n",
       "      <td>2</td>\n",
       "    </tr>\n",
       "    <tr>\n",
       "      <th>293</th>\n",
       "      <td>2021-04-22 09:16:03</td>\n",
       "      <td>bitbank</td>\n",
       "      <td>liquid</td>\n",
       "      <td>BTC/JPY</td>\n",
       "      <td>0.0007</td>\n",
       "      <td>0</td>\n",
       "    </tr>\n",
       "  </tbody>\n",
       "</table>\n",
       "<p>294 rows × 6 columns</p>\n",
       "</div>"
      ],
      "text/plain": [
       "                    取引日時    購入取引所    売却取引所     通貨ペア     取引量  期待利益\n",
       "0    2021-04-22 06:51:31   liquid  bitbank  BTC/JPY  0.0007     1\n",
       "1    2021-04-22 07:05:25  bitbank   liquid  BTC/JPY  0.0007     0\n",
       "2    2021-04-22 07:05:26   liquid  bitbank  BTC/JPY  0.0007     1\n",
       "3    2021-04-22 07:05:44  bitbank   liquid  BTC/JPY  0.0007     0\n",
       "4    2021-04-22 07:07:25  bitbank   liquid  BTC/JPY  0.0007     2\n",
       "..                   ...      ...      ...      ...     ...   ...\n",
       "289  2021-04-22 09:15:01  bitbank   liquid  BTC/JPY  0.0007    -1\n",
       "290  2021-04-22 09:15:15   liquid  bitbank  BTC/JPY  0.0007     2\n",
       "291  2021-04-22 09:15:37  bitbank   liquid  BTC/JPY  0.0007    -1\n",
       "292  2021-04-22 09:15:44   liquid  bitbank  BTC/JPY  0.0007     2\n",
       "293  2021-04-22 09:16:03  bitbank   liquid  BTC/JPY  0.0007     0\n",
       "\n",
       "[294 rows x 6 columns]"
      ]
     },
     "execution_count": 1,
     "metadata": {},
     "output_type": "execute_result"
    }
   ],
   "source": [
    "arbitrage_histories = bt.get_arbitrage_histories()\n",
    "\n",
    "headers = [\"取引日時\", \"購入取引所\", \"売却取引所\", \"通貨ペア\", \"取引量\", \"期待利益\"]\n",
    "arbitrage_histories_df = pd.DataFrame(arbitrage_histories, columns=headers)\n",
    "arbitrage_histories_df"
   ]
  },
  {
   "cell_type": "code",
   "execution_count": 10,
   "metadata": {
    "execution": {
     "iopub.execute_input": "2021-04-22T00:26:05.167646Z",
     "iopub.status.busy": "2021-04-22T00:26:05.166910Z",
     "iopub.status.idle": "2021-04-22T00:26:05.197648Z",
     "shell.execute_reply": "2021-04-22T00:26:05.198164Z"
    }
   },
   "outputs": [
    {
     "data": {
      "text/html": [
       "<div>\n",
       "<style scoped>\n",
       "    .dataframe tbody tr th:only-of-type {\n",
       "        vertical-align: middle;\n",
       "    }\n",
       "\n",
       "    .dataframe tbody tr th {\n",
       "        vertical-align: top;\n",
       "    }\n",
       "\n",
       "    .dataframe thead th {\n",
       "        text-align: right;\n",
       "    }\n",
       "</style>\n",
       "<table border=\"1\" class=\"dataframe\">\n",
       "  <thead>\n",
       "    <tr style=\"text-align: right;\">\n",
       "      <th></th>\n",
       "      <th>取引日時</th>\n",
       "      <th>売買</th>\n",
       "      <th>取引所</th>\n",
       "      <th>レート</th>\n",
       "    </tr>\n",
       "  </thead>\n",
       "  <tbody>\n",
       "    <tr>\n",
       "      <th>0</th>\n",
       "      <td>2021-04-22 06:51:31</td>\n",
       "      <td>liquid</td>\n",
       "      <td>買い</td>\n",
       "      <td>5937263.0</td>\n",
       "    </tr>\n",
       "    <tr>\n",
       "      <th>1</th>\n",
       "      <td>2021-04-22 06:51:31</td>\n",
       "      <td>bitbank</td>\n",
       "      <td>売り</td>\n",
       "      <td>5939990.0</td>\n",
       "    </tr>\n",
       "    <tr>\n",
       "      <th>2</th>\n",
       "      <td>2021-04-22 07:05:25</td>\n",
       "      <td>bitbank</td>\n",
       "      <td>買い</td>\n",
       "      <td>5934795.0</td>\n",
       "    </tr>\n",
       "    <tr>\n",
       "      <th>3</th>\n",
       "      <td>2021-04-22 07:05:25</td>\n",
       "      <td>liquid</td>\n",
       "      <td>売り</td>\n",
       "      <td>5933390.0</td>\n",
       "    </tr>\n",
       "    <tr>\n",
       "      <th>4</th>\n",
       "      <td>2021-04-22 07:05:26</td>\n",
       "      <td>liquid</td>\n",
       "      <td>買い</td>\n",
       "      <td>5932598.0</td>\n",
       "    </tr>\n",
       "    <tr>\n",
       "      <th>...</th>\n",
       "      <td>...</td>\n",
       "      <td>...</td>\n",
       "      <td>...</td>\n",
       "      <td>...</td>\n",
       "    </tr>\n",
       "    <tr>\n",
       "      <th>583</th>\n",
       "      <td>2021-04-22 09:15:37</td>\n",
       "      <td>liquid</td>\n",
       "      <td>売り</td>\n",
       "      <td>5777513.0</td>\n",
       "    </tr>\n",
       "    <tr>\n",
       "      <th>584</th>\n",
       "      <td>2021-04-22 09:15:44</td>\n",
       "      <td>liquid</td>\n",
       "      <td>買い</td>\n",
       "      <td>5776685.0</td>\n",
       "    </tr>\n",
       "    <tr>\n",
       "      <th>585</th>\n",
       "      <td>2021-04-22 09:15:44</td>\n",
       "      <td>bitbank</td>\n",
       "      <td>売り</td>\n",
       "      <td>5780000.0</td>\n",
       "    </tr>\n",
       "    <tr>\n",
       "      <th>586</th>\n",
       "      <td>2021-04-22 09:16:03</td>\n",
       "      <td>bitbank</td>\n",
       "      <td>買い</td>\n",
       "      <td>5778001.0</td>\n",
       "    </tr>\n",
       "    <tr>\n",
       "      <th>587</th>\n",
       "      <td>2021-04-22 09:16:03</td>\n",
       "      <td>liquid</td>\n",
       "      <td>売り</td>\n",
       "      <td>5779114.0</td>\n",
       "    </tr>\n",
       "  </tbody>\n",
       "</table>\n",
       "<p>588 rows × 4 columns</p>\n",
       "</div>"
      ],
      "text/plain": [
       "                    取引日時       売買 取引所        レート\n",
       "0    2021-04-22 06:51:31   liquid  買い  5937263.0\n",
       "1    2021-04-22 06:51:31  bitbank  売り  5939990.0\n",
       "2    2021-04-22 07:05:25  bitbank  買い  5934795.0\n",
       "3    2021-04-22 07:05:25   liquid  売り  5933390.0\n",
       "4    2021-04-22 07:05:26   liquid  買い  5932598.0\n",
       "..                   ...      ...  ..        ...\n",
       "583  2021-04-22 09:15:37   liquid  売り  5777513.0\n",
       "584  2021-04-22 09:15:44   liquid  買い  5776685.0\n",
       "585  2021-04-22 09:15:44  bitbank  売り  5780000.0\n",
       "586  2021-04-22 09:16:03  bitbank  買い  5778001.0\n",
       "587  2021-04-22 09:16:03   liquid  売り  5779114.0\n",
       "\n",
       "[588 rows x 4 columns]"
      ]
     },
     "execution_count": 1,
     "metadata": {},
     "output_type": "execute_result"
    }
   ],
   "source": [
    "histories = bt.get_trade_histories()\n",
    "headers = [\"取引日時\",  \"売買\",  \"取引所\", \"レート\"]\n",
    "histories_df = pd.DataFrame(histories, columns=headers)\n",
    "histories_df"
   ]
  },
  {
   "cell_type": "markdown",
   "metadata": {},
   "source": [
    "## 結果まとめ"
   ]
  },
  {
   "cell_type": "code",
   "execution_count": 11,
   "metadata": {
    "execution": {
     "iopub.execute_input": "2021-04-22T00:26:05.201615Z",
     "iopub.status.busy": "2021-04-22T00:26:05.200926Z",
     "iopub.status.idle": "2021-04-22T00:26:05.222924Z",
     "shell.execute_reply": "2021-04-22T00:26:05.223582Z"
    }
   },
   "outputs": [
    {
     "name": "stdout",
     "output_type": "stream",
     "text": [
      "バックテスト情報\n",
      "-------------------  -------------------\n",
      "         レコード数                 7654\n",
      "           取引回数                  294\n",
      "           開始日時  2021-04-22 06:50:58\n",
      "           終了日時  2021-04-22 09:16:21\n",
      "        取引時間[H]      0 days 02:25:23\n",
      "      取引単位[BTC]               0.0007\n",
      "  利確しきい値[JPY]                 3000\n",
      "損切りマージン[JPY]                 1000\n",
      "-------------------  -------------------\n",
      "\n",
      "バックテスト結果\n",
      "-----------  -------\n",
      "開始[JPY]      10000\n",
      "終了[JPY]      10195\n",
      "利益[JPY]        195\n",
      "開始[BTC]      0.022\n",
      "終了[BTC]      0.022\n",
      "利益[BTC]          0\n",
      "開始[TOTAL]   139026\n",
      "終了[TOTAL]   139222\n",
      "利益[TOTAL]  195.865\n",
      "-----------  -------\n"
     ]
    }
   ],
   "source": [
    "bt.display()"
   ]
  },
  {
   "cell_type": "markdown",
   "metadata": {},
   "source": [
    "## グラフ出力"
   ]
  },
  {
   "cell_type": "code",
   "execution_count": 12,
   "metadata": {
    "execution": {
     "iopub.execute_input": "2021-04-22T00:26:05.227099Z",
     "iopub.status.busy": "2021-04-22T00:26:05.226421Z",
     "iopub.status.idle": "2021-04-22T00:26:05.465616Z",
     "shell.execute_reply": "2021-04-22T00:26:05.466476Z"
    },
    "scrolled": true
   },
   "outputs": [
    {
     "data": {
      "text/plain": [
       "[<matplotlib.lines.Line2D at 0x7fb6be521390>]"
      ]
     },
     "execution_count": 1,
     "metadata": {},
     "output_type": "execute_result"
    },
    {
     "data": {
      "image/png": "[encoded data removed]",
      "text/plain": [
       "<Figure size 864x288 with 1 Axes>"
      ]
     },
     "metadata": {
      "needs_background": "light"
     },
     "output_type": "display_data"
    }
   ],
   "source": [
    "plt.figure(figsize=(12,4))\n",
    "plt.plot(df_ex1.index, df_ex1['bid'])"
   ]
  },
  {
   "cell_type": "code",
   "execution_count": 13,
   "metadata": {
    "execution": {
     "iopub.execute_input": "2021-04-22T00:26:05.472069Z",
     "iopub.status.busy": "2021-04-22T00:26:05.471015Z",
     "iopub.status.idle": "2021-04-22T00:26:05.723643Z",
     "shell.execute_reply": "2021-04-22T00:26:05.724156Z"
    }
   },
   "outputs": [
    {
     "data": {
      "text/plain": [
       "[<matplotlib.lines.Line2D at 0x7fb6bdcc8fd0>]"
      ]
     },
     "execution_count": 1,
     "metadata": {},
     "output_type": "execute_result"
    },
    {
     "data": {
      "image/png": "[encoded data removed]",
      "text/plain": [
       "<Figure size 864x288 with 1 Axes>"
      ]
     },
     "metadata": {
      "needs_background": "light"
     },
     "output_type": "display_data"
    }
   ],
   "source": [
    "plt.figure(figsize=(12,4))\n",
    "plt.plot(df_ex2.index, df_ex2['bid'])"
   ]
  },
  {
   "cell_type": "markdown",
   "metadata": {},
   "source": [
    "## 分析"
   ]
  },
  {
   "cell_type": "markdown",
   "metadata": {},
   "source": [
    "### 時間別の取引回数と利益"
   ]
  },
  {
   "cell_type": "code",
   "execution_count": null,
   "metadata": {},
   "outputs": [],
   "source": []
  },
  {
   "cell_type": "markdown",
   "metadata": {},
   "source": [
    "### 時間別の価格差の推移"
   ]
  },
  {
   "cell_type": "code",
   "execution_count": 14,
   "metadata": {
    "execution": {
     "iopub.execute_input": "2021-04-22T00:26:05.730496Z",
     "iopub.status.busy": "2021-04-22T00:26:05.729487Z",
     "iopub.status.idle": "2021-04-22T00:26:05.772546Z",
     "shell.execute_reply": "2021-04-22T00:26:05.773070Z"
    }
   },
   "outputs": [],
   "source": [
    "profit_margin_df = pd.DataFrame({\n",
    "    \"timestamp\": pd.to_datetime(df_ex1.index),\n",
    "    \"buy_ex1_sell_ex2\": df_ex2.reset_index().bid - df_ex1.reset_index().ask,\n",
    "    \"buy_ex2_sell_ex1\": df_ex1.reset_index().bid - df_ex2.reset_index().ask,\n",
    "    'ex1_bid': df_ex1.reset_index().bid,\n",
    "     'ex2_ask': df_ex2.reset_index().ask,\n",
    "    'ex2_bid': df_ex2.reset_index().bid,\n",
    "    'ex1_ask': df_ex1.reset_index().ask,\n",
    "})\n",
    "\n",
    "profit_margin_df = profit_margin_df.set_index(\"timestamp\")"
   ]
  },
  {
   "cell_type": "code",
   "execution_count": 15,
   "metadata": {
    "execution": {
     "iopub.execute_input": "2021-04-22T00:26:05.778179Z",
     "iopub.status.busy": "2021-04-22T00:26:05.777546Z",
     "iopub.status.idle": "2021-04-22T00:26:05.813907Z",
     "shell.execute_reply": "2021-04-22T00:26:05.813288Z"
    }
   },
   "outputs": [
    {
     "data": {
      "text/html": [
       "<div>\n",
       "<style scoped>\n",
       "    .dataframe tbody tr th:only-of-type {\n",
       "        vertical-align: middle;\n",
       "    }\n",
       "\n",
       "    .dataframe tbody tr th {\n",
       "        vertical-align: top;\n",
       "    }\n",
       "\n",
       "    .dataframe thead th {\n",
       "        text-align: right;\n",
       "    }\n",
       "</style>\n",
       "<table border=\"1\" class=\"dataframe\">\n",
       "  <thead>\n",
       "    <tr style=\"text-align: right;\">\n",
       "      <th></th>\n",
       "      <th>buy_ex1_sell_ex2</th>\n",
       "      <th>buy_ex2_sell_ex1</th>\n",
       "      <th>ex1_bid</th>\n",
       "      <th>ex2_ask</th>\n",
       "      <th>ex2_bid</th>\n",
       "      <th>ex1_ask</th>\n",
       "    </tr>\n",
       "    <tr>\n",
       "      <th>timestamp</th>\n",
       "      <th></th>\n",
       "      <th></th>\n",
       "      <th></th>\n",
       "      <th></th>\n",
       "      <th></th>\n",
       "      <th></th>\n",
       "    </tr>\n",
       "  </thead>\n",
       "  <tbody>\n",
       "    <tr>\n",
       "      <th>2021-04-22 06:50:00</th>\n",
       "      <td>-4116</td>\n",
       "      <td>2231</td>\n",
       "      <td>5939956</td>\n",
       "      <td>5937725</td>\n",
       "      <td>5935758</td>\n",
       "      <td>5939874</td>\n",
       "    </tr>\n",
       "    <tr>\n",
       "      <th>2021-04-22 07:00:00</th>\n",
       "      <td>-3118</td>\n",
       "      <td>3201</td>\n",
       "      <td>5940520</td>\n",
       "      <td>5937320</td>\n",
       "      <td>5936526</td>\n",
       "      <td>5939644</td>\n",
       "    </tr>\n",
       "    <tr>\n",
       "      <th>2021-04-22 07:10:00</th>\n",
       "      <td>-5545</td>\n",
       "      <td>4829</td>\n",
       "      <td>5943286</td>\n",
       "      <td>5938457</td>\n",
       "      <td>5937846</td>\n",
       "      <td>5943390</td>\n",
       "    </tr>\n",
       "    <tr>\n",
       "      <th>2021-04-22 07:20:00</th>\n",
       "      <td>-8960</td>\n",
       "      <td>7152</td>\n",
       "      <td>5934528</td>\n",
       "      <td>5927375</td>\n",
       "      <td>5926359</td>\n",
       "      <td>5935318</td>\n",
       "    </tr>\n",
       "    <tr>\n",
       "      <th>2021-04-22 07:30:00</th>\n",
       "      <td>-7575</td>\n",
       "      <td>5699</td>\n",
       "      <td>5890452</td>\n",
       "      <td>5884753</td>\n",
       "      <td>5884180</td>\n",
       "      <td>5891754</td>\n",
       "    </tr>\n",
       "    <tr>\n",
       "      <th>2021-04-22 07:40:00</th>\n",
       "      <td>-7442</td>\n",
       "      <td>4339</td>\n",
       "      <td>5849589</td>\n",
       "      <td>5845251</td>\n",
       "      <td>5844802</td>\n",
       "      <td>5852244</td>\n",
       "    </tr>\n",
       "    <tr>\n",
       "      <th>2021-04-22 07:50:00</th>\n",
       "      <td>-6740</td>\n",
       "      <td>5593</td>\n",
       "      <td>5860291</td>\n",
       "      <td>5854698</td>\n",
       "      <td>5854366</td>\n",
       "      <td>5861105</td>\n",
       "    </tr>\n",
       "    <tr>\n",
       "      <th>2021-04-22 08:00:00</th>\n",
       "      <td>-8219</td>\n",
       "      <td>6782</td>\n",
       "      <td>5849650</td>\n",
       "      <td>5842868</td>\n",
       "      <td>5842295</td>\n",
       "      <td>5850515</td>\n",
       "    </tr>\n",
       "    <tr>\n",
       "      <th>2021-04-22 08:10:00</th>\n",
       "      <td>-8250</td>\n",
       "      <td>6121</td>\n",
       "      <td>5821189</td>\n",
       "      <td>5815068</td>\n",
       "      <td>5814581</td>\n",
       "      <td>5822831</td>\n",
       "    </tr>\n",
       "    <tr>\n",
       "      <th>2021-04-22 08:20:00</th>\n",
       "      <td>-3796</td>\n",
       "      <td>1836</td>\n",
       "      <td>5836867</td>\n",
       "      <td>5835031</td>\n",
       "      <td>5834625</td>\n",
       "      <td>5838421</td>\n",
       "    </tr>\n",
       "    <tr>\n",
       "      <th>2021-04-22 08:30:00</th>\n",
       "      <td>-3500</td>\n",
       "      <td>2025</td>\n",
       "      <td>5860134</td>\n",
       "      <td>5858109</td>\n",
       "      <td>5857385</td>\n",
       "      <td>5860885</td>\n",
       "    </tr>\n",
       "    <tr>\n",
       "      <th>2021-04-22 08:40:00</th>\n",
       "      <td>-2935</td>\n",
       "      <td>2379</td>\n",
       "      <td>5869474</td>\n",
       "      <td>5867095</td>\n",
       "      <td>5866694</td>\n",
       "      <td>5869629</td>\n",
       "    </tr>\n",
       "    <tr>\n",
       "      <th>2021-04-22 08:50:00</th>\n",
       "      <td>-2654</td>\n",
       "      <td>1305</td>\n",
       "      <td>5839585</td>\n",
       "      <td>5838280</td>\n",
       "      <td>5837841</td>\n",
       "      <td>5840495</td>\n",
       "    </tr>\n",
       "    <tr>\n",
       "      <th>2021-04-22 09:00:00</th>\n",
       "      <td>-6250</td>\n",
       "      <td>3621</td>\n",
       "      <td>5810773</td>\n",
       "      <td>5807152</td>\n",
       "      <td>5806527</td>\n",
       "      <td>5812776</td>\n",
       "    </tr>\n",
       "    <tr>\n",
       "      <th>2021-04-22 09:10:00</th>\n",
       "      <td>-5368</td>\n",
       "      <td>1692</td>\n",
       "      <td>5779692</td>\n",
       "      <td>5778000</td>\n",
       "      <td>5777246</td>\n",
       "      <td>5782614</td>\n",
       "    </tr>\n",
       "  </tbody>\n",
       "</table>\n",
       "</div>"
      ],
      "text/plain": [
       "                     buy_ex1_sell_ex2  buy_ex2_sell_ex1  ex1_bid  ex2_ask  \\\n",
       "timestamp                                                                   \n",
       "2021-04-22 06:50:00             -4116              2231  5939956  5937725   \n",
       "2021-04-22 07:00:00             -3118              3201  5940520  5937320   \n",
       "2021-04-22 07:10:00             -5545              4829  5943286  5938457   \n",
       "2021-04-22 07:20:00             -8960              7152  5934528  5927375   \n",
       "2021-04-22 07:30:00             -7575              5699  5890452  5884753   \n",
       "2021-04-22 07:40:00             -7442              4339  5849589  5845251   \n",
       "2021-04-22 07:50:00             -6740              5593  5860291  5854698   \n",
       "2021-04-22 08:00:00             -8219              6782  5849650  5842868   \n",
       "2021-04-22 08:10:00             -8250              6121  5821189  5815068   \n",
       "2021-04-22 08:20:00             -3796              1836  5836867  5835031   \n",
       "2021-04-22 08:30:00             -3500              2025  5860134  5858109   \n",
       "2021-04-22 08:40:00             -2935              2379  5869474  5867095   \n",
       "2021-04-22 08:50:00             -2654              1305  5839585  5838280   \n",
       "2021-04-22 09:00:00             -6250              3621  5810773  5807152   \n",
       "2021-04-22 09:10:00             -5368              1692  5779692  5778000   \n",
       "\n",
       "                     ex2_bid  ex1_ask  \n",
       "timestamp                              \n",
       "2021-04-22 06:50:00  5935758  5939874  \n",
       "2021-04-22 07:00:00  5936526  5939644  \n",
       "2021-04-22 07:10:00  5937846  5943390  \n",
       "2021-04-22 07:20:00  5926359  5935318  \n",
       "2021-04-22 07:30:00  5884180  5891754  \n",
       "2021-04-22 07:40:00  5844802  5852244  \n",
       "2021-04-22 07:50:00  5854366  5861105  \n",
       "2021-04-22 08:00:00  5842295  5850515  \n",
       "2021-04-22 08:10:00  5814581  5822831  \n",
       "2021-04-22 08:20:00  5834625  5838421  \n",
       "2021-04-22 08:30:00  5857385  5860885  \n",
       "2021-04-22 08:40:00  5866694  5869629  \n",
       "2021-04-22 08:50:00  5837841  5840495  \n",
       "2021-04-22 09:00:00  5806527  5812776  \n",
       "2021-04-22 09:10:00  5777246  5782614  "
      ]
     },
     "execution_count": 1,
     "metadata": {},
     "output_type": "execute_result"
    }
   ],
   "source": [
    "pd.options.display.float_format = '{:.0f}'.format\n",
    "profit_margin_df.resample(rule='10Min').mean()"
   ]
  },
  {
   "cell_type": "code",
   "execution_count": null,
   "metadata": {},
   "outputs": [],
   "source": []
  }
 ],
 "metadata": {
  "kernelspec": {
   "display_name": "Environment (conda_bakuchi)",
   "language": "python",
   "name": "conda_bakuchi"
  },
  "language_info": {
   "codemirror_mode": {
    "name": "ipython",
    "version": 3
   },
   "file_extension": ".py",
   "mimetype": "text/x-python",
   "name": "python",
   "nbconvert_exporter": "python",
   "pygments_lexer": "ipython3",
   "version": "3.7.10"
  }
 },
 "nbformat": 4,
 "nbformat_minor": 4
}
