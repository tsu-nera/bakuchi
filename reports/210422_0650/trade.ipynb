{
 "cells": [
  {
   "cell_type": "markdown",
   "metadata": {},
   "source": [
    "# 取引履歴のデータ分析"
   ]
  },
  {
   "cell_type": "code",
   "execution_count": 1,
   "metadata": {
    "execution": {
     "iopub.execute_input": "2021-04-22T00:26:11.440396Z",
     "iopub.status.busy": "2021-04-22T00:26:11.439607Z",
     "iopub.status.idle": "2021-04-22T00:26:12.140826Z",
     "shell.execute_reply": "2021-04-22T00:26:12.141477Z"
    }
   },
   "outputs": [],
   "source": [
    "import os\n",
    "import pandas as pd\n",
    "import matplotlib\n",
    "import matplotlib.pyplot as plt\n",
    "import matplotlib.dates as mdates"
   ]
  },
  {
   "cell_type": "code",
   "execution_count": 2,
   "metadata": {
    "execution": {
     "iopub.execute_input": "2021-04-22T00:26:12.145320Z",
     "iopub.status.busy": "2021-04-22T00:26:12.144658Z",
     "iopub.status.idle": "2021-04-22T00:26:12.148793Z",
     "shell.execute_reply": "2021-04-22T00:26:12.149448Z"
    }
   },
   "outputs": [],
   "source": [
    "matplotlib.use(\"Agg\")"
   ]
  },
  {
   "cell_type": "code",
   "execution_count": 3,
   "metadata": {
    "execution": {
     "iopub.execute_input": "2021-04-22T00:26:12.153220Z",
     "iopub.status.busy": "2021-04-22T00:26:12.152616Z",
     "iopub.status.idle": "2021-04-22T00:26:12.156643Z",
     "shell.execute_reply": "2021-04-22T00:26:12.157124Z"
    }
   },
   "outputs": [],
   "source": [
    "current_dir = %pwd\n",
    "timestamp = os.path.basename(current_dir)"
   ]
  },
  {
   "cell_type": "code",
   "execution_count": 4,
   "metadata": {
    "execution": {
     "iopub.execute_input": "2021-04-22T00:26:12.160150Z",
     "iopub.status.busy": "2021-04-22T00:26:12.159562Z",
     "iopub.status.idle": "2021-04-22T00:26:12.166150Z",
     "shell.execute_reply": "2021-04-22T00:26:12.166686Z"
    }
   },
   "outputs": [
    {
     "name": "stdout",
     "output_type": "stream",
     "text": [
      "/home/ubuntu/repo/bakuchi\n"
     ]
    }
   ],
   "source": [
    "import sys\n",
    "sys.path.append('/home/tsu-nera/repo/bakuchi/')\n",
    "%cd '../../'"
   ]
  },
  {
   "cell_type": "code",
   "execution_count": 5,
   "metadata": {
    "execution": {
     "iopub.execute_input": "2021-04-22T00:26:12.169745Z",
     "iopub.status.busy": "2021-04-22T00:26:12.168968Z",
     "iopub.status.idle": "2021-04-22T00:26:12.201365Z",
     "shell.execute_reply": "2021-04-22T00:26:12.201879Z"
    }
   },
   "outputs": [],
   "source": [
    "from src.utils.trade_analysis import TradeAnalysis\n",
    "\n",
    "%reload_ext autoreload\n",
    "%autoreload 2"
   ]
  },
  {
   "cell_type": "code",
   "execution_count": 6,
   "metadata": {
    "execution": {
     "iopub.execute_input": "2021-04-22T00:26:12.204877Z",
     "iopub.status.busy": "2021-04-22T00:26:12.204223Z",
     "iopub.status.idle": "2021-04-22T00:26:12.276410Z",
     "shell.execute_reply": "2021-04-22T00:26:12.276915Z"
    }
   },
   "outputs": [],
   "source": [
    "ta = TradeAnalysis(timestamp)"
   ]
  },
  {
   "cell_type": "code",
   "execution_count": 7,
   "metadata": {
    "execution": {
     "iopub.execute_input": "2021-04-22T00:26:12.280150Z",
     "iopub.status.busy": "2021-04-22T00:26:12.279542Z",
     "iopub.status.idle": "2021-04-22T00:26:12.292691Z",
     "shell.execute_reply": "2021-04-22T00:26:12.293219Z"
    }
   },
   "outputs": [],
   "source": [
    "ex1_trades = ta.get_ex1_trades_df()\n",
    "ex2_trades = ta.get_ex2_trades_df()"
   ]
  },
  {
   "cell_type": "code",
   "execution_count": 8,
   "metadata": {
    "execution": {
     "iopub.execute_input": "2021-04-22T00:26:12.296472Z",
     "iopub.status.busy": "2021-04-22T00:26:12.295828Z",
     "iopub.status.idle": "2021-04-22T00:26:12.310754Z",
     "shell.execute_reply": "2021-04-22T00:26:12.311343Z"
    }
   },
   "outputs": [
    {
     "data": {
      "text/plain": [
       "(156, 156)"
      ]
     },
     "execution_count": 1,
     "metadata": {},
     "output_type": "execute_result"
    }
   ],
   "source": [
    "len(ex1_trades), len(ex2_trades)"
   ]
  },
  {
   "cell_type": "markdown",
   "metadata": {},
   "source": [
    "## トレード結果"
   ]
  },
  {
   "cell_type": "code",
   "execution_count": 9,
   "metadata": {
    "execution": {
     "iopub.execute_input": "2021-04-22T00:26:12.314363Z",
     "iopub.status.busy": "2021-04-22T00:26:12.313706Z",
     "iopub.status.idle": "2021-04-22T00:26:12.328366Z",
     "shell.execute_reply": "2021-04-22T00:26:12.328851Z"
    }
   },
   "outputs": [
    {
     "name": "stdout",
     "output_type": "stream",
     "text": [
      "トレード情報\n",
      "-------------------  -------------------\n",
      "         レコード数                 7654\n",
      "           取引回数                  156\n",
      "           開始日時  2021-04-22 06:50:57\n",
      "           終了日時  2021-04-22 09:16:25\n",
      "        取引時間[H]              2:25:28\n",
      "      取引単位[BTC]               0.0006\n",
      "  利確しきい値[JPY]                 3000\n",
      "損切りマージン[JPY]                 3000\n",
      "-------------------  -------------------\n",
      "\n",
      "\n",
      "トレード結果\n",
      "-----------  ------\n",
      "開始[JPY]     12915\n",
      "終了[JPY]     12341\n",
      "利益[JPY]      -574\n",
      "開始[BTC]    0.0024\n",
      "終了[BTC]    0.0024\n",
      "利益[BTC]         0\n",
      "開始[TOTAL]   27163\n",
      "終了[TOTAL]   26237\n",
      "利益[TOTAL]    -926\n",
      "-----------  ------\n",
      "\n",
      "\n",
      "トレード利益\n",
      "  Bot利益    トレード利益    市場利益\n",
      "---------  --------------  ----------\n",
      "     -926        -574.935    -351.065\n"
     ]
    }
   ],
   "source": [
    "ta.display()"
   ]
  },
  {
   "cell_type": "markdown",
   "metadata": {},
   "source": [
    "## 取引履歴"
   ]
  },
  {
   "cell_type": "code",
   "execution_count": 10,
   "metadata": {
    "execution": {
     "iopub.execute_input": "2021-04-22T00:26:12.331728Z",
     "iopub.status.busy": "2021-04-22T00:26:12.331025Z",
     "iopub.status.idle": "2021-04-22T00:26:12.354558Z",
     "shell.execute_reply": "2021-04-22T00:26:12.355064Z"
    },
    "scrolled": false
   },
   "outputs": [],
   "source": [
    "profit_df = ta.create_profit_df()"
   ]
  },
  {
   "cell_type": "code",
   "execution_count": 11,
   "metadata": {
    "execution": {
     "iopub.execute_input": "2021-04-22T00:26:12.358160Z",
     "iopub.status.busy": "2021-04-22T00:26:12.357557Z",
     "iopub.status.idle": "2021-04-22T00:26:12.387679Z",
     "shell.execute_reply": "2021-04-22T00:26:12.388144Z"
    }
   },
   "outputs": [
    {
     "data": {
      "text/html": [
       "<div>\n",
       "<style scoped>\n",
       "    .dataframe tbody tr th:only-of-type {\n",
       "        vertical-align: middle;\n",
       "    }\n",
       "\n",
       "    .dataframe tbody tr th {\n",
       "        vertical-align: top;\n",
       "    }\n",
       "\n",
       "    .dataframe thead th {\n",
       "        text-align: right;\n",
       "    }\n",
       "</style>\n",
       "<table border=\"1\" class=\"dataframe\">\n",
       "  <thead>\n",
       "    <tr style=\"text-align: right;\">\n",
       "      <th></th>\n",
       "      <th>ex1_side</th>\n",
       "      <th>ex1_price</th>\n",
       "      <th>ex2_side</th>\n",
       "      <th>ex2_price</th>\n",
       "      <th>profit</th>\n",
       "    </tr>\n",
       "    <tr>\n",
       "      <th>timestamp</th>\n",
       "      <th></th>\n",
       "      <th></th>\n",
       "      <th></th>\n",
       "      <th></th>\n",
       "      <th></th>\n",
       "    </tr>\n",
       "  </thead>\n",
       "  <tbody>\n",
       "    <tr>\n",
       "      <th>2021-04-22 08:59:50</th>\n",
       "      <td>sell</td>\n",
       "      <td>3495.407</td>\n",
       "      <td>buy</td>\n",
       "      <td>3493.837</td>\n",
       "      <td>1.570</td>\n",
       "    </tr>\n",
       "    <tr>\n",
       "      <th>2021-04-22 08:59:53</th>\n",
       "      <td>buy</td>\n",
       "      <td>3496.169</td>\n",
       "      <td>sell</td>\n",
       "      <td>3494.448</td>\n",
       "      <td>-1.721</td>\n",
       "    </tr>\n",
       "    <tr>\n",
       "      <th>2021-04-22 09:00:10</th>\n",
       "      <td>buy</td>\n",
       "      <td>3496.117</td>\n",
       "      <td>sell</td>\n",
       "      <td>3498.165</td>\n",
       "      <td>2.048</td>\n",
       "    </tr>\n",
       "    <tr>\n",
       "      <th>2021-04-22 09:00:20</th>\n",
       "      <td>sell</td>\n",
       "      <td>3501.000</td>\n",
       "      <td>buy</td>\n",
       "      <td>3501.029</td>\n",
       "      <td>-0.029</td>\n",
       "    </tr>\n",
       "    <tr>\n",
       "      <th>2021-04-22 09:00:30</th>\n",
       "      <td>sell</td>\n",
       "      <td>3501.000</td>\n",
       "      <td>buy</td>\n",
       "      <td>3499.426</td>\n",
       "      <td>1.574</td>\n",
       "    </tr>\n",
       "    <tr>\n",
       "      <th>2021-04-22 09:00:34</th>\n",
       "      <td>buy</td>\n",
       "      <td>3501.448</td>\n",
       "      <td>sell</td>\n",
       "      <td>3501.501</td>\n",
       "      <td>0.053</td>\n",
       "    </tr>\n",
       "    <tr>\n",
       "      <th>2021-04-22 09:01:17</th>\n",
       "      <td>buy</td>\n",
       "      <td>3506.979</td>\n",
       "      <td>sell</td>\n",
       "      <td>3508.285</td>\n",
       "      <td>1.306</td>\n",
       "    </tr>\n",
       "    <tr>\n",
       "      <th>2021-04-22 09:01:33</th>\n",
       "      <td>sell</td>\n",
       "      <td>3508.799</td>\n",
       "      <td>buy</td>\n",
       "      <td>3509.809</td>\n",
       "      <td>-1.010</td>\n",
       "    </tr>\n",
       "    <tr>\n",
       "      <th>2021-04-22 09:01:40</th>\n",
       "      <td>sell</td>\n",
       "      <td>3508.805</td>\n",
       "      <td>buy</td>\n",
       "      <td>3507.238</td>\n",
       "      <td>1.567</td>\n",
       "    </tr>\n",
       "    <tr>\n",
       "      <th>2021-04-22 09:03:14</th>\n",
       "      <td>buy</td>\n",
       "      <td>3487.830</td>\n",
       "      <td>sell</td>\n",
       "      <td>3483.067</td>\n",
       "      <td>-4.763</td>\n",
       "    </tr>\n",
       "    <tr>\n",
       "      <th>2021-04-22 09:03:16</th>\n",
       "      <td>sell</td>\n",
       "      <td>3487.829</td>\n",
       "      <td>buy</td>\n",
       "      <td>3484.199</td>\n",
       "      <td>3.630</td>\n",
       "    </tr>\n",
       "    <tr>\n",
       "      <th>2021-04-22 09:03:27</th>\n",
       "      <td>buy</td>\n",
       "      <td>3489.369</td>\n",
       "      <td>sell</td>\n",
       "      <td>3487.267</td>\n",
       "      <td>-2.102</td>\n",
       "    </tr>\n",
       "    <tr>\n",
       "      <th>2021-04-22 09:03:36</th>\n",
       "      <td>sell</td>\n",
       "      <td>3487.832</td>\n",
       "      <td>buy</td>\n",
       "      <td>3486.721</td>\n",
       "      <td>1.111</td>\n",
       "    </tr>\n",
       "    <tr>\n",
       "      <th>2021-04-22 09:03:40</th>\n",
       "      <td>buy</td>\n",
       "      <td>3489.057</td>\n",
       "      <td>sell</td>\n",
       "      <td>3487.806</td>\n",
       "      <td>-1.251</td>\n",
       "    </tr>\n",
       "    <tr>\n",
       "      <th>2021-04-22 09:04:32</th>\n",
       "      <td>sell</td>\n",
       "      <td>3493.465</td>\n",
       "      <td>buy</td>\n",
       "      <td>3490.904</td>\n",
       "      <td>2.561</td>\n",
       "    </tr>\n",
       "    <tr>\n",
       "      <th>2021-04-22 09:05:50</th>\n",
       "      <td>buy</td>\n",
       "      <td>3481.200</td>\n",
       "      <td>sell</td>\n",
       "      <td>3480.622</td>\n",
       "      <td>-0.578</td>\n",
       "    </tr>\n",
       "    <tr>\n",
       "      <th>2021-04-22 09:06:01</th>\n",
       "      <td>sell</td>\n",
       "      <td>3481.136</td>\n",
       "      <td>buy</td>\n",
       "      <td>3478.104</td>\n",
       "      <td>3.032</td>\n",
       "    </tr>\n",
       "    <tr>\n",
       "      <th>2021-04-22 09:06:33</th>\n",
       "      <td>buy</td>\n",
       "      <td>3480.500</td>\n",
       "      <td>sell</td>\n",
       "      <td>3480.073</td>\n",
       "      <td>-0.427</td>\n",
       "    </tr>\n",
       "    <tr>\n",
       "      <th>2021-04-22 09:06:44</th>\n",
       "      <td>sell</td>\n",
       "      <td>3480.005</td>\n",
       "      <td>buy</td>\n",
       "      <td>3477.277</td>\n",
       "      <td>2.728</td>\n",
       "    </tr>\n",
       "    <tr>\n",
       "      <th>2021-04-22 09:06:50</th>\n",
       "      <td>buy</td>\n",
       "      <td>3481.864</td>\n",
       "      <td>sell</td>\n",
       "      <td>3480.005</td>\n",
       "      <td>-1.859</td>\n",
       "    </tr>\n",
       "    <tr>\n",
       "      <th>2021-04-22 09:06:57</th>\n",
       "      <td>sell</td>\n",
       "      <td>3480.000</td>\n",
       "      <td>buy</td>\n",
       "      <td>3476.524</td>\n",
       "      <td>3.476</td>\n",
       "    </tr>\n",
       "    <tr>\n",
       "      <th>2021-04-22 09:08:12</th>\n",
       "      <td>buy</td>\n",
       "      <td>3475.195</td>\n",
       "      <td>sell</td>\n",
       "      <td>3472.759</td>\n",
       "      <td>-2.436</td>\n",
       "    </tr>\n",
       "    <tr>\n",
       "      <th>2021-04-22 09:08:20</th>\n",
       "      <td>sell</td>\n",
       "      <td>3475.817</td>\n",
       "      <td>buy</td>\n",
       "      <td>3472.609</td>\n",
       "      <td>3.208</td>\n",
       "    </tr>\n",
       "    <tr>\n",
       "      <th>2021-04-22 09:09:05</th>\n",
       "      <td>buy</td>\n",
       "      <td>3466.201</td>\n",
       "      <td>sell</td>\n",
       "      <td>3464.249</td>\n",
       "      <td>-1.952</td>\n",
       "    </tr>\n",
       "    <tr>\n",
       "      <th>2021-04-22 09:10:31</th>\n",
       "      <td>sell</td>\n",
       "      <td>3472.199</td>\n",
       "      <td>buy</td>\n",
       "      <td>3467.332</td>\n",
       "      <td>4.867</td>\n",
       "    </tr>\n",
       "    <tr>\n",
       "      <th>2021-04-22 09:11:23</th>\n",
       "      <td>buy</td>\n",
       "      <td>3463.616</td>\n",
       "      <td>sell</td>\n",
       "      <td>3459.857</td>\n",
       "      <td>-3.759</td>\n",
       "    </tr>\n",
       "    <tr>\n",
       "      <th>2021-04-22 09:14:40</th>\n",
       "      <td>sell</td>\n",
       "      <td>3476.848</td>\n",
       "      <td>buy</td>\n",
       "      <td>3475.175</td>\n",
       "      <td>1.673</td>\n",
       "    </tr>\n",
       "    <tr>\n",
       "      <th>2021-04-22 09:15:38</th>\n",
       "      <td>buy</td>\n",
       "      <td>3468.706</td>\n",
       "      <td>sell</td>\n",
       "      <td>3467.981</td>\n",
       "      <td>-0.725</td>\n",
       "    </tr>\n",
       "    <tr>\n",
       "      <th>2021-04-22 09:15:44</th>\n",
       "      <td>sell</td>\n",
       "      <td>3468.000</td>\n",
       "      <td>buy</td>\n",
       "      <td>3466.007</td>\n",
       "      <td>1.993</td>\n",
       "    </tr>\n",
       "    <tr>\n",
       "      <th>2021-04-22 09:16:03</th>\n",
       "      <td>buy</td>\n",
       "      <td>3469.066</td>\n",
       "      <td>sell</td>\n",
       "      <td>3467.738</td>\n",
       "      <td>-1.328</td>\n",
       "    </tr>\n",
       "  </tbody>\n",
       "</table>\n",
       "</div>"
      ],
      "text/plain": [
       "                    ex1_side  ex1_price ex2_side  ex2_price  profit\n",
       "timestamp                                                          \n",
       "2021-04-22 08:59:50     sell   3495.407      buy   3493.837   1.570\n",
       "2021-04-22 08:59:53      buy   3496.169     sell   3494.448  -1.721\n",
       "2021-04-22 09:00:10      buy   3496.117     sell   3498.165   2.048\n",
       "2021-04-22 09:00:20     sell   3501.000      buy   3501.029  -0.029\n",
       "2021-04-22 09:00:30     sell   3501.000      buy   3499.426   1.574\n",
       "2021-04-22 09:00:34      buy   3501.448     sell   3501.501   0.053\n",
       "2021-04-22 09:01:17      buy   3506.979     sell   3508.285   1.306\n",
       "2021-04-22 09:01:33     sell   3508.799      buy   3509.809  -1.010\n",
       "2021-04-22 09:01:40     sell   3508.805      buy   3507.238   1.567\n",
       "2021-04-22 09:03:14      buy   3487.830     sell   3483.067  -4.763\n",
       "2021-04-22 09:03:16     sell   3487.829      buy   3484.199   3.630\n",
       "2021-04-22 09:03:27      buy   3489.369     sell   3487.267  -2.102\n",
       "2021-04-22 09:03:36     sell   3487.832      buy   3486.721   1.111\n",
       "2021-04-22 09:03:40      buy   3489.057     sell   3487.806  -1.251\n",
       "2021-04-22 09:04:32     sell   3493.465      buy   3490.904   2.561\n",
       "2021-04-22 09:05:50      buy   3481.200     sell   3480.622  -0.578\n",
       "2021-04-22 09:06:01     sell   3481.136      buy   3478.104   3.032\n",
       "2021-04-22 09:06:33      buy   3480.500     sell   3480.073  -0.427\n",
       "2021-04-22 09:06:44     sell   3480.005      buy   3477.277   2.728\n",
       "2021-04-22 09:06:50      buy   3481.864     sell   3480.005  -1.859\n",
       "2021-04-22 09:06:57     sell   3480.000      buy   3476.524   3.476\n",
       "2021-04-22 09:08:12      buy   3475.195     sell   3472.759  -2.436\n",
       "2021-04-22 09:08:20     sell   3475.817      buy   3472.609   3.208\n",
       "2021-04-22 09:09:05      buy   3466.201     sell   3464.249  -1.952\n",
       "2021-04-22 09:10:31     sell   3472.199      buy   3467.332   4.867\n",
       "2021-04-22 09:11:23      buy   3463.616     sell   3459.857  -3.759\n",
       "2021-04-22 09:14:40     sell   3476.848      buy   3475.175   1.673\n",
       "2021-04-22 09:15:38      buy   3468.706     sell   3467.981  -0.725\n",
       "2021-04-22 09:15:44     sell   3468.000      buy   3466.007   1.993\n",
       "2021-04-22 09:16:03      buy   3469.066     sell   3467.738  -1.328"
      ]
     },
     "execution_count": 1,
     "metadata": {},
     "output_type": "execute_result"
    }
   ],
   "source": [
    "profit_df.tail(30)"
   ]
  },
  {
   "cell_type": "code",
   "execution_count": 12,
   "metadata": {
    "execution": {
     "iopub.execute_input": "2021-04-22T00:26:12.391378Z",
     "iopub.status.busy": "2021-04-22T00:26:12.390757Z",
     "iopub.status.idle": "2021-04-22T00:26:12.403799Z",
     "shell.execute_reply": "2021-04-22T00:26:12.404346Z"
    }
   },
   "outputs": [
    {
     "data": {
      "text/plain": [
       "84.292"
      ]
     },
     "execution_count": 1,
     "metadata": {},
     "output_type": "execute_result"
    }
   ],
   "source": [
    "round(sum(profit_df.profit), 3)"
   ]
  },
  {
   "cell_type": "markdown",
   "metadata": {},
   "source": [
    "## トレードグラフ"
   ]
  },
  {
   "cell_type": "code",
   "execution_count": 13,
   "metadata": {
    "execution": {
     "iopub.execute_input": "2021-04-22T00:26:12.407171Z",
     "iopub.status.busy": "2021-04-22T00:26:12.406561Z",
     "iopub.status.idle": "2021-04-22T00:26:12.418236Z",
     "shell.execute_reply": "2021-04-22T00:26:12.418736Z"
    }
   },
   "outputs": [],
   "source": [
    "ex1_ticks = ta.get_ex1_ticks_df()\n",
    "ex2_ticks = ta.get_ex2_ticks_df()"
   ]
  },
  {
   "cell_type": "code",
   "execution_count": 14,
   "metadata": {
    "execution": {
     "iopub.execute_input": "2021-04-22T00:26:12.421726Z",
     "iopub.status.busy": "2021-04-22T00:26:12.421064Z",
     "iopub.status.idle": "2021-04-22T00:26:12.436685Z",
     "shell.execute_reply": "2021-04-22T00:26:12.437581Z"
    }
   },
   "outputs": [
    {
     "data": {
      "text/plain": [
       "(7654, 7654)"
      ]
     },
     "execution_count": 1,
     "metadata": {},
     "output_type": "execute_result"
    }
   ],
   "source": [
    "len(ex1_ticks), len(ex2_ticks)"
   ]
  },
  {
   "cell_type": "code",
   "execution_count": 15,
   "metadata": {
    "execution": {
     "iopub.execute_input": "2021-04-22T00:26:12.442839Z",
     "iopub.status.busy": "2021-04-22T00:26:12.441640Z",
     "iopub.status.idle": "2021-04-22T00:26:12.800116Z",
     "shell.execute_reply": "2021-04-22T00:26:12.801019Z"
    }
   },
   "outputs": [
    {
     "data": {
      "text/plain": [
       "Text(0.5, 1.0, 'exchange2 bid/exchange1 ask')"
      ]
     },
     "execution_count": 1,
     "metadata": {},
     "output_type": "execute_result"
    }
   ],
   "source": [
    "ex1_bids = ex1_ticks['bid']\n",
    "ex1_asks = ex1_ticks['ask']\n",
    "ex2_bids = ex2_ticks['bid']\n",
    "ex2_asks = ex2_ticks['ask']\n",
    "\n",
    "fig1, ax1 = ta.get_fig(ex1_bids, ex2_asks)\n",
    "fig2, ax2 = ta.get_fig(ex2_bids, ex1_asks)\n",
    "\n",
    "ax1.set_title('exchange1 bid/exchange2 ask')\n",
    "ax2.set_title('exchange2 bid/exchange1 ask')"
   ]
  },
  {
   "cell_type": "code",
   "execution_count": 16,
   "metadata": {
    "execution": {
     "iopub.execute_input": "2021-04-22T00:26:12.805441Z",
     "iopub.status.busy": "2021-04-22T00:26:12.804073Z",
     "iopub.status.idle": "2021-04-22T00:26:13.081316Z",
     "shell.execute_reply": "2021-04-22T00:26:13.080622Z"
    }
   },
   "outputs": [
    {
     "data": {
      "image/png": "[encoded data removed]",
      "text/plain": [
       "<Figure size 864x360 with 1 Axes>"
      ]
     },
     "execution_count": 1,
     "metadata": {},
     "output_type": "execute_result"
    }
   ],
   "source": [
    "fig1"
   ]
  },
  {
   "cell_type": "code",
   "execution_count": 17,
   "metadata": {
    "execution": {
     "iopub.execute_input": "2021-04-22T00:26:13.088599Z",
     "iopub.status.busy": "2021-04-22T00:26:13.085223Z",
     "iopub.status.idle": "2021-04-22T00:26:13.335492Z",
     "shell.execute_reply": "2021-04-22T00:26:13.334881Z"
    }
   },
   "outputs": [
    {
     "data": {
      "image/png": "[encoded data removed]",
      "text/plain": [
       "<Figure size 864x360 with 1 Axes>"
      ]
     },
     "execution_count": 1,
     "metadata": {},
     "output_type": "execute_result"
    }
   ],
   "source": [
    "fig2"
   ]
  },
  {
   "cell_type": "code",
   "execution_count": null,
   "metadata": {},
   "outputs": [],
   "source": []
  }
 ],
 "metadata": {
  "kernelspec": {
   "display_name": "Python 3",
   "language": "python",
   "name": "python3"
  },
  "language_info": {
   "codemirror_mode": {
    "name": "ipython",
    "version": 3
   },
   "file_extension": ".py",
   "mimetype": "text/x-python",
   "name": "python",
   "nbconvert_exporter": "python",
   "pygments_lexer": "ipython3",
   "version": "3.7.10"
  }
 },
 "nbformat": 4,
 "nbformat_minor": 4
}
