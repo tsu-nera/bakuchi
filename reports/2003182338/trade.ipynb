{
 "cells": [
  {
   "cell_type": "markdown",
   "metadata": {},
   "source": [
    "# 取引履歴のデータ分析"
   ]
  },
  {
   "cell_type": "code",
   "execution_count": 23,
   "metadata": {},
   "outputs": [],
   "source": [
    "import os\n",
    "import pandas as pd"
   ]
  },
  {
   "cell_type": "code",
   "execution_count": 24,
   "metadata": {},
   "outputs": [
    {
     "data": {
      "text/plain": [
       "'/home/tsu-nera/repo'"
      ]
     },
     "execution_count": 24,
     "metadata": {},
     "output_type": "execute_result"
    }
   ],
   "source": [
    "current_dir = %pwd\n",
    "\n",
    "os.path.dirname(current_dir)"
   ]
  },
  {
   "cell_type": "code",
   "execution_count": 3,
   "metadata": {},
   "outputs": [
    {
     "name": "stdout",
     "output_type": "stream",
     "text": [
      "/home/tsu-nera/repo/bakuchi\n"
     ]
    }
   ],
   "source": [
    "import sys\n",
    "sys.path.append('/home/tsu-nera/repo/bakuchi/')\n",
    "%cd '../../'"
   ]
  },
  {
   "cell_type": "code",
   "execution_count": 4,
   "metadata": {},
   "outputs": [
    {
     "name": "stderr",
     "output_type": "stream",
     "text": [
      "File doesn't exist \n"
     ]
    }
   ],
   "source": [
    "import src.utils.trade_history as th\n",
    "\n",
    "%reload_ext autoreload\n",
    "%autoreload 2"
   ]
  },
  {
   "cell_type": "code",
   "execution_count": 5,
   "metadata": {},
   "outputs": [],
   "source": [
    "timestamp=\"2003182338\""
   ]
  },
  {
   "cell_type": "code",
   "execution_count": 6,
   "metadata": {},
   "outputs": [],
   "source": [
    "cc_trades = th.read_coincheck(timestamp)\n",
    "lq_trades = th.read_liquid(timestamp)"
   ]
  },
  {
   "cell_type": "code",
   "execution_count": 7,
   "metadata": {},
   "outputs": [
    {
     "data": {
      "text/plain": [
       "(164, 164)"
      ]
     },
     "execution_count": 7,
     "metadata": {},
     "output_type": "execute_result"
    }
   ],
   "source": [
    "len(cc_trades), len(lq_trades)"
   ]
  },
  {
   "cell_type": "code",
   "execution_count": 8,
   "metadata": {
    "scrolled": false
   },
   "outputs": [],
   "source": [
    "profit_df = pd.DataFrame(\n",
    "    {'timestamp': cc_trades['datetime'].to_list(),\n",
    "     'cc_side': cc_trades['side'].to_list(),\n",
    "     'cc_price': cc_trades['price'].to_list(), \n",
    "     'lq_side': lq_trades['side'].to_list(),\n",
    "     'lq_price': lq_trades['price'].to_list()\n",
    "    }\n",
    ")\n",
    "\n",
    "def calc_profit(x):\n",
    "    if x['cc_side'] == 'sell':\n",
    "        cc_price = x['cc_price']\n",
    "    else:\n",
    "        cc_price = -1 * x['cc_price']\n",
    "        \n",
    "    if x['lq_side'] == 'sell':\n",
    "        lq_price = x['lq_price']\n",
    "    else:\n",
    "        lq_price = -1 * x['lq_price']\n",
    "\n",
    "    return cc_price + lq_price\n",
    "\n",
    "profit_df['profit'] = profit_df.apply(calc_profit, axis=1)\n",
    "\n",
    "profit_df.timestamp=pd.to_datetime(profit_df.timestamp,format='%Y%m%d %H%M%S')\n",
    "profit_df = profit_df.set_index('timestamp')"
   ]
  },
  {
   "cell_type": "code",
   "execution_count": 9,
   "metadata": {},
   "outputs": [
    {
     "data": {
      "text/html": [
       "<div>\n",
       "<style scoped>\n",
       "    .dataframe tbody tr th:only-of-type {\n",
       "        vertical-align: middle;\n",
       "    }\n",
       "\n",
       "    .dataframe tbody tr th {\n",
       "        vertical-align: top;\n",
       "    }\n",
       "\n",
       "    .dataframe thead th {\n",
       "        text-align: right;\n",
       "    }\n",
       "</style>\n",
       "<table border=\"1\" class=\"dataframe\">\n",
       "  <thead>\n",
       "    <tr style=\"text-align: right;\">\n",
       "      <th></th>\n",
       "      <th>cc_side</th>\n",
       "      <th>cc_price</th>\n",
       "      <th>lq_side</th>\n",
       "      <th>lq_price</th>\n",
       "      <th>profit</th>\n",
       "    </tr>\n",
       "    <tr>\n",
       "      <th>timestamp</th>\n",
       "      <th></th>\n",
       "      <th></th>\n",
       "      <th></th>\n",
       "      <th></th>\n",
       "      <th></th>\n",
       "    </tr>\n",
       "  </thead>\n",
       "  <tbody>\n",
       "    <tr>\n",
       "      <th>2020-03-18 03:19:25</th>\n",
       "      <td>sell</td>\n",
       "      <td>5260.216</td>\n",
       "      <td>buy</td>\n",
       "      <td>5257.620</td>\n",
       "      <td>2.596</td>\n",
       "    </tr>\n",
       "    <tr>\n",
       "      <th>2020-03-18 03:19:45</th>\n",
       "      <td>buy</td>\n",
       "      <td>5262.997</td>\n",
       "      <td>sell</td>\n",
       "      <td>5260.878</td>\n",
       "      <td>-2.119</td>\n",
       "    </tr>\n",
       "    <tr>\n",
       "      <th>2020-03-18 03:21:23</th>\n",
       "      <td>sell</td>\n",
       "      <td>5256.963</td>\n",
       "      <td>buy</td>\n",
       "      <td>5254.722</td>\n",
       "      <td>2.241</td>\n",
       "    </tr>\n",
       "    <tr>\n",
       "      <th>2020-03-18 03:23:00</th>\n",
       "      <td>buy</td>\n",
       "      <td>5237.998</td>\n",
       "      <td>sell</td>\n",
       "      <td>5237.883</td>\n",
       "      <td>-0.115</td>\n",
       "    </tr>\n",
       "    <tr>\n",
       "      <th>2020-03-18 03:23:12</th>\n",
       "      <td>sell</td>\n",
       "      <td>5234.256</td>\n",
       "      <td>buy</td>\n",
       "      <td>5227.668</td>\n",
       "      <td>6.588</td>\n",
       "    </tr>\n",
       "    <tr>\n",
       "      <th>...</th>\n",
       "      <td>...</td>\n",
       "      <td>...</td>\n",
       "      <td>...</td>\n",
       "      <td>...</td>\n",
       "      <td>...</td>\n",
       "    </tr>\n",
       "    <tr>\n",
       "      <th>2020-03-18 09:02:11</th>\n",
       "      <td>buy</td>\n",
       "      <td>5225.997</td>\n",
       "      <td>sell</td>\n",
       "      <td>5226.822</td>\n",
       "      <td>0.825</td>\n",
       "    </tr>\n",
       "    <tr>\n",
       "      <th>2020-03-18 09:02:34</th>\n",
       "      <td>sell</td>\n",
       "      <td>5238.018</td>\n",
       "      <td>buy</td>\n",
       "      <td>5233.968</td>\n",
       "      <td>4.050</td>\n",
       "    </tr>\n",
       "    <tr>\n",
       "      <th>2020-03-18 09:02:42</th>\n",
       "      <td>buy</td>\n",
       "      <td>5243.997</td>\n",
       "      <td>sell</td>\n",
       "      <td>5240.034</td>\n",
       "      <td>-3.963</td>\n",
       "    </tr>\n",
       "    <tr>\n",
       "      <th>2020-03-18 09:03:02</th>\n",
       "      <td>sell</td>\n",
       "      <td>5233.410</td>\n",
       "      <td>buy</td>\n",
       "      <td>5233.212</td>\n",
       "      <td>0.198</td>\n",
       "    </tr>\n",
       "    <tr>\n",
       "      <th>2020-03-18 09:03:36</th>\n",
       "      <td>buy</td>\n",
       "      <td>5226.996</td>\n",
       "      <td>sell</td>\n",
       "      <td>5226.444</td>\n",
       "      <td>-0.552</td>\n",
       "    </tr>\n",
       "  </tbody>\n",
       "</table>\n",
       "<p>164 rows × 5 columns</p>\n",
       "</div>"
      ],
      "text/plain": [
       "                    cc_side  cc_price lq_side  lq_price  profit\n",
       "timestamp                                                      \n",
       "2020-03-18 03:19:25    sell  5260.216     buy  5257.620   2.596\n",
       "2020-03-18 03:19:45     buy  5262.997    sell  5260.878  -2.119\n",
       "2020-03-18 03:21:23    sell  5256.963     buy  5254.722   2.241\n",
       "2020-03-18 03:23:00     buy  5237.998    sell  5237.883  -0.115\n",
       "2020-03-18 03:23:12    sell  5234.256     buy  5227.668   6.588\n",
       "...                     ...       ...     ...       ...     ...\n",
       "2020-03-18 09:02:11     buy  5225.997    sell  5226.822   0.825\n",
       "2020-03-18 09:02:34    sell  5238.018     buy  5233.968   4.050\n",
       "2020-03-18 09:02:42     buy  5243.997    sell  5240.034  -3.963\n",
       "2020-03-18 09:03:02    sell  5233.410     buy  5233.212   0.198\n",
       "2020-03-18 09:03:36     buy  5226.996    sell  5226.444  -0.552\n",
       "\n",
       "[164 rows x 5 columns]"
      ]
     },
     "execution_count": 9,
     "metadata": {},
     "output_type": "execute_result"
    }
   ],
   "source": [
    "profit_df"
   ]
  },
  {
   "cell_type": "code",
   "execution_count": 10,
   "metadata": {},
   "outputs": [
    {
     "data": {
      "text/plain": [
       "180.299"
      ]
     },
     "execution_count": 10,
     "metadata": {},
     "output_type": "execute_result"
    }
   ],
   "source": [
    "round(sum(profit_df.profit), 3)"
   ]
  },
  {
   "cell_type": "markdown",
   "metadata": {},
   "source": [
    "## 資産の考慮"
   ]
  },
  {
   "cell_type": "code",
   "execution_count": 11,
   "metadata": {},
   "outputs": [],
   "source": [
    "asset = {\n",
    "  \"coincheck\": {\n",
    "    \"start_jpy\": 5496,\n",
    "    \"start_btc\": 0.010948,\n",
    "    \"end_jpy\": 5843,\n",
    "    \"end_btc\": 0.010038\n",
    "  },\n",
    "  \"liquid\": {\n",
    "    \"start_jpy\": 5910,\n",
    "    \"start_btc\": 0.11,\n",
    "    \"end_jpy\": 5744,\n",
    "    \"end_btc\": 0.011\n",
    "  },\n",
    "  \"total\": {\n",
    "    \"start_jpy\": 11406,\n",
    "    \"start_btc\": 0.021948,\n",
    "    \"end_jpy\": 11587,\n",
    "    \"end_btc\": 0.021038\n",
    "  }\n",
    "}"
   ]
  },
  {
   "cell_type": "code",
   "execution_count": 12,
   "metadata": {},
   "outputs": [],
   "source": [
    "total = asset['total']\n",
    "total_profit_jpy = round(total['end_jpy'] - total['start_jpy'], 3)\n",
    "total_profit_btc = round(total['end_btc'] - total['start_btc'], 3)"
   ]
  },
  {
   "cell_type": "code",
   "execution_count": 13,
   "metadata": {},
   "outputs": [],
   "source": [
    "start_bid = 583922.0\n",
    "end_bid = 580140.0"
   ]
  },
  {
   "cell_type": "code",
   "execution_count": 14,
   "metadata": {},
   "outputs": [
    {
     "data": {
      "text/plain": [
       "-401.03100000000006"
      ]
     },
     "execution_count": 14,
     "metadata": {},
     "output_type": "execute_result"
    }
   ],
   "source": [
    "total_profit_jpy +  total_profit_btc * ((end_bid + start_bid)/2)"
   ]
  },
  {
   "cell_type": "code",
   "execution_count": 15,
   "metadata": {},
   "outputs": [],
   "source": [
    "actual_start_price = round(total['start_jpy'] + total['start_btc'] * start_bid, 3)\n",
    "actual_end_price = round(total['end_jpy'] + total['end_btc'] * end_bid, 3)\n",
    "actual_profit = actual_end_price - actual_start_price"
   ]
  },
  {
   "cell_type": "code",
   "execution_count": 16,
   "metadata": {},
   "outputs": [],
   "source": [
    "notrade_start_price = actual_start_price\n",
    "notrade_end_price = round(total['start_jpy'] + total['start_btc'] * end_bid, 3)\n",
    "notrade_profit = notrade_end_price - notrade_start_price"
   ]
  },
  {
   "cell_type": "code",
   "execution_count": 17,
   "metadata": {},
   "outputs": [],
   "source": [
    "trading_profit = actual_profit - notrade_profit\n",
    "time_profit = notrade_profit"
   ]
  },
  {
   "cell_type": "code",
   "execution_count": 18,
   "metadata": {},
   "outputs": [
    {
     "data": {
      "text/plain": [
       "(-429, -83, -346)"
      ]
     },
     "execution_count": 18,
     "metadata": {},
     "output_type": "execute_result"
    }
   ],
   "source": [
    "int(actual_profit), int(time_profit), int(trading_profit)"
   ]
  },
  {
   "cell_type": "code",
   "execution_count": null,
   "metadata": {},
   "outputs": [],
   "source": []
  }
 ],
 "metadata": {
  "kernelspec": {
   "display_name": "Environment (conda_bakuchi)",
   "language": "python",
   "name": "conda_bakuchi"
  },
  "language_info": {
   "codemirror_mode": {
    "name": "ipython",
    "version": 3
   },
   "file_extension": ".py",
   "mimetype": "text/x-python",
   "name": "python",
   "nbconvert_exporter": "python",
   "pygments_lexer": "ipython3",
   "version": "3.7.6"
  }
 },
 "nbformat": 4,
 "nbformat_minor": 4
}
