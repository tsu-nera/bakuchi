{
 "cells": [
  {
   "cell_type": "markdown",
   "metadata": {},
   "source": [
    "# 取引履歴のデータ分析"
   ]
  },
  {
   "cell_type": "code",
   "execution_count": 1,
   "metadata": {},
   "outputs": [],
   "source": [
    "import os\n",
    "import pandas as pd"
   ]
  },
  {
   "cell_type": "code",
   "execution_count": 2,
   "metadata": {},
   "outputs": [],
   "source": [
    "current_dir = %pwd\n",
    "timestamp = os.path.basename(current_dir)"
   ]
  },
  {
   "cell_type": "code",
   "execution_count": 3,
   "metadata": {},
   "outputs": [
    {
     "name": "stdout",
     "output_type": "stream",
     "text": [
      "/home/tsu-nera/repo/bakuchi\n"
     ]
    }
   ],
   "source": [
    "import sys\n",
    "sys.path.append('/home/tsu-nera/repo/bakuchi/')\n",
    "%cd '../../'"
   ]
  },
  {
   "cell_type": "code",
   "execution_count": 4,
   "metadata": {},
   "outputs": [
    {
     "name": "stderr",
     "output_type": "stream",
     "text": [
      "File doesn't exist \n"
     ]
    }
   ],
   "source": [
    "from src.utils.trade_analysis import TradeAnalysis\n",
    "\n",
    "%reload_ext autoreload\n",
    "%autoreload 2"
   ]
  },
  {
   "cell_type": "code",
   "execution_count": 5,
   "metadata": {},
   "outputs": [],
   "source": [
    "ta = TradeAnalysis(timestamp)"
   ]
  },
  {
   "cell_type": "code",
   "execution_count": 6,
   "metadata": {},
   "outputs": [],
   "source": [
    "cc_trades = ta.get_coincheck_df()\n",
    "lq_trades = ta.get_liquid_df()"
   ]
  },
  {
   "cell_type": "code",
   "execution_count": 7,
   "metadata": {},
   "outputs": [
    {
     "data": {
      "text/plain": [
       "(164, 164)"
      ]
     },
     "execution_count": 7,
     "metadata": {},
     "output_type": "execute_result"
    }
   ],
   "source": [
    "len(cc_trades), len(lq_trades)"
   ]
  },
  {
   "cell_type": "code",
   "execution_count": 8,
   "metadata": {
    "scrolled": false
   },
   "outputs": [],
   "source": [
    "# profit_df = th.create_profit_df(cc_trades, lq_trades)"
   ]
  },
  {
   "cell_type": "code",
   "execution_count": 9,
   "metadata": {},
   "outputs": [],
   "source": [
    "# profit_df"
   ]
  },
  {
   "cell_type": "code",
   "execution_count": 10,
   "metadata": {},
   "outputs": [],
   "source": [
    "# round(sum(profit_df.profit), 3)"
   ]
  },
  {
   "cell_type": "markdown",
   "metadata": {},
   "source": [
    "## トレード利益"
   ]
  },
  {
   "cell_type": "code",
   "execution_count": 11,
   "metadata": {},
   "outputs": [
    {
     "name": "stdout",
     "output_type": "stream",
     "text": [
      "トレード情報\n",
      "+---------------------+---------------------+\n",
      "|            取引回数 |                 164 |\n",
      "+---------------------+---------------------+\n",
      "|            開始日時 | 2020-03-18 03:19:25 |\n",
      "+---------------------+---------------------+\n",
      "|            終了日時 | 2020-03-18 09:03:36 |\n",
      "+---------------------+---------------------+\n",
      "|       取引単位[BTC] |               0.009 |\n",
      "+---------------------+---------------------+\n",
      "|   利確しきい値[JPY] |                2000 |\n",
      "+---------------------+---------------------+\n",
      "| 損切りマージン[JPY] |                 800 |\n",
      "+---------------------+---------------------+\n",
      "\n",
      "トレード結果\n",
      "+-------------+----------+\n",
      "| 開始[JPY]   |    11406 |\n",
      "+-------------+----------+\n",
      "| 終了[JPY]   |    11587 |\n",
      "+-------------+----------+\n",
      "| 利益[JPY]   |      181 |\n",
      "+-------------+----------+\n",
      "| 開始[BTC]   | 0.021948 |\n",
      "+-------------+----------+\n",
      "| 終了[BTC]   | 0.021038 |\n",
      "+-------------+----------+\n",
      "| 利益[BTC]   | -0.00091 |\n",
      "+-------------+----------+\n",
      "| 開始[TOTAL] |        0 |\n",
      "+-------------+----------+\n",
      "| 終了[TOTAL] |        0 |\n",
      "+-------------+----------+\n",
      "| 利益[TOTAL] |        0 |\n",
      "+-------------+----------+\n"
     ]
    }
   ],
   "source": [
    "ta.display()"
   ]
  },
  {
   "cell_type": "markdown",
   "metadata": {},
   "source": [
    "## トレードグラフ"
   ]
  },
  {
   "cell_type": "code",
   "execution_count": 12,
   "metadata": {},
   "outputs": [],
   "source": [
    "##"
   ]
  },
  {
   "cell_type": "code",
   "execution_count": null,
   "metadata": {},
   "outputs": [],
   "source": []
  }
 ],
 "metadata": {
  "kernelspec": {
   "display_name": "Environment (conda_bakuchi)",
   "language": "python",
   "name": "conda_bakuchi"
  },
  "language_info": {
   "codemirror_mode": {
    "name": "ipython",
    "version": 3
   },
   "file_extension": ".py",
   "mimetype": "text/x-python",
   "name": "python",
   "nbconvert_exporter": "python",
   "pygments_lexer": "ipython3",
   "version": "3.7.6"
  }
 },
 "nbformat": 4,
 "nbformat_minor": 4
}
