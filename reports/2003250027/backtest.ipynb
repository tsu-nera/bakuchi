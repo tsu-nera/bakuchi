{
 "cells": [
  {
   "cell_type": "markdown",
   "metadata": {},
   "source": [
    "# バックテスト検証ノート"
   ]
  },
  {
   "cell_type": "code",
   "execution_count": 1,
   "metadata": {},
   "outputs": [],
   "source": [
    "import os\n",
    "import numpy as np\n",
    "import pandas as pd\n",
    "import datetime\n",
    "import matplotlib.pyplot as plt"
   ]
  },
  {
   "cell_type": "code",
   "execution_count": 2,
   "metadata": {},
   "outputs": [],
   "source": [
    "current_dir = %pwd\n",
    "timestamp = os.path.basename(current_dir)"
   ]
  },
  {
   "cell_type": "code",
   "execution_count": 3,
   "metadata": {},
   "outputs": [
    {
     "name": "stdout",
     "output_type": "stream",
     "text": [
      "/home/tsu-nera/repo/bakuchi\n"
     ]
    }
   ],
   "source": [
    "import sys\n",
    "sys.path.append('/home/tsu-nera/repo/bakuchi/')\n",
    "%cd '../../'"
   ]
  },
  {
   "cell_type": "code",
   "execution_count": 4,
   "metadata": {},
   "outputs": [
    {
     "name": "stderr",
     "output_type": "stream",
     "text": [
      "File doesn't exist \n"
     ]
    }
   ],
   "source": [
    "from src.utils.backtesting import Backtesting, run_backtesting\n",
    "\n",
    "%reload_ext autoreload\n",
    "%autoreload 2"
   ]
  },
  {
   "cell_type": "code",
   "execution_count": 5,
   "metadata": {},
   "outputs": [],
   "source": [
    "bt = Backtesting(timestamp)"
   ]
  },
  {
   "cell_type": "code",
   "execution_count": 6,
   "metadata": {},
   "outputs": [],
   "source": [
    "df_cc = bt.get_coincheck_df()\n",
    "df_lq = bt.get_liquid_df()"
   ]
  },
  {
   "cell_type": "code",
   "execution_count": 7,
   "metadata": {},
   "outputs": [
    {
     "data": {
      "text/plain": [
       "(3985, 3985)"
      ]
     },
     "execution_count": 7,
     "metadata": {},
     "output_type": "execute_result"
    }
   ],
   "source": [
    "len(df_cc), len(df_lq)"
   ]
  },
  {
   "cell_type": "markdown",
   "metadata": {},
   "source": [
    "## テスト実行"
   ]
  },
  {
   "cell_type": "code",
   "execution_count": 8,
   "metadata": {},
   "outputs": [],
   "source": [
    "bt.run(amount=0.009, profit_margin_threshold=2000, profit_margin_diff=800)"
   ]
  },
  {
   "cell_type": "markdown",
   "metadata": {},
   "source": [
    "##  取引履歴"
   ]
  },
  {
   "cell_type": "code",
   "execution_count": 9,
   "metadata": {},
   "outputs": [
    {
     "data": {
      "text/html": [
       "<div>\n",
       "<style scoped>\n",
       "    .dataframe tbody tr th:only-of-type {\n",
       "        vertical-align: middle;\n",
       "    }\n",
       "\n",
       "    .dataframe tbody tr th {\n",
       "        vertical-align: top;\n",
       "    }\n",
       "\n",
       "    .dataframe thead th {\n",
       "        text-align: right;\n",
       "    }\n",
       "</style>\n",
       "<table border=\"1\" class=\"dataframe\">\n",
       "  <thead>\n",
       "    <tr style=\"text-align: right;\">\n",
       "      <th></th>\n",
       "      <th>取引日時</th>\n",
       "      <th>購入取引所</th>\n",
       "      <th>売却取引所</th>\n",
       "      <th>通貨ペア</th>\n",
       "      <th>取引量</th>\n",
       "      <th>期待利益</th>\n",
       "    </tr>\n",
       "  </thead>\n",
       "  <tbody>\n",
       "    <tr>\n",
       "      <th>0</th>\n",
       "      <td>2020-03-25 00:58:32</td>\n",
       "      <td>liquid</td>\n",
       "      <td>coincheck</td>\n",
       "      <td>BTC/JPY</td>\n",
       "      <td>0.009</td>\n",
       "      <td>14</td>\n",
       "    </tr>\n",
       "    <tr>\n",
       "      <th>1</th>\n",
       "      <td>2020-03-25 00:58:47</td>\n",
       "      <td>coincheck</td>\n",
       "      <td>liquid</td>\n",
       "      <td>BTC/JPY</td>\n",
       "      <td>0.009</td>\n",
       "      <td>-3</td>\n",
       "    </tr>\n",
       "    <tr>\n",
       "      <th>2</th>\n",
       "      <td>2020-03-25 01:03:13</td>\n",
       "      <td>liquid</td>\n",
       "      <td>coincheck</td>\n",
       "      <td>BTC/JPY</td>\n",
       "      <td>0.009</td>\n",
       "      <td>9</td>\n",
       "    </tr>\n",
       "    <tr>\n",
       "      <th>3</th>\n",
       "      <td>2020-03-25 01:03:44</td>\n",
       "      <td>coincheck</td>\n",
       "      <td>liquid</td>\n",
       "      <td>BTC/JPY</td>\n",
       "      <td>0.009</td>\n",
       "      <td>0</td>\n",
       "    </tr>\n",
       "    <tr>\n",
       "      <th>4</th>\n",
       "      <td>2020-03-25 01:17:34</td>\n",
       "      <td>liquid</td>\n",
       "      <td>coincheck</td>\n",
       "      <td>BTC/JPY</td>\n",
       "      <td>0.009</td>\n",
       "      <td>10</td>\n",
       "    </tr>\n",
       "    <tr>\n",
       "      <th>5</th>\n",
       "      <td>2020-03-25 01:17:37</td>\n",
       "      <td>coincheck</td>\n",
       "      <td>liquid</td>\n",
       "      <td>BTC/JPY</td>\n",
       "      <td>0.009</td>\n",
       "      <td>-1</td>\n",
       "    </tr>\n",
       "    <tr>\n",
       "      <th>6</th>\n",
       "      <td>2020-03-25 01:38:19</td>\n",
       "      <td>coincheck</td>\n",
       "      <td>liquid</td>\n",
       "      <td>BTC/JPY</td>\n",
       "      <td>0.009</td>\n",
       "      <td>9</td>\n",
       "    </tr>\n",
       "  </tbody>\n",
       "</table>\n",
       "</div>"
      ],
      "text/plain": [
       "                  取引日時      購入取引所      売却取引所     通貨ペア    取引量  期待利益\n",
       "0  2020-03-25 00:58:32     liquid  coincheck  BTC/JPY  0.009    14\n",
       "1  2020-03-25 00:58:47  coincheck     liquid  BTC/JPY  0.009    -3\n",
       "2  2020-03-25 01:03:13     liquid  coincheck  BTC/JPY  0.009     9\n",
       "3  2020-03-25 01:03:44  coincheck     liquid  BTC/JPY  0.009     0\n",
       "4  2020-03-25 01:17:34     liquid  coincheck  BTC/JPY  0.009    10\n",
       "5  2020-03-25 01:17:37  coincheck     liquid  BTC/JPY  0.009    -1\n",
       "6  2020-03-25 01:38:19  coincheck     liquid  BTC/JPY  0.009     9"
      ]
     },
     "execution_count": 9,
     "metadata": {},
     "output_type": "execute_result"
    }
   ],
   "source": [
    "arbitrage_histories = bt.get_arbitrage_histories()\n",
    "\n",
    "headers = [\"取引日時\", \"購入取引所\", \"売却取引所\", \"通貨ペア\", \"取引量\", \"期待利益\"]\n",
    "arbitrage_histories_df = pd.DataFrame(arbitrage_histories, columns=headers)\n",
    "arbitrage_histories_df"
   ]
  },
  {
   "cell_type": "code",
   "execution_count": 10,
   "metadata": {},
   "outputs": [
    {
     "data": {
      "text/html": [
       "<div>\n",
       "<style scoped>\n",
       "    .dataframe tbody tr th:only-of-type {\n",
       "        vertical-align: middle;\n",
       "    }\n",
       "\n",
       "    .dataframe tbody tr th {\n",
       "        vertical-align: top;\n",
       "    }\n",
       "\n",
       "    .dataframe thead th {\n",
       "        text-align: right;\n",
       "    }\n",
       "</style>\n",
       "<table border=\"1\" class=\"dataframe\">\n",
       "  <thead>\n",
       "    <tr style=\"text-align: right;\">\n",
       "      <th></th>\n",
       "      <th>取引日時</th>\n",
       "      <th>売買</th>\n",
       "      <th>取引所</th>\n",
       "      <th>レート</th>\n",
       "    </tr>\n",
       "  </thead>\n",
       "  <tbody>\n",
       "    <tr>\n",
       "      <th>0</th>\n",
       "      <td>2020-03-25 00:58:32</td>\n",
       "      <td>買い</td>\n",
       "      <td>liquid</td>\n",
       "      <td>735066.0</td>\n",
       "    </tr>\n",
       "    <tr>\n",
       "      <th>1</th>\n",
       "      <td>2020-03-25 00:58:32</td>\n",
       "      <td>売り</td>\n",
       "      <td>coincheck</td>\n",
       "      <td>736671.0</td>\n",
       "    </tr>\n",
       "    <tr>\n",
       "      <th>2</th>\n",
       "      <td>2020-03-25 00:58:47</td>\n",
       "      <td>買い</td>\n",
       "      <td>coincheck</td>\n",
       "      <td>737595.0</td>\n",
       "    </tr>\n",
       "    <tr>\n",
       "      <th>3</th>\n",
       "      <td>2020-03-25 00:58:47</td>\n",
       "      <td>売り</td>\n",
       "      <td>liquid</td>\n",
       "      <td>737172.0</td>\n",
       "    </tr>\n",
       "    <tr>\n",
       "      <th>4</th>\n",
       "      <td>2020-03-25 01:03:13</td>\n",
       "      <td>買い</td>\n",
       "      <td>liquid</td>\n",
       "      <td>732909.0</td>\n",
       "    </tr>\n",
       "    <tr>\n",
       "      <th>5</th>\n",
       "      <td>2020-03-25 01:03:13</td>\n",
       "      <td>売り</td>\n",
       "      <td>coincheck</td>\n",
       "      <td>733922.0</td>\n",
       "    </tr>\n",
       "    <tr>\n",
       "      <th>6</th>\n",
       "      <td>2020-03-25 01:03:44</td>\n",
       "      <td>買い</td>\n",
       "      <td>coincheck</td>\n",
       "      <td>731445.0</td>\n",
       "    </tr>\n",
       "    <tr>\n",
       "      <th>7</th>\n",
       "      <td>2020-03-25 01:03:44</td>\n",
       "      <td>売り</td>\n",
       "      <td>liquid</td>\n",
       "      <td>731408.0</td>\n",
       "    </tr>\n",
       "    <tr>\n",
       "      <th>8</th>\n",
       "      <td>2020-03-25 01:17:34</td>\n",
       "      <td>買い</td>\n",
       "      <td>liquid</td>\n",
       "      <td>733566.0</td>\n",
       "    </tr>\n",
       "    <tr>\n",
       "      <th>9</th>\n",
       "      <td>2020-03-25 01:17:34</td>\n",
       "      <td>売り</td>\n",
       "      <td>coincheck</td>\n",
       "      <td>734701.0</td>\n",
       "    </tr>\n",
       "    <tr>\n",
       "      <th>10</th>\n",
       "      <td>2020-03-25 01:17:37</td>\n",
       "      <td>買い</td>\n",
       "      <td>coincheck</td>\n",
       "      <td>733530.0</td>\n",
       "    </tr>\n",
       "    <tr>\n",
       "      <th>11</th>\n",
       "      <td>2020-03-25 01:17:37</td>\n",
       "      <td>売り</td>\n",
       "      <td>liquid</td>\n",
       "      <td>733351.0</td>\n",
       "    </tr>\n",
       "    <tr>\n",
       "      <th>12</th>\n",
       "      <td>2020-03-25 01:38:19</td>\n",
       "      <td>買い</td>\n",
       "      <td>coincheck</td>\n",
       "      <td>738576.0</td>\n",
       "    </tr>\n",
       "    <tr>\n",
       "      <th>13</th>\n",
       "      <td>2020-03-25 01:38:19</td>\n",
       "      <td>売り</td>\n",
       "      <td>liquid</td>\n",
       "      <td>739611.0</td>\n",
       "    </tr>\n",
       "  </tbody>\n",
       "</table>\n",
       "</div>"
      ],
      "text/plain": [
       "                   取引日時  売買        取引所       レート\n",
       "0   2020-03-25 00:58:32  買い     liquid  735066.0\n",
       "1   2020-03-25 00:58:32  売り  coincheck  736671.0\n",
       "2   2020-03-25 00:58:47  買い  coincheck  737595.0\n",
       "3   2020-03-25 00:58:47  売り     liquid  737172.0\n",
       "4   2020-03-25 01:03:13  買い     liquid  732909.0\n",
       "5   2020-03-25 01:03:13  売り  coincheck  733922.0\n",
       "6   2020-03-25 01:03:44  買い  coincheck  731445.0\n",
       "7   2020-03-25 01:03:44  売り     liquid  731408.0\n",
       "8   2020-03-25 01:17:34  買い     liquid  733566.0\n",
       "9   2020-03-25 01:17:34  売り  coincheck  734701.0\n",
       "10  2020-03-25 01:17:37  買い  coincheck  733530.0\n",
       "11  2020-03-25 01:17:37  売り     liquid  733351.0\n",
       "12  2020-03-25 01:38:19  買い  coincheck  738576.0\n",
       "13  2020-03-25 01:38:19  売り     liquid  739611.0"
      ]
     },
     "execution_count": 10,
     "metadata": {},
     "output_type": "execute_result"
    }
   ],
   "source": [
    "histories = bt.get_trade_histories()\n",
    "headers = [\"取引日時\",  \"売買\",  \"取引所\", \"レート\"]\n",
    "histories_df = pd.DataFrame(histories, columns=headers)\n",
    "histories_df"
   ]
  },
  {
   "cell_type": "markdown",
   "metadata": {},
   "source": [
    "## 結果まとめ"
   ]
  },
  {
   "cell_type": "code",
   "execution_count": 11,
   "metadata": {},
   "outputs": [
    {
     "name": "stdout",
     "output_type": "stream",
     "text": [
      "バックテスト情報\n",
      "+---------------------+---------------------+\n",
      "|          レコード数 |                3985 |\n",
      "+---------------------+---------------------+\n",
      "|            取引回数 |                   7 |\n",
      "+---------------------+---------------------+\n",
      "|            開始日時 | 2020-03-25 00:27:44 |\n",
      "+---------------------+---------------------+\n",
      "|            終了日時 | 2020-03-25 01:38:19 |\n",
      "+---------------------+---------------------+\n",
      "|         取引時間[H] |     0 days 01:10:35 |\n",
      "+---------------------+---------------------+\n",
      "|       取引単位[BTC] |               0.009 |\n",
      "+---------------------+---------------------+\n",
      "|   利確しきい値[JPY] |                1000 |\n",
      "+---------------------+---------------------+\n",
      "| 損切りマージン[JPY] |                 800 |\n",
      "+---------------------+---------------------+\n",
      "\n",
      "バックテスト結果\n",
      "+-------------+---------+\n",
      "| 開始[JPY]   |   12000 |\n",
      "+-------------+---------+\n",
      "| 終了[JPY]   |   12037 |\n",
      "+-------------+---------+\n",
      "| 利益[JPY]   |      37 |\n",
      "+-------------+---------+\n",
      "| 開始[BTC]   |   0.022 |\n",
      "+-------------+---------+\n",
      "| 終了[BTC]   |   0.022 |\n",
      "+-------------+---------+\n",
      "| 利益[BTC]   |       0 |\n",
      "+-------------+---------+\n",
      "| 開始[TOTAL] | 28171.1 |\n",
      "+-------------+---------+\n",
      "| 終了[TOTAL] | 28126.4 |\n",
      "+-------------+---------+\n",
      "| 利益[TOTAL] | -44.721 |\n",
      "+-------------+---------+\n"
     ]
    }
   ],
   "source": [
    "bt.display()"
   ]
  },
  {
   "cell_type": "markdown",
   "metadata": {},
   "source": [
    "## グラフ出力"
   ]
  },
  {
   "cell_type": "code",
   "execution_count": 12,
   "metadata": {
    "scrolled": true
   },
   "outputs": [
    {
     "data": {
      "text/plain": [
       "[<matplotlib.lines.Line2D at 0x7fe8eeac5790>]"
      ]
     },
     "execution_count": 12,
     "metadata": {},
     "output_type": "execute_result"
    },
    {
     "data": {
      "image/png": "[encoded data removed]",
      "text/plain": [
       "<Figure size 864x288 with 1 Axes>"
      ]
     },
     "metadata": {
      "needs_background": "light"
     },
     "output_type": "display_data"
    }
   ],
   "source": [
    "plt.figure(figsize=(12,4))\n",
    "plt.plot(df_cc.index, df_cc['bid'])"
   ]
  },
  {
   "cell_type": "code",
   "execution_count": 13,
   "metadata": {},
   "outputs": [
    {
     "data": {
      "text/plain": [
       "[<matplotlib.lines.Line2D at 0x7fe8ed174e10>]"
      ]
     },
     "execution_count": 13,
     "metadata": {},
     "output_type": "execute_result"
    },
    {
     "data": {
      "image/png": "[encoded data removed]",
      "text/plain": [
       "<Figure size 864x288 with 1 Axes>"
      ]
     },
     "metadata": {
      "needs_background": "light"
     },
     "output_type": "display_data"
    }
   ],
   "source": [
    "plt.figure(figsize=(12,4))\n",
    "plt.plot(df_lq.index, df_lq['bid'])"
   ]
  },
  {
   "cell_type": "markdown",
   "metadata": {},
   "source": [
    "## 分析"
   ]
  },
  {
   "cell_type": "markdown",
   "metadata": {},
   "source": [
    "### 時間別の取引回数と利益"
   ]
  },
  {
   "cell_type": "code",
   "execution_count": null,
   "metadata": {},
   "outputs": [],
   "source": []
  },
  {
   "cell_type": "markdown",
   "metadata": {},
   "source": [
    "### 時間別の価格差の推移"
   ]
  },
  {
   "cell_type": "code",
   "execution_count": 14,
   "metadata": {},
   "outputs": [],
   "source": [
    "profit_margin_df = pd.DataFrame({\n",
    "    \"timestamp\": pd.to_datetime(df_cc.index),\n",
    "    \"buy_coincheck_sell_liquid\": df_lq.reset_index().bid - df_cc.reset_index().ask,\n",
    "    \"buy_liquid_sell_coincheck\": df_cc.reset_index().bid - df_lq.reset_index().ask,\n",
    "    'coincheck_bid': df_cc.reset_index().bid,\n",
    "     'liquid_ask': df_lq.reset_index().ask,\n",
    "    'liquid_bid': df_lq.reset_index().bid,\n",
    "    'coincheck_ask': df_cc.reset_index().ask,\n",
    "})\n",
    "\n",
    "profit_margin_df = profit_margin_df.set_index(\"timestamp\")"
   ]
  },
  {
   "cell_type": "code",
   "execution_count": 15,
   "metadata": {},
   "outputs": [
    {
     "data": {
      "text/html": [
       "<div>\n",
       "<style scoped>\n",
       "    .dataframe tbody tr th:only-of-type {\n",
       "        vertical-align: middle;\n",
       "    }\n",
       "\n",
       "    .dataframe tbody tr th {\n",
       "        vertical-align: top;\n",
       "    }\n",
       "\n",
       "    .dataframe thead th {\n",
       "        text-align: right;\n",
       "    }\n",
       "</style>\n",
       "<table border=\"1\" class=\"dataframe\">\n",
       "  <thead>\n",
       "    <tr style=\"text-align: right;\">\n",
       "      <th></th>\n",
       "      <th>buy_coincheck_sell_liquid</th>\n",
       "      <th>buy_liquid_sell_coincheck</th>\n",
       "      <th>coincheck_bid</th>\n",
       "      <th>liquid_ask</th>\n",
       "      <th>liquid_bid</th>\n",
       "      <th>coincheck_ask</th>\n",
       "    </tr>\n",
       "    <tr>\n",
       "      <th>timestamp</th>\n",
       "      <th></th>\n",
       "      <th></th>\n",
       "      <th></th>\n",
       "      <th></th>\n",
       "      <th></th>\n",
       "      <th></th>\n",
       "    </tr>\n",
       "  </thead>\n",
       "  <tbody>\n",
       "    <tr>\n",
       "      <th>2020-03-25 00:20:00</th>\n",
       "      <td>-645</td>\n",
       "      <td>120</td>\n",
       "      <td>730082</td>\n",
       "      <td>729963</td>\n",
       "      <td>729780</td>\n",
       "      <td>730425</td>\n",
       "    </tr>\n",
       "    <tr>\n",
       "      <th>2020-03-25 00:30:00</th>\n",
       "      <td>-414</td>\n",
       "      <td>-148</td>\n",
       "      <td>729898</td>\n",
       "      <td>730046</td>\n",
       "      <td>729886</td>\n",
       "      <td>730299</td>\n",
       "    </tr>\n",
       "    <tr>\n",
       "      <th>2020-03-25 00:40:00</th>\n",
       "      <td>-358</td>\n",
       "      <td>-203</td>\n",
       "      <td>734099</td>\n",
       "      <td>734302</td>\n",
       "      <td>734100</td>\n",
       "      <td>734458</td>\n",
       "    </tr>\n",
       "    <tr>\n",
       "      <th>2020-03-25 00:50:00</th>\n",
       "      <td>-440</td>\n",
       "      <td>-214</td>\n",
       "      <td>735121</td>\n",
       "      <td>735335</td>\n",
       "      <td>735116</td>\n",
       "      <td>735557</td>\n",
       "    </tr>\n",
       "    <tr>\n",
       "      <th>2020-03-25 01:00:00</th>\n",
       "      <td>-530</td>\n",
       "      <td>-202</td>\n",
       "      <td>731966</td>\n",
       "      <td>732168</td>\n",
       "      <td>731928</td>\n",
       "      <td>732458</td>\n",
       "    </tr>\n",
       "    <tr>\n",
       "      <th>2020-03-25 01:10:00</th>\n",
       "      <td>-366</td>\n",
       "      <td>-267</td>\n",
       "      <td>732621</td>\n",
       "      <td>732888</td>\n",
       "      <td>732654</td>\n",
       "      <td>733020</td>\n",
       "    </tr>\n",
       "    <tr>\n",
       "      <th>2020-03-25 01:20:00</th>\n",
       "      <td>-249</td>\n",
       "      <td>-429</td>\n",
       "      <td>732795</td>\n",
       "      <td>733224</td>\n",
       "      <td>733011</td>\n",
       "      <td>733260</td>\n",
       "    </tr>\n",
       "    <tr>\n",
       "      <th>2020-03-25 01:30:00</th>\n",
       "      <td>-213</td>\n",
       "      <td>-462</td>\n",
       "      <td>735907</td>\n",
       "      <td>736368</td>\n",
       "      <td>736160</td>\n",
       "      <td>736373</td>\n",
       "    </tr>\n",
       "  </tbody>\n",
       "</table>\n",
       "</div>"
      ],
      "text/plain": [
       "                     buy_coincheck_sell_liquid  buy_liquid_sell_coincheck  \\\n",
       "timestamp                                                                   \n",
       "2020-03-25 00:20:00                       -645                        120   \n",
       "2020-03-25 00:30:00                       -414                       -148   \n",
       "2020-03-25 00:40:00                       -358                       -203   \n",
       "2020-03-25 00:50:00                       -440                       -214   \n",
       "2020-03-25 01:00:00                       -530                       -202   \n",
       "2020-03-25 01:10:00                       -366                       -267   \n",
       "2020-03-25 01:20:00                       -249                       -429   \n",
       "2020-03-25 01:30:00                       -213                       -462   \n",
       "\n",
       "                     coincheck_bid  liquid_ask  liquid_bid  coincheck_ask  \n",
       "timestamp                                                                  \n",
       "2020-03-25 00:20:00         730082      729963      729780         730425  \n",
       "2020-03-25 00:30:00         729898      730046      729886         730299  \n",
       "2020-03-25 00:40:00         734099      734302      734100         734458  \n",
       "2020-03-25 00:50:00         735121      735335      735116         735557  \n",
       "2020-03-25 01:00:00         731966      732168      731928         732458  \n",
       "2020-03-25 01:10:00         732621      732888      732654         733020  \n",
       "2020-03-25 01:20:00         732795      733224      733011         733260  \n",
       "2020-03-25 01:30:00         735907      736368      736160         736373  "
      ]
     },
     "execution_count": 15,
     "metadata": {},
     "output_type": "execute_result"
    }
   ],
   "source": [
    "pd.options.display.float_format = '{:.0f}'.format\n",
    "profit_margin_df.resample(rule='10Min').mean()"
   ]
  },
  {
   "cell_type": "code",
   "execution_count": null,
   "metadata": {},
   "outputs": [],
   "source": []
  }
 ],
 "metadata": {
  "kernelspec": {
   "display_name": "Environment (conda_bakuchi)",
   "language": "python",
   "name": "conda_bakuchi"
  },
  "language_info": {
   "codemirror_mode": {
    "name": "ipython",
    "version": 3
   },
   "file_extension": ".py",
   "mimetype": "text/x-python",
   "name": "python",
   "nbconvert_exporter": "python",
   "pygments_lexer": "ipython3",
   "version": "3.7.6"
  }
 },
 "nbformat": 4,
 "nbformat_minor": 4
}
