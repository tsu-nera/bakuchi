{
 "cells": [
  {
   "cell_type": "markdown",
   "metadata": {},
   "source": [
    "# バックテスト検証ノート"
   ]
  },
  {
   "cell_type": "code",
   "execution_count": 1,
   "metadata": {},
   "outputs": [],
   "source": [
    "import os\n",
    "import numpy as np\n",
    "import pandas as pd\n",
    "import datetime\n",
    "import matplotlib.pyplot as plt"
   ]
  },
  {
   "cell_type": "code",
   "execution_count": 2,
   "metadata": {},
   "outputs": [],
   "source": [
    "current_dir = %pwd\n",
    "timestamp = os.path.basename(current_dir)"
   ]
  },
  {
   "cell_type": "code",
   "execution_count": 3,
   "metadata": {},
   "outputs": [
    {
     "name": "stdout",
     "output_type": "stream",
     "text": [
      "/home/tsu-nera/repo/bakuchi\n"
     ]
    }
   ],
   "source": [
    "import sys\n",
    "sys.path.append('/home/tsu-nera/repo/bakuchi/')\n",
    "%cd '../../'"
   ]
  },
  {
   "cell_type": "code",
   "execution_count": 4,
   "metadata": {},
   "outputs": [
    {
     "name": "stderr",
     "output_type": "stream",
     "text": [
      "File doesn't exist \n"
     ]
    }
   ],
   "source": [
    "from src.utils.backtesting import Backtesting, run_backtesting\n",
    "\n",
    "%reload_ext autoreload\n",
    "%autoreload 2"
   ]
  },
  {
   "cell_type": "code",
   "execution_count": 5,
   "metadata": {},
   "outputs": [],
   "source": [
    "bt = Backtesting(timestamp)"
   ]
  },
  {
   "cell_type": "code",
   "execution_count": 6,
   "metadata": {},
   "outputs": [],
   "source": [
    "df_ex1 = bt.get_coincheck_df()\n",
    "df_ex2 = bt.get_liquid_df()"
   ]
  },
  {
   "cell_type": "code",
   "execution_count": 7,
   "metadata": {},
   "outputs": [
    {
     "data": {
      "text/plain": [
       "(74587, 74587)"
      ]
     },
     "execution_count": 7,
     "metadata": {},
     "output_type": "execute_result"
    }
   ],
   "source": [
    "len(df_ex1), len(df_ex2)"
   ]
  },
  {
   "cell_type": "markdown",
   "metadata": {},
   "source": [
    "## テスト実行"
   ]
  },
  {
   "cell_type": "code",
   "execution_count": 8,
   "metadata": {},
   "outputs": [],
   "source": [
    "bt.run(amount=0.009, profit_margin_threshold=2000, profit_margin_diff=800)"
   ]
  },
  {
   "cell_type": "markdown",
   "metadata": {},
   "source": [
    "##  取引履歴"
   ]
  },
  {
   "cell_type": "code",
   "execution_count": 9,
   "metadata": {},
   "outputs": [
    {
     "data": {
      "text/html": [
       "<div>\n",
       "<style scoped>\n",
       "    .dataframe tbody tr th:only-of-type {\n",
       "        vertical-align: middle;\n",
       "    }\n",
       "\n",
       "    .dataframe tbody tr th {\n",
       "        vertical-align: top;\n",
       "    }\n",
       "\n",
       "    .dataframe thead th {\n",
       "        text-align: right;\n",
       "    }\n",
       "</style>\n",
       "<table border=\"1\" class=\"dataframe\">\n",
       "  <thead>\n",
       "    <tr style=\"text-align: right;\">\n",
       "      <th></th>\n",
       "      <th>取引日時</th>\n",
       "      <th>購入取引所</th>\n",
       "      <th>売却取引所</th>\n",
       "      <th>通貨ペア</th>\n",
       "      <th>取引量</th>\n",
       "      <th>期待利益</th>\n",
       "    </tr>\n",
       "  </thead>\n",
       "  <tbody>\n",
       "    <tr>\n",
       "      <th>0</th>\n",
       "      <td>2020-03-30 00:39:55</td>\n",
       "      <td>liquid</td>\n",
       "      <td>coincheck</td>\n",
       "      <td>BTC/JPY</td>\n",
       "      <td>0.009</td>\n",
       "      <td>10</td>\n",
       "    </tr>\n",
       "    <tr>\n",
       "      <th>1</th>\n",
       "      <td>2020-03-30 01:20:59</td>\n",
       "      <td>coincheck</td>\n",
       "      <td>liquid</td>\n",
       "      <td>BTC/JPY</td>\n",
       "      <td>0.009</td>\n",
       "      <td>0</td>\n",
       "    </tr>\n",
       "    <tr>\n",
       "      <th>2</th>\n",
       "      <td>2020-03-30 01:21:26</td>\n",
       "      <td>liquid</td>\n",
       "      <td>coincheck</td>\n",
       "      <td>BTC/JPY</td>\n",
       "      <td>0.009</td>\n",
       "      <td>10</td>\n",
       "    </tr>\n",
       "    <tr>\n",
       "      <th>3</th>\n",
       "      <td>2020-03-30 01:22:14</td>\n",
       "      <td>coincheck</td>\n",
       "      <td>liquid</td>\n",
       "      <td>BTC/JPY</td>\n",
       "      <td>0.009</td>\n",
       "      <td>-1</td>\n",
       "    </tr>\n",
       "    <tr>\n",
       "      <th>4</th>\n",
       "      <td>2020-03-30 01:22:33</td>\n",
       "      <td>liquid</td>\n",
       "      <td>coincheck</td>\n",
       "      <td>BTC/JPY</td>\n",
       "      <td>0.009</td>\n",
       "      <td>9</td>\n",
       "    </tr>\n",
       "    <tr>\n",
       "      <th>...</th>\n",
       "      <td>...</td>\n",
       "      <td>...</td>\n",
       "      <td>...</td>\n",
       "      <td>...</td>\n",
       "      <td>...</td>\n",
       "      <td>...</td>\n",
       "    </tr>\n",
       "    <tr>\n",
       "      <th>189</th>\n",
       "      <td>2020-03-30 21:37:14</td>\n",
       "      <td>coincheck</td>\n",
       "      <td>liquid</td>\n",
       "      <td>BTC/JPY</td>\n",
       "      <td>0.009</td>\n",
       "      <td>-1</td>\n",
       "    </tr>\n",
       "    <tr>\n",
       "      <th>190</th>\n",
       "      <td>2020-03-30 21:51:10</td>\n",
       "      <td>liquid</td>\n",
       "      <td>coincheck</td>\n",
       "      <td>BTC/JPY</td>\n",
       "      <td>0.009</td>\n",
       "      <td>10</td>\n",
       "    </tr>\n",
       "    <tr>\n",
       "      <th>191</th>\n",
       "      <td>2020-03-30 21:51:22</td>\n",
       "      <td>coincheck</td>\n",
       "      <td>liquid</td>\n",
       "      <td>BTC/JPY</td>\n",
       "      <td>0.009</td>\n",
       "      <td>0</td>\n",
       "    </tr>\n",
       "    <tr>\n",
       "      <th>192</th>\n",
       "      <td>2020-03-30 22:31:50</td>\n",
       "      <td>coincheck</td>\n",
       "      <td>liquid</td>\n",
       "      <td>BTC/JPY</td>\n",
       "      <td>0.009</td>\n",
       "      <td>9</td>\n",
       "    </tr>\n",
       "    <tr>\n",
       "      <th>193</th>\n",
       "      <td>2020-03-30 22:33:14</td>\n",
       "      <td>liquid</td>\n",
       "      <td>coincheck</td>\n",
       "      <td>BTC/JPY</td>\n",
       "      <td>0.009</td>\n",
       "      <td>-2</td>\n",
       "    </tr>\n",
       "  </tbody>\n",
       "</table>\n",
       "<p>194 rows × 6 columns</p>\n",
       "</div>"
      ],
      "text/plain": [
       "                    取引日時      購入取引所      売却取引所     通貨ペア    取引量  期待利益\n",
       "0    2020-03-30 00:39:55     liquid  coincheck  BTC/JPY  0.009    10\n",
       "1    2020-03-30 01:20:59  coincheck     liquid  BTC/JPY  0.009     0\n",
       "2    2020-03-30 01:21:26     liquid  coincheck  BTC/JPY  0.009    10\n",
       "3    2020-03-30 01:22:14  coincheck     liquid  BTC/JPY  0.009    -1\n",
       "4    2020-03-30 01:22:33     liquid  coincheck  BTC/JPY  0.009     9\n",
       "..                   ...        ...        ...      ...    ...   ...\n",
       "189  2020-03-30 21:37:14  coincheck     liquid  BTC/JPY  0.009    -1\n",
       "190  2020-03-30 21:51:10     liquid  coincheck  BTC/JPY  0.009    10\n",
       "191  2020-03-30 21:51:22  coincheck     liquid  BTC/JPY  0.009     0\n",
       "192  2020-03-30 22:31:50  coincheck     liquid  BTC/JPY  0.009     9\n",
       "193  2020-03-30 22:33:14     liquid  coincheck  BTC/JPY  0.009    -2\n",
       "\n",
       "[194 rows x 6 columns]"
      ]
     },
     "execution_count": 9,
     "metadata": {},
     "output_type": "execute_result"
    }
   ],
   "source": [
    "arbitrage_histories = bt.get_arbitrage_histories()\n",
    "\n",
    "headers = [\"取引日時\", \"購入取引所\", \"売却取引所\", \"通貨ペア\", \"取引量\", \"期待利益\"]\n",
    "arbitrage_histories_df = pd.DataFrame(arbitrage_histories, columns=headers)\n",
    "arbitrage_histories_df"
   ]
  },
  {
   "cell_type": "code",
   "execution_count": 10,
   "metadata": {},
   "outputs": [
    {
     "data": {
      "text/html": [
       "<div>\n",
       "<style scoped>\n",
       "    .dataframe tbody tr th:only-of-type {\n",
       "        vertical-align: middle;\n",
       "    }\n",
       "\n",
       "    .dataframe tbody tr th {\n",
       "        vertical-align: top;\n",
       "    }\n",
       "\n",
       "    .dataframe thead th {\n",
       "        text-align: right;\n",
       "    }\n",
       "</style>\n",
       "<table border=\"1\" class=\"dataframe\">\n",
       "  <thead>\n",
       "    <tr style=\"text-align: right;\">\n",
       "      <th></th>\n",
       "      <th>取引日時</th>\n",
       "      <th>売買</th>\n",
       "      <th>取引所</th>\n",
       "      <th>レート</th>\n",
       "    </tr>\n",
       "  </thead>\n",
       "  <tbody>\n",
       "    <tr>\n",
       "      <th>0</th>\n",
       "      <td>2020-03-30 00:39:55</td>\n",
       "      <td>買い</td>\n",
       "      <td>liquid</td>\n",
       "      <td>664595.0</td>\n",
       "    </tr>\n",
       "    <tr>\n",
       "      <th>1</th>\n",
       "      <td>2020-03-30 00:39:55</td>\n",
       "      <td>売り</td>\n",
       "      <td>coincheck</td>\n",
       "      <td>665801.0</td>\n",
       "    </tr>\n",
       "    <tr>\n",
       "      <th>2</th>\n",
       "      <td>2020-03-30 01:20:59</td>\n",
       "      <td>買い</td>\n",
       "      <td>coincheck</td>\n",
       "      <td>667663.0</td>\n",
       "    </tr>\n",
       "    <tr>\n",
       "      <th>3</th>\n",
       "      <td>2020-03-30 01:20:59</td>\n",
       "      <td>売り</td>\n",
       "      <td>liquid</td>\n",
       "      <td>667754.0</td>\n",
       "    </tr>\n",
       "    <tr>\n",
       "      <th>4</th>\n",
       "      <td>2020-03-30 01:21:26</td>\n",
       "      <td>買い</td>\n",
       "      <td>liquid</td>\n",
       "      <td>667307.0</td>\n",
       "    </tr>\n",
       "    <tr>\n",
       "      <th>...</th>\n",
       "      <td>...</td>\n",
       "      <td>...</td>\n",
       "      <td>...</td>\n",
       "      <td>...</td>\n",
       "    </tr>\n",
       "    <tr>\n",
       "      <th>383</th>\n",
       "      <td>2020-03-30 21:51:22</td>\n",
       "      <td>売り</td>\n",
       "      <td>liquid</td>\n",
       "      <td>685379.0</td>\n",
       "    </tr>\n",
       "    <tr>\n",
       "      <th>384</th>\n",
       "      <td>2020-03-30 22:31:50</td>\n",
       "      <td>買い</td>\n",
       "      <td>coincheck</td>\n",
       "      <td>687521.0</td>\n",
       "    </tr>\n",
       "    <tr>\n",
       "      <th>385</th>\n",
       "      <td>2020-03-30 22:31:50</td>\n",
       "      <td>売り</td>\n",
       "      <td>liquid</td>\n",
       "      <td>688578.0</td>\n",
       "    </tr>\n",
       "    <tr>\n",
       "      <th>386</th>\n",
       "      <td>2020-03-30 22:33:14</td>\n",
       "      <td>買い</td>\n",
       "      <td>liquid</td>\n",
       "      <td>688885.0</td>\n",
       "    </tr>\n",
       "    <tr>\n",
       "      <th>387</th>\n",
       "      <td>2020-03-30 22:33:14</td>\n",
       "      <td>売り</td>\n",
       "      <td>coincheck</td>\n",
       "      <td>688651.0</td>\n",
       "    </tr>\n",
       "  </tbody>\n",
       "</table>\n",
       "<p>388 rows × 4 columns</p>\n",
       "</div>"
      ],
      "text/plain": [
       "                    取引日時  売買        取引所       レート\n",
       "0    2020-03-30 00:39:55  買い     liquid  664595.0\n",
       "1    2020-03-30 00:39:55  売り  coincheck  665801.0\n",
       "2    2020-03-30 01:20:59  買い  coincheck  667663.0\n",
       "3    2020-03-30 01:20:59  売り     liquid  667754.0\n",
       "4    2020-03-30 01:21:26  買い     liquid  667307.0\n",
       "..                   ...  ..        ...       ...\n",
       "383  2020-03-30 21:51:22  売り     liquid  685379.0\n",
       "384  2020-03-30 22:31:50  買い  coincheck  687521.0\n",
       "385  2020-03-30 22:31:50  売り     liquid  688578.0\n",
       "386  2020-03-30 22:33:14  買い     liquid  688885.0\n",
       "387  2020-03-30 22:33:14  売り  coincheck  688651.0\n",
       "\n",
       "[388 rows x 4 columns]"
      ]
     },
     "execution_count": 10,
     "metadata": {},
     "output_type": "execute_result"
    }
   ],
   "source": [
    "histories = bt.get_trade_histories()\n",
    "headers = [\"取引日時\",  \"売買\",  \"取引所\", \"レート\"]\n",
    "histories_df = pd.DataFrame(histories, columns=headers)\n",
    "histories_df"
   ]
  },
  {
   "cell_type": "markdown",
   "metadata": {},
   "source": [
    "## 結果まとめ"
   ]
  },
  {
   "cell_type": "code",
   "execution_count": 11,
   "metadata": {},
   "outputs": [
    {
     "name": "stdout",
     "output_type": "stream",
     "text": [
      "バックテスト情報\n",
      "+---------------------+---------------------+\n",
      "|          レコード数 |               74587 |\n",
      "+---------------------+---------------------+\n",
      "|            取引回数 |                 194 |\n",
      "+---------------------+---------------------+\n",
      "|            開始日時 | 2020-03-30 00:34:36 |\n",
      "+---------------------+---------------------+\n",
      "|            終了日時 | 2020-03-30 22:45:55 |\n",
      "+---------------------+---------------------+\n",
      "|         取引時間[H] |     0 days 22:11:19 |\n",
      "+---------------------+---------------------+\n",
      "|       取引単位[BTC] |               0.009 |\n",
      "+---------------------+---------------------+\n",
      "|   利確しきい値[JPY] |                1000 |\n",
      "+---------------------+---------------------+\n",
      "| 損切りマージン[JPY] |                 800 |\n",
      "+---------------------+---------------------+\n",
      "\n",
      "バックテスト結果\n",
      "+-------------+---------+\n",
      "| 開始[JPY]   |   10000 |\n",
      "+-------------+---------+\n",
      "| 終了[JPY]   |   10993 |\n",
      "+-------------+---------+\n",
      "| 利益[JPY]   |     993 |\n",
      "+-------------+---------+\n",
      "| 開始[BTC]   |   0.022 |\n",
      "+-------------+---------+\n",
      "| 終了[BTC]   |   0.022 |\n",
      "+-------------+---------+\n",
      "| 利益[BTC]   |       0 |\n",
      "+-------------+---------+\n",
      "| 開始[TOTAL] | 24863.9 |\n",
      "+-------------+---------+\n",
      "| 終了[TOTAL] | 25857.8 |\n",
      "+-------------+---------+\n",
      "| 利益[TOTAL] | 993.906 |\n",
      "+-------------+---------+\n"
     ]
    }
   ],
   "source": [
    "bt.display()"
   ]
  },
  {
   "cell_type": "markdown",
   "metadata": {},
   "source": [
    "## グラフ出力"
   ]
  },
  {
   "cell_type": "code",
   "execution_count": 12,
   "metadata": {
    "scrolled": true
   },
   "outputs": [
    {
     "data": {
      "text/plain": [
       "[<matplotlib.lines.Line2D at 0x7f981a273890>]"
      ]
     },
     "execution_count": 12,
     "metadata": {},
     "output_type": "execute_result"
    },
    {
     "data": {
      "image/png": "[encoded data removed]",
      "text/plain": [
       "<Figure size 864x288 with 1 Axes>"
      ]
     },
     "metadata": {
      "needs_background": "light"
     },
     "output_type": "display_data"
    }
   ],
   "source": [
    "plt.figure(figsize=(12,4))\n",
    "plt.plot(df_ex1.index, df_ex1['bid'])"
   ]
  },
  {
   "cell_type": "code",
   "execution_count": 13,
   "metadata": {},
   "outputs": [
    {
     "data": {
      "text/plain": [
       "[<matplotlib.lines.Line2D at 0x7f9819802e90>]"
      ]
     },
     "execution_count": 13,
     "metadata": {},
     "output_type": "execute_result"
    },
    {
     "data": {
      "image/png": "[encoded data removed]",
      "text/plain": [
       "<Figure size 864x288 with 1 Axes>"
      ]
     },
     "metadata": {
      "needs_background": "light"
     },
     "output_type": "display_data"
    }
   ],
   "source": [
    "plt.figure(figsize=(12,4))\n",
    "plt.plot(df_ex2.index, df_ex2['bid'])"
   ]
  },
  {
   "cell_type": "markdown",
   "metadata": {},
   "source": [
    "## 分析"
   ]
  },
  {
   "cell_type": "markdown",
   "metadata": {},
   "source": [
    "### 時間別の取引回数と利益"
   ]
  },
  {
   "cell_type": "code",
   "execution_count": null,
   "metadata": {},
   "outputs": [],
   "source": []
  },
  {
   "cell_type": "markdown",
   "metadata": {},
   "source": [
    "### 時間別の価格差の推移"
   ]
  },
  {
   "cell_type": "code",
   "execution_count": 14,
   "metadata": {},
   "outputs": [],
   "source": [
    "profit_margin_df = pd.DataFrame({\n",
    "    \"timestamp\": pd.to_datetime(df_ex1.index),\n",
    "    \"buy_coincheck_sell_liquid\": df_ex2.reset_index().bid - df_ex1.reset_index().ask,\n",
    "    \"buy_liquid_sell_coincheck\": df_ex1.reset_index().bid - df_ex2.reset_index().ask,\n",
    "    'coincheck_bid': df_ex1.reset_index().bid,\n",
    "     'liquid_ask': df_ex2.reset_index().ask,\n",
    "    'liquid_bid': df_ex2.reset_index().bid,\n",
    "    'coincheck_ask': df_ex1.reset_index().ask,\n",
    "})\n",
    "\n",
    "profit_margin_df = profit_margin_df.set_index(\"timestamp\")"
   ]
  },
  {
   "cell_type": "code",
   "execution_count": 15,
   "metadata": {},
   "outputs": [
    {
     "data": {
      "text/html": [
       "<div>\n",
       "<style scoped>\n",
       "    .dataframe tbody tr th:only-of-type {\n",
       "        vertical-align: middle;\n",
       "    }\n",
       "\n",
       "    .dataframe tbody tr th {\n",
       "        vertical-align: top;\n",
       "    }\n",
       "\n",
       "    .dataframe thead th {\n",
       "        text-align: right;\n",
       "    }\n",
       "</style>\n",
       "<table border=\"1\" class=\"dataframe\">\n",
       "  <thead>\n",
       "    <tr style=\"text-align: right;\">\n",
       "      <th></th>\n",
       "      <th>buy_coincheck_sell_liquid</th>\n",
       "      <th>buy_liquid_sell_coincheck</th>\n",
       "      <th>coincheck_bid</th>\n",
       "      <th>liquid_ask</th>\n",
       "      <th>liquid_bid</th>\n",
       "      <th>coincheck_ask</th>\n",
       "    </tr>\n",
       "    <tr>\n",
       "      <th>timestamp</th>\n",
       "      <th></th>\n",
       "      <th></th>\n",
       "      <th></th>\n",
       "      <th></th>\n",
       "      <th></th>\n",
       "      <th></th>\n",
       "    </tr>\n",
       "  </thead>\n",
       "  <tbody>\n",
       "    <tr>\n",
       "      <th>2020-03-30 00:30:00</th>\n",
       "      <td>-1358</td>\n",
       "      <td>979</td>\n",
       "      <td>665423</td>\n",
       "      <td>664444</td>\n",
       "      <td>664314</td>\n",
       "      <td>665672</td>\n",
       "    </tr>\n",
       "    <tr>\n",
       "      <th>2020-03-30 00:40:00</th>\n",
       "      <td>-1399</td>\n",
       "      <td>1069</td>\n",
       "      <td>665701</td>\n",
       "      <td>664632</td>\n",
       "      <td>664505</td>\n",
       "      <td>665904</td>\n",
       "    </tr>\n",
       "    <tr>\n",
       "      <th>2020-03-30 00:50:00</th>\n",
       "      <td>-1280</td>\n",
       "      <td>816</td>\n",
       "      <td>665738</td>\n",
       "      <td>664922</td>\n",
       "      <td>664758</td>\n",
       "      <td>666038</td>\n",
       "    </tr>\n",
       "    <tr>\n",
       "      <th>2020-03-30 01:00:00</th>\n",
       "      <td>-1339</td>\n",
       "      <td>834</td>\n",
       "      <td>665369</td>\n",
       "      <td>664535</td>\n",
       "      <td>664370</td>\n",
       "      <td>665709</td>\n",
       "    </tr>\n",
       "    <tr>\n",
       "      <th>2020-03-30 01:10:00</th>\n",
       "      <td>-1313</td>\n",
       "      <td>814</td>\n",
       "      <td>666309</td>\n",
       "      <td>665494</td>\n",
       "      <td>665368</td>\n",
       "      <td>666681</td>\n",
       "    </tr>\n",
       "    <tr>\n",
       "      <th>...</th>\n",
       "      <td>...</td>\n",
       "      <td>...</td>\n",
       "      <td>...</td>\n",
       "      <td>...</td>\n",
       "      <td>...</td>\n",
       "      <td>...</td>\n",
       "    </tr>\n",
       "    <tr>\n",
       "      <th>2020-03-30 22:00:00</th>\n",
       "      <td>68</td>\n",
       "      <td>-608</td>\n",
       "      <td>687609</td>\n",
       "      <td>688217</td>\n",
       "      <td>688036</td>\n",
       "      <td>687967</td>\n",
       "    </tr>\n",
       "    <tr>\n",
       "      <th>2020-03-30 22:10:00</th>\n",
       "      <td>-113</td>\n",
       "      <td>-380</td>\n",
       "      <td>687339</td>\n",
       "      <td>687720</td>\n",
       "      <td>687557</td>\n",
       "      <td>687671</td>\n",
       "    </tr>\n",
       "    <tr>\n",
       "      <th>2020-03-30 22:20:00</th>\n",
       "      <td>-95</td>\n",
       "      <td>-412</td>\n",
       "      <td>686427</td>\n",
       "      <td>686838</td>\n",
       "      <td>686664</td>\n",
       "      <td>686760</td>\n",
       "    </tr>\n",
       "    <tr>\n",
       "      <th>2020-03-30 22:30:00</th>\n",
       "      <td>57</td>\n",
       "      <td>-674</td>\n",
       "      <td>687271</td>\n",
       "      <td>687945</td>\n",
       "      <td>687732</td>\n",
       "      <td>687675</td>\n",
       "    </tr>\n",
       "    <tr>\n",
       "      <th>2020-03-30 22:40:00</th>\n",
       "      <td>140</td>\n",
       "      <td>-716</td>\n",
       "      <td>685755</td>\n",
       "      <td>686471</td>\n",
       "      <td>686315</td>\n",
       "      <td>686175</td>\n",
       "    </tr>\n",
       "  </tbody>\n",
       "</table>\n",
       "<p>134 rows × 6 columns</p>\n",
       "</div>"
      ],
      "text/plain": [
       "                     buy_coincheck_sell_liquid  buy_liquid_sell_coincheck  \\\n",
       "timestamp                                                                   \n",
       "2020-03-30 00:30:00                      -1358                        979   \n",
       "2020-03-30 00:40:00                      -1399                       1069   \n",
       "2020-03-30 00:50:00                      -1280                        816   \n",
       "2020-03-30 01:00:00                      -1339                        834   \n",
       "2020-03-30 01:10:00                      -1313                        814   \n",
       "...                                        ...                        ...   \n",
       "2020-03-30 22:00:00                         68                       -608   \n",
       "2020-03-30 22:10:00                       -113                       -380   \n",
       "2020-03-30 22:20:00                        -95                       -412   \n",
       "2020-03-30 22:30:00                         57                       -674   \n",
       "2020-03-30 22:40:00                        140                       -716   \n",
       "\n",
       "                     coincheck_bid  liquid_ask  liquid_bid  coincheck_ask  \n",
       "timestamp                                                                  \n",
       "2020-03-30 00:30:00         665423      664444      664314         665672  \n",
       "2020-03-30 00:40:00         665701      664632      664505         665904  \n",
       "2020-03-30 00:50:00         665738      664922      664758         666038  \n",
       "2020-03-30 01:00:00         665369      664535      664370         665709  \n",
       "2020-03-30 01:10:00         666309      665494      665368         666681  \n",
       "...                            ...         ...         ...            ...  \n",
       "2020-03-30 22:00:00         687609      688217      688036         687967  \n",
       "2020-03-30 22:10:00         687339      687720      687557         687671  \n",
       "2020-03-30 22:20:00         686427      686838      686664         686760  \n",
       "2020-03-30 22:30:00         687271      687945      687732         687675  \n",
       "2020-03-30 22:40:00         685755      686471      686315         686175  \n",
       "\n",
       "[134 rows x 6 columns]"
      ]
     },
     "execution_count": 15,
     "metadata": {},
     "output_type": "execute_result"
    }
   ],
   "source": [
    "pd.options.display.float_format = '{:.0f}'.format\n",
    "profit_margin_df.resample(rule='10Min').mean()"
   ]
  },
  {
   "cell_type": "code",
   "execution_count": null,
   "metadata": {},
   "outputs": [],
   "source": []
  }
 ],
 "metadata": {
  "kernelspec": {
   "display_name": "Environment (conda_bakuchi)",
   "language": "python",
   "name": "conda_bakuchi"
  },
  "language_info": {
   "codemirror_mode": {
    "name": "ipython",
    "version": 3
   },
   "file_extension": ".py",
   "mimetype": "text/x-python",
   "name": "python",
   "nbconvert_exporter": "python",
   "pygments_lexer": "ipython3",
   "version": "3.7.6"
  }
 },
 "nbformat": 4,
 "nbformat_minor": 4
}
