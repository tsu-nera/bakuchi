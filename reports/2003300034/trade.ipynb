{
 "cells": [
  {
   "cell_type": "markdown",
   "metadata": {},
   "source": [
    "# 取引履歴のデータ分析"
   ]
  },
  {
   "cell_type": "code",
   "execution_count": 1,
   "metadata": {},
   "outputs": [],
   "source": [
    "import os\n",
    "import pandas as pd\n",
    "import matplotlib\n",
    "import matplotlib.pyplot as plt\n",
    "import matplotlib.dates as mdates"
   ]
  },
  {
   "cell_type": "code",
   "execution_count": 2,
   "metadata": {},
   "outputs": [],
   "source": [
    "matplotlib.use(\"TkAgg\")"
   ]
  },
  {
   "cell_type": "code",
   "execution_count": 3,
   "metadata": {},
   "outputs": [],
   "source": [
    "current_dir = %pwd\n",
    "timestamp = os.path.basename(current_dir)"
   ]
  },
  {
   "cell_type": "code",
   "execution_count": 4,
   "metadata": {},
   "outputs": [
    {
     "name": "stdout",
     "output_type": "stream",
     "text": [
      "/home/tsu-nera/repo/bakuchi\n"
     ]
    }
   ],
   "source": [
    "import sys\n",
    "sys.path.append('/home/tsu-nera/repo/bakuchi/')\n",
    "%cd '../../'"
   ]
  },
  {
   "cell_type": "code",
   "execution_count": 5,
   "metadata": {},
   "outputs": [
    {
     "name": "stderr",
     "output_type": "stream",
     "text": [
      "File doesn't exist \n"
     ]
    }
   ],
   "source": [
    "from src.utils.trade_analysis import TradeAnalysis\n",
    "\n",
    "%reload_ext autoreload\n",
    "%autoreload 2"
   ]
  },
  {
   "cell_type": "code",
   "execution_count": 6,
   "metadata": {},
   "outputs": [],
   "source": [
    "ta = TradeAnalysis(timestamp)"
   ]
  },
  {
   "cell_type": "code",
   "execution_count": 7,
   "metadata": {},
   "outputs": [],
   "source": [
    "cc_trades = ta.get_coincheck_trades_df()\n",
    "lq_trades = ta.get_liquid_trades_df()"
   ]
  },
  {
   "cell_type": "code",
   "execution_count": 8,
   "metadata": {},
   "outputs": [
    {
     "data": {
      "text/plain": [
       "(164, 164)"
      ]
     },
     "execution_count": 8,
     "metadata": {},
     "output_type": "execute_result"
    }
   ],
   "source": [
    "len(cc_trades), len(lq_trades)"
   ]
  },
  {
   "cell_type": "markdown",
   "metadata": {},
   "source": [
    "## トレード結果"
   ]
  },
  {
   "cell_type": "code",
   "execution_count": 9,
   "metadata": {},
   "outputs": [
    {
     "name": "stdout",
     "output_type": "stream",
     "text": [
      "トレード情報\n",
      "+---------------------+---------------------+\n",
      "|          レコード数 |               74587 |\n",
      "+---------------------+---------------------+\n",
      "|            取引回数 |                 164 |\n",
      "+---------------------+---------------------+\n",
      "|            開始日時 | 2020-03-30 00:39:55 |\n",
      "+---------------------+---------------------+\n",
      "|            終了日時 | 2020-03-30 22:35:39 |\n",
      "+---------------------+---------------------+\n",
      "|         取引時間[H] |     0 days 21:55:44 |\n",
      "+---------------------+---------------------+\n",
      "|       取引単位[BTC] |               0.006 |\n",
      "+---------------------+---------------------+\n",
      "|   利確しきい値[JPY] |                2000 |\n",
      "+---------------------+---------------------+\n",
      "| 損切りマージン[JPY] |                1000 |\n",
      "+---------------------+---------------------+\n",
      "\n",
      "トレード結果\n",
      "+-------------+----------+\n",
      "| 開始[JPY]   |    10524 |\n",
      "+-------------+----------+\n",
      "| 終了[JPY]   |    10759 |\n",
      "+-------------+----------+\n",
      "| 利益[JPY]   |      235 |\n",
      "+-------------+----------+\n",
      "| 開始[BTC]   | 0.022006 |\n",
      "+-------------+----------+\n",
      "| 終了[BTC]   | 0.021346 |\n",
      "+-------------+----------+\n",
      "| 利益[BTC]   | -0.00066 |\n",
      "+-------------+----------+\n",
      "| 開始[TOTAL] |    25152 |\n",
      "+-------------+----------+\n",
      "| 終了[TOTAL] |    25393 |\n",
      "+-------------+----------+\n",
      "| 利益[TOTAL] |      241 |\n",
      "+-------------+----------+\n",
      "\n",
      "トレード分析\n",
      "+-----------+----------------+------------+\n",
      "|   Bot利益 |   トレード利益 |   市場利益 |\n",
      "+===========+================+============+\n",
      "|       241 |       -218.642 |    459.642 |\n",
      "+-----------+----------------+------------+\n"
     ]
    }
   ],
   "source": [
    "ta.display()"
   ]
  },
  {
   "cell_type": "markdown",
   "metadata": {},
   "source": [
    "## 取引履歴"
   ]
  },
  {
   "cell_type": "code",
   "execution_count": 10,
   "metadata": {
    "scrolled": false
   },
   "outputs": [],
   "source": [
    "profit_df = ta.create_profit_df()"
   ]
  },
  {
   "cell_type": "code",
   "execution_count": 11,
   "metadata": {},
   "outputs": [
    {
     "data": {
      "text/html": [
       "<div>\n",
       "<style scoped>\n",
       "    .dataframe tbody tr th:only-of-type {\n",
       "        vertical-align: middle;\n",
       "    }\n",
       "\n",
       "    .dataframe tbody tr th {\n",
       "        vertical-align: top;\n",
       "    }\n",
       "\n",
       "    .dataframe thead th {\n",
       "        text-align: right;\n",
       "    }\n",
       "</style>\n",
       "<table border=\"1\" class=\"dataframe\">\n",
       "  <thead>\n",
       "    <tr style=\"text-align: right;\">\n",
       "      <th></th>\n",
       "      <th>cc_side</th>\n",
       "      <th>cc_price</th>\n",
       "      <th>lq_side</th>\n",
       "      <th>lq_price</th>\n",
       "      <th>profit</th>\n",
       "    </tr>\n",
       "    <tr>\n",
       "      <th>timestamp</th>\n",
       "      <th></th>\n",
       "      <th></th>\n",
       "      <th></th>\n",
       "      <th></th>\n",
       "      <th></th>\n",
       "    </tr>\n",
       "  </thead>\n",
       "  <tbody>\n",
       "    <tr>\n",
       "      <th>2020-03-30 17:19:14</th>\n",
       "      <td>sell</td>\n",
       "      <td>4082.826</td>\n",
       "      <td>buy</td>\n",
       "      <td>4082.928</td>\n",
       "      <td>-0.102</td>\n",
       "    </tr>\n",
       "    <tr>\n",
       "      <th>2020-03-30 17:19:33</th>\n",
       "      <td>buy</td>\n",
       "      <td>4074.993</td>\n",
       "      <td>sell</td>\n",
       "      <td>4074.786</td>\n",
       "      <td>-0.207</td>\n",
       "    </tr>\n",
       "    <tr>\n",
       "      <th>2020-03-30 17:43:13</th>\n",
       "      <td>buy</td>\n",
       "      <td>4081.995</td>\n",
       "      <td>sell</td>\n",
       "      <td>4087.086</td>\n",
       "      <td>5.091</td>\n",
       "    </tr>\n",
       "    <tr>\n",
       "      <th>2020-03-30 17:45:31</th>\n",
       "      <td>sell</td>\n",
       "      <td>4083.480</td>\n",
       "      <td>buy</td>\n",
       "      <td>4085.574</td>\n",
       "      <td>-2.094</td>\n",
       "    </tr>\n",
       "    <tr>\n",
       "      <th>2020-03-30 19:10:38</th>\n",
       "      <td>buy</td>\n",
       "      <td>4072.995</td>\n",
       "      <td>sell</td>\n",
       "      <td>4076.298</td>\n",
       "      <td>3.303</td>\n",
       "    </tr>\n",
       "    <tr>\n",
       "      <th>2020-03-30 19:39:04</th>\n",
       "      <td>sell</td>\n",
       "      <td>4104.468</td>\n",
       "      <td>buy</td>\n",
       "      <td>4109.292</td>\n",
       "      <td>-4.824</td>\n",
       "    </tr>\n",
       "    <tr>\n",
       "      <th>2020-03-30 19:40:04</th>\n",
       "      <td>buy</td>\n",
       "      <td>4095.994</td>\n",
       "      <td>sell</td>\n",
       "      <td>4099.896</td>\n",
       "      <td>3.902</td>\n",
       "    </tr>\n",
       "    <tr>\n",
       "      <th>2020-03-30 19:41:21</th>\n",
       "      <td>sell</td>\n",
       "      <td>4098.000</td>\n",
       "      <td>buy</td>\n",
       "      <td>4100.970</td>\n",
       "      <td>-2.970</td>\n",
       "    </tr>\n",
       "    <tr>\n",
       "      <th>2020-03-30 19:48:19</th>\n",
       "      <td>buy</td>\n",
       "      <td>4111.997</td>\n",
       "      <td>sell</td>\n",
       "      <td>4117.854</td>\n",
       "      <td>5.857</td>\n",
       "    </tr>\n",
       "    <tr>\n",
       "      <th>2020-03-30 19:49:51</th>\n",
       "      <td>sell</td>\n",
       "      <td>4087.446</td>\n",
       "      <td>buy</td>\n",
       "      <td>4088.970</td>\n",
       "      <td>-1.524</td>\n",
       "    </tr>\n",
       "    <tr>\n",
       "      <th>2020-03-30 20:07:31</th>\n",
       "      <td>buy</td>\n",
       "      <td>4092.997</td>\n",
       "      <td>sell</td>\n",
       "      <td>4096.266</td>\n",
       "      <td>3.269</td>\n",
       "    </tr>\n",
       "    <tr>\n",
       "      <th>2020-03-30 20:11:14</th>\n",
       "      <td>sell</td>\n",
       "      <td>4091.262</td>\n",
       "      <td>buy</td>\n",
       "      <td>4095.294</td>\n",
       "      <td>-4.032</td>\n",
       "    </tr>\n",
       "    <tr>\n",
       "      <th>2020-03-30 20:16:53</th>\n",
       "      <td>buy</td>\n",
       "      <td>4101.997</td>\n",
       "      <td>sell</td>\n",
       "      <td>4108.788</td>\n",
       "      <td>6.791</td>\n",
       "    </tr>\n",
       "    <tr>\n",
       "      <th>2020-03-30 20:19:30</th>\n",
       "      <td>sell</td>\n",
       "      <td>4094.892</td>\n",
       "      <td>buy</td>\n",
       "      <td>4100.748</td>\n",
       "      <td>-5.856</td>\n",
       "    </tr>\n",
       "    <tr>\n",
       "      <th>2020-03-30 20:30:57</th>\n",
       "      <td>buy</td>\n",
       "      <td>4132.998</td>\n",
       "      <td>sell</td>\n",
       "      <td>4146.576</td>\n",
       "      <td>13.578</td>\n",
       "    </tr>\n",
       "    <tr>\n",
       "      <th>2020-03-30 20:31:01</th>\n",
       "      <td>sell</td>\n",
       "      <td>4140.456</td>\n",
       "      <td>buy</td>\n",
       "      <td>4143.186</td>\n",
       "      <td>-2.730</td>\n",
       "    </tr>\n",
       "    <tr>\n",
       "      <th>2020-03-30 20:31:15</th>\n",
       "      <td>buy</td>\n",
       "      <td>4145.997</td>\n",
       "      <td>sell</td>\n",
       "      <td>4158.276</td>\n",
       "      <td>12.279</td>\n",
       "    </tr>\n",
       "    <tr>\n",
       "      <th>2020-03-30 20:31:29</th>\n",
       "      <td>sell</td>\n",
       "      <td>4164.072</td>\n",
       "      <td>buy</td>\n",
       "      <td>4168.980</td>\n",
       "      <td>-4.908</td>\n",
       "    </tr>\n",
       "    <tr>\n",
       "      <th>2020-03-30 20:31:44</th>\n",
       "      <td>buy</td>\n",
       "      <td>4160.997</td>\n",
       "      <td>sell</td>\n",
       "      <td>4168.872</td>\n",
       "      <td>7.875</td>\n",
       "    </tr>\n",
       "    <tr>\n",
       "      <th>2020-03-30 20:31:55</th>\n",
       "      <td>sell</td>\n",
       "      <td>4161.240</td>\n",
       "      <td>buy</td>\n",
       "      <td>4166.226</td>\n",
       "      <td>-4.986</td>\n",
       "    </tr>\n",
       "    <tr>\n",
       "      <th>2020-03-30 20:37:48</th>\n",
       "      <td>buy</td>\n",
       "      <td>4146.999</td>\n",
       "      <td>sell</td>\n",
       "      <td>4153.308</td>\n",
       "      <td>6.309</td>\n",
       "    </tr>\n",
       "    <tr>\n",
       "      <th>2020-03-30 20:38:05</th>\n",
       "      <td>sell</td>\n",
       "      <td>4146.870</td>\n",
       "      <td>buy</td>\n",
       "      <td>4149.840</td>\n",
       "      <td>-2.970</td>\n",
       "    </tr>\n",
       "    <tr>\n",
       "      <th>2020-03-30 20:59:50</th>\n",
       "      <td>sell</td>\n",
       "      <td>4146.040</td>\n",
       "      <td>buy</td>\n",
       "      <td>4145.364</td>\n",
       "      <td>0.676</td>\n",
       "    </tr>\n",
       "    <tr>\n",
       "      <th>2020-03-30 21:00:22</th>\n",
       "      <td>buy</td>\n",
       "      <td>4151.997</td>\n",
       "      <td>sell</td>\n",
       "      <td>4154.334</td>\n",
       "      <td>2.337</td>\n",
       "    </tr>\n",
       "    <tr>\n",
       "      <th>2020-03-30 21:36:56</th>\n",
       "      <td>sell</td>\n",
       "      <td>4112.226</td>\n",
       "      <td>buy</td>\n",
       "      <td>4112.466</td>\n",
       "      <td>-0.240</td>\n",
       "    </tr>\n",
       "    <tr>\n",
       "      <th>2020-03-30 21:37:16</th>\n",
       "      <td>buy</td>\n",
       "      <td>4116.994</td>\n",
       "      <td>sell</td>\n",
       "      <td>4115.934</td>\n",
       "      <td>-1.060</td>\n",
       "    </tr>\n",
       "    <tr>\n",
       "      <th>2020-03-30 21:51:10</th>\n",
       "      <td>sell</td>\n",
       "      <td>4110.000</td>\n",
       "      <td>buy</td>\n",
       "      <td>4111.902</td>\n",
       "      <td>-1.902</td>\n",
       "    </tr>\n",
       "    <tr>\n",
       "      <th>2020-03-30 21:51:22</th>\n",
       "      <td>buy</td>\n",
       "      <td>4113.996</td>\n",
       "      <td>sell</td>\n",
       "      <td>4111.848</td>\n",
       "      <td>-2.148</td>\n",
       "    </tr>\n",
       "    <tr>\n",
       "      <th>2020-03-30 22:31:50</th>\n",
       "      <td>buy</td>\n",
       "      <td>4126.995</td>\n",
       "      <td>sell</td>\n",
       "      <td>4131.060</td>\n",
       "      <td>4.065</td>\n",
       "    </tr>\n",
       "    <tr>\n",
       "      <th>2020-03-30 22:35:39</th>\n",
       "      <td>sell</td>\n",
       "      <td>4122.690</td>\n",
       "      <td>buy</td>\n",
       "      <td>4124.318</td>\n",
       "      <td>-1.628</td>\n",
       "    </tr>\n",
       "  </tbody>\n",
       "</table>\n",
       "</div>"
      ],
      "text/plain": [
       "                    cc_side  cc_price lq_side  lq_price  profit\n",
       "timestamp                                                      \n",
       "2020-03-30 17:19:14    sell  4082.826     buy  4082.928  -0.102\n",
       "2020-03-30 17:19:33     buy  4074.993    sell  4074.786  -0.207\n",
       "2020-03-30 17:43:13     buy  4081.995    sell  4087.086   5.091\n",
       "2020-03-30 17:45:31    sell  4083.480     buy  4085.574  -2.094\n",
       "2020-03-30 19:10:38     buy  4072.995    sell  4076.298   3.303\n",
       "2020-03-30 19:39:04    sell  4104.468     buy  4109.292  -4.824\n",
       "2020-03-30 19:40:04     buy  4095.994    sell  4099.896   3.902\n",
       "2020-03-30 19:41:21    sell  4098.000     buy  4100.970  -2.970\n",
       "2020-03-30 19:48:19     buy  4111.997    sell  4117.854   5.857\n",
       "2020-03-30 19:49:51    sell  4087.446     buy  4088.970  -1.524\n",
       "2020-03-30 20:07:31     buy  4092.997    sell  4096.266   3.269\n",
       "2020-03-30 20:11:14    sell  4091.262     buy  4095.294  -4.032\n",
       "2020-03-30 20:16:53     buy  4101.997    sell  4108.788   6.791\n",
       "2020-03-30 20:19:30    sell  4094.892     buy  4100.748  -5.856\n",
       "2020-03-30 20:30:57     buy  4132.998    sell  4146.576  13.578\n",
       "2020-03-30 20:31:01    sell  4140.456     buy  4143.186  -2.730\n",
       "2020-03-30 20:31:15     buy  4145.997    sell  4158.276  12.279\n",
       "2020-03-30 20:31:29    sell  4164.072     buy  4168.980  -4.908\n",
       "2020-03-30 20:31:44     buy  4160.997    sell  4168.872   7.875\n",
       "2020-03-30 20:31:55    sell  4161.240     buy  4166.226  -4.986\n",
       "2020-03-30 20:37:48     buy  4146.999    sell  4153.308   6.309\n",
       "2020-03-30 20:38:05    sell  4146.870     buy  4149.840  -2.970\n",
       "2020-03-30 20:59:50    sell  4146.040     buy  4145.364   0.676\n",
       "2020-03-30 21:00:22     buy  4151.997    sell  4154.334   2.337\n",
       "2020-03-30 21:36:56    sell  4112.226     buy  4112.466  -0.240\n",
       "2020-03-30 21:37:16     buy  4116.994    sell  4115.934  -1.060\n",
       "2020-03-30 21:51:10    sell  4110.000     buy  4111.902  -1.902\n",
       "2020-03-30 21:51:22     buy  4113.996    sell  4111.848  -2.148\n",
       "2020-03-30 22:31:50     buy  4126.995    sell  4131.060   4.065\n",
       "2020-03-30 22:35:39    sell  4122.690     buy  4124.318  -1.628"
      ]
     },
     "execution_count": 11,
     "metadata": {},
     "output_type": "execute_result"
    }
   ],
   "source": [
    "profit_df.tail(30)"
   ]
  },
  {
   "cell_type": "code",
   "execution_count": 12,
   "metadata": {},
   "outputs": [
    {
     "data": {
      "text/plain": [
       "235.953"
      ]
     },
     "execution_count": 12,
     "metadata": {},
     "output_type": "execute_result"
    }
   ],
   "source": [
    "round(sum(profit_df.profit), 3)"
   ]
  },
  {
   "cell_type": "markdown",
   "metadata": {},
   "source": [
    "## トレードグラフ"
   ]
  },
  {
   "cell_type": "code",
   "execution_count": 13,
   "metadata": {},
   "outputs": [],
   "source": [
    "cc_ticks = ta.get_coincheck_ticks_df()\n",
    "lq_ticks = ta.get_liquid_ticks_df()"
   ]
  },
  {
   "cell_type": "code",
   "execution_count": 14,
   "metadata": {},
   "outputs": [
    {
     "data": {
      "text/plain": [
       "(74587, 74587)"
      ]
     },
     "execution_count": 14,
     "metadata": {},
     "output_type": "execute_result"
    }
   ],
   "source": [
    "len(cc_ticks), len(lq_ticks)"
   ]
  },
  {
   "cell_type": "code",
   "execution_count": 15,
   "metadata": {},
   "outputs": [
    {
     "data": {
      "text/plain": [
       "Text(0.5, 1, 'liquid bid/coincheck ask')"
      ]
     },
     "execution_count": 15,
     "metadata": {},
     "output_type": "execute_result"
    }
   ],
   "source": [
    "cc_bids = cc_ticks['bid']\n",
    "cc_asks = cc_ticks['ask']\n",
    "lq_bids = lq_ticks['bid']\n",
    "lq_asks = lq_ticks['ask']\n",
    "\n",
    "fig1, ax1 = ta.get_fig(cc_bids, lq_asks)\n",
    "fig2, ax2 = ta.get_fig(lq_bids, cc_asks)\n",
    "\n",
    "ax1.set_title('coincheck bid/liquid ask')\n",
    "ax2.set_title('liquid bid/coincheck ask')"
   ]
  },
  {
   "cell_type": "code",
   "execution_count": 16,
   "metadata": {},
   "outputs": [
    {
     "data": {
      "image/png": "[encoded data removed]",
      "text/plain": [
       "<Figure size 864x360 with 1 Axes>"
      ]
     },
     "execution_count": 16,
     "metadata": {},
     "output_type": "execute_result"
    }
   ],
   "source": [
    "fig1"
   ]
  },
  {
   "cell_type": "code",
   "execution_count": 17,
   "metadata": {},
   "outputs": [
    {
     "data": {
      "image/png": "[encoded data removed]",
      "text/plain": [
       "<Figure size 864x360 with 1 Axes>"
      ]
     },
     "execution_count": 17,
     "metadata": {},
     "output_type": "execute_result"
    }
   ],
   "source": [
    "fig2"
   ]
  },
  {
   "cell_type": "code",
   "execution_count": null,
   "metadata": {},
   "outputs": [],
   "source": []
  }
 ],
 "metadata": {
  "kernelspec": {
   "display_name": "Environment (conda_bakuchi)",
   "language": "python",
   "name": "conda_bakuchi"
  },
  "language_info": {
   "codemirror_mode": {
    "name": "ipython",
    "version": 3
   },
   "file_extension": ".py",
   "mimetype": "text/x-python",
   "name": "python",
   "nbconvert_exporter": "python",
   "pygments_lexer": "ipython3",
   "version": "3.7.6"
  }
 },
 "nbformat": 4,
 "nbformat_minor": 4
}
