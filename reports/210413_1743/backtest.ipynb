{
 "cells": [
  {
   "cell_type": "markdown",
   "metadata": {},
   "source": [
    "# バックテスト検証ノート"
   ]
  },
  {
   "cell_type": "code",
   "execution_count": 1,
   "metadata": {
    "execution": {
     "iopub.execute_input": "2021-04-13T19:42:52.384061Z",
     "iopub.status.busy": "2021-04-13T19:42:52.383339Z",
     "iopub.status.idle": "2021-04-13T19:42:53.027376Z",
     "shell.execute_reply": "2021-04-13T19:42:53.027942Z"
    }
   },
   "outputs": [],
   "source": [
    "import os\n",
    "import numpy as np\n",
    "import pandas as pd\n",
    "import datetime\n",
    "import matplotlib.pyplot as plt"
   ]
  },
  {
   "cell_type": "code",
   "execution_count": 2,
   "metadata": {
    "execution": {
     "iopub.execute_input": "2021-04-13T19:42:53.031223Z",
     "iopub.status.busy": "2021-04-13T19:42:53.030630Z",
     "iopub.status.idle": "2021-04-13T19:42:53.034842Z",
     "shell.execute_reply": "2021-04-13T19:42:53.035368Z"
    }
   },
   "outputs": [],
   "source": [
    "current_dir = %pwd\n",
    "timestamp = os.path.basename(current_dir)"
   ]
  },
  {
   "cell_type": "code",
   "execution_count": 3,
   "metadata": {
    "execution": {
     "iopub.execute_input": "2021-04-13T19:42:53.040379Z",
     "iopub.status.busy": "2021-04-13T19:42:53.039608Z",
     "iopub.status.idle": "2021-04-13T19:42:53.048398Z",
     "shell.execute_reply": "2021-04-13T19:42:53.048962Z"
    }
   },
   "outputs": [
    {
     "name": "stdout",
     "output_type": "stream",
     "text": [
      "/home/ubuntu/repo/bakuchi\n"
     ]
    }
   ],
   "source": [
    "import sys\n",
    "sys.path.append('/home/tsu-nera/repo/bakuchi/')\n",
    "%cd '../../'"
   ]
  },
  {
   "cell_type": "code",
   "execution_count": 4,
   "metadata": {
    "execution": {
     "iopub.execute_input": "2021-04-13T19:42:53.052394Z",
     "iopub.status.busy": "2021-04-13T19:42:53.051640Z",
     "iopub.status.idle": "2021-04-13T19:42:53.097992Z",
     "shell.execute_reply": "2021-04-13T19:42:53.098497Z"
    }
   },
   "outputs": [],
   "source": [
    "from src.utils.backtesting import Backtesting, run_backtesting\n",
    "\n",
    "%reload_ext autoreload\n",
    "%autoreload 2"
   ]
  },
  {
   "cell_type": "code",
   "execution_count": 5,
   "metadata": {
    "execution": {
     "iopub.execute_input": "2021-04-13T19:42:53.102050Z",
     "iopub.status.busy": "2021-04-13T19:42:53.101406Z",
     "iopub.status.idle": "2021-04-13T19:42:53.193699Z",
     "shell.execute_reply": "2021-04-13T19:42:53.194278Z"
    }
   },
   "outputs": [],
   "source": [
    "bt = Backtesting(timestamp)"
   ]
  },
  {
   "cell_type": "code",
   "execution_count": 6,
   "metadata": {
    "execution": {
     "iopub.execute_input": "2021-04-13T19:42:53.198109Z",
     "iopub.status.busy": "2021-04-13T19:42:53.197457Z",
     "iopub.status.idle": "2021-04-13T19:42:53.216616Z",
     "shell.execute_reply": "2021-04-13T19:42:53.217248Z"
    }
   },
   "outputs": [],
   "source": [
    "df_ex1 = bt.get_coincheck_df()\n",
    "df_ex2 = bt.get_liquid_df()"
   ]
  },
  {
   "cell_type": "code",
   "execution_count": 7,
   "metadata": {
    "execution": {
     "iopub.execute_input": "2021-04-13T19:42:53.220325Z",
     "iopub.status.busy": "2021-04-13T19:42:53.219689Z",
     "iopub.status.idle": "2021-04-13T19:42:53.238005Z",
     "shell.execute_reply": "2021-04-13T19:42:53.238485Z"
    }
   },
   "outputs": [
    {
     "data": {
      "text/plain": [
       "(12859, 12859)"
      ]
     },
     "execution_count": 1,
     "metadata": {},
     "output_type": "execute_result"
    }
   ],
   "source": [
    "len(df_ex1), len(df_ex2)"
   ]
  },
  {
   "cell_type": "markdown",
   "metadata": {},
   "source": [
    "## テスト実行"
   ]
  },
  {
   "cell_type": "code",
   "execution_count": 8,
   "metadata": {
    "execution": {
     "iopub.execute_input": "2021-04-13T19:42:53.241607Z",
     "iopub.status.busy": "2021-04-13T19:42:53.240929Z",
     "iopub.status.idle": "2021-04-13T19:42:53.773580Z",
     "shell.execute_reply": "2021-04-13T19:42:53.774104Z"
    }
   },
   "outputs": [],
   "source": [
    "bt.run()"
   ]
  },
  {
   "cell_type": "markdown",
   "metadata": {},
   "source": [
    "##  取引履歴"
   ]
  },
  {
   "cell_type": "code",
   "execution_count": 9,
   "metadata": {
    "execution": {
     "iopub.execute_input": "2021-04-13T19:42:53.777714Z",
     "iopub.status.busy": "2021-04-13T19:42:53.777037Z",
     "iopub.status.idle": "2021-04-13T19:42:53.817365Z",
     "shell.execute_reply": "2021-04-13T19:42:53.816218Z"
    }
   },
   "outputs": [
    {
     "data": {
      "text/html": [
       "<div>\n",
       "<style scoped>\n",
       "    .dataframe tbody tr th:only-of-type {\n",
       "        vertical-align: middle;\n",
       "    }\n",
       "\n",
       "    .dataframe tbody tr th {\n",
       "        vertical-align: top;\n",
       "    }\n",
       "\n",
       "    .dataframe thead th {\n",
       "        text-align: right;\n",
       "    }\n",
       "</style>\n",
       "<table border=\"1\" class=\"dataframe\">\n",
       "  <thead>\n",
       "    <tr style=\"text-align: right;\">\n",
       "      <th></th>\n",
       "      <th>取引日時</th>\n",
       "      <th>購入取引所</th>\n",
       "      <th>売却取引所</th>\n",
       "      <th>通貨ペア</th>\n",
       "      <th>取引量</th>\n",
       "      <th>期待利益</th>\n",
       "    </tr>\n",
       "  </thead>\n",
       "  <tbody>\n",
       "    <tr>\n",
       "      <th>0</th>\n",
       "      <td>2021-04-13 17:43:47</td>\n",
       "      <td>liquid</td>\n",
       "      <td>bitbank</td>\n",
       "      <td>BTC/JPY</td>\n",
       "      <td>0.006</td>\n",
       "      <td>24</td>\n",
       "    </tr>\n",
       "    <tr>\n",
       "      <th>1</th>\n",
       "      <td>2021-04-13 17:43:53</td>\n",
       "      <td>bitbank</td>\n",
       "      <td>liquid</td>\n",
       "      <td>BTC/JPY</td>\n",
       "      <td>0.006</td>\n",
       "      <td>27</td>\n",
       "    </tr>\n",
       "    <tr>\n",
       "      <th>2</th>\n",
       "      <td>2021-04-13 17:44:12</td>\n",
       "      <td>bitbank</td>\n",
       "      <td>liquid</td>\n",
       "      <td>BTC/JPY</td>\n",
       "      <td>0.006</td>\n",
       "      <td>29</td>\n",
       "    </tr>\n",
       "    <tr>\n",
       "      <th>3</th>\n",
       "      <td>2021-04-13 17:45:29</td>\n",
       "      <td>liquid</td>\n",
       "      <td>bitbank</td>\n",
       "      <td>BTC/JPY</td>\n",
       "      <td>0.006</td>\n",
       "      <td>5</td>\n",
       "    </tr>\n",
       "    <tr>\n",
       "      <th>4</th>\n",
       "      <td>2021-04-13 17:46:16</td>\n",
       "      <td>bitbank</td>\n",
       "      <td>liquid</td>\n",
       "      <td>BTC/JPY</td>\n",
       "      <td>0.006</td>\n",
       "      <td>15</td>\n",
       "    </tr>\n",
       "    <tr>\n",
       "      <th>...</th>\n",
       "      <td>...</td>\n",
       "      <td>...</td>\n",
       "      <td>...</td>\n",
       "      <td>...</td>\n",
       "      <td>...</td>\n",
       "      <td>...</td>\n",
       "    </tr>\n",
       "    <tr>\n",
       "      <th>623</th>\n",
       "      <td>2021-04-14 04:38:44</td>\n",
       "      <td>liquid</td>\n",
       "      <td>bitbank</td>\n",
       "      <td>BTC/JPY</td>\n",
       "      <td>0.006</td>\n",
       "      <td>-96</td>\n",
       "    </tr>\n",
       "    <tr>\n",
       "      <th>624</th>\n",
       "      <td>2021-04-14 04:39:58</td>\n",
       "      <td>bitbank</td>\n",
       "      <td>liquid</td>\n",
       "      <td>BTC/JPY</td>\n",
       "      <td>0.006</td>\n",
       "      <td>104</td>\n",
       "    </tr>\n",
       "    <tr>\n",
       "      <th>625</th>\n",
       "      <td>2021-04-14 04:40:04</td>\n",
       "      <td>liquid</td>\n",
       "      <td>bitbank</td>\n",
       "      <td>BTC/JPY</td>\n",
       "      <td>0.006</td>\n",
       "      <td>-96</td>\n",
       "    </tr>\n",
       "    <tr>\n",
       "      <th>626</th>\n",
       "      <td>2021-04-14 04:40:22</td>\n",
       "      <td>bitbank</td>\n",
       "      <td>liquid</td>\n",
       "      <td>BTC/JPY</td>\n",
       "      <td>0.006</td>\n",
       "      <td>99</td>\n",
       "    </tr>\n",
       "    <tr>\n",
       "      <th>627</th>\n",
       "      <td>2021-04-14 04:41:57</td>\n",
       "      <td>liquid</td>\n",
       "      <td>bitbank</td>\n",
       "      <td>BTC/JPY</td>\n",
       "      <td>0.006</td>\n",
       "      <td>-92</td>\n",
       "    </tr>\n",
       "  </tbody>\n",
       "</table>\n",
       "<p>628 rows × 6 columns</p>\n",
       "</div>"
      ],
      "text/plain": [
       "                    取引日時    購入取引所    売却取引所     通貨ペア    取引量  期待利益\n",
       "0    2021-04-13 17:43:47   liquid  bitbank  BTC/JPY  0.006    24\n",
       "1    2021-04-13 17:43:53  bitbank   liquid  BTC/JPY  0.006    27\n",
       "2    2021-04-13 17:44:12  bitbank   liquid  BTC/JPY  0.006    29\n",
       "3    2021-04-13 17:45:29   liquid  bitbank  BTC/JPY  0.006     5\n",
       "4    2021-04-13 17:46:16  bitbank   liquid  BTC/JPY  0.006    15\n",
       "..                   ...      ...      ...      ...    ...   ...\n",
       "623  2021-04-14 04:38:44   liquid  bitbank  BTC/JPY  0.006   -96\n",
       "624  2021-04-14 04:39:58  bitbank   liquid  BTC/JPY  0.006   104\n",
       "625  2021-04-14 04:40:04   liquid  bitbank  BTC/JPY  0.006   -96\n",
       "626  2021-04-14 04:40:22  bitbank   liquid  BTC/JPY  0.006    99\n",
       "627  2021-04-14 04:41:57   liquid  bitbank  BTC/JPY  0.006   -92\n",
       "\n",
       "[628 rows x 6 columns]"
      ]
     },
     "execution_count": 1,
     "metadata": {},
     "output_type": "execute_result"
    }
   ],
   "source": [
    "arbitrage_histories = bt.get_arbitrage_histories()\n",
    "\n",
    "headers = [\"取引日時\", \"購入取引所\", \"売却取引所\", \"通貨ペア\", \"取引量\", \"期待利益\"]\n",
    "arbitrage_histories_df = pd.DataFrame(arbitrage_histories, columns=headers)\n",
    "arbitrage_histories_df"
   ]
  },
  {
   "cell_type": "code",
   "execution_count": 10,
   "metadata": {
    "execution": {
     "iopub.execute_input": "2021-04-13T19:42:53.827814Z",
     "iopub.status.busy": "2021-04-13T19:42:53.827136Z",
     "iopub.status.idle": "2021-04-13T19:42:53.851324Z",
     "shell.execute_reply": "2021-04-13T19:42:53.852157Z"
    }
   },
   "outputs": [
    {
     "data": {
      "text/html": [
       "<div>\n",
       "<style scoped>\n",
       "    .dataframe tbody tr th:only-of-type {\n",
       "        vertical-align: middle;\n",
       "    }\n",
       "\n",
       "    .dataframe tbody tr th {\n",
       "        vertical-align: top;\n",
       "    }\n",
       "\n",
       "    .dataframe thead th {\n",
       "        text-align: right;\n",
       "    }\n",
       "</style>\n",
       "<table border=\"1\" class=\"dataframe\">\n",
       "  <thead>\n",
       "    <tr style=\"text-align: right;\">\n",
       "      <th></th>\n",
       "      <th>取引日時</th>\n",
       "      <th>売買</th>\n",
       "      <th>取引所</th>\n",
       "      <th>レート</th>\n",
       "    </tr>\n",
       "  </thead>\n",
       "  <tbody>\n",
       "    <tr>\n",
       "      <th>0</th>\n",
       "      <td>2021-04-13 17:43:47</td>\n",
       "      <td>liquid</td>\n",
       "      <td>買い</td>\n",
       "      <td>6838834.0</td>\n",
       "    </tr>\n",
       "    <tr>\n",
       "      <th>1</th>\n",
       "      <td>2021-04-13 17:43:47</td>\n",
       "      <td>bitbank</td>\n",
       "      <td>売り</td>\n",
       "      <td>6842836.0</td>\n",
       "    </tr>\n",
       "    <tr>\n",
       "      <th>2</th>\n",
       "      <td>2021-04-13 17:43:53</td>\n",
       "      <td>bitbank</td>\n",
       "      <td>買い</td>\n",
       "      <td>6841379.0</td>\n",
       "    </tr>\n",
       "    <tr>\n",
       "      <th>3</th>\n",
       "      <td>2021-04-13 17:43:53</td>\n",
       "      <td>liquid</td>\n",
       "      <td>売り</td>\n",
       "      <td>6845994.0</td>\n",
       "    </tr>\n",
       "    <tr>\n",
       "      <th>4</th>\n",
       "      <td>2021-04-13 17:44:12</td>\n",
       "      <td>bitbank</td>\n",
       "      <td>買い</td>\n",
       "      <td>6840011.0</td>\n",
       "    </tr>\n",
       "    <tr>\n",
       "      <th>...</th>\n",
       "      <td>...</td>\n",
       "      <td>...</td>\n",
       "      <td>...</td>\n",
       "      <td>...</td>\n",
       "    </tr>\n",
       "    <tr>\n",
       "      <th>1251</th>\n",
       "      <td>2021-04-14 04:40:04</td>\n",
       "      <td>bitbank</td>\n",
       "      <td>売り</td>\n",
       "      <td>6843357.0</td>\n",
       "    </tr>\n",
       "    <tr>\n",
       "      <th>1252</th>\n",
       "      <td>2021-04-14 04:40:22</td>\n",
       "      <td>bitbank</td>\n",
       "      <td>買い</td>\n",
       "      <td>6843439.0</td>\n",
       "    </tr>\n",
       "    <tr>\n",
       "      <th>1253</th>\n",
       "      <td>2021-04-14 04:40:22</td>\n",
       "      <td>liquid</td>\n",
       "      <td>売り</td>\n",
       "      <td>6860009.0</td>\n",
       "    </tr>\n",
       "    <tr>\n",
       "      <th>1254</th>\n",
       "      <td>2021-04-14 04:41:57</td>\n",
       "      <td>liquid</td>\n",
       "      <td>買い</td>\n",
       "      <td>6860100.0</td>\n",
       "    </tr>\n",
       "    <tr>\n",
       "      <th>1255</th>\n",
       "      <td>2021-04-14 04:41:57</td>\n",
       "      <td>bitbank</td>\n",
       "      <td>売り</td>\n",
       "      <td>6844704.0</td>\n",
       "    </tr>\n",
       "  </tbody>\n",
       "</table>\n",
       "<p>1256 rows × 4 columns</p>\n",
       "</div>"
      ],
      "text/plain": [
       "                     取引日時       売買 取引所        レート\n",
       "0     2021-04-13 17:43:47   liquid  買い  6838834.0\n",
       "1     2021-04-13 17:43:47  bitbank  売り  6842836.0\n",
       "2     2021-04-13 17:43:53  bitbank  買い  6841379.0\n",
       "3     2021-04-13 17:43:53   liquid  売り  6845994.0\n",
       "4     2021-04-13 17:44:12  bitbank  買い  6840011.0\n",
       "...                   ...      ...  ..        ...\n",
       "1251  2021-04-14 04:40:04  bitbank  売り  6843357.0\n",
       "1252  2021-04-14 04:40:22  bitbank  買い  6843439.0\n",
       "1253  2021-04-14 04:40:22   liquid  売り  6860009.0\n",
       "1254  2021-04-14 04:41:57   liquid  買い  6860100.0\n",
       "1255  2021-04-14 04:41:57  bitbank  売り  6844704.0\n",
       "\n",
       "[1256 rows x 4 columns]"
      ]
     },
     "execution_count": 1,
     "metadata": {},
     "output_type": "execute_result"
    }
   ],
   "source": [
    "histories = bt.get_trade_histories()\n",
    "headers = [\"取引日時\",  \"売買\",  \"取引所\", \"レート\"]\n",
    "histories_df = pd.DataFrame(histories, columns=headers)\n",
    "histories_df"
   ]
  },
  {
   "cell_type": "markdown",
   "metadata": {},
   "source": [
    "## 結果まとめ"
   ]
  },
  {
   "cell_type": "code",
   "execution_count": 11,
   "metadata": {
    "execution": {
     "iopub.execute_input": "2021-04-13T19:42:53.856571Z",
     "iopub.status.busy": "2021-04-13T19:42:53.855768Z",
     "iopub.status.idle": "2021-04-13T19:42:53.874224Z",
     "shell.execute_reply": "2021-04-13T19:42:53.875147Z"
    }
   },
   "outputs": [
    {
     "name": "stdout",
     "output_type": "stream",
     "text": [
      "バックテスト情報\n",
      "-------------------  -------------------\n",
      "         レコード数                12859\n",
      "           取引回数                  628\n",
      "           開始日時  2021-04-13 17:43:35\n",
      "           終了日時  2021-04-14 04:42:07\n",
      "        取引時間[H]      0 days 10:58:32\n",
      "      取引単位[BTC]                0.006\n",
      "  利確しきい値[JPY]                14508\n",
      "損切りマージン[JPY]                 1000\n",
      "-------------------  -------------------\n",
      "\n",
      "バックテスト結果\n",
      "-----------  -------\n",
      "開始[JPY]      10000\n",
      "終了[JPY]      13216\n",
      "利益[JPY]       3216\n",
      "開始[BTC]      0.022\n",
      "終了[BTC]      0.022\n",
      "利益[BTC]          0\n",
      "開始[TOTAL]   160790\n",
      "終了[TOTAL]   164006\n",
      "利益[TOTAL]  3216.34\n",
      "-----------  -------\n"
     ]
    }
   ],
   "source": [
    "bt.display()"
   ]
  },
  {
   "cell_type": "markdown",
   "metadata": {},
   "source": [
    "## グラフ出力"
   ]
  },
  {
   "cell_type": "code",
   "execution_count": 12,
   "metadata": {
    "execution": {
     "iopub.execute_input": "2021-04-13T19:42:53.887331Z",
     "iopub.status.busy": "2021-04-13T19:42:53.886174Z",
     "iopub.status.idle": "2021-04-13T19:42:54.150196Z",
     "shell.execute_reply": "2021-04-13T19:42:54.151190Z"
    },
    "scrolled": true
   },
   "outputs": [
    {
     "data": {
      "text/plain": [
       "[<matplotlib.lines.Line2D at 0x7fca8d94e690>]"
      ]
     },
     "execution_count": 1,
     "metadata": {},
     "output_type": "execute_result"
    },
    {
     "data": {
      "image/png": "[encoded data removed]",
      "text/plain": [
       "<Figure size 864x288 with 1 Axes>"
      ]
     },
     "metadata": {
      "needs_background": "light"
     },
     "output_type": "display_data"
    }
   ],
   "source": [
    "plt.figure(figsize=(12,4))\n",
    "plt.plot(df_ex1.index, df_ex1['bid'])"
   ]
  },
  {
   "cell_type": "code",
   "execution_count": 13,
   "metadata": {
    "execution": {
     "iopub.execute_input": "2021-04-13T19:42:54.155070Z",
     "iopub.status.busy": "2021-04-13T19:42:54.154434Z",
     "iopub.status.idle": "2021-04-13T19:42:54.430984Z",
     "shell.execute_reply": "2021-04-13T19:42:54.431645Z"
    }
   },
   "outputs": [
    {
     "data": {
      "text/plain": [
       "[<matplotlib.lines.Line2D at 0x7fca8bf35950>]"
      ]
     },
     "execution_count": 1,
     "metadata": {},
     "output_type": "execute_result"
    },
    {
     "data": {
      "image/png": "[encoded data removed]",
      "text/plain": [
       "<Figure size 864x288 with 1 Axes>"
      ]
     },
     "metadata": {
      "needs_background": "light"
     },
     "output_type": "display_data"
    }
   ],
   "source": [
    "plt.figure(figsize=(12,4))\n",
    "plt.plot(df_ex2.index, df_ex2['bid'])"
   ]
  },
  {
   "cell_type": "markdown",
   "metadata": {},
   "source": [
    "## 分析"
   ]
  },
  {
   "cell_type": "markdown",
   "metadata": {},
   "source": [
    "### 時間別の取引回数と利益"
   ]
  },
  {
   "cell_type": "code",
   "execution_count": null,
   "metadata": {},
   "outputs": [],
   "source": []
  },
  {
   "cell_type": "markdown",
   "metadata": {},
   "source": [
    "### 時間別の価格差の推移"
   ]
  },
  {
   "cell_type": "code",
   "execution_count": 14,
   "metadata": {
    "execution": {
     "iopub.execute_input": "2021-04-13T19:42:54.435446Z",
     "iopub.status.busy": "2021-04-13T19:42:54.434774Z",
     "iopub.status.idle": "2021-04-13T19:42:54.477815Z",
     "shell.execute_reply": "2021-04-13T19:42:54.478367Z"
    }
   },
   "outputs": [],
   "source": [
    "profit_margin_df = pd.DataFrame({\n",
    "    \"timestamp\": pd.to_datetime(df_ex1.index),\n",
    "    \"buy_ex1_sell_ex2\": df_ex2.reset_index().bid - df_ex1.reset_index().ask,\n",
    "    \"buy_ex2_sell_ex1\": df_ex1.reset_index().bid - df_ex2.reset_index().ask,\n",
    "    'ex1_bid': df_ex1.reset_index().bid,\n",
    "     'ex2_ask': df_ex2.reset_index().ask,\n",
    "    'ex2_bid': df_ex2.reset_index().bid,\n",
    "    'ex1_ask': df_ex1.reset_index().ask,\n",
    "})\n",
    "\n",
    "profit_margin_df = profit_margin_df.set_index(\"timestamp\")"
   ]
  },
  {
   "cell_type": "code",
   "execution_count": 15,
   "metadata": {
    "execution": {
     "iopub.execute_input": "2021-04-13T19:42:54.481820Z",
     "iopub.status.busy": "2021-04-13T19:42:54.481073Z",
     "iopub.status.idle": "2021-04-13T19:42:54.527776Z",
     "shell.execute_reply": "2021-04-13T19:42:54.528647Z"
    }
   },
   "outputs": [
    {
     "data": {
      "text/html": [
       "<div>\n",
       "<style scoped>\n",
       "    .dataframe tbody tr th:only-of-type {\n",
       "        vertical-align: middle;\n",
       "    }\n",
       "\n",
       "    .dataframe tbody tr th {\n",
       "        vertical-align: top;\n",
       "    }\n",
       "\n",
       "    .dataframe thead th {\n",
       "        text-align: right;\n",
       "    }\n",
       "</style>\n",
       "<table border=\"1\" class=\"dataframe\">\n",
       "  <thead>\n",
       "    <tr style=\"text-align: right;\">\n",
       "      <th></th>\n",
       "      <th>buy_ex1_sell_ex2</th>\n",
       "      <th>buy_ex2_sell_ex1</th>\n",
       "      <th>ex1_bid</th>\n",
       "      <th>ex2_ask</th>\n",
       "      <th>ex2_bid</th>\n",
       "      <th>ex1_ask</th>\n",
       "    </tr>\n",
       "    <tr>\n",
       "      <th>timestamp</th>\n",
       "      <th></th>\n",
       "      <th></th>\n",
       "      <th></th>\n",
       "      <th></th>\n",
       "      <th></th>\n",
       "      <th></th>\n",
       "    </tr>\n",
       "  </thead>\n",
       "  <tbody>\n",
       "    <tr>\n",
       "      <th>2021-04-13 17:40:00</th>\n",
       "      <td>985</td>\n",
       "      <td>-3926</td>\n",
       "      <td>6834723</td>\n",
       "      <td>6838649</td>\n",
       "      <td>6836467</td>\n",
       "      <td>6835482</td>\n",
       "    </tr>\n",
       "    <tr>\n",
       "      <th>2021-04-13 17:50:00</th>\n",
       "      <td>3077</td>\n",
       "      <td>-5405</td>\n",
       "      <td>6850366</td>\n",
       "      <td>6855771</td>\n",
       "      <td>6853965</td>\n",
       "      <td>6850888</td>\n",
       "    </tr>\n",
       "    <tr>\n",
       "      <th>2021-04-13 18:00:00</th>\n",
       "      <td>3718</td>\n",
       "      <td>-5565</td>\n",
       "      <td>6848825</td>\n",
       "      <td>6854390</td>\n",
       "      <td>6852797</td>\n",
       "      <td>6849079</td>\n",
       "    </tr>\n",
       "    <tr>\n",
       "      <th>2021-04-13 18:10:00</th>\n",
       "      <td>2359</td>\n",
       "      <td>-4388</td>\n",
       "      <td>6851866</td>\n",
       "      <td>6856254</td>\n",
       "      <td>6854622</td>\n",
       "      <td>6852263</td>\n",
       "    </tr>\n",
       "    <tr>\n",
       "      <th>2021-04-13 18:20:00</th>\n",
       "      <td>5170</td>\n",
       "      <td>-6854</td>\n",
       "      <td>6836247</td>\n",
       "      <td>6843101</td>\n",
       "      <td>6841649</td>\n",
       "      <td>6836480</td>\n",
       "    </tr>\n",
       "    <tr>\n",
       "      <th>...</th>\n",
       "      <td>...</td>\n",
       "      <td>...</td>\n",
       "      <td>...</td>\n",
       "      <td>...</td>\n",
       "      <td>...</td>\n",
       "      <td>...</td>\n",
       "    </tr>\n",
       "    <tr>\n",
       "      <th>2021-04-14 04:00:00</th>\n",
       "      <td>26325</td>\n",
       "      <td>-27984</td>\n",
       "      <td>6834260</td>\n",
       "      <td>6862245</td>\n",
       "      <td>6860835</td>\n",
       "      <td>6834510</td>\n",
       "    </tr>\n",
       "    <tr>\n",
       "      <th>2021-04-14 04:10:00</th>\n",
       "      <td>23183</td>\n",
       "      <td>-24605</td>\n",
       "      <td>6838992</td>\n",
       "      <td>6863598</td>\n",
       "      <td>6862309</td>\n",
       "      <td>6839126</td>\n",
       "    </tr>\n",
       "    <tr>\n",
       "      <th>2021-04-14 04:20:00</th>\n",
       "      <td>16212</td>\n",
       "      <td>-17868</td>\n",
       "      <td>6841183</td>\n",
       "      <td>6859051</td>\n",
       "      <td>6857602</td>\n",
       "      <td>6841390</td>\n",
       "    </tr>\n",
       "    <tr>\n",
       "      <th>2021-04-14 04:30:00</th>\n",
       "      <td>16078</td>\n",
       "      <td>-17852</td>\n",
       "      <td>6833888</td>\n",
       "      <td>6851740</td>\n",
       "      <td>6850304</td>\n",
       "      <td>6834226</td>\n",
       "    </tr>\n",
       "    <tr>\n",
       "      <th>2021-04-14 04:40:00</th>\n",
       "      <td>15033</td>\n",
       "      <td>-16947</td>\n",
       "      <td>6842999</td>\n",
       "      <td>6859946</td>\n",
       "      <td>6858564</td>\n",
       "      <td>6843531</td>\n",
       "    </tr>\n",
       "  </tbody>\n",
       "</table>\n",
       "<p>67 rows × 6 columns</p>\n",
       "</div>"
      ],
      "text/plain": [
       "                     buy_ex1_sell_ex2  buy_ex2_sell_ex1  ex1_bid  ex2_ask  \\\n",
       "timestamp                                                                   \n",
       "2021-04-13 17:40:00               985             -3926  6834723  6838649   \n",
       "2021-04-13 17:50:00              3077             -5405  6850366  6855771   \n",
       "2021-04-13 18:00:00              3718             -5565  6848825  6854390   \n",
       "2021-04-13 18:10:00              2359             -4388  6851866  6856254   \n",
       "2021-04-13 18:20:00              5170             -6854  6836247  6843101   \n",
       "...                               ...               ...      ...      ...   \n",
       "2021-04-14 04:00:00             26325            -27984  6834260  6862245   \n",
       "2021-04-14 04:10:00             23183            -24605  6838992  6863598   \n",
       "2021-04-14 04:20:00             16212            -17868  6841183  6859051   \n",
       "2021-04-14 04:30:00             16078            -17852  6833888  6851740   \n",
       "2021-04-14 04:40:00             15033            -16947  6842999  6859946   \n",
       "\n",
       "                     ex2_bid  ex1_ask  \n",
       "timestamp                              \n",
       "2021-04-13 17:40:00  6836467  6835482  \n",
       "2021-04-13 17:50:00  6853965  6850888  \n",
       "2021-04-13 18:00:00  6852797  6849079  \n",
       "2021-04-13 18:10:00  6854622  6852263  \n",
       "2021-04-13 18:20:00  6841649  6836480  \n",
       "...                      ...      ...  \n",
       "2021-04-14 04:00:00  6860835  6834510  \n",
       "2021-04-14 04:10:00  6862309  6839126  \n",
       "2021-04-14 04:20:00  6857602  6841390  \n",
       "2021-04-14 04:30:00  6850304  6834226  \n",
       "2021-04-14 04:40:00  6858564  6843531  \n",
       "\n",
       "[67 rows x 6 columns]"
      ]
     },
     "execution_count": 1,
     "metadata": {},
     "output_type": "execute_result"
    }
   ],
   "source": [
    "pd.options.display.float_format = '{:.0f}'.format\n",
    "profit_margin_df.resample(rule='10Min').mean()"
   ]
  },
  {
   "cell_type": "code",
   "execution_count": null,
   "metadata": {},
   "outputs": [],
   "source": []
  }
 ],
 "metadata": {
  "kernelspec": {
   "display_name": "Environment (conda_bakuchi)",
   "language": "python",
   "name": "conda_bakuchi"
  },
  "language_info": {
   "codemirror_mode": {
    "name": "ipython",
    "version": 3
   },
   "file_extension": ".py",
   "mimetype": "text/x-python",
   "name": "python",
   "nbconvert_exporter": "python",
   "pygments_lexer": "ipython3",
   "version": "3.7.10"
  }
 },
 "nbformat": 4,
 "nbformat_minor": 4
}
