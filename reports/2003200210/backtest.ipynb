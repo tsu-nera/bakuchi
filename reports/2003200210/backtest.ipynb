{
 "cells": [
  {
   "cell_type": "markdown",
   "metadata": {},
   "source": [
    "# バックテスト検証ノート"
   ]
  },
  {
   "cell_type": "code",
   "execution_count": 1,
   "metadata": {},
   "outputs": [],
   "source": [
    "import os\n",
    "import numpy as np\n",
    "import pandas as pd\n",
    "import datetime\n",
    "import matplotlib.pyplot as plt"
   ]
  },
  {
   "cell_type": "code",
   "execution_count": 2,
   "metadata": {},
   "outputs": [],
   "source": [
    "current_dir = %pwd\n",
    "timestamp = os.path.basename(current_dir)"
   ]
  },
  {
   "cell_type": "code",
   "execution_count": 3,
   "metadata": {},
   "outputs": [
    {
     "name": "stdout",
     "output_type": "stream",
     "text": [
      "/home/tsu-nera/repo/bakuchi\n"
     ]
    }
   ],
   "source": [
    "import sys\n",
    "sys.path.append('/home/tsu-nera/repo/bakuchi/')\n",
    "%cd '../../'"
   ]
  },
  {
   "cell_type": "code",
   "execution_count": 4,
   "metadata": {},
   "outputs": [
    {
     "name": "stderr",
     "output_type": "stream",
     "text": [
      "File doesn't exist \n"
     ]
    }
   ],
   "source": [
    "from src.utils.backtesting import Backtesting, run_backtesting\n",
    "\n",
    "%reload_ext autoreload\n",
    "%autoreload 2"
   ]
  },
  {
   "cell_type": "code",
   "execution_count": 5,
   "metadata": {},
   "outputs": [],
   "source": [
    "bt = Backtesting(timestamp)"
   ]
  },
  {
   "cell_type": "code",
   "execution_count": 6,
   "metadata": {},
   "outputs": [],
   "source": [
    "df_cc = bt.get_coincheck_df()\n",
    "df_lq = bt.get_liquid_df()"
   ]
  },
  {
   "cell_type": "code",
   "execution_count": 7,
   "metadata": {},
   "outputs": [
    {
     "data": {
      "text/plain": [
       "(72520, 72520)"
      ]
     },
     "execution_count": 7,
     "metadata": {},
     "output_type": "execute_result"
    }
   ],
   "source": [
    "len(df_cc), len(df_lq)"
   ]
  },
  {
   "cell_type": "markdown",
   "metadata": {},
   "source": [
    "## テスト実行"
   ]
  },
  {
   "cell_type": "code",
   "execution_count": 8,
   "metadata": {},
   "outputs": [],
   "source": [
    "bt.run(amount=0.009, profit_margin_threshold=2000, profit_margin_diff=800)"
   ]
  },
  {
   "cell_type": "markdown",
   "metadata": {},
   "source": [
    "##  取引履歴"
   ]
  },
  {
   "cell_type": "code",
   "execution_count": 9,
   "metadata": {},
   "outputs": [
    {
     "data": {
      "text/html": [
       "<div>\n",
       "<style scoped>\n",
       "    .dataframe tbody tr th:only-of-type {\n",
       "        vertical-align: middle;\n",
       "    }\n",
       "\n",
       "    .dataframe tbody tr th {\n",
       "        vertical-align: top;\n",
       "    }\n",
       "\n",
       "    .dataframe thead th {\n",
       "        text-align: right;\n",
       "    }\n",
       "</style>\n",
       "<table border=\"1\" class=\"dataframe\">\n",
       "  <thead>\n",
       "    <tr style=\"text-align: right;\">\n",
       "      <th></th>\n",
       "      <th>取引日時</th>\n",
       "      <th>購入取引所</th>\n",
       "      <th>売却取引所</th>\n",
       "      <th>通貨ペア</th>\n",
       "      <th>取引量</th>\n",
       "      <th>期待利益</th>\n",
       "    </tr>\n",
       "  </thead>\n",
       "  <tbody>\n",
       "    <tr>\n",
       "      <th>0</th>\n",
       "      <td>2020-03-20 02:10:49</td>\n",
       "      <td>liquid</td>\n",
       "      <td>coincheck</td>\n",
       "      <td>BTC/JPY</td>\n",
       "      <td>0.009</td>\n",
       "      <td>18</td>\n",
       "    </tr>\n",
       "    <tr>\n",
       "      <th>1</th>\n",
       "      <td>2020-03-20 02:11:44</td>\n",
       "      <td>coincheck</td>\n",
       "      <td>liquid</td>\n",
       "      <td>BTC/JPY</td>\n",
       "      <td>0.009</td>\n",
       "      <td>-10</td>\n",
       "    </tr>\n",
       "    <tr>\n",
       "      <th>2</th>\n",
       "      <td>2020-03-20 02:11:48</td>\n",
       "      <td>liquid</td>\n",
       "      <td>coincheck</td>\n",
       "      <td>BTC/JPY</td>\n",
       "      <td>0.009</td>\n",
       "      <td>23</td>\n",
       "    </tr>\n",
       "    <tr>\n",
       "      <th>3</th>\n",
       "      <td>2020-03-20 02:12:14</td>\n",
       "      <td>coincheck</td>\n",
       "      <td>liquid</td>\n",
       "      <td>BTC/JPY</td>\n",
       "      <td>0.009</td>\n",
       "      <td>-14</td>\n",
       "    </tr>\n",
       "    <tr>\n",
       "      <th>4</th>\n",
       "      <td>2020-03-20 02:12:18</td>\n",
       "      <td>liquid</td>\n",
       "      <td>coincheck</td>\n",
       "      <td>BTC/JPY</td>\n",
       "      <td>0.009</td>\n",
       "      <td>22</td>\n",
       "    </tr>\n",
       "    <tr>\n",
       "      <th>...</th>\n",
       "      <td>...</td>\n",
       "      <td>...</td>\n",
       "      <td>...</td>\n",
       "      <td>...</td>\n",
       "      <td>...</td>\n",
       "      <td>...</td>\n",
       "    </tr>\n",
       "    <tr>\n",
       "      <th>472</th>\n",
       "      <td>2020-03-20 23:45:49</td>\n",
       "      <td>liquid</td>\n",
       "      <td>coincheck</td>\n",
       "      <td>BTC/JPY</td>\n",
       "      <td>0.009</td>\n",
       "      <td>9</td>\n",
       "    </tr>\n",
       "    <tr>\n",
       "      <th>473</th>\n",
       "      <td>2020-03-20 23:53:56</td>\n",
       "      <td>coincheck</td>\n",
       "      <td>liquid</td>\n",
       "      <td>BTC/JPY</td>\n",
       "      <td>0.009</td>\n",
       "      <td>2</td>\n",
       "    </tr>\n",
       "    <tr>\n",
       "      <th>474</th>\n",
       "      <td>2020-03-20 23:54:04</td>\n",
       "      <td>liquid</td>\n",
       "      <td>coincheck</td>\n",
       "      <td>BTC/JPY</td>\n",
       "      <td>0.009</td>\n",
       "      <td>10</td>\n",
       "    </tr>\n",
       "    <tr>\n",
       "      <th>475</th>\n",
       "      <td>2020-03-21 00:10:15</td>\n",
       "      <td>coincheck</td>\n",
       "      <td>liquid</td>\n",
       "      <td>BTC/JPY</td>\n",
       "      <td>0.009</td>\n",
       "      <td>-2</td>\n",
       "    </tr>\n",
       "    <tr>\n",
       "      <th>476</th>\n",
       "      <td>2020-03-21 00:10:21</td>\n",
       "      <td>liquid</td>\n",
       "      <td>coincheck</td>\n",
       "      <td>BTC/JPY</td>\n",
       "      <td>0.009</td>\n",
       "      <td>10</td>\n",
       "    </tr>\n",
       "  </tbody>\n",
       "</table>\n",
       "<p>477 rows × 6 columns</p>\n",
       "</div>"
      ],
      "text/plain": [
       "                    取引日時      購入取引所      売却取引所     通貨ペア    取引量  期待利益\n",
       "0    2020-03-20 02:10:49     liquid  coincheck  BTC/JPY  0.009    18\n",
       "1    2020-03-20 02:11:44  coincheck     liquid  BTC/JPY  0.009   -10\n",
       "2    2020-03-20 02:11:48     liquid  coincheck  BTC/JPY  0.009    23\n",
       "3    2020-03-20 02:12:14  coincheck     liquid  BTC/JPY  0.009   -14\n",
       "4    2020-03-20 02:12:18     liquid  coincheck  BTC/JPY  0.009    22\n",
       "..                   ...        ...        ...      ...    ...   ...\n",
       "472  2020-03-20 23:45:49     liquid  coincheck  BTC/JPY  0.009     9\n",
       "473  2020-03-20 23:53:56  coincheck     liquid  BTC/JPY  0.009     2\n",
       "474  2020-03-20 23:54:04     liquid  coincheck  BTC/JPY  0.009    10\n",
       "475  2020-03-21 00:10:15  coincheck     liquid  BTC/JPY  0.009    -2\n",
       "476  2020-03-21 00:10:21     liquid  coincheck  BTC/JPY  0.009    10\n",
       "\n",
       "[477 rows x 6 columns]"
      ]
     },
     "execution_count": 9,
     "metadata": {},
     "output_type": "execute_result"
    }
   ],
   "source": [
    "arbitrage_histories = bt.get_arbitrage_histories()\n",
    "\n",
    "headers = [\"取引日時\", \"購入取引所\", \"売却取引所\", \"通貨ペア\", \"取引量\", \"期待利益\"]\n",
    "arbitrage_histories_df = pd.DataFrame(arbitrage_histories, columns=headers)\n",
    "arbitrage_histories_df"
   ]
  },
  {
   "cell_type": "code",
   "execution_count": 10,
   "metadata": {},
   "outputs": [
    {
     "data": {
      "text/html": [
       "<div>\n",
       "<style scoped>\n",
       "    .dataframe tbody tr th:only-of-type {\n",
       "        vertical-align: middle;\n",
       "    }\n",
       "\n",
       "    .dataframe tbody tr th {\n",
       "        vertical-align: top;\n",
       "    }\n",
       "\n",
       "    .dataframe thead th {\n",
       "        text-align: right;\n",
       "    }\n",
       "</style>\n",
       "<table border=\"1\" class=\"dataframe\">\n",
       "  <thead>\n",
       "    <tr style=\"text-align: right;\">\n",
       "      <th></th>\n",
       "      <th>取引日時</th>\n",
       "      <th>売買</th>\n",
       "      <th>取引所</th>\n",
       "      <th>レート</th>\n",
       "    </tr>\n",
       "  </thead>\n",
       "  <tbody>\n",
       "    <tr>\n",
       "      <th>0</th>\n",
       "      <td>2020-03-20 02:10:49</td>\n",
       "      <td>買い</td>\n",
       "      <td>liquid</td>\n",
       "      <td>686919.0</td>\n",
       "    </tr>\n",
       "    <tr>\n",
       "      <th>1</th>\n",
       "      <td>2020-03-20 02:10:49</td>\n",
       "      <td>売り</td>\n",
       "      <td>coincheck</td>\n",
       "      <td>688935.0</td>\n",
       "    </tr>\n",
       "    <tr>\n",
       "      <th>2</th>\n",
       "      <td>2020-03-20 02:11:44</td>\n",
       "      <td>買い</td>\n",
       "      <td>coincheck</td>\n",
       "      <td>689394.0</td>\n",
       "    </tr>\n",
       "    <tr>\n",
       "      <th>3</th>\n",
       "      <td>2020-03-20 02:11:44</td>\n",
       "      <td>売り</td>\n",
       "      <td>liquid</td>\n",
       "      <td>688248.0</td>\n",
       "    </tr>\n",
       "    <tr>\n",
       "      <th>4</th>\n",
       "      <td>2020-03-20 02:11:48</td>\n",
       "      <td>買い</td>\n",
       "      <td>liquid</td>\n",
       "      <td>688493.0</td>\n",
       "    </tr>\n",
       "    <tr>\n",
       "      <th>...</th>\n",
       "      <td>...</td>\n",
       "      <td>...</td>\n",
       "      <td>...</td>\n",
       "      <td>...</td>\n",
       "    </tr>\n",
       "    <tr>\n",
       "      <th>949</th>\n",
       "      <td>2020-03-20 23:54:04</td>\n",
       "      <td>売り</td>\n",
       "      <td>coincheck</td>\n",
       "      <td>743900.0</td>\n",
       "    </tr>\n",
       "    <tr>\n",
       "      <th>950</th>\n",
       "      <td>2020-03-21 00:10:15</td>\n",
       "      <td>買い</td>\n",
       "      <td>coincheck</td>\n",
       "      <td>739615.0</td>\n",
       "    </tr>\n",
       "    <tr>\n",
       "      <th>951</th>\n",
       "      <td>2020-03-21 00:10:15</td>\n",
       "      <td>売り</td>\n",
       "      <td>liquid</td>\n",
       "      <td>739317.0</td>\n",
       "    </tr>\n",
       "    <tr>\n",
       "      <th>952</th>\n",
       "      <td>2020-03-21 00:10:21</td>\n",
       "      <td>買い</td>\n",
       "      <td>liquid</td>\n",
       "      <td>739691.0</td>\n",
       "    </tr>\n",
       "    <tr>\n",
       "      <th>953</th>\n",
       "      <td>2020-03-21 00:10:21</td>\n",
       "      <td>売り</td>\n",
       "      <td>coincheck</td>\n",
       "      <td>740852.0</td>\n",
       "    </tr>\n",
       "  </tbody>\n",
       "</table>\n",
       "<p>954 rows × 4 columns</p>\n",
       "</div>"
      ],
      "text/plain": [
       "                    取引日時  売買        取引所       レート\n",
       "0    2020-03-20 02:10:49  買い     liquid  686919.0\n",
       "1    2020-03-20 02:10:49  売り  coincheck  688935.0\n",
       "2    2020-03-20 02:11:44  買い  coincheck  689394.0\n",
       "3    2020-03-20 02:11:44  売り     liquid  688248.0\n",
       "4    2020-03-20 02:11:48  買い     liquid  688493.0\n",
       "..                   ...  ..        ...       ...\n",
       "949  2020-03-20 23:54:04  売り  coincheck  743900.0\n",
       "950  2020-03-21 00:10:15  買い  coincheck  739615.0\n",
       "951  2020-03-21 00:10:15  売り     liquid  739317.0\n",
       "952  2020-03-21 00:10:21  買い     liquid  739691.0\n",
       "953  2020-03-21 00:10:21  売り  coincheck  740852.0\n",
       "\n",
       "[954 rows x 4 columns]"
      ]
     },
     "execution_count": 10,
     "metadata": {},
     "output_type": "execute_result"
    }
   ],
   "source": [
    "histories = bt.get_trade_histories()\n",
    "headers = [\"取引日時\",  \"売買\",  \"取引所\", \"レート\"]\n",
    "histories_df = pd.DataFrame(histories, columns=headers)\n",
    "histories_df"
   ]
  },
  {
   "cell_type": "markdown",
   "metadata": {},
   "source": [
    "## 結果まとめ"
   ]
  },
  {
   "cell_type": "code",
   "execution_count": 11,
   "metadata": {},
   "outputs": [
    {
     "name": "stdout",
     "output_type": "stream",
     "text": [
      "バックテスト情報\n",
      "+---------------------+---------------------+\n",
      "|          レコード数 |               72520 |\n",
      "+---------------------+---------------------+\n",
      "|            取引回数 |                 477 |\n",
      "+---------------------+---------------------+\n",
      "|            開始日時 | 2020-03-20 02:10:49 |\n",
      "+---------------------+---------------------+\n",
      "|            終了日時 | 2020-03-21 00:10:21 |\n",
      "+---------------------+---------------------+\n",
      "|         取引時間[H] |     0 days 21:59:32 |\n",
      "+---------------------+---------------------+\n",
      "|       取引単位[BTC] |               0.009 |\n",
      "+---------------------+---------------------+\n",
      "|   利確しきい値[JPY] |                1000 |\n",
      "+---------------------+---------------------+\n",
      "| 損切りマージン[JPY] |                 800 |\n",
      "+---------------------+---------------------+\n",
      "\n",
      "バックテスト結果\n",
      "+-------------+---------+\n",
      "| 開始[JPY]   |   12000 |\n",
      "+-------------+---------+\n",
      "| 終了[JPY]   |   14336 |\n",
      "+-------------+---------+\n",
      "| 利益[JPY]   |    2336 |\n",
      "+-------------+---------+\n",
      "| 開始[BTC]   |   0.022 |\n",
      "+-------------+---------+\n",
      "| 終了[BTC]   |   0.022 |\n",
      "+-------------+---------+\n",
      "| 利益[BTC]   |       0 |\n",
      "+-------------+---------+\n",
      "| 開始[TOTAL] | 27712.6 |\n",
      "+-------------+---------+\n",
      "| 終了[TOTAL] | 30504.4 |\n",
      "+-------------+---------+\n",
      "| 利益[TOTAL] | 2791.84 |\n",
      "+-------------+---------+\n"
     ]
    }
   ],
   "source": [
    "bt.display()"
   ]
  },
  {
   "cell_type": "markdown",
   "metadata": {},
   "source": [
    "## グラフ出力"
   ]
  },
  {
   "cell_type": "code",
   "execution_count": 12,
   "metadata": {
    "scrolled": true
   },
   "outputs": [
    {
     "data": {
      "text/plain": [
       "[<matplotlib.lines.Line2D at 0x7f7eba6e9f10>]"
      ]
     },
     "execution_count": 12,
     "metadata": {},
     "output_type": "execute_result"
    },
    {
     "data": {
      "image/png": "[encoded data removed]",
      "text/plain": [
       "<Figure size 864x288 with 1 Axes>"
      ]
     },
     "metadata": {
      "needs_background": "light"
     },
     "output_type": "display_data"
    }
   ],
   "source": [
    "plt.figure(figsize=(12,4))\n",
    "plt.plot(df_cc.index, df_cc['bid'])"
   ]
  },
  {
   "cell_type": "code",
   "execution_count": 13,
   "metadata": {},
   "outputs": [
    {
     "data": {
      "text/plain": [
       "[<matplotlib.lines.Line2D at 0x7f7ebaedb110>]"
      ]
     },
     "execution_count": 13,
     "metadata": {},
     "output_type": "execute_result"
    },
    {
     "data": {
      "image/png": "[encoded data removed]",
      "text/plain": [
       "<Figure size 864x288 with 1 Axes>"
      ]
     },
     "metadata": {
      "needs_background": "light"
     },
     "output_type": "display_data"
    }
   ],
   "source": [
    "plt.figure(figsize=(12,4))\n",
    "plt.plot(df_lq.index, df_lq['bid'])"
   ]
  },
  {
   "cell_type": "markdown",
   "metadata": {},
   "source": [
    "## 分析"
   ]
  },
  {
   "cell_type": "markdown",
   "metadata": {},
   "source": [
    "### 時間別の取引回数と利益"
   ]
  },
  {
   "cell_type": "code",
   "execution_count": null,
   "metadata": {},
   "outputs": [],
   "source": []
  },
  {
   "cell_type": "markdown",
   "metadata": {},
   "source": [
    "### 時間別の価格差の推移"
   ]
  },
  {
   "cell_type": "code",
   "execution_count": 14,
   "metadata": {},
   "outputs": [],
   "source": [
    "profit_margin_df = pd.DataFrame({\n",
    "    \"timestamp\": pd.to_datetime(df_cc.index),\n",
    "    \"buy_coincheck_sell_liquid\": df_lq.reset_index().bid - df_cc.reset_index().ask,\n",
    "    \"buy_liquid_sell_coincheck\": df_cc.reset_index().bid - df_lq.reset_index().ask,\n",
    "    'coincheck_bid': df_cc.reset_index().bid,\n",
    "     'liquid_ask': df_lq.reset_index().ask,\n",
    "    'liquid_bid': df_lq.reset_index().bid,\n",
    "    'coincheck_ask': df_cc.reset_index().ask,\n",
    "})\n",
    "\n",
    "profit_margin_df = profit_margin_df.set_index(\"timestamp\")"
   ]
  },
  {
   "cell_type": "code",
   "execution_count": 15,
   "metadata": {},
   "outputs": [
    {
     "data": {
      "text/html": [
       "<div>\n",
       "<style scoped>\n",
       "    .dataframe tbody tr th:only-of-type {\n",
       "        vertical-align: middle;\n",
       "    }\n",
       "\n",
       "    .dataframe tbody tr th {\n",
       "        vertical-align: top;\n",
       "    }\n",
       "\n",
       "    .dataframe thead th {\n",
       "        text-align: right;\n",
       "    }\n",
       "</style>\n",
       "<table border=\"1\" class=\"dataframe\">\n",
       "  <thead>\n",
       "    <tr style=\"text-align: right;\">\n",
       "      <th></th>\n",
       "      <th>buy_coincheck_sell_liquid</th>\n",
       "      <th>buy_liquid_sell_coincheck</th>\n",
       "      <th>coincheck_bid</th>\n",
       "      <th>liquid_ask</th>\n",
       "      <th>liquid_bid</th>\n",
       "      <th>coincheck_ask</th>\n",
       "    </tr>\n",
       "    <tr>\n",
       "      <th>timestamp</th>\n",
       "      <th></th>\n",
       "      <th></th>\n",
       "      <th></th>\n",
       "      <th></th>\n",
       "      <th></th>\n",
       "      <th></th>\n",
       "    </tr>\n",
       "  </thead>\n",
       "  <tbody>\n",
       "    <tr>\n",
       "      <th>2020-03-20 02:10:00</th>\n",
       "      <td>-2965</td>\n",
       "      <td>2051</td>\n",
       "      <td>690768</td>\n",
       "      <td>688716</td>\n",
       "      <td>688469</td>\n",
       "      <td>691433</td>\n",
       "    </tr>\n",
       "    <tr>\n",
       "      <th>2020-03-20 02:20:00</th>\n",
       "      <td>-3061</td>\n",
       "      <td>2322</td>\n",
       "      <td>691317</td>\n",
       "      <td>688995</td>\n",
       "      <td>688750</td>\n",
       "      <td>691811</td>\n",
       "    </tr>\n",
       "    <tr>\n",
       "      <th>2020-03-20 02:30:00</th>\n",
       "      <td>-3042</td>\n",
       "      <td>2267</td>\n",
       "      <td>694418</td>\n",
       "      <td>692151</td>\n",
       "      <td>691897</td>\n",
       "      <td>694938</td>\n",
       "    </tr>\n",
       "    <tr>\n",
       "      <th>2020-03-20 02:40:00</th>\n",
       "      <td>-3062</td>\n",
       "      <td>2253</td>\n",
       "      <td>698132</td>\n",
       "      <td>695879</td>\n",
       "      <td>695585</td>\n",
       "      <td>698647</td>\n",
       "    </tr>\n",
       "    <tr>\n",
       "      <th>2020-03-20 02:50:00</th>\n",
       "      <td>-3853</td>\n",
       "      <td>2852</td>\n",
       "      <td>703050</td>\n",
       "      <td>700197</td>\n",
       "      <td>699883</td>\n",
       "      <td>703736</td>\n",
       "    </tr>\n",
       "    <tr>\n",
       "      <th>...</th>\n",
       "      <td>...</td>\n",
       "      <td>...</td>\n",
       "      <td>...</td>\n",
       "      <td>...</td>\n",
       "      <td>...</td>\n",
       "      <td>...</td>\n",
       "    </tr>\n",
       "    <tr>\n",
       "      <th>2020-03-20 23:30:00</th>\n",
       "      <td>-1400</td>\n",
       "      <td>584</td>\n",
       "      <td>739250</td>\n",
       "      <td>738665</td>\n",
       "      <td>738367</td>\n",
       "      <td>739768</td>\n",
       "    </tr>\n",
       "    <tr>\n",
       "      <th>2020-03-20 23:40:00</th>\n",
       "      <td>-1330</td>\n",
       "      <td>519</td>\n",
       "      <td>736434</td>\n",
       "      <td>735914</td>\n",
       "      <td>735619</td>\n",
       "      <td>736949</td>\n",
       "    </tr>\n",
       "    <tr>\n",
       "      <th>2020-03-20 23:50:00</th>\n",
       "      <td>-1469</td>\n",
       "      <td>737</td>\n",
       "      <td>739745</td>\n",
       "      <td>739008</td>\n",
       "      <td>738756</td>\n",
       "      <td>740225</td>\n",
       "    </tr>\n",
       "    <tr>\n",
       "      <th>2020-03-21 00:00:00</th>\n",
       "      <td>-1524</td>\n",
       "      <td>723</td>\n",
       "      <td>737019</td>\n",
       "      <td>736297</td>\n",
       "      <td>736041</td>\n",
       "      <td>737565</td>\n",
       "    </tr>\n",
       "    <tr>\n",
       "      <th>2020-03-21 00:10:00</th>\n",
       "      <td>-972</td>\n",
       "      <td>425</td>\n",
       "      <td>739392</td>\n",
       "      <td>738967</td>\n",
       "      <td>738706</td>\n",
       "      <td>739678</td>\n",
       "    </tr>\n",
       "  </tbody>\n",
       "</table>\n",
       "<p>133 rows × 6 columns</p>\n",
       "</div>"
      ],
      "text/plain": [
       "                     buy_coincheck_sell_liquid  buy_liquid_sell_coincheck  \\\n",
       "timestamp                                                                   \n",
       "2020-03-20 02:10:00                      -2965                       2051   \n",
       "2020-03-20 02:20:00                      -3061                       2322   \n",
       "2020-03-20 02:30:00                      -3042                       2267   \n",
       "2020-03-20 02:40:00                      -3062                       2253   \n",
       "2020-03-20 02:50:00                      -3853                       2852   \n",
       "...                                        ...                        ...   \n",
       "2020-03-20 23:30:00                      -1400                        584   \n",
       "2020-03-20 23:40:00                      -1330                        519   \n",
       "2020-03-20 23:50:00                      -1469                        737   \n",
       "2020-03-21 00:00:00                      -1524                        723   \n",
       "2020-03-21 00:10:00                       -972                        425   \n",
       "\n",
       "                     coincheck_bid  liquid_ask  liquid_bid  coincheck_ask  \n",
       "timestamp                                                                  \n",
       "2020-03-20 02:10:00         690768      688716      688469         691433  \n",
       "2020-03-20 02:20:00         691317      688995      688750         691811  \n",
       "2020-03-20 02:30:00         694418      692151      691897         694938  \n",
       "2020-03-20 02:40:00         698132      695879      695585         698647  \n",
       "2020-03-20 02:50:00         703050      700197      699883         703736  \n",
       "...                            ...         ...         ...            ...  \n",
       "2020-03-20 23:30:00         739250      738665      738367         739768  \n",
       "2020-03-20 23:40:00         736434      735914      735619         736949  \n",
       "2020-03-20 23:50:00         739745      739008      738756         740225  \n",
       "2020-03-21 00:00:00         737019      736297      736041         737565  \n",
       "2020-03-21 00:10:00         739392      738967      738706         739678  \n",
       "\n",
       "[133 rows x 6 columns]"
      ]
     },
     "execution_count": 15,
     "metadata": {},
     "output_type": "execute_result"
    }
   ],
   "source": [
    "pd.options.display.float_format = '{:.0f}'.format\n",
    "profit_margin_df.resample(rule='10Min').mean()"
   ]
  },
  {
   "cell_type": "code",
   "execution_count": null,
   "metadata": {},
   "outputs": [],
   "source": []
  }
 ],
 "metadata": {
  "kernelspec": {
   "display_name": "Environment (conda_bakuchi)",
   "language": "python",
   "name": "conda_bakuchi"
  },
  "language_info": {
   "codemirror_mode": {
    "name": "ipython",
    "version": 3
   },
   "file_extension": ".py",
   "mimetype": "text/x-python",
   "name": "python",
   "nbconvert_exporter": "python",
   "pygments_lexer": "ipython3",
   "version": "3.7.6"
  }
 },
 "nbformat": 4,
 "nbformat_minor": 4
}
