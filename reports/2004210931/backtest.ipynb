{
 "cells": [
  {
   "cell_type": "markdown",
   "metadata": {},
   "source": [
    "# バックテスト検証ノート"
   ]
  },
  {
   "cell_type": "code",
   "execution_count": 1,
   "metadata": {},
   "outputs": [],
   "source": [
    "import os\n",
    "import numpy as np\n",
    "import pandas as pd\n",
    "import datetime\n",
    "import matplotlib.pyplot as plt"
   ]
  },
  {
   "cell_type": "code",
   "execution_count": 2,
   "metadata": {},
   "outputs": [],
   "source": [
    "current_dir = %pwd\n",
    "timestamp = os.path.basename(current_dir)"
   ]
  },
  {
   "cell_type": "code",
   "execution_count": 3,
   "metadata": {},
   "outputs": [
    {
     "name": "stdout",
     "output_type": "stream",
     "text": [
      "/home/tsu-nera/repo/bakuchi\n"
     ]
    }
   ],
   "source": [
    "import sys\n",
    "sys.path.append('/home/tsu-nera/repo/bakuchi/')\n",
    "%cd '../../'"
   ]
  },
  {
   "cell_type": "code",
   "execution_count": 4,
   "metadata": {},
   "outputs": [
    {
     "name": "stderr",
     "output_type": "stream",
     "text": [
      "File doesn't exist \n"
     ]
    }
   ],
   "source": [
    "from src.utils.backtesting import Backtesting, run_backtesting\n",
    "\n",
    "%reload_ext autoreload\n",
    "%autoreload 2"
   ]
  },
  {
   "cell_type": "code",
   "execution_count": 5,
   "metadata": {},
   "outputs": [],
   "source": [
    "bt = Backtesting(timestamp)"
   ]
  },
  {
   "cell_type": "code",
   "execution_count": 6,
   "metadata": {},
   "outputs": [],
   "source": [
    "df_cc = bt.get_coincheck_df()\n",
    "df_lq = bt.get_liquid_df()"
   ]
  },
  {
   "cell_type": "code",
   "execution_count": 7,
   "metadata": {},
   "outputs": [
    {
     "data": {
      "text/plain": [
       "(37741, 37741)"
      ]
     },
     "execution_count": 7,
     "metadata": {},
     "output_type": "execute_result"
    }
   ],
   "source": [
    "len(df_cc), len(df_lq)"
   ]
  },
  {
   "cell_type": "markdown",
   "metadata": {},
   "source": [
    "## テスト実行"
   ]
  },
  {
   "cell_type": "code",
   "execution_count": 8,
   "metadata": {},
   "outputs": [],
   "source": [
    "bt.run(amount=0.009, profit_margin_threshold=2000, profit_margin_diff=800)"
   ]
  },
  {
   "cell_type": "markdown",
   "metadata": {},
   "source": [
    "##  取引履歴"
   ]
  },
  {
   "cell_type": "code",
   "execution_count": 9,
   "metadata": {},
   "outputs": [
    {
     "data": {
      "text/html": [
       "<div>\n",
       "<style scoped>\n",
       "    .dataframe tbody tr th:only-of-type {\n",
       "        vertical-align: middle;\n",
       "    }\n",
       "\n",
       "    .dataframe tbody tr th {\n",
       "        vertical-align: top;\n",
       "    }\n",
       "\n",
       "    .dataframe thead th {\n",
       "        text-align: right;\n",
       "    }\n",
       "</style>\n",
       "<table border=\"1\" class=\"dataframe\">\n",
       "  <thead>\n",
       "    <tr style=\"text-align: right;\">\n",
       "      <th></th>\n",
       "      <th>取引日時</th>\n",
       "      <th>購入取引所</th>\n",
       "      <th>売却取引所</th>\n",
       "      <th>通貨ペア</th>\n",
       "      <th>取引量</th>\n",
       "      <th>期待利益</th>\n",
       "    </tr>\n",
       "  </thead>\n",
       "  <tbody>\n",
       "    <tr>\n",
       "      <th>0</th>\n",
       "      <td>2020-04-21 09:39:05</td>\n",
       "      <td>ExchangeId.LIQUID</td>\n",
       "      <td>ExchangeId.COINCHECK</td>\n",
       "      <td>BTC/JPY</td>\n",
       "      <td>0.009</td>\n",
       "      <td>9</td>\n",
       "    </tr>\n",
       "    <tr>\n",
       "      <th>1</th>\n",
       "      <td>2020-04-21 09:39:09</td>\n",
       "      <td>ExchangeId.COINCHECK</td>\n",
       "      <td>ExchangeId.LIQUID</td>\n",
       "      <td>BTC/JPY</td>\n",
       "      <td>0.009</td>\n",
       "      <td>0</td>\n",
       "    </tr>\n",
       "    <tr>\n",
       "      <th>2</th>\n",
       "      <td>2020-04-21 10:41:42</td>\n",
       "      <td>ExchangeId.LIQUID</td>\n",
       "      <td>ExchangeId.COINCHECK</td>\n",
       "      <td>BTC/JPY</td>\n",
       "      <td>0.009</td>\n",
       "      <td>9</td>\n",
       "    </tr>\n",
       "    <tr>\n",
       "      <th>3</th>\n",
       "      <td>2020-04-21 10:47:58</td>\n",
       "      <td>ExchangeId.COINCHECK</td>\n",
       "      <td>ExchangeId.LIQUID</td>\n",
       "      <td>BTC/JPY</td>\n",
       "      <td>0.009</td>\n",
       "      <td>-2</td>\n",
       "    </tr>\n",
       "    <tr>\n",
       "      <th>4</th>\n",
       "      <td>2020-04-21 12:16:51</td>\n",
       "      <td>ExchangeId.LIQUID</td>\n",
       "      <td>ExchangeId.COINCHECK</td>\n",
       "      <td>BTC/JPY</td>\n",
       "      <td>0.009</td>\n",
       "      <td>9</td>\n",
       "    </tr>\n",
       "    <tr>\n",
       "      <th>...</th>\n",
       "      <td>...</td>\n",
       "      <td>...</td>\n",
       "      <td>...</td>\n",
       "      <td>...</td>\n",
       "      <td>...</td>\n",
       "      <td>...</td>\n",
       "    </tr>\n",
       "    <tr>\n",
       "      <th>56</th>\n",
       "      <td>2020-04-21 21:04:53</td>\n",
       "      <td>ExchangeId.LIQUID</td>\n",
       "      <td>ExchangeId.COINCHECK</td>\n",
       "      <td>BTC/JPY</td>\n",
       "      <td>0.009</td>\n",
       "      <td>52</td>\n",
       "    </tr>\n",
       "    <tr>\n",
       "      <th>57</th>\n",
       "      <td>2020-04-21 21:10:19</td>\n",
       "      <td>ExchangeId.COINCHECK</td>\n",
       "      <td>ExchangeId.LIQUID</td>\n",
       "      <td>BTC/JPY</td>\n",
       "      <td>0.009</td>\n",
       "      <td>-45</td>\n",
       "    </tr>\n",
       "    <tr>\n",
       "      <th>58</th>\n",
       "      <td>2020-04-21 21:12:26</td>\n",
       "      <td>ExchangeId.LIQUID</td>\n",
       "      <td>ExchangeId.COINCHECK</td>\n",
       "      <td>BTC/JPY</td>\n",
       "      <td>0.009</td>\n",
       "      <td>49</td>\n",
       "    </tr>\n",
       "    <tr>\n",
       "      <th>59</th>\n",
       "      <td>2020-04-21 21:22:17</td>\n",
       "      <td>ExchangeId.COINCHECK</td>\n",
       "      <td>ExchangeId.LIQUID</td>\n",
       "      <td>BTC/JPY</td>\n",
       "      <td>0.009</td>\n",
       "      <td>-46</td>\n",
       "    </tr>\n",
       "    <tr>\n",
       "      <th>60</th>\n",
       "      <td>2020-04-21 21:28:16</td>\n",
       "      <td>ExchangeId.LIQUID</td>\n",
       "      <td>ExchangeId.COINCHECK</td>\n",
       "      <td>BTC/JPY</td>\n",
       "      <td>0.009</td>\n",
       "      <td>38</td>\n",
       "    </tr>\n",
       "  </tbody>\n",
       "</table>\n",
       "<p>61 rows × 6 columns</p>\n",
       "</div>"
      ],
      "text/plain": [
       "                   取引日時                 購入取引所                 売却取引所     通貨ペア  \\\n",
       "0   2020-04-21 09:39:05     ExchangeId.LIQUID  ExchangeId.COINCHECK  BTC/JPY   \n",
       "1   2020-04-21 09:39:09  ExchangeId.COINCHECK     ExchangeId.LIQUID  BTC/JPY   \n",
       "2   2020-04-21 10:41:42     ExchangeId.LIQUID  ExchangeId.COINCHECK  BTC/JPY   \n",
       "3   2020-04-21 10:47:58  ExchangeId.COINCHECK     ExchangeId.LIQUID  BTC/JPY   \n",
       "4   2020-04-21 12:16:51     ExchangeId.LIQUID  ExchangeId.COINCHECK  BTC/JPY   \n",
       "..                  ...                   ...                   ...      ...   \n",
       "56  2020-04-21 21:04:53     ExchangeId.LIQUID  ExchangeId.COINCHECK  BTC/JPY   \n",
       "57  2020-04-21 21:10:19  ExchangeId.COINCHECK     ExchangeId.LIQUID  BTC/JPY   \n",
       "58  2020-04-21 21:12:26     ExchangeId.LIQUID  ExchangeId.COINCHECK  BTC/JPY   \n",
       "59  2020-04-21 21:22:17  ExchangeId.COINCHECK     ExchangeId.LIQUID  BTC/JPY   \n",
       "60  2020-04-21 21:28:16     ExchangeId.LIQUID  ExchangeId.COINCHECK  BTC/JPY   \n",
       "\n",
       "      取引量  期待利益  \n",
       "0   0.009     9  \n",
       "1   0.009     0  \n",
       "2   0.009     9  \n",
       "3   0.009    -2  \n",
       "4   0.009     9  \n",
       "..    ...   ...  \n",
       "56  0.009    52  \n",
       "57  0.009   -45  \n",
       "58  0.009    49  \n",
       "59  0.009   -46  \n",
       "60  0.009    38  \n",
       "\n",
       "[61 rows x 6 columns]"
      ]
     },
     "execution_count": 9,
     "metadata": {},
     "output_type": "execute_result"
    }
   ],
   "source": [
    "arbitrage_histories = bt.get_arbitrage_histories()\n",
    "\n",
    "headers = [\"取引日時\", \"購入取引所\", \"売却取引所\", \"通貨ペア\", \"取引量\", \"期待利益\"]\n",
    "arbitrage_histories_df = pd.DataFrame(arbitrage_histories, columns=headers)\n",
    "arbitrage_histories_df"
   ]
  },
  {
   "cell_type": "code",
   "execution_count": 10,
   "metadata": {},
   "outputs": [
    {
     "data": {
      "text/html": [
       "<div>\n",
       "<style scoped>\n",
       "    .dataframe tbody tr th:only-of-type {\n",
       "        vertical-align: middle;\n",
       "    }\n",
       "\n",
       "    .dataframe tbody tr th {\n",
       "        vertical-align: top;\n",
       "    }\n",
       "\n",
       "    .dataframe thead th {\n",
       "        text-align: right;\n",
       "    }\n",
       "</style>\n",
       "<table border=\"1\" class=\"dataframe\">\n",
       "  <thead>\n",
       "    <tr style=\"text-align: right;\">\n",
       "      <th></th>\n",
       "      <th>取引日時</th>\n",
       "      <th>売買</th>\n",
       "      <th>取引所</th>\n",
       "      <th>レート</th>\n",
       "    </tr>\n",
       "  </thead>\n",
       "  <tbody>\n",
       "    <tr>\n",
       "      <th>0</th>\n",
       "      <td>2020-04-21 09:39:05</td>\n",
       "      <td>買い</td>\n",
       "      <td>ExchangeId.LIQUID</td>\n",
       "      <td>746225</td>\n",
       "    </tr>\n",
       "    <tr>\n",
       "      <th>1</th>\n",
       "      <td>2020-04-21 09:39:05</td>\n",
       "      <td>売り</td>\n",
       "      <td>ExchangeId.COINCHECK</td>\n",
       "      <td>747245</td>\n",
       "    </tr>\n",
       "    <tr>\n",
       "      <th>2</th>\n",
       "      <td>2020-04-21 09:39:09</td>\n",
       "      <td>買い</td>\n",
       "      <td>ExchangeId.COINCHECK</td>\n",
       "      <td>747295</td>\n",
       "    </tr>\n",
       "    <tr>\n",
       "      <th>3</th>\n",
       "      <td>2020-04-21 09:39:09</td>\n",
       "      <td>売り</td>\n",
       "      <td>ExchangeId.LIQUID</td>\n",
       "      <td>747242</td>\n",
       "    </tr>\n",
       "    <tr>\n",
       "      <th>4</th>\n",
       "      <td>2020-04-21 10:41:42</td>\n",
       "      <td>買い</td>\n",
       "      <td>ExchangeId.LIQUID</td>\n",
       "      <td>744109</td>\n",
       "    </tr>\n",
       "    <tr>\n",
       "      <th>...</th>\n",
       "      <td>...</td>\n",
       "      <td>...</td>\n",
       "      <td>...</td>\n",
       "      <td>...</td>\n",
       "    </tr>\n",
       "    <tr>\n",
       "      <th>117</th>\n",
       "      <td>2020-04-21 21:12:26</td>\n",
       "      <td>売り</td>\n",
       "      <td>ExchangeId.COINCHECK</td>\n",
       "      <td>742500</td>\n",
       "    </tr>\n",
       "    <tr>\n",
       "      <th>118</th>\n",
       "      <td>2020-04-21 21:22:17</td>\n",
       "      <td>買い</td>\n",
       "      <td>ExchangeId.COINCHECK</td>\n",
       "      <td>742520</td>\n",
       "    </tr>\n",
       "    <tr>\n",
       "      <th>119</th>\n",
       "      <td>2020-04-21 21:22:17</td>\n",
       "      <td>売り</td>\n",
       "      <td>ExchangeId.LIQUID</td>\n",
       "      <td>737329</td>\n",
       "    </tr>\n",
       "    <tr>\n",
       "      <th>120</th>\n",
       "      <td>2020-04-21 21:28:16</td>\n",
       "      <td>買い</td>\n",
       "      <td>ExchangeId.LIQUID</td>\n",
       "      <td>738275</td>\n",
       "    </tr>\n",
       "    <tr>\n",
       "      <th>121</th>\n",
       "      <td>2020-04-21 21:28:16</td>\n",
       "      <td>売り</td>\n",
       "      <td>ExchangeId.COINCHECK</td>\n",
       "      <td>742500</td>\n",
       "    </tr>\n",
       "  </tbody>\n",
       "</table>\n",
       "<p>122 rows × 4 columns</p>\n",
       "</div>"
      ],
      "text/plain": [
       "                    取引日時  売買                   取引所     レート\n",
       "0    2020-04-21 09:39:05  買い     ExchangeId.LIQUID  746225\n",
       "1    2020-04-21 09:39:05  売り  ExchangeId.COINCHECK  747245\n",
       "2    2020-04-21 09:39:09  買い  ExchangeId.COINCHECK  747295\n",
       "3    2020-04-21 09:39:09  売り     ExchangeId.LIQUID  747242\n",
       "4    2020-04-21 10:41:42  買い     ExchangeId.LIQUID  744109\n",
       "..                   ...  ..                   ...     ...\n",
       "117  2020-04-21 21:12:26  売り  ExchangeId.COINCHECK  742500\n",
       "118  2020-04-21 21:22:17  買い  ExchangeId.COINCHECK  742520\n",
       "119  2020-04-21 21:22:17  売り     ExchangeId.LIQUID  737329\n",
       "120  2020-04-21 21:28:16  買い     ExchangeId.LIQUID  738275\n",
       "121  2020-04-21 21:28:16  売り  ExchangeId.COINCHECK  742500\n",
       "\n",
       "[122 rows x 4 columns]"
      ]
     },
     "execution_count": 10,
     "metadata": {},
     "output_type": "execute_result"
    }
   ],
   "source": [
    "histories = bt.get_trade_histories()\n",
    "headers = [\"取引日時\",  \"売買\",  \"取引所\", \"レート\"]\n",
    "histories_df = pd.DataFrame(histories, columns=headers)\n",
    "histories_df"
   ]
  },
  {
   "cell_type": "markdown",
   "metadata": {},
   "source": [
    "## 結果まとめ"
   ]
  },
  {
   "cell_type": "code",
   "execution_count": 11,
   "metadata": {},
   "outputs": [
    {
     "name": "stdout",
     "output_type": "stream",
     "text": [
      "バックテスト情報\n",
      "-------------------  -------------------\n",
      "         レコード数                37741\n",
      "           取引回数                   61\n",
      "           開始日時  2020-04-21 09:31:45\n",
      "           終了日時  2020-04-21 21:59:15\n",
      "        取引時間[H]      0 days 12:27:30\n",
      "      取引単位[BTC]                0.009\n",
      "  利確しきい値[JPY]                 6042\n",
      "損切りマージン[JPY]                  800\n",
      "-------------------  -------------------\n",
      "\n",
      "バックテスト結果\n",
      "+-------------+---------+\n",
      "| 開始[JPY]   |   10000 |\n",
      "+-------------+---------+\n",
      "| 終了[JPY]   |   10053 |\n",
      "+-------------+---------+\n",
      "| 利益[JPY]   |      53 |\n",
      "+-------------+---------+\n",
      "| 開始[BTC]   |   0.022 |\n",
      "+-------------+---------+\n",
      "| 終了[BTC]   |   0.022 |\n",
      "+-------------+---------+\n",
      "| 利益[BTC]   |       0 |\n",
      "+-------------+---------+\n",
      "| 開始[TOTAL] | 26272.5 |\n",
      "+-------------+---------+\n",
      "| 終了[TOTAL] | 26254.2 |\n",
      "+-------------+---------+\n",
      "| 利益[TOTAL] | -18.279 |\n",
      "+-------------+---------+\n"
     ]
    }
   ],
   "source": [
    "bt.display()"
   ]
  },
  {
   "cell_type": "markdown",
   "metadata": {},
   "source": [
    "## グラフ出力"
   ]
  },
  {
   "cell_type": "code",
   "execution_count": 12,
   "metadata": {
    "scrolled": true
   },
   "outputs": [
    {
     "data": {
      "text/plain": [
       "[<matplotlib.lines.Line2D at 0x7fc6dacfe650>]"
      ]
     },
     "execution_count": 12,
     "metadata": {},
     "output_type": "execute_result"
    },
    {
     "data": {
      "image/png": "[encoded data removed]",
      "text/plain": [
       "<Figure size 864x288 with 1 Axes>"
      ]
     },
     "metadata": {
      "needs_background": "light"
     },
     "output_type": "display_data"
    }
   ],
   "source": [
    "plt.figure(figsize=(12,4))\n",
    "plt.plot(df_cc.index, df_cc['bid'])"
   ]
  },
  {
   "cell_type": "code",
   "execution_count": 13,
   "metadata": {},
   "outputs": [
    {
     "data": {
      "text/plain": [
       "[<matplotlib.lines.Line2D at 0x7fc6b14439d0>]"
      ]
     },
     "execution_count": 13,
     "metadata": {},
     "output_type": "execute_result"
    },
    {
     "data": {
      "image/png": "[encoded data removed]",
      "text/plain": [
       "<Figure size 864x288 with 1 Axes>"
      ]
     },
     "metadata": {
      "needs_background": "light"
     },
     "output_type": "display_data"
    }
   ],
   "source": [
    "plt.figure(figsize=(12,4))\n",
    "plt.plot(df_lq.index, df_lq['bid'])"
   ]
  },
  {
   "cell_type": "markdown",
   "metadata": {},
   "source": [
    "## 分析"
   ]
  },
  {
   "cell_type": "markdown",
   "metadata": {},
   "source": [
    "### 時間別の取引回数と利益"
   ]
  },
  {
   "cell_type": "code",
   "execution_count": null,
   "metadata": {},
   "outputs": [],
   "source": []
  },
  {
   "cell_type": "markdown",
   "metadata": {},
   "source": [
    "### 時間別の価格差の推移"
   ]
  },
  {
   "cell_type": "code",
   "execution_count": 14,
   "metadata": {},
   "outputs": [],
   "source": [
    "profit_margin_df = pd.DataFrame({\n",
    "    \"timestamp\": pd.to_datetime(df_cc.index),\n",
    "    \"buy_coincheck_sell_liquid\": df_lq.reset_index().bid - df_cc.reset_index().ask,\n",
    "    \"buy_liquid_sell_coincheck\": df_cc.reset_index().bid - df_lq.reset_index().ask,\n",
    "    'coincheck_bid': df_cc.reset_index().bid,\n",
    "     'liquid_ask': df_lq.reset_index().ask,\n",
    "    'liquid_bid': df_lq.reset_index().bid,\n",
    "    'coincheck_ask': df_cc.reset_index().ask,\n",
    "})\n",
    "\n",
    "profit_margin_df = profit_margin_df.set_index(\"timestamp\")"
   ]
  },
  {
   "cell_type": "code",
   "execution_count": 15,
   "metadata": {},
   "outputs": [
    {
     "data": {
      "text/html": [
       "<div>\n",
       "<style scoped>\n",
       "    .dataframe tbody tr th:only-of-type {\n",
       "        vertical-align: middle;\n",
       "    }\n",
       "\n",
       "    .dataframe tbody tr th {\n",
       "        vertical-align: top;\n",
       "    }\n",
       "\n",
       "    .dataframe thead th {\n",
       "        text-align: right;\n",
       "    }\n",
       "</style>\n",
       "<table border=\"1\" class=\"dataframe\">\n",
       "  <thead>\n",
       "    <tr style=\"text-align: right;\">\n",
       "      <th></th>\n",
       "      <th>buy_coincheck_sell_liquid</th>\n",
       "      <th>buy_liquid_sell_coincheck</th>\n",
       "      <th>coincheck_bid</th>\n",
       "      <th>liquid_ask</th>\n",
       "      <th>liquid_bid</th>\n",
       "      <th>coincheck_ask</th>\n",
       "    </tr>\n",
       "    <tr>\n",
       "      <th>timestamp</th>\n",
       "      <th></th>\n",
       "      <th></th>\n",
       "      <th></th>\n",
       "      <th></th>\n",
       "      <th></th>\n",
       "      <th></th>\n",
       "    </tr>\n",
       "  </thead>\n",
       "  <tbody>\n",
       "    <tr>\n",
       "      <th>2020-04-21 09:30:00</th>\n",
       "      <td>-277</td>\n",
       "      <td>-190</td>\n",
       "      <td>744346</td>\n",
       "      <td>744536</td>\n",
       "      <td>744449</td>\n",
       "      <td>744726</td>\n",
       "    </tr>\n",
       "    <tr>\n",
       "      <th>2020-04-21 09:40:00</th>\n",
       "      <td>-372</td>\n",
       "      <td>-52</td>\n",
       "      <td>745793</td>\n",
       "      <td>745845</td>\n",
       "      <td>745767</td>\n",
       "      <td>746140</td>\n",
       "    </tr>\n",
       "    <tr>\n",
       "      <th>2020-04-21 09:50:00</th>\n",
       "      <td>-314</td>\n",
       "      <td>-2</td>\n",
       "      <td>744579</td>\n",
       "      <td>744580</td>\n",
       "      <td>744480</td>\n",
       "      <td>744794</td>\n",
       "    </tr>\n",
       "    <tr>\n",
       "      <th>2020-04-21 10:00:00</th>\n",
       "      <td>-407</td>\n",
       "      <td>49</td>\n",
       "      <td>744617</td>\n",
       "      <td>744568</td>\n",
       "      <td>744504</td>\n",
       "      <td>744910</td>\n",
       "    </tr>\n",
       "    <tr>\n",
       "      <th>2020-04-21 10:10:00</th>\n",
       "      <td>-134</td>\n",
       "      <td>-172</td>\n",
       "      <td>744026</td>\n",
       "      <td>744198</td>\n",
       "      <td>744129</td>\n",
       "      <td>744262</td>\n",
       "    </tr>\n",
       "    <tr>\n",
       "      <th>...</th>\n",
       "      <td>...</td>\n",
       "      <td>...</td>\n",
       "      <td>...</td>\n",
       "      <td>...</td>\n",
       "      <td>...</td>\n",
       "      <td>...</td>\n",
       "    </tr>\n",
       "    <tr>\n",
       "      <th>2020-04-21 21:10:00</th>\n",
       "      <td>-5957</td>\n",
       "      <td>5826</td>\n",
       "      <td>742500</td>\n",
       "      <td>736674</td>\n",
       "      <td>736563</td>\n",
       "      <td>742520</td>\n",
       "    </tr>\n",
       "    <tr>\n",
       "      <th>2020-04-21 21:20:00</th>\n",
       "      <td>-4892</td>\n",
       "      <td>4772</td>\n",
       "      <td>742500</td>\n",
       "      <td>737728</td>\n",
       "      <td>737628</td>\n",
       "      <td>742520</td>\n",
       "    </tr>\n",
       "    <tr>\n",
       "      <th>2020-04-21 21:30:00</th>\n",
       "      <td>-4532</td>\n",
       "      <td>4438</td>\n",
       "      <td>742500</td>\n",
       "      <td>738062</td>\n",
       "      <td>737988</td>\n",
       "      <td>742520</td>\n",
       "    </tr>\n",
       "    <tr>\n",
       "      <th>2020-04-21 21:40:00</th>\n",
       "      <td>-5217</td>\n",
       "      <td>5126</td>\n",
       "      <td>742500</td>\n",
       "      <td>737374</td>\n",
       "      <td>737303</td>\n",
       "      <td>742520</td>\n",
       "    </tr>\n",
       "    <tr>\n",
       "      <th>2020-04-21 21:50:00</th>\n",
       "      <td>-5921</td>\n",
       "      <td>5822</td>\n",
       "      <td>742500</td>\n",
       "      <td>736678</td>\n",
       "      <td>736599</td>\n",
       "      <td>742520</td>\n",
       "    </tr>\n",
       "  </tbody>\n",
       "</table>\n",
       "<p>75 rows × 6 columns</p>\n",
       "</div>"
      ],
      "text/plain": [
       "                     buy_coincheck_sell_liquid  buy_liquid_sell_coincheck  \\\n",
       "timestamp                                                                   \n",
       "2020-04-21 09:30:00                       -277                       -190   \n",
       "2020-04-21 09:40:00                       -372                        -52   \n",
       "2020-04-21 09:50:00                       -314                         -2   \n",
       "2020-04-21 10:00:00                       -407                         49   \n",
       "2020-04-21 10:10:00                       -134                       -172   \n",
       "...                                        ...                        ...   \n",
       "2020-04-21 21:10:00                      -5957                       5826   \n",
       "2020-04-21 21:20:00                      -4892                       4772   \n",
       "2020-04-21 21:30:00                      -4532                       4438   \n",
       "2020-04-21 21:40:00                      -5217                       5126   \n",
       "2020-04-21 21:50:00                      -5921                       5822   \n",
       "\n",
       "                     coincheck_bid  liquid_ask  liquid_bid  coincheck_ask  \n",
       "timestamp                                                                  \n",
       "2020-04-21 09:30:00         744346      744536      744449         744726  \n",
       "2020-04-21 09:40:00         745793      745845      745767         746140  \n",
       "2020-04-21 09:50:00         744579      744580      744480         744794  \n",
       "2020-04-21 10:00:00         744617      744568      744504         744910  \n",
       "2020-04-21 10:10:00         744026      744198      744129         744262  \n",
       "...                            ...         ...         ...            ...  \n",
       "2020-04-21 21:10:00         742500      736674      736563         742520  \n",
       "2020-04-21 21:20:00         742500      737728      737628         742520  \n",
       "2020-04-21 21:30:00         742500      738062      737988         742520  \n",
       "2020-04-21 21:40:00         742500      737374      737303         742520  \n",
       "2020-04-21 21:50:00         742500      736678      736599         742520  \n",
       "\n",
       "[75 rows x 6 columns]"
      ]
     },
     "execution_count": 15,
     "metadata": {},
     "output_type": "execute_result"
    }
   ],
   "source": [
    "pd.options.display.float_format = '{:.0f}'.format\n",
    "profit_margin_df.resample(rule='10Min').mean()"
   ]
  },
  {
   "cell_type": "code",
   "execution_count": null,
   "metadata": {},
   "outputs": [],
   "source": []
  }
 ],
 "metadata": {
  "kernelspec": {
   "display_name": "Environment (conda_bakuchi)",
   "language": "python",
   "name": "conda_bakuchi"
  },
  "language_info": {
   "codemirror_mode": {
    "name": "ipython",
    "version": 3
   },
   "file_extension": ".py",
   "mimetype": "text/x-python",
   "name": "python",
   "nbconvert_exporter": "python",
   "pygments_lexer": "ipython3",
   "version": "3.7.6"
  }
 },
 "nbformat": 4,
 "nbformat_minor": 4
}
