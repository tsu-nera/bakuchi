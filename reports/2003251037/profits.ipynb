{
 "cells": [
  {
   "cell_type": "markdown",
   "metadata": {},
   "source": [
    "# Profit分析"
   ]
  },
  {
   "cell_type": "markdown",
   "metadata": {},
   "source": [
    "## 目的\n",
    "\n",
    "予測での利益と実際の利益の差分をみてみる。"
   ]
  },
  {
   "cell_type": "code",
   "execution_count": 1,
   "metadata": {},
   "outputs": [],
   "source": [
    "import os\n",
    "import datetime\n",
    "import numpy as np\n",
    "import pandas as pd"
   ]
  },
  {
   "cell_type": "code",
   "execution_count": 2,
   "metadata": {},
   "outputs": [],
   "source": [
    "current_dir = %pwd\n",
    "timestamp = os.path.basename(current_dir)"
   ]
  },
  {
   "cell_type": "code",
   "execution_count": 3,
   "metadata": {},
   "outputs": [
    {
     "name": "stdout",
     "output_type": "stream",
     "text": [
      "/home/tsu-nera/repo/bakuchi\n"
     ]
    }
   ],
   "source": [
    "import sys\n",
    "sys.path.append('../../')\n",
    "%cd '../../'"
   ]
  },
  {
   "cell_type": "code",
   "execution_count": 4,
   "metadata": {},
   "outputs": [
    {
     "name": "stderr",
     "output_type": "stream",
     "text": [
      "File doesn't exist \n"
     ]
    }
   ],
   "source": [
    "from src.utils.trade_analysis import TradeAnalysis\n",
    "\n",
    "%reload_ext autoreload\n",
    "%autoreload 2"
   ]
  },
  {
   "cell_type": "code",
   "execution_count": 5,
   "metadata": {},
   "outputs": [],
   "source": [
    "ta = TradeAnalysis(timestamp)"
   ]
  },
  {
   "cell_type": "code",
   "execution_count": 6,
   "metadata": {},
   "outputs": [],
   "source": [
    "ex1_trades = ta.get_coincheck_trades_df()\n",
    "ex2_trades = ta.get_liquid_trades_df()"
   ]
  },
  {
   "cell_type": "code",
   "execution_count": 7,
   "metadata": {},
   "outputs": [
    {
     "data": {
      "text/plain": [
       "(32, 32)"
      ]
     },
     "execution_count": 7,
     "metadata": {},
     "output_type": "execute_result"
    }
   ],
   "source": [
    "len(ex1_trades), len(ex2_trades)"
   ]
  },
  {
   "cell_type": "code",
   "execution_count": 8,
   "metadata": {},
   "outputs": [],
   "source": [
    "ex1_ticks = ta.get_coincheck_ticks_df()\n",
    "ex2_ticks = ta.get_liquid_ticks_df()"
   ]
  },
  {
   "cell_type": "code",
   "execution_count": 9,
   "metadata": {},
   "outputs": [
    {
     "data": {
      "text/html": [
       "<div>\n",
       "<style scoped>\n",
       "    .dataframe tbody tr th:only-of-type {\n",
       "        vertical-align: middle;\n",
       "    }\n",
       "\n",
       "    .dataframe tbody tr th {\n",
       "        vertical-align: top;\n",
       "    }\n",
       "\n",
       "    .dataframe thead th {\n",
       "        text-align: right;\n",
       "    }\n",
       "</style>\n",
       "<table border=\"1\" class=\"dataframe\">\n",
       "  <thead>\n",
       "    <tr style=\"text-align: right;\">\n",
       "      <th></th>\n",
       "      <th>bid</th>\n",
       "      <th>ask</th>\n",
       "      <th>tick_timestamp</th>\n",
       "    </tr>\n",
       "    <tr>\n",
       "      <th>timestamp</th>\n",
       "      <th></th>\n",
       "      <th></th>\n",
       "      <th></th>\n",
       "    </tr>\n",
       "  </thead>\n",
       "  <tbody>\n",
       "    <tr>\n",
       "      <th>2020-03-25 10:37:45</th>\n",
       "      <td>741773.0</td>\n",
       "      <td>742217.0</td>\n",
       "      <td>2020-03-25 10:37:45</td>\n",
       "    </tr>\n",
       "    <tr>\n",
       "      <th>2020-03-25 10:37:46</th>\n",
       "      <td>741840.0</td>\n",
       "      <td>742350.0</td>\n",
       "      <td>2020-03-25 10:37:46</td>\n",
       "    </tr>\n",
       "    <tr>\n",
       "      <th>2020-03-25 10:37:47</th>\n",
       "      <td>741840.0</td>\n",
       "      <td>742350.0</td>\n",
       "      <td>2020-03-25 10:37:47</td>\n",
       "    </tr>\n",
       "    <tr>\n",
       "      <th>2020-03-25 10:37:48</th>\n",
       "      <td>741840.0</td>\n",
       "      <td>742350.0</td>\n",
       "      <td>2020-03-25 10:37:48</td>\n",
       "    </tr>\n",
       "    <tr>\n",
       "      <th>2020-03-25 10:37:50</th>\n",
       "      <td>741840.0</td>\n",
       "      <td>742350.0</td>\n",
       "      <td>2020-03-25 10:37:49</td>\n",
       "    </tr>\n",
       "  </tbody>\n",
       "</table>\n",
       "</div>"
      ],
      "text/plain": [
       "                          bid       ask       tick_timestamp\n",
       "timestamp                                                   \n",
       "2020-03-25 10:37:45  741773.0  742217.0  2020-03-25 10:37:45\n",
       "2020-03-25 10:37:46  741840.0  742350.0  2020-03-25 10:37:46\n",
       "2020-03-25 10:37:47  741840.0  742350.0  2020-03-25 10:37:47\n",
       "2020-03-25 10:37:48  741840.0  742350.0  2020-03-25 10:37:48\n",
       "2020-03-25 10:37:50  741840.0  742350.0  2020-03-25 10:37:49"
      ]
     },
     "execution_count": 9,
     "metadata": {},
     "output_type": "execute_result"
    }
   ],
   "source": [
    "ex1_ticks.head(5)"
   ]
  },
  {
   "cell_type": "code",
   "execution_count": 10,
   "metadata": {},
   "outputs": [],
   "source": [
    "trades = []\n",
    "\n",
    "for ex1_row, ex2_row in zip(ex1_trades.iterrows(), ex2_trades.iterrows()):\n",
    "    ex1_item = ex1_row[1]\n",
    "    ex2_item = ex2_row[1]\n",
    "    \n",
    "    ex1_side = ex1_item[\"side\"]\n",
    "    ex1_timestamp = ex1_item[\"datetime\"]\n",
    "    ex1_amount = ex1_item[\"amount\"]\n",
    "    ex1_actual_price = ex1_item[\"price\"]\n",
    "    ex1_actual_rate = ex1_item[\"rate\"]\n",
    "\n",
    "    ex2_side = ex2_item[\"side\"]\n",
    "    ex2_timestamp = ex2_item[\"datetime\"]\n",
    "    ex2_amount = ex2_item[\"amount\"]\n",
    "    ex2_actual_price = ex2_item[\"price\"]\n",
    "    ex2_actual_rate = ex2_item[\"rate\"]\n",
    "    \n",
    "    try:\n",
    "        ex1_tick = ex1_ticks.loc[ex1_timestamp]\n",
    "    except Exception:\n",
    "        timestamp = ex1_timestamp + datetime.timedelta(seconds=1)\n",
    "        try:\n",
    "            ex1_tick = ex1_ticks.loc[timestamp]\n",
    "        except Exception:\n",
    "            timestamp2 = timestamp + datetime.timedelta(seconds=1)\n",
    "            ex1_tick = ex1_ticks.loc[timestamp2]\n",
    "\n",
    "    try:\n",
    "        ex2_tick = ex2_ticks.loc[ex2_timestamp]\n",
    "    except Exception:\n",
    "        timestamp = ex2_timestamp + datetime.timedelta(seconds=1)\n",
    "        try:\n",
    "            ex2_tick = ex2_ticks.loc[timestamp]\n",
    "        except Exception:\n",
    "            timestamp2 = timestamp + datetime.timedelta(seconds=1)\n",
    "            ex2_tick = ex2_ticks.loc[timestamp2]\n",
    "\n",
    "    if ex1_side == \"sell\":\n",
    "        ex1_tick_rate = ex1_tick.bid\n",
    "    else:\n",
    "        ex1_tick_rate = ex1_tick.ask\n",
    "    if ex2_side == \"sell\":\n",
    "        ex2_tick_rate = ex2_tick.bid\n",
    "    else:\n",
    "        ex2_tick_rate = ex2_tick.ask\n",
    "        \n",
    "    ex1_expected_price = ex1_tick_rate * ex1_amount\n",
    "    ex2_expected_price = ex2_tick_rate * ex2_amount\n",
    "\n",
    "    \n",
    "    if ex1_side == \"buy\":\n",
    "        ex1_expected_price = ex1_expected_price * -1\n",
    "        ex1_actual_price = ex1_actual_price * -1\n",
    "    if ex2_side == \"buy\":\n",
    "        ex2_expected_price = ex2_expected_price * -1\n",
    "        ex2_actual_price = ex2_actual_price * -1\n",
    "        \n",
    "    expected_profit = sum([ex1_expected_price, ex2_expected_price])\n",
    "    actual_profit = sum([ex1_actual_price, ex2_actual_price])\n",
    "\n",
    "    trade = {\n",
    "        \"timestamp\": ex1_timestamp, \n",
    "        \"ex1_side\": ex1_side,\n",
    "        \"ex1_expected_rate\": ex1_tick_rate,\n",
    "        \"ex1_actual_rate\": ex1_actual_rate,\n",
    "        \"ex1_expected_price\": ex1_expected_price,\n",
    "        \"ex1_actual_price\": ex1_actual_price,\n",
    "        \"ex2_side\": ex2_side,\n",
    "        \"ex2_expected_rate\": ex2_tick_rate,\n",
    "        \"ex2_actual_rate\": ex2_actual_rate,\n",
    "        \"ex2_expected_price\": ex2_expected_price,\n",
    "        \"ex2_actual_price\": ex2_actual_price,\n",
    "        \"expected_profit\": expected_profit,\n",
    "        \"actual_profit\": actual_profit\n",
    "    }\n",
    "    \n",
    "    trades.append(trade)"
   ]
  },
  {
   "cell_type": "code",
   "execution_count": 11,
   "metadata": {},
   "outputs": [],
   "source": [
    "trade_df = pd.DataFrame(trades)\n",
    "trade_df = trade_df.set_index(\"timestamp\")"
   ]
  },
  {
   "cell_type": "code",
   "execution_count": 12,
   "metadata": {},
   "outputs": [],
   "source": [
    "profit_df = trade_df[[\"expected_profit\", \"actual_profit\"]]"
   ]
  },
  {
   "cell_type": "code",
   "execution_count": 13,
   "metadata": {},
   "outputs": [
    {
     "data": {
      "text/plain": [
       "(144, 4)"
      ]
     },
     "execution_count": 13,
     "metadata": {},
     "output_type": "execute_result"
    }
   ],
   "source": [
    "int(sum(profit_df[\"expected_profit\"])), int(sum(profit_df[\"actual_profit\"]))"
   ]
  },
  {
   "cell_type": "code",
   "execution_count": 14,
   "metadata": {
    "scrolled": true
   },
   "outputs": [
    {
     "data": {
      "text/html": [
       "<div>\n",
       "<style scoped>\n",
       "    .dataframe tbody tr th:only-of-type {\n",
       "        vertical-align: middle;\n",
       "    }\n",
       "\n",
       "    .dataframe tbody tr th {\n",
       "        vertical-align: top;\n",
       "    }\n",
       "\n",
       "    .dataframe thead th {\n",
       "        text-align: right;\n",
       "    }\n",
       "</style>\n",
       "<table border=\"1\" class=\"dataframe\">\n",
       "  <thead>\n",
       "    <tr style=\"text-align: right;\">\n",
       "      <th></th>\n",
       "      <th>expected_profit</th>\n",
       "      <th>actual_profit</th>\n",
       "    </tr>\n",
       "    <tr>\n",
       "      <th>timestamp</th>\n",
       "      <th></th>\n",
       "      <th></th>\n",
       "    </tr>\n",
       "  </thead>\n",
       "  <tbody>\n",
       "    <tr>\n",
       "      <th>2020-03-25 10:52:19</th>\n",
       "      <td>6.984000</td>\n",
       "      <td>-1.134</td>\n",
       "    </tr>\n",
       "    <tr>\n",
       "      <th>2020-03-25 10:52:51</th>\n",
       "      <td>-2.069843</td>\n",
       "      <td>-1.301</td>\n",
       "    </tr>\n",
       "    <tr>\n",
       "      <th>2020-03-25 10:55:20</th>\n",
       "      <td>7.014000</td>\n",
       "      <td>-1.782</td>\n",
       "    </tr>\n",
       "    <tr>\n",
       "      <th>2020-03-25 10:58:05</th>\n",
       "      <td>4.200458</td>\n",
       "      <td>-2.561</td>\n",
       "    </tr>\n",
       "    <tr>\n",
       "      <th>2020-03-25 10:59:26</th>\n",
       "      <td>6.774000</td>\n",
       "      <td>-0.786</td>\n",
       "    </tr>\n",
       "    <tr>\n",
       "      <th>2020-03-25 11:01:36</th>\n",
       "      <td>-0.109516</td>\n",
       "      <td>-0.110</td>\n",
       "    </tr>\n",
       "    <tr>\n",
       "      <th>2020-03-25 11:07:55</th>\n",
       "      <td>6.186000</td>\n",
       "      <td>0.474</td>\n",
       "    </tr>\n",
       "    <tr>\n",
       "      <th>2020-03-25 11:08:16</th>\n",
       "      <td>5.110678</td>\n",
       "      <td>0.495</td>\n",
       "    </tr>\n",
       "    <tr>\n",
       "      <th>2020-03-25 11:20:25</th>\n",
       "      <td>6.234000</td>\n",
       "      <td>1.356</td>\n",
       "    </tr>\n",
       "    <tr>\n",
       "      <th>2020-03-25 11:20:44</th>\n",
       "      <td>4.133189</td>\n",
       "      <td>1.382</td>\n",
       "    </tr>\n",
       "    <tr>\n",
       "      <th>2020-03-25 11:36:16</th>\n",
       "      <td>6.528000</td>\n",
       "      <td>0.810</td>\n",
       "    </tr>\n",
       "    <tr>\n",
       "      <th>2020-03-25 11:37:00</th>\n",
       "      <td>1.341436</td>\n",
       "      <td>-1.304</td>\n",
       "    </tr>\n",
       "    <tr>\n",
       "      <th>2020-03-25 11:37:32</th>\n",
       "      <td>7.572000</td>\n",
       "      <td>2.088</td>\n",
       "    </tr>\n",
       "    <tr>\n",
       "      <th>2020-03-25 11:37:35</th>\n",
       "      <td>-2.158998</td>\n",
       "      <td>-3.899</td>\n",
       "    </tr>\n",
       "    <tr>\n",
       "      <th>2020-03-25 11:45:19</th>\n",
       "      <td>7.020000</td>\n",
       "      <td>-0.780</td>\n",
       "    </tr>\n",
       "    <tr>\n",
       "      <th>2020-03-25 11:45:42</th>\n",
       "      <td>-0.252000</td>\n",
       "      <td>-3.534</td>\n",
       "    </tr>\n",
       "    <tr>\n",
       "      <th>2020-03-25 11:51:04</th>\n",
       "      <td>8.562000</td>\n",
       "      <td>0.258</td>\n",
       "    </tr>\n",
       "    <tr>\n",
       "      <th>2020-03-25 11:51:22</th>\n",
       "      <td>6.250970</td>\n",
       "      <td>0.325</td>\n",
       "    </tr>\n",
       "    <tr>\n",
       "      <th>2020-03-25 12:40:21</th>\n",
       "      <td>6.102000</td>\n",
       "      <td>3.702</td>\n",
       "    </tr>\n",
       "    <tr>\n",
       "      <th>2020-03-25 12:42:10</th>\n",
       "      <td>4.134293</td>\n",
       "      <td>-0.598</td>\n",
       "    </tr>\n",
       "    <tr>\n",
       "      <th>2020-03-25 12:43:49</th>\n",
       "      <td>7.914000</td>\n",
       "      <td>1.224</td>\n",
       "    </tr>\n",
       "    <tr>\n",
       "      <th>2020-03-25 12:45:27</th>\n",
       "      <td>0.962794</td>\n",
       "      <td>0.705</td>\n",
       "    </tr>\n",
       "    <tr>\n",
       "      <th>2020-03-25 12:47:06</th>\n",
       "      <td>6.414000</td>\n",
       "      <td>5.676</td>\n",
       "    </tr>\n",
       "    <tr>\n",
       "      <th>2020-03-25 12:48:13</th>\n",
       "      <td>0.386667</td>\n",
       "      <td>-1.107</td>\n",
       "    </tr>\n",
       "    <tr>\n",
       "      <th>2020-03-25 12:49:14</th>\n",
       "      <td>6.438000</td>\n",
       "      <td>5.268</td>\n",
       "    </tr>\n",
       "    <tr>\n",
       "      <th>2020-03-25 12:50:17</th>\n",
       "      <td>-0.562078</td>\n",
       "      <td>-1.324</td>\n",
       "    </tr>\n",
       "    <tr>\n",
       "      <th>2020-03-25 13:10:34</th>\n",
       "      <td>12.911576</td>\n",
       "      <td>4.430</td>\n",
       "    </tr>\n",
       "    <tr>\n",
       "      <th>2020-03-25 13:10:40</th>\n",
       "      <td>-0.306000</td>\n",
       "      <td>-0.448</td>\n",
       "    </tr>\n",
       "    <tr>\n",
       "      <th>2020-03-25 13:43:14</th>\n",
       "      <td>9.234000</td>\n",
       "      <td>-0.480</td>\n",
       "    </tr>\n",
       "    <tr>\n",
       "      <th>2020-03-25 13:43:46</th>\n",
       "      <td>0.338747</td>\n",
       "      <td>-1.238</td>\n",
       "    </tr>\n",
       "    <tr>\n",
       "      <th>2020-03-25 14:01:00</th>\n",
       "      <td>6.522000</td>\n",
       "      <td>-1.391</td>\n",
       "    </tr>\n",
       "    <tr>\n",
       "      <th>2020-03-25 14:02:26</th>\n",
       "      <td>4.454259</td>\n",
       "      <td>-0.409</td>\n",
       "    </tr>\n",
       "  </tbody>\n",
       "</table>\n",
       "</div>"
      ],
      "text/plain": [
       "                     expected_profit  actual_profit\n",
       "timestamp                                          \n",
       "2020-03-25 10:52:19         6.984000         -1.134\n",
       "2020-03-25 10:52:51        -2.069843         -1.301\n",
       "2020-03-25 10:55:20         7.014000         -1.782\n",
       "2020-03-25 10:58:05         4.200458         -2.561\n",
       "2020-03-25 10:59:26         6.774000         -0.786\n",
       "2020-03-25 11:01:36        -0.109516         -0.110\n",
       "2020-03-25 11:07:55         6.186000          0.474\n",
       "2020-03-25 11:08:16         5.110678          0.495\n",
       "2020-03-25 11:20:25         6.234000          1.356\n",
       "2020-03-25 11:20:44         4.133189          1.382\n",
       "2020-03-25 11:36:16         6.528000          0.810\n",
       "2020-03-25 11:37:00         1.341436         -1.304\n",
       "2020-03-25 11:37:32         7.572000          2.088\n",
       "2020-03-25 11:37:35        -2.158998         -3.899\n",
       "2020-03-25 11:45:19         7.020000         -0.780\n",
       "2020-03-25 11:45:42        -0.252000         -3.534\n",
       "2020-03-25 11:51:04         8.562000          0.258\n",
       "2020-03-25 11:51:22         6.250970          0.325\n",
       "2020-03-25 12:40:21         6.102000          3.702\n",
       "2020-03-25 12:42:10         4.134293         -0.598\n",
       "2020-03-25 12:43:49         7.914000          1.224\n",
       "2020-03-25 12:45:27         0.962794          0.705\n",
       "2020-03-25 12:47:06         6.414000          5.676\n",
       "2020-03-25 12:48:13         0.386667         -1.107\n",
       "2020-03-25 12:49:14         6.438000          5.268\n",
       "2020-03-25 12:50:17        -0.562078         -1.324\n",
       "2020-03-25 13:10:34        12.911576          4.430\n",
       "2020-03-25 13:10:40        -0.306000         -0.448\n",
       "2020-03-25 13:43:14         9.234000         -0.480\n",
       "2020-03-25 13:43:46         0.338747         -1.238\n",
       "2020-03-25 14:01:00         6.522000         -1.391\n",
       "2020-03-25 14:02:26         4.454259         -0.409"
      ]
     },
     "execution_count": 14,
     "metadata": {},
     "output_type": "execute_result"
    }
   ],
   "source": [
    "pd.set_option('display.max_rows', None)\n",
    "profit_df"
   ]
  },
  {
   "cell_type": "markdown",
   "metadata": {},
   "source": [
    "## coincheck buyにおける売却コインの差分分析"
   ]
  },
  {
   "cell_type": "code",
   "execution_count": 15,
   "metadata": {},
   "outputs": [],
   "source": [
    "ex1_buy_trades = ex1_trades[ex1_trades[\"side\"] == \"buy\"]"
   ]
  },
  {
   "cell_type": "code",
   "execution_count": 16,
   "metadata": {},
   "outputs": [
    {
     "data": {
      "text/plain": [
       "(0.00599186, 0.00600169, 0.0059974225)"
      ]
     },
     "execution_count": 16,
     "metadata": {},
     "output_type": "execute_result"
    }
   ],
   "source": [
    "ex1_buy_amount = ex1_buy_trades[\"amount\"]\n",
    "min(ex1_buy_amount), max(ex1_buy_amount), np.mean(ex1_buy_amount)"
   ]
  },
  {
   "cell_type": "code",
   "execution_count": 17,
   "metadata": {},
   "outputs": [
    {
     "data": {
      "text/plain": [
       "'0.0000025775'"
      ]
     },
     "execution_count": 17,
     "metadata": {},
     "output_type": "execute_result"
    }
   ],
   "source": [
    "from decimal import Decimal\n",
    "num = 0.006 - np.mean(ex1_buy_amount)\n",
    "\"{0:.10f}\".format(Decimal(num))"
   ]
  },
  {
   "cell_type": "markdown",
   "metadata": {},
   "source": [
    "この価格差によって生じた資金移動は"
   ]
  },
  {
   "cell_type": "code",
   "execution_count": 18,
   "metadata": {},
   "outputs": [
    {
     "data": {
      "text/plain": [
       "30.307018114283725"
      ]
     },
     "execution_count": 18,
     "metadata": {},
     "output_type": "execute_result"
    }
   ],
   "source": [
    "num * len(ex1_buy_trades) * np.mean(ex1_ticks[\"ask\"])"
   ]
  },
  {
   "cell_type": "markdown",
   "metadata": {},
   "source": [
    "## rateの誤差比較"
   ]
  },
  {
   "cell_type": "code",
   "execution_count": 19,
   "metadata": {},
   "outputs": [],
   "source": [
    "ex1_rate_df = trade_df[[\"ex1_side\", \"ex1_expected_rate\", \"ex1_actual_rate\"]].copy()\n",
    "ex1_rate_df[\"ex1_rate_diff\"] = ex1_rate_df[\"ex1_expected_rate\"] - ex1_rate_df[\"ex1_actual_rate\"]"
   ]
  },
  {
   "cell_type": "code",
   "execution_count": 20,
   "metadata": {},
   "outputs": [
    {
     "data": {
      "text/html": [
       "<div>\n",
       "<style scoped>\n",
       "    .dataframe tbody tr th:only-of-type {\n",
       "        vertical-align: middle;\n",
       "    }\n",
       "\n",
       "    .dataframe tbody tr th {\n",
       "        vertical-align: top;\n",
       "    }\n",
       "\n",
       "    .dataframe thead th {\n",
       "        text-align: right;\n",
       "    }\n",
       "</style>\n",
       "<table border=\"1\" class=\"dataframe\">\n",
       "  <thead>\n",
       "    <tr style=\"text-align: right;\">\n",
       "      <th></th>\n",
       "      <th>ex1_side</th>\n",
       "      <th>ex1_expected_rate</th>\n",
       "      <th>ex1_actual_rate</th>\n",
       "      <th>ex1_rate_diff</th>\n",
       "    </tr>\n",
       "    <tr>\n",
       "      <th>timestamp</th>\n",
       "      <th></th>\n",
       "      <th></th>\n",
       "      <th></th>\n",
       "      <th></th>\n",
       "    </tr>\n",
       "  </thead>\n",
       "  <tbody>\n",
       "    <tr>\n",
       "      <th>2020-03-25 10:52:19</th>\n",
       "      <td>sell</td>\n",
       "      <td>743000.0</td>\n",
       "      <td>741626.0</td>\n",
       "      <td>1374.0</td>\n",
       "    </tr>\n",
       "    <tr>\n",
       "      <th>2020-03-25 10:52:51</th>\n",
       "      <td>buy</td>\n",
       "      <td>741919.0</td>\n",
       "      <td>741791.0</td>\n",
       "      <td>128.0</td>\n",
       "    </tr>\n",
       "    <tr>\n",
       "      <th>2020-03-25 10:55:20</th>\n",
       "      <td>sell</td>\n",
       "      <td>739677.0</td>\n",
       "      <td>737974.0</td>\n",
       "      <td>1703.0</td>\n",
       "    </tr>\n",
       "    <tr>\n",
       "      <th>2020-03-25 10:58:05</th>\n",
       "      <td>buy</td>\n",
       "      <td>733301.0</td>\n",
       "      <td>734287.0</td>\n",
       "      <td>-986.0</td>\n",
       "    </tr>\n",
       "    <tr>\n",
       "      <th>2020-03-25 10:59:26</th>\n",
       "      <td>sell</td>\n",
       "      <td>735582.0</td>\n",
       "      <td>734316.0</td>\n",
       "      <td>1266.0</td>\n",
       "    </tr>\n",
       "    <tr>\n",
       "      <th>2020-03-25 11:01:36</th>\n",
       "      <td>buy</td>\n",
       "      <td>735464.0</td>\n",
       "      <td>735464.0</td>\n",
       "      <td>0.0</td>\n",
       "    </tr>\n",
       "    <tr>\n",
       "      <th>2020-03-25 11:07:55</th>\n",
       "      <td>sell</td>\n",
       "      <td>736383.0</td>\n",
       "      <td>735381.0</td>\n",
       "      <td>1002.0</td>\n",
       "    </tr>\n",
       "    <tr>\n",
       "      <th>2020-03-25 11:08:16</th>\n",
       "      <td>buy</td>\n",
       "      <td>735247.0</td>\n",
       "      <td>736017.0</td>\n",
       "      <td>-770.0</td>\n",
       "    </tr>\n",
       "    <tr>\n",
       "      <th>2020-03-25 11:20:25</th>\n",
       "      <td>sell</td>\n",
       "      <td>739472.0</td>\n",
       "      <td>738681.0</td>\n",
       "      <td>791.0</td>\n",
       "    </tr>\n",
       "    <tr>\n",
       "      <th>2020-03-25 11:20:44</th>\n",
       "      <td>buy</td>\n",
       "      <td>738614.0</td>\n",
       "      <td>739296.0</td>\n",
       "      <td>-682.0</td>\n",
       "    </tr>\n",
       "    <tr>\n",
       "      <th>2020-03-25 11:36:16</th>\n",
       "      <td>sell</td>\n",
       "      <td>734360.0</td>\n",
       "      <td>733329.0</td>\n",
       "      <td>1031.0</td>\n",
       "    </tr>\n",
       "    <tr>\n",
       "      <th>2020-03-25 11:37:00</th>\n",
       "      <td>buy</td>\n",
       "      <td>732505.0</td>\n",
       "      <td>732946.0</td>\n",
       "      <td>-441.0</td>\n",
       "    </tr>\n",
       "    <tr>\n",
       "      <th>2020-03-25 11:37:32</th>\n",
       "      <td>sell</td>\n",
       "      <td>731647.0</td>\n",
       "      <td>730202.0</td>\n",
       "      <td>1445.0</td>\n",
       "    </tr>\n",
       "    <tr>\n",
       "      <th>2020-03-25 11:37:35</th>\n",
       "      <td>buy</td>\n",
       "      <td>731107.0</td>\n",
       "      <td>731278.0</td>\n",
       "      <td>-171.0</td>\n",
       "    </tr>\n",
       "    <tr>\n",
       "      <th>2020-03-25 11:45:19</th>\n",
       "      <td>sell</td>\n",
       "      <td>731770.0</td>\n",
       "      <td>730470.0</td>\n",
       "      <td>1300.0</td>\n",
       "    </tr>\n",
       "    <tr>\n",
       "      <th>2020-03-25 11:45:42</th>\n",
       "      <td>buy</td>\n",
       "      <td>730923.0</td>\n",
       "      <td>731000.0</td>\n",
       "      <td>-77.0</td>\n",
       "    </tr>\n",
       "    <tr>\n",
       "      <th>2020-03-25 11:51:04</th>\n",
       "      <td>sell</td>\n",
       "      <td>730649.0</td>\n",
       "      <td>729226.0</td>\n",
       "      <td>1423.0</td>\n",
       "    </tr>\n",
       "    <tr>\n",
       "      <th>2020-03-25 11:51:22</th>\n",
       "      <td>buy</td>\n",
       "      <td>728900.0</td>\n",
       "      <td>729888.0</td>\n",
       "      <td>-988.0</td>\n",
       "    </tr>\n",
       "    <tr>\n",
       "      <th>2020-03-25 12:40:21</th>\n",
       "      <td>sell</td>\n",
       "      <td>730762.0</td>\n",
       "      <td>730321.0</td>\n",
       "      <td>441.0</td>\n",
       "    </tr>\n",
       "    <tr>\n",
       "      <th>2020-03-25 12:42:10</th>\n",
       "      <td>buy</td>\n",
       "      <td>729932.0</td>\n",
       "      <td>730538.0</td>\n",
       "      <td>-606.0</td>\n",
       "    </tr>\n",
       "    <tr>\n",
       "      <th>2020-03-25 12:43:49</th>\n",
       "      <td>sell</td>\n",
       "      <td>731001.0</td>\n",
       "      <td>730120.0</td>\n",
       "      <td>881.0</td>\n",
       "    </tr>\n",
       "    <tr>\n",
       "      <th>2020-03-25 12:45:27</th>\n",
       "      <td>buy</td>\n",
       "      <td>730203.0</td>\n",
       "      <td>730509.0</td>\n",
       "      <td>-306.0</td>\n",
       "    </tr>\n",
       "    <tr>\n",
       "      <th>2020-03-25 12:47:06</th>\n",
       "      <td>sell</td>\n",
       "      <td>728202.0</td>\n",
       "      <td>728000.0</td>\n",
       "      <td>202.0</td>\n",
       "    </tr>\n",
       "    <tr>\n",
       "      <th>2020-03-25 12:48:13</th>\n",
       "      <td>buy</td>\n",
       "      <td>726812.0</td>\n",
       "      <td>727111.0</td>\n",
       "      <td>-299.0</td>\n",
       "    </tr>\n",
       "    <tr>\n",
       "      <th>2020-03-25 12:49:14</th>\n",
       "      <td>sell</td>\n",
       "      <td>727595.0</td>\n",
       "      <td>727400.0</td>\n",
       "      <td>195.0</td>\n",
       "    </tr>\n",
       "    <tr>\n",
       "      <th>2020-03-25 12:50:17</th>\n",
       "      <td>buy</td>\n",
       "      <td>727995.0</td>\n",
       "      <td>728122.0</td>\n",
       "      <td>-127.0</td>\n",
       "    </tr>\n",
       "    <tr>\n",
       "      <th>2020-03-25 13:10:34</th>\n",
       "      <td>buy</td>\n",
       "      <td>732626.0</td>\n",
       "      <td>733828.5</td>\n",
       "      <td>-1202.5</td>\n",
       "    </tr>\n",
       "    <tr>\n",
       "      <th>2020-03-25 13:10:40</th>\n",
       "      <td>sell</td>\n",
       "      <td>733549.0</td>\n",
       "      <td>733559.0</td>\n",
       "      <td>-10.0</td>\n",
       "    </tr>\n",
       "    <tr>\n",
       "      <th>2020-03-25 13:43:14</th>\n",
       "      <td>sell</td>\n",
       "      <td>733392.0</td>\n",
       "      <td>733160.0</td>\n",
       "      <td>232.0</td>\n",
       "    </tr>\n",
       "    <tr>\n",
       "      <th>2020-03-25 13:43:46</th>\n",
       "      <td>buy</td>\n",
       "      <td>732761.0</td>\n",
       "      <td>733267.0</td>\n",
       "      <td>-506.0</td>\n",
       "    </tr>\n",
       "    <tr>\n",
       "      <th>2020-03-25 14:01:00</th>\n",
       "      <td>sell</td>\n",
       "      <td>738994.0</td>\n",
       "      <td>738862.5</td>\n",
       "      <td>131.5</td>\n",
       "    </tr>\n",
       "    <tr>\n",
       "      <th>2020-03-25 14:02:26</th>\n",
       "      <td>buy</td>\n",
       "      <td>738234.0</td>\n",
       "      <td>738859.0</td>\n",
       "      <td>-625.0</td>\n",
       "    </tr>\n",
       "  </tbody>\n",
       "</table>\n",
       "</div>"
      ],
      "text/plain": [
       "                    ex1_side  ex1_expected_rate  ex1_actual_rate  ex1_rate_diff\n",
       "timestamp                                                                  \n",
       "2020-03-25 10:52:19    sell          743000.0        741626.0        1374.0\n",
       "2020-03-25 10:52:51     buy          741919.0        741791.0         128.0\n",
       "2020-03-25 10:55:20    sell          739677.0        737974.0        1703.0\n",
       "2020-03-25 10:58:05     buy          733301.0        734287.0        -986.0\n",
       "2020-03-25 10:59:26    sell          735582.0        734316.0        1266.0\n",
       "2020-03-25 11:01:36     buy          735464.0        735464.0           0.0\n",
       "2020-03-25 11:07:55    sell          736383.0        735381.0        1002.0\n",
       "2020-03-25 11:08:16     buy          735247.0        736017.0        -770.0\n",
       "2020-03-25 11:20:25    sell          739472.0        738681.0         791.0\n",
       "2020-03-25 11:20:44     buy          738614.0        739296.0        -682.0\n",
       "2020-03-25 11:36:16    sell          734360.0        733329.0        1031.0\n",
       "2020-03-25 11:37:00     buy          732505.0        732946.0        -441.0\n",
       "2020-03-25 11:37:32    sell          731647.0        730202.0        1445.0\n",
       "2020-03-25 11:37:35     buy          731107.0        731278.0        -171.0\n",
       "2020-03-25 11:45:19    sell          731770.0        730470.0        1300.0\n",
       "2020-03-25 11:45:42     buy          730923.0        731000.0         -77.0\n",
       "2020-03-25 11:51:04    sell          730649.0        729226.0        1423.0\n",
       "2020-03-25 11:51:22     buy          728900.0        729888.0        -988.0\n",
       "2020-03-25 12:40:21    sell          730762.0        730321.0         441.0\n",
       "2020-03-25 12:42:10     buy          729932.0        730538.0        -606.0\n",
       "2020-03-25 12:43:49    sell          731001.0        730120.0         881.0\n",
       "2020-03-25 12:45:27     buy          730203.0        730509.0        -306.0\n",
       "2020-03-25 12:47:06    sell          728202.0        728000.0         202.0\n",
       "2020-03-25 12:48:13     buy          726812.0        727111.0        -299.0\n",
       "2020-03-25 12:49:14    sell          727595.0        727400.0         195.0\n",
       "2020-03-25 12:50:17     buy          727995.0        728122.0        -127.0\n",
       "2020-03-25 13:10:34     buy          732626.0        733828.5       -1202.5\n",
       "2020-03-25 13:10:40    sell          733549.0        733559.0         -10.0\n",
       "2020-03-25 13:43:14    sell          733392.0        733160.0         232.0\n",
       "2020-03-25 13:43:46     buy          732761.0        733267.0        -506.0\n",
       "2020-03-25 14:01:00    sell          738994.0        738862.5         131.5\n",
       "2020-03-25 14:02:26     buy          738234.0        738859.0        -625.0"
      ]
     },
     "execution_count": 20,
     "metadata": {},
     "output_type": "execute_result"
    }
   ],
   "source": [
    "ex1_rate_df"
   ]
  },
  {
   "cell_type": "code",
   "execution_count": 21,
   "metadata": {},
   "outputs": [
    {
     "data": {
      "text/plain": [
       "(1703.0, -1202.5, 666.9375, 807.885989766463)"
      ]
     },
     "execution_count": 21,
     "metadata": {},
     "output_type": "execute_result"
    }
   ],
   "source": [
    "ex1_diff = ex1_rate_df[\"ex1_rate_diff\"]\n",
    "max(ex1_diff), min(ex1_diff), np.mean(abs(ex1_diff)), np.std(ex1_diff)"
   ]
  },
  {
   "cell_type": "code",
   "execution_count": 22,
   "metadata": {},
   "outputs": [],
   "source": [
    "ex2_rate_df = trade_df[[\"ex2_side\", \"ex2_expected_rate\", \"ex2_actual_rate\"]].copy()\n",
    "ex2_rate_df[\"ex2_rate_diff\"] = ex2_rate_df[\"ex2_expected_rate\"] - ex2_rate_df[\"ex2_actual_rate\"]"
   ]
  },
  {
   "cell_type": "code",
   "execution_count": 23,
   "metadata": {},
   "outputs": [
    {
     "data": {
      "text/plain": [
       "(531.0, -1387.0, 190.484375, 369.6436625398295)"
      ]
     },
     "execution_count": 23,
     "metadata": {},
     "output_type": "execute_result"
    }
   ],
   "source": [
    "ex2_diff = ex2_rate_df[\"ex2_rate_diff\"]\n",
    "max(ex2_diff), min(ex2_diff), np.mean(abs(ex2_diff)), np.std(ex2_diff)"
   ]
  },
  {
   "cell_type": "code",
   "execution_count": null,
   "metadata": {},
   "outputs": [],
   "source": []
  }
 ],
 "metadata": {
  "kernelspec": {
   "display_name": "Environment (conda_bakuchi)",
   "language": "python",
   "name": "conda_bakuchi"
  },
  "language_info": {
   "codemirror_mode": {
    "name": "ipython",
    "version": 3
   },
   "file_extension": ".py",
   "mimetype": "text/x-python",
   "name": "python",
   "nbconvert_exporter": "python",
   "pygments_lexer": "ipython3",
   "version": "3.7.6"
  }
 },
 "nbformat": 4,
 "nbformat_minor": 4
}
