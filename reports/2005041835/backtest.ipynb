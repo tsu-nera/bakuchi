{
 "cells": [
  {
   "cell_type": "markdown",
   "metadata": {},
   "source": [
    "# バックテスト検証ノート"
   ]
  },
  {
   "cell_type": "code",
   "execution_count": 1,
   "metadata": {},
   "outputs": [],
   "source": [
    "import os\n",
    "import numpy as np\n",
    "import pandas as pd\n",
    "import datetime\n",
    "import matplotlib.pyplot as plt"
   ]
  },
  {
   "cell_type": "code",
   "execution_count": 2,
   "metadata": {},
   "outputs": [],
   "source": [
    "current_dir = %pwd\n",
    "timestamp = os.path.basename(current_dir)"
   ]
  },
  {
   "cell_type": "code",
   "execution_count": 3,
   "metadata": {},
   "outputs": [
    {
     "name": "stdout",
     "output_type": "stream",
     "text": [
      "/home/tsu-nera/repo/bakuchi\n"
     ]
    }
   ],
   "source": [
    "import sys\n",
    "sys.path.append('/home/tsu-nera/repo/bakuchi/')\n",
    "%cd '../../'"
   ]
  },
  {
   "cell_type": "code",
   "execution_count": 4,
   "metadata": {},
   "outputs": [
    {
     "name": "stderr",
     "output_type": "stream",
     "text": [
      "File doesn't exist \n"
     ]
    }
   ],
   "source": [
    "from src.utils.backtesting import Backtesting, run_backtesting\n",
    "\n",
    "%reload_ext autoreload\n",
    "%autoreload 2"
   ]
  },
  {
   "cell_type": "code",
   "execution_count": 5,
   "metadata": {},
   "outputs": [],
   "source": [
    "bt = Backtesting(timestamp)"
   ]
  },
  {
   "cell_type": "code",
   "execution_count": 6,
   "metadata": {},
   "outputs": [],
   "source": [
    "df_cc = bt.get_coincheck_df()\n",
    "df_lq = bt.get_liquid_df()"
   ]
  },
  {
   "cell_type": "code",
   "execution_count": 7,
   "metadata": {},
   "outputs": [
    {
     "data": {
      "text/plain": [
       "(12502, 12502)"
      ]
     },
     "execution_count": 7,
     "metadata": {},
     "output_type": "execute_result"
    }
   ],
   "source": [
    "len(df_cc), len(df_lq)"
   ]
  },
  {
   "cell_type": "markdown",
   "metadata": {},
   "source": [
    "## テスト実行"
   ]
  },
  {
   "cell_type": "code",
   "execution_count": 8,
   "metadata": {},
   "outputs": [],
   "source": [
    "bt.run()"
   ]
  },
  {
   "cell_type": "markdown",
   "metadata": {},
   "source": [
    "##  取引履歴"
   ]
  },
  {
   "cell_type": "code",
   "execution_count": 9,
   "metadata": {},
   "outputs": [
    {
     "data": {
      "text/html": [
       "<div>\n",
       "<style scoped>\n",
       "    .dataframe tbody tr th:only-of-type {\n",
       "        vertical-align: middle;\n",
       "    }\n",
       "\n",
       "    .dataframe tbody tr th {\n",
       "        vertical-align: top;\n",
       "    }\n",
       "\n",
       "    .dataframe thead th {\n",
       "        text-align: right;\n",
       "    }\n",
       "</style>\n",
       "<table border=\"1\" class=\"dataframe\">\n",
       "  <thead>\n",
       "    <tr style=\"text-align: right;\">\n",
       "      <th></th>\n",
       "      <th>取引日時</th>\n",
       "      <th>購入取引所</th>\n",
       "      <th>売却取引所</th>\n",
       "      <th>通貨ペア</th>\n",
       "      <th>取引量</th>\n",
       "      <th>期待利益</th>\n",
       "    </tr>\n",
       "  </thead>\n",
       "  <tbody>\n",
       "    <tr>\n",
       "      <th>0</th>\n",
       "      <td>2020-05-04 18:41:27</td>\n",
       "      <td>liquid</td>\n",
       "      <td>coincheck</td>\n",
       "      <td>BTC/JPY</td>\n",
       "      <td>0.005</td>\n",
       "      <td>7</td>\n",
       "    </tr>\n",
       "    <tr>\n",
       "      <th>1</th>\n",
       "      <td>2020-05-04 19:21:47</td>\n",
       "      <td>coincheck</td>\n",
       "      <td>liquid</td>\n",
       "      <td>BTC/JPY</td>\n",
       "      <td>0.005</td>\n",
       "      <td>-1</td>\n",
       "    </tr>\n",
       "    <tr>\n",
       "      <th>2</th>\n",
       "      <td>2020-05-04 19:22:01</td>\n",
       "      <td>liquid</td>\n",
       "      <td>coincheck</td>\n",
       "      <td>BTC/JPY</td>\n",
       "      <td>0.005</td>\n",
       "      <td>5</td>\n",
       "    </tr>\n",
       "  </tbody>\n",
       "</table>\n",
       "</div>"
      ],
      "text/plain": [
       "                  取引日時      購入取引所      売却取引所     通貨ペア    取引量  期待利益\n",
       "0  2020-05-04 18:41:27     liquid  coincheck  BTC/JPY  0.005     7\n",
       "1  2020-05-04 19:21:47  coincheck     liquid  BTC/JPY  0.005    -1\n",
       "2  2020-05-04 19:22:01     liquid  coincheck  BTC/JPY  0.005     5"
      ]
     },
     "execution_count": 9,
     "metadata": {},
     "output_type": "execute_result"
    }
   ],
   "source": [
    "arbitrage_histories = bt.get_arbitrage_histories()\n",
    "\n",
    "headers = [\"取引日時\", \"購入取引所\", \"売却取引所\", \"通貨ペア\", \"取引量\", \"期待利益\"]\n",
    "arbitrage_histories_df = pd.DataFrame(arbitrage_histories, columns=headers)\n",
    "arbitrage_histories_df"
   ]
  },
  {
   "cell_type": "code",
   "execution_count": 10,
   "metadata": {},
   "outputs": [
    {
     "data": {
      "text/html": [
       "<div>\n",
       "<style scoped>\n",
       "    .dataframe tbody tr th:only-of-type {\n",
       "        vertical-align: middle;\n",
       "    }\n",
       "\n",
       "    .dataframe tbody tr th {\n",
       "        vertical-align: top;\n",
       "    }\n",
       "\n",
       "    .dataframe thead th {\n",
       "        text-align: right;\n",
       "    }\n",
       "</style>\n",
       "<table border=\"1\" class=\"dataframe\">\n",
       "  <thead>\n",
       "    <tr style=\"text-align: right;\">\n",
       "      <th></th>\n",
       "      <th>取引日時</th>\n",
       "      <th>売買</th>\n",
       "      <th>取引所</th>\n",
       "      <th>レート</th>\n",
       "    </tr>\n",
       "  </thead>\n",
       "  <tbody>\n",
       "    <tr>\n",
       "      <th>0</th>\n",
       "      <td>2020-05-04 18:41:27</td>\n",
       "      <td>liquid</td>\n",
       "      <td>買い</td>\n",
       "      <td>924487</td>\n",
       "    </tr>\n",
       "    <tr>\n",
       "      <th>1</th>\n",
       "      <td>2020-05-04 18:41:27</td>\n",
       "      <td>coincheck</td>\n",
       "      <td>売り</td>\n",
       "      <td>926069</td>\n",
       "    </tr>\n",
       "    <tr>\n",
       "      <th>2</th>\n",
       "      <td>2020-05-04 19:21:47</td>\n",
       "      <td>coincheck</td>\n",
       "      <td>買い</td>\n",
       "      <td>929475</td>\n",
       "    </tr>\n",
       "    <tr>\n",
       "      <th>3</th>\n",
       "      <td>2020-05-04 19:21:47</td>\n",
       "      <td>liquid</td>\n",
       "      <td>売り</td>\n",
       "      <td>929199</td>\n",
       "    </tr>\n",
       "    <tr>\n",
       "      <th>4</th>\n",
       "      <td>2020-05-04 19:22:01</td>\n",
       "      <td>liquid</td>\n",
       "      <td>買い</td>\n",
       "      <td>927980</td>\n",
       "    </tr>\n",
       "    <tr>\n",
       "      <th>5</th>\n",
       "      <td>2020-05-04 19:22:01</td>\n",
       "      <td>coincheck</td>\n",
       "      <td>売り</td>\n",
       "      <td>929015</td>\n",
       "    </tr>\n",
       "  </tbody>\n",
       "</table>\n",
       "</div>"
      ],
      "text/plain": [
       "                  取引日時         売買 取引所     レート\n",
       "0  2020-05-04 18:41:27     liquid  買い  924487\n",
       "1  2020-05-04 18:41:27  coincheck  売り  926069\n",
       "2  2020-05-04 19:21:47  coincheck  買い  929475\n",
       "3  2020-05-04 19:21:47     liquid  売り  929199\n",
       "4  2020-05-04 19:22:01     liquid  買い  927980\n",
       "5  2020-05-04 19:22:01  coincheck  売り  929015"
      ]
     },
     "execution_count": 10,
     "metadata": {},
     "output_type": "execute_result"
    }
   ],
   "source": [
    "histories = bt.get_trade_histories()\n",
    "headers = [\"取引日時\",  \"売買\",  \"取引所\", \"レート\"]\n",
    "histories_df = pd.DataFrame(histories, columns=headers)\n",
    "histories_df"
   ]
  },
  {
   "cell_type": "markdown",
   "metadata": {},
   "source": [
    "## 結果まとめ"
   ]
  },
  {
   "cell_type": "code",
   "execution_count": 11,
   "metadata": {},
   "outputs": [
    {
     "name": "stdout",
     "output_type": "stream",
     "text": [
      "バックテスト情報\n",
      "-------------------  -------------------\n",
      "         レコード数                12502\n",
      "           取引回数                    3\n",
      "           開始日時  2020-05-04 18:35:30\n",
      "           終了日時  2020-05-04 20:44:08\n",
      "        取引時間[H]      0 days 02:08:38\n",
      "      取引単位[BTC]                0.005\n",
      "  利確しきい値[JPY]                 1000\n",
      "損切りマージン[JPY]                 1000\n",
      "-------------------  -------------------\n",
      "\n",
      "バックテスト結果\n",
      "-----------  -------\n",
      "開始[JPY]      10000\n",
      "終了[JPY]      10011\n",
      "利益[JPY]         11\n",
      "開始[BTC]      0.022\n",
      "終了[BTC]      0.022\n",
      "利益[BTC]          0\n",
      "開始[TOTAL]  30410.3\n",
      "終了[TOTAL]  30439.2\n",
      "利益[TOTAL]    28.92\n",
      "-----------  -------\n"
     ]
    }
   ],
   "source": [
    "bt.display()"
   ]
  },
  {
   "cell_type": "markdown",
   "metadata": {},
   "source": [
    "## グラフ出力"
   ]
  },
  {
   "cell_type": "code",
   "execution_count": 12,
   "metadata": {
    "scrolled": true
   },
   "outputs": [
    {
     "data": {
      "text/plain": [
       "[<matplotlib.lines.Line2D at 0x7fcd9843a810>]"
      ]
     },
     "execution_count": 12,
     "metadata": {},
     "output_type": "execute_result"
    },
    {
     "data": {
      "image/png": "[encoded data removed]",
      "text/plain": [
       "<Figure size 864x288 with 1 Axes>"
      ]
     },
     "metadata": {
      "needs_background": "light"
     },
     "output_type": "display_data"
    }
   ],
   "source": [
    "plt.figure(figsize=(12,4))\n",
    "plt.plot(df_cc.index, df_cc['bid'])"
   ]
  },
  {
   "cell_type": "code",
   "execution_count": 13,
   "metadata": {},
   "outputs": [
    {
     "data": {
      "text/plain": [
       "[<matplotlib.lines.Line2D at 0x7fcd8a5c48d0>]"
      ]
     },
     "execution_count": 13,
     "metadata": {},
     "output_type": "execute_result"
    },
    {
     "data": {
      "image/png": "[encoded data removed]",
      "text/plain": [
       "<Figure size 864x288 with 1 Axes>"
      ]
     },
     "metadata": {
      "needs_background": "light"
     },
     "output_type": "display_data"
    }
   ],
   "source": [
    "plt.figure(figsize=(12,4))\n",
    "plt.plot(df_lq.index, df_lq['bid'])"
   ]
  },
  {
   "cell_type": "markdown",
   "metadata": {},
   "source": [
    "## 分析"
   ]
  },
  {
   "cell_type": "markdown",
   "metadata": {},
   "source": [
    "### 時間別の取引回数と利益"
   ]
  },
  {
   "cell_type": "code",
   "execution_count": null,
   "metadata": {},
   "outputs": [],
   "source": []
  },
  {
   "cell_type": "markdown",
   "metadata": {},
   "source": [
    "### 時間別の価格差の推移"
   ]
  },
  {
   "cell_type": "code",
   "execution_count": 14,
   "metadata": {},
   "outputs": [],
   "source": [
    "profit_margin_df = pd.DataFrame({\n",
    "    \"timestamp\": pd.to_datetime(df_cc.index),\n",
    "    \"buy_coincheck_sell_liquid\": df_lq.reset_index().bid - df_cc.reset_index().ask,\n",
    "    \"buy_liquid_sell_coincheck\": df_cc.reset_index().bid - df_lq.reset_index().ask,\n",
    "    'coincheck_bid': df_cc.reset_index().bid,\n",
    "     'liquid_ask': df_lq.reset_index().ask,\n",
    "    'liquid_bid': df_lq.reset_index().bid,\n",
    "    'coincheck_ask': df_cc.reset_index().ask,\n",
    "})\n",
    "\n",
    "profit_margin_df = profit_margin_df.set_index(\"timestamp\")"
   ]
  },
  {
   "cell_type": "code",
   "execution_count": 15,
   "metadata": {},
   "outputs": [
    {
     "data": {
      "text/html": [
       "<div>\n",
       "<style scoped>\n",
       "    .dataframe tbody tr th:only-of-type {\n",
       "        vertical-align: middle;\n",
       "    }\n",
       "\n",
       "    .dataframe tbody tr th {\n",
       "        vertical-align: top;\n",
       "    }\n",
       "\n",
       "    .dataframe thead th {\n",
       "        text-align: right;\n",
       "    }\n",
       "</style>\n",
       "<table border=\"1\" class=\"dataframe\">\n",
       "  <thead>\n",
       "    <tr style=\"text-align: right;\">\n",
       "      <th></th>\n",
       "      <th>buy_coincheck_sell_liquid</th>\n",
       "      <th>buy_liquid_sell_coincheck</th>\n",
       "      <th>coincheck_bid</th>\n",
       "      <th>liquid_ask</th>\n",
       "      <th>liquid_bid</th>\n",
       "      <th>coincheck_ask</th>\n",
       "    </tr>\n",
       "    <tr>\n",
       "      <th>timestamp</th>\n",
       "      <th></th>\n",
       "      <th></th>\n",
       "      <th></th>\n",
       "      <th></th>\n",
       "      <th></th>\n",
       "      <th></th>\n",
       "    </tr>\n",
       "  </thead>\n",
       "  <tbody>\n",
       "    <tr>\n",
       "      <th>2020-05-04 18:30:00</th>\n",
       "      <td>-1693</td>\n",
       "      <td>1247</td>\n",
       "      <td>925441</td>\n",
       "      <td>924195</td>\n",
       "      <td>924110</td>\n",
       "      <td>925804</td>\n",
       "    </tr>\n",
       "    <tr>\n",
       "      <th>2020-05-04 18:40:00</th>\n",
       "      <td>-1255</td>\n",
       "      <td>813</td>\n",
       "      <td>926759</td>\n",
       "      <td>925947</td>\n",
       "      <td>925832</td>\n",
       "      <td>927087</td>\n",
       "    </tr>\n",
       "    <tr>\n",
       "      <th>2020-05-04 18:50:00</th>\n",
       "      <td>-1365</td>\n",
       "      <td>1000</td>\n",
       "      <td>926853</td>\n",
       "      <td>925853</td>\n",
       "      <td>925788</td>\n",
       "      <td>927152</td>\n",
       "    </tr>\n",
       "    <tr>\n",
       "      <th>2020-05-04 19:00:00</th>\n",
       "      <td>-1398</td>\n",
       "      <td>956</td>\n",
       "      <td>925142</td>\n",
       "      <td>924186</td>\n",
       "      <td>924070</td>\n",
       "      <td>925468</td>\n",
       "    </tr>\n",
       "    <tr>\n",
       "      <th>2020-05-04 19:10:00</th>\n",
       "      <td>-1513</td>\n",
       "      <td>1076</td>\n",
       "      <td>924119</td>\n",
       "      <td>923043</td>\n",
       "      <td>922923</td>\n",
       "      <td>924436</td>\n",
       "    </tr>\n",
       "    <tr>\n",
       "      <th>2020-05-04 19:20:00</th>\n",
       "      <td>-1072</td>\n",
       "      <td>673</td>\n",
       "      <td>928519</td>\n",
       "      <td>927847</td>\n",
       "      <td>927734</td>\n",
       "      <td>928806</td>\n",
       "    </tr>\n",
       "    <tr>\n",
       "      <th>2020-05-04 19:30:00</th>\n",
       "      <td>-1024</td>\n",
       "      <td>600</td>\n",
       "      <td>928035</td>\n",
       "      <td>927435</td>\n",
       "      <td>927344</td>\n",
       "      <td>928367</td>\n",
       "    </tr>\n",
       "    <tr>\n",
       "      <th>2020-05-04 19:40:00</th>\n",
       "      <td>-1226</td>\n",
       "      <td>862</td>\n",
       "      <td>927589</td>\n",
       "      <td>926727</td>\n",
       "      <td>926620</td>\n",
       "      <td>927846</td>\n",
       "    </tr>\n",
       "    <tr>\n",
       "      <th>2020-05-04 19:50:00</th>\n",
       "      <td>-1322</td>\n",
       "      <td>906</td>\n",
       "      <td>927852</td>\n",
       "      <td>926946</td>\n",
       "      <td>926816</td>\n",
       "      <td>928138</td>\n",
       "    </tr>\n",
       "    <tr>\n",
       "      <th>2020-05-04 20:00:00</th>\n",
       "      <td>-1457</td>\n",
       "      <td>1031</td>\n",
       "      <td>926144</td>\n",
       "      <td>925113</td>\n",
       "      <td>924989</td>\n",
       "      <td>926446</td>\n",
       "    </tr>\n",
       "    <tr>\n",
       "      <th>2020-05-04 20:10:00</th>\n",
       "      <td>-1444</td>\n",
       "      <td>1028</td>\n",
       "      <td>926485</td>\n",
       "      <td>925457</td>\n",
       "      <td>925348</td>\n",
       "      <td>926792</td>\n",
       "    </tr>\n",
       "    <tr>\n",
       "      <th>2020-05-04 20:20:00</th>\n",
       "      <td>-1241</td>\n",
       "      <td>828</td>\n",
       "      <td>929522</td>\n",
       "      <td>928694</td>\n",
       "      <td>928582</td>\n",
       "      <td>929823</td>\n",
       "    </tr>\n",
       "    <tr>\n",
       "      <th>2020-05-04 20:30:00</th>\n",
       "      <td>-817</td>\n",
       "      <td>396</td>\n",
       "      <td>930858</td>\n",
       "      <td>930461</td>\n",
       "      <td>930333</td>\n",
       "      <td>931150</td>\n",
       "    </tr>\n",
       "    <tr>\n",
       "      <th>2020-05-04 20:40:00</th>\n",
       "      <td>-916</td>\n",
       "      <td>640</td>\n",
       "      <td>929988</td>\n",
       "      <td>929348</td>\n",
       "      <td>929263</td>\n",
       "      <td>930180</td>\n",
       "    </tr>\n",
       "  </tbody>\n",
       "</table>\n",
       "</div>"
      ],
      "text/plain": [
       "                     buy_coincheck_sell_liquid  buy_liquid_sell_coincheck  \\\n",
       "timestamp                                                                   \n",
       "2020-05-04 18:30:00                      -1693                       1247   \n",
       "2020-05-04 18:40:00                      -1255                        813   \n",
       "2020-05-04 18:50:00                      -1365                       1000   \n",
       "2020-05-04 19:00:00                      -1398                        956   \n",
       "2020-05-04 19:10:00                      -1513                       1076   \n",
       "2020-05-04 19:20:00                      -1072                        673   \n",
       "2020-05-04 19:30:00                      -1024                        600   \n",
       "2020-05-04 19:40:00                      -1226                        862   \n",
       "2020-05-04 19:50:00                      -1322                        906   \n",
       "2020-05-04 20:00:00                      -1457                       1031   \n",
       "2020-05-04 20:10:00                      -1444                       1028   \n",
       "2020-05-04 20:20:00                      -1241                        828   \n",
       "2020-05-04 20:30:00                       -817                        396   \n",
       "2020-05-04 20:40:00                       -916                        640   \n",
       "\n",
       "                     coincheck_bid  liquid_ask  liquid_bid  coincheck_ask  \n",
       "timestamp                                                                  \n",
       "2020-05-04 18:30:00         925441      924195      924110         925804  \n",
       "2020-05-04 18:40:00         926759      925947      925832         927087  \n",
       "2020-05-04 18:50:00         926853      925853      925788         927152  \n",
       "2020-05-04 19:00:00         925142      924186      924070         925468  \n",
       "2020-05-04 19:10:00         924119      923043      922923         924436  \n",
       "2020-05-04 19:20:00         928519      927847      927734         928806  \n",
       "2020-05-04 19:30:00         928035      927435      927344         928367  \n",
       "2020-05-04 19:40:00         927589      926727      926620         927846  \n",
       "2020-05-04 19:50:00         927852      926946      926816         928138  \n",
       "2020-05-04 20:00:00         926144      925113      924989         926446  \n",
       "2020-05-04 20:10:00         926485      925457      925348         926792  \n",
       "2020-05-04 20:20:00         929522      928694      928582         929823  \n",
       "2020-05-04 20:30:00         930858      930461      930333         931150  \n",
       "2020-05-04 20:40:00         929988      929348      929263         930180  "
      ]
     },
     "execution_count": 15,
     "metadata": {},
     "output_type": "execute_result"
    }
   ],
   "source": [
    "pd.options.display.float_format = '{:.0f}'.format\n",
    "profit_margin_df.resample(rule='10Min').mean()"
   ]
  },
  {
   "cell_type": "code",
   "execution_count": null,
   "metadata": {},
   "outputs": [],
   "source": []
  }
 ],
 "metadata": {
  "kernelspec": {
   "display_name": "Environment (conda_bakuchi)",
   "language": "python",
   "name": "conda_bakuchi"
  },
  "language_info": {
   "codemirror_mode": {
    "name": "ipython",
    "version": 3
   },
   "file_extension": ".py",
   "mimetype": "text/x-python",
   "name": "python",
   "nbconvert_exporter": "python",
   "pygments_lexer": "ipython3",
   "version": "3.7.6"
  }
 },
 "nbformat": 4,
 "nbformat_minor": 4
}
